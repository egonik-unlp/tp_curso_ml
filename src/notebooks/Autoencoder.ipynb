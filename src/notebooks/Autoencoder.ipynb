{
  "nbformat": 4,
  "nbformat_minor": 0,
  "metadata": {
    "colab": {
      "name": "Autoencoder.ipynb",
      "provenance": [],
      "authorship_tag": "ABX9TyMUbOZo1MyI7GE2STxsX8wo",
      "include_colab_link": true
    },
    "kernelspec": {
      "name": "python3",
      "display_name": "Python 3"
    },
    "language_info": {
      "name": "python"
    },
    "accelerator": "GPU"
  },
  "cells": [
    {
      "cell_type": "markdown",
      "metadata": {
        "id": "view-in-github",
        "colab_type": "text"
      },
      "source": [
        "<a href=\"https://colab.research.google.com/github/egonik-unlp/tp_curso_ml/blob/main/src/notebooks/Autoencoder.ipynb\" target=\"_parent\"><img src=\"https://colab.research.google.com/assets/colab-badge.svg\" alt=\"Open In Colab\"/></a>"
      ]
    },
    {
      "cell_type": "code",
      "metadata": {
        "colab": {
          "base_uri": "https://localhost:8080/"
        },
        "id": "ytMhZKgfLD9e",
        "outputId": "146f88af-2400-4213-f50a-1bc27f0dc099"
      },
      "source": [
        "import numpy as np\n",
        "import pandas as pd\n",
        "import tensorflow as tf\n",
        "from tensorflow import keras \n",
        "import matplotlib.pyplot as plt\n",
        "from tensorflow.keras.preprocessing.sequence import pad_sequences\n",
        "from tensorflow.keras.utils import to_categorical\n",
        "from sklearn.model_selection import train_test_split\n",
        "from google.colab import drive\n",
        "from sklearn.preprocessing import normalize, MinMaxScaler\n",
        "drive.mount(\"/content/drive\")"
      ],
      "execution_count": 1,
      "outputs": [
        {
          "output_type": "stream",
          "name": "stdout",
          "text": [
            "Mounted at /content/drive\n"
          ]
        }
      ]
    },
    {
      "cell_type": "code",
      "metadata": {
        "colab": {
          "base_uri": "https://localhost:8080/"
        },
        "id": "kPGvGWF3M5ua",
        "outputId": "b5df94a0-5f32-4f18-b760-8d6704c72c07"
      },
      "source": [
        "%cd /content/drive/MyDrive/protein_classifier_with_locations/dataset_proteoma_full/\n",
        "proteome=np.load(\"proteome_short.npy\")"
      ],
      "execution_count": 2,
      "outputs": [
        {
          "output_type": "stream",
          "name": "stdout",
          "text": [
            "/content/drive/MyDrive/protein_classifier_with_locations/dataset_proteoma_full\n"
          ]
        }
      ]
    },
    {
      "cell_type": "code",
      "metadata": {
        "id": "z1-4wMEEQZtn"
      },
      "source": [
        "scaler=MinMaxScaler()\n",
        "X_train_val, X_test=train_test_split(proteome)\n",
        "X_train, X_valid=train_test_split(X_train_val)\n",
        "\n",
        "# Por el momento voy a tratar de escalar manualmente, para evitar problemas de redondeo en la\n",
        "# conversión inversa\n",
        "\n",
        "# X_train_n=scaler.fit_transform(X_train)\n",
        "# X_valid_n=scaler.transform(X_valid)\n",
        "# X_test_n=scaler.transform(X_test)\n",
        "\n",
        "\n",
        "X_train_n=X_train/25 # el valor maximo del 'codigo numerico'\n",
        "X_valid_n=X_valid/25\n",
        "X_test_n=X_test/25"
      ],
      "execution_count": 4,
      "outputs": []
    },
    {
      "cell_type": "code",
      "metadata": {
        "id": "e_DLMOxY--ex"
      },
      "source": [
        "# Reshapeo para que funcione en el AE\n",
        "X_train_bis=X_train_n.reshape(-1,2000,1)\n",
        "X_valid_bis=X_valid_n.reshape(-1,2000,1)\n",
        "X_test_bis=X_test_n.reshape(-1,2000,1)"
      ],
      "execution_count": 5,
      "outputs": []
    },
    {
      "cell_type": "code",
      "metadata": {
        "id": "JW9Ryhnj92Xj"
      },
      "source": [
        "X_test_bis=X_test_n.reshape(-1,2000,1)"
      ],
      "execution_count": 8,
      "outputs": []
    },
    {
      "cell_type": "code",
      "metadata": {
        "colab": {
          "base_uri": "https://localhost:8080/"
        },
        "id": "qbDj1bLzNqLF",
        "outputId": "0f1d40a6-bf9e-449d-c3ce-a509631fe333"
      },
      "source": [
        "tf.keras.backend.clear_session()\n",
        "\n",
        "conv_encoder = keras.models.Sequential([\n",
        "keras.layers.Reshape([2000, 1], input_shape=[2000,1]),\n",
        "keras.layers.Conv1D(16, kernel_size=3, padding=\"same\", activation=\"selu\"),\n",
        "keras.layers.MaxPool1D(pool_size=2),\n",
        "keras.layers.Conv1D(32, kernel_size=3, padding=\"same\", activation=\"selu\"),\n",
        "keras.layers.MaxPool1D(pool_size=2),\n",
        "keras.layers.Conv1D(64, kernel_size=3, padding=\"same\", activation=\"selu\"),\n",
        "keras.layers.MaxPool1D(pool_size=2)\n",
        "])\n",
        "\n",
        "\n",
        "conv_decoder = keras.models.Sequential([\n",
        "keras.layers.Conv1DTranspose(32, kernel_size=3, strides=2, padding=\"same\",\n",
        "activation=\"selu\",\n",
        "input_shape=[250, 64]),\n",
        "keras.layers.Conv1DTranspose(16, kernel_size=3, strides=2, padding=\"same\",\n",
        "activation=\"selu\"),\n",
        "keras.layers.Conv1DTranspose(1, kernel_size=3, strides=2, padding=\"same\",\n",
        "activation=\"sigmoid\"),\n",
        "\n",
        "])\n",
        "\n",
        "\n",
        "conv_ae = keras.models.Sequential([conv_encoder, conv_decoder])\n",
        "conv_ae.summary()"
      ],
      "execution_count": 111,
      "outputs": [
        {
          "output_type": "stream",
          "name": "stdout",
          "text": [
            "Model: \"sequential_2\"\n",
            "_________________________________________________________________\n",
            "Layer (type)                 Output Shape              Param #   \n",
            "=================================================================\n",
            "sequential (Sequential)      (None, 250, 64)           7840      \n",
            "_________________________________________________________________\n",
            "sequential_1 (Sequential)    (None, 2000, 1)           7777      \n",
            "=================================================================\n",
            "Total params: 15,617\n",
            "Trainable params: 15,617\n",
            "Non-trainable params: 0\n",
            "_________________________________________________________________\n"
          ]
        }
      ]
    },
    {
      "cell_type": "code",
      "metadata": {
        "id": "57bJtD7Q8yCd"
      },
      "source": [
        "conv_ae.compile(loss=\"binary_crossentropy\",\n",
        "optimizer=keras.optimizers.SGD(learning_rate=1.5))\n"
      ],
      "execution_count": 112,
      "outputs": []
    },
    {
      "cell_type": "code",
      "metadata": {
        "id": "x9f0g2cREqC1",
        "outputId": "cfc4b98d-1ddb-4410-9fc8-7e24759f9d7c",
        "colab": {
          "base_uri": "https://localhost:8080/",
          "height": 609
        }
      },
      "source": [
        "history = conv_ae.fit(X_train_bis, X_train_bis, epochs=10,\n",
        "validation_data=[X_valid_bis, X_valid_bis])"
      ],
      "execution_count": 99,
      "outputs": [
        {
          "metadata": {
            "tags": null
          },
          "name": "stdout",
          "output_type": "stream",
          "text": [
            "Epoch 1/10\n",
            "1758/1758 [==============================] - 19s 11ms/step - loss: 0.0804 - val_loss: 0.0000e+00\n",
            "Epoch 2/10\n",
            "1758/1758 [==============================] - 19s 11ms/step - loss: 0.0804 - val_loss: 0.0000e+00\n",
            "Epoch 3/10\n",
            "1758/1758 [==============================] - 19s 11ms/step - loss: 0.0803 - val_loss: 0.0000e+00\n",
            "Epoch 4/10\n",
            "1758/1758 [==============================] - 19s 11ms/step - loss: 0.0803 - val_loss: 0.0000e+00\n",
            "Epoch 5/10\n",
            "1758/1758 [==============================] - 18s 10ms/step - loss: 0.0803 - val_loss: 0.0000e+00\n",
            "Epoch 6/10\n",
            "1758/1758 [==============================] - 18s 10ms/step - loss: 0.0802 - val_loss: 0.0000e+00\n",
            "Epoch 7/10\n",
            " 824/1758 [=============>................] - ETA: 9s - loss: 0.0803"
          ]
        },
        {
          "ename": "KeyboardInterrupt",
          "evalue": "ignored",
          "output_type": "error",
          "traceback": [
            "\u001b[0;31m---------------------------------------------------------------------------\u001b[0m",
            "\u001b[0;31mKeyboardInterrupt\u001b[0m                         Traceback (most recent call last)",
            "\u001b[0;32m<ipython-input-99-b25221d38fa3>\u001b[0m in \u001b[0;36m<module>\u001b[0;34m()\u001b[0m\n\u001b[1;32m      1\u001b[0m history = conv_ae.fit(X_train_bis, X_train_bis, epochs=10,\n\u001b[0;32m----> 2\u001b[0;31m validation_data=[X_valid_bis, X_valid_bis])\n\u001b[0m",
            "\u001b[0;32m/usr/local/lib/python3.7/dist-packages/keras/engine/training.py\u001b[0m in \u001b[0;36mfit\u001b[0;34m(self, x, y, batch_size, epochs, verbose, callbacks, validation_split, validation_data, shuffle, class_weight, sample_weight, initial_epoch, steps_per_epoch, validation_steps, validation_batch_size, validation_freq, max_queue_size, workers, use_multiprocessing)\u001b[0m\n\u001b[1;32m   1182\u001b[0m                 _r=1):\n\u001b[1;32m   1183\u001b[0m               \u001b[0mcallbacks\u001b[0m\u001b[0;34m.\u001b[0m\u001b[0mon_train_batch_begin\u001b[0m\u001b[0;34m(\u001b[0m\u001b[0mstep\u001b[0m\u001b[0;34m)\u001b[0m\u001b[0;34m\u001b[0m\u001b[0;34m\u001b[0m\u001b[0m\n\u001b[0;32m-> 1184\u001b[0;31m               \u001b[0mtmp_logs\u001b[0m \u001b[0;34m=\u001b[0m \u001b[0mself\u001b[0m\u001b[0;34m.\u001b[0m\u001b[0mtrain_function\u001b[0m\u001b[0;34m(\u001b[0m\u001b[0miterator\u001b[0m\u001b[0;34m)\u001b[0m\u001b[0;34m\u001b[0m\u001b[0;34m\u001b[0m\u001b[0m\n\u001b[0m\u001b[1;32m   1185\u001b[0m               \u001b[0;32mif\u001b[0m \u001b[0mdata_handler\u001b[0m\u001b[0;34m.\u001b[0m\u001b[0mshould_sync\u001b[0m\u001b[0;34m:\u001b[0m\u001b[0;34m\u001b[0m\u001b[0;34m\u001b[0m\u001b[0m\n\u001b[1;32m   1186\u001b[0m                 \u001b[0mcontext\u001b[0m\u001b[0;34m.\u001b[0m\u001b[0masync_wait\u001b[0m\u001b[0;34m(\u001b[0m\u001b[0;34m)\u001b[0m\u001b[0;34m\u001b[0m\u001b[0;34m\u001b[0m\u001b[0m\n",
            "\u001b[0;32m/usr/local/lib/python3.7/dist-packages/tensorflow/python/eager/def_function.py\u001b[0m in \u001b[0;36m__call__\u001b[0;34m(self, *args, **kwds)\u001b[0m\n\u001b[1;32m    883\u001b[0m \u001b[0;34m\u001b[0m\u001b[0m\n\u001b[1;32m    884\u001b[0m       \u001b[0;32mwith\u001b[0m \u001b[0mOptionalXlaContext\u001b[0m\u001b[0;34m(\u001b[0m\u001b[0mself\u001b[0m\u001b[0;34m.\u001b[0m\u001b[0m_jit_compile\u001b[0m\u001b[0;34m)\u001b[0m\u001b[0;34m:\u001b[0m\u001b[0;34m\u001b[0m\u001b[0;34m\u001b[0m\u001b[0m\n\u001b[0;32m--> 885\u001b[0;31m         \u001b[0mresult\u001b[0m \u001b[0;34m=\u001b[0m \u001b[0mself\u001b[0m\u001b[0;34m.\u001b[0m\u001b[0m_call\u001b[0m\u001b[0;34m(\u001b[0m\u001b[0;34m*\u001b[0m\u001b[0margs\u001b[0m\u001b[0;34m,\u001b[0m \u001b[0;34m**\u001b[0m\u001b[0mkwds\u001b[0m\u001b[0;34m)\u001b[0m\u001b[0;34m\u001b[0m\u001b[0;34m\u001b[0m\u001b[0m\n\u001b[0m\u001b[1;32m    886\u001b[0m \u001b[0;34m\u001b[0m\u001b[0m\n\u001b[1;32m    887\u001b[0m       \u001b[0mnew_tracing_count\u001b[0m \u001b[0;34m=\u001b[0m \u001b[0mself\u001b[0m\u001b[0;34m.\u001b[0m\u001b[0mexperimental_get_tracing_count\u001b[0m\u001b[0;34m(\u001b[0m\u001b[0;34m)\u001b[0m\u001b[0;34m\u001b[0m\u001b[0;34m\u001b[0m\u001b[0m\n",
            "\u001b[0;32m/usr/local/lib/python3.7/dist-packages/tensorflow/python/eager/def_function.py\u001b[0m in \u001b[0;36m_call\u001b[0;34m(self, *args, **kwds)\u001b[0m\n\u001b[1;32m    915\u001b[0m       \u001b[0;31m# In this case we have created variables on the first call, so we run the\u001b[0m\u001b[0;34m\u001b[0m\u001b[0;34m\u001b[0m\u001b[0;34m\u001b[0m\u001b[0m\n\u001b[1;32m    916\u001b[0m       \u001b[0;31m# defunned version which is guaranteed to never create variables.\u001b[0m\u001b[0;34m\u001b[0m\u001b[0;34m\u001b[0m\u001b[0;34m\u001b[0m\u001b[0m\n\u001b[0;32m--> 917\u001b[0;31m       \u001b[0;32mreturn\u001b[0m \u001b[0mself\u001b[0m\u001b[0;34m.\u001b[0m\u001b[0m_stateless_fn\u001b[0m\u001b[0;34m(\u001b[0m\u001b[0;34m*\u001b[0m\u001b[0margs\u001b[0m\u001b[0;34m,\u001b[0m \u001b[0;34m**\u001b[0m\u001b[0mkwds\u001b[0m\u001b[0;34m)\u001b[0m  \u001b[0;31m# pylint: disable=not-callable\u001b[0m\u001b[0;34m\u001b[0m\u001b[0;34m\u001b[0m\u001b[0m\n\u001b[0m\u001b[1;32m    918\u001b[0m     \u001b[0;32melif\u001b[0m \u001b[0mself\u001b[0m\u001b[0;34m.\u001b[0m\u001b[0m_stateful_fn\u001b[0m \u001b[0;32mis\u001b[0m \u001b[0;32mnot\u001b[0m \u001b[0;32mNone\u001b[0m\u001b[0;34m:\u001b[0m\u001b[0;34m\u001b[0m\u001b[0;34m\u001b[0m\u001b[0m\n\u001b[1;32m    919\u001b[0m       \u001b[0;31m# Release the lock early so that multiple threads can perform the call\u001b[0m\u001b[0;34m\u001b[0m\u001b[0;34m\u001b[0m\u001b[0;34m\u001b[0m\u001b[0m\n",
            "\u001b[0;32m/usr/local/lib/python3.7/dist-packages/tensorflow/python/eager/function.py\u001b[0m in \u001b[0;36m__call__\u001b[0;34m(self, *args, **kwargs)\u001b[0m\n\u001b[1;32m   3038\u001b[0m        filtered_flat_args) = self._maybe_define_function(args, kwargs)\n\u001b[1;32m   3039\u001b[0m     return graph_function._call_flat(\n\u001b[0;32m-> 3040\u001b[0;31m         filtered_flat_args, captured_inputs=graph_function.captured_inputs)  # pylint: disable=protected-access\n\u001b[0m\u001b[1;32m   3041\u001b[0m \u001b[0;34m\u001b[0m\u001b[0m\n\u001b[1;32m   3042\u001b[0m   \u001b[0;34m@\u001b[0m\u001b[0mproperty\u001b[0m\u001b[0;34m\u001b[0m\u001b[0;34m\u001b[0m\u001b[0m\n",
            "\u001b[0;32m/usr/local/lib/python3.7/dist-packages/tensorflow/python/eager/function.py\u001b[0m in \u001b[0;36m_call_flat\u001b[0;34m(self, args, captured_inputs, cancellation_manager)\u001b[0m\n\u001b[1;32m   1962\u001b[0m       \u001b[0;31m# No tape is watching; skip to running the function.\u001b[0m\u001b[0;34m\u001b[0m\u001b[0;34m\u001b[0m\u001b[0;34m\u001b[0m\u001b[0m\n\u001b[1;32m   1963\u001b[0m       return self._build_call_outputs(self._inference_function.call(\n\u001b[0;32m-> 1964\u001b[0;31m           ctx, args, cancellation_manager=cancellation_manager))\n\u001b[0m\u001b[1;32m   1965\u001b[0m     forward_backward = self._select_forward_and_backward_functions(\n\u001b[1;32m   1966\u001b[0m         \u001b[0margs\u001b[0m\u001b[0;34m,\u001b[0m\u001b[0;34m\u001b[0m\u001b[0;34m\u001b[0m\u001b[0m\n",
            "\u001b[0;32m/usr/local/lib/python3.7/dist-packages/tensorflow/python/eager/function.py\u001b[0m in \u001b[0;36mcall\u001b[0;34m(self, ctx, args, cancellation_manager)\u001b[0m\n\u001b[1;32m    594\u001b[0m               \u001b[0minputs\u001b[0m\u001b[0;34m=\u001b[0m\u001b[0margs\u001b[0m\u001b[0;34m,\u001b[0m\u001b[0;34m\u001b[0m\u001b[0;34m\u001b[0m\u001b[0m\n\u001b[1;32m    595\u001b[0m               \u001b[0mattrs\u001b[0m\u001b[0;34m=\u001b[0m\u001b[0mattrs\u001b[0m\u001b[0;34m,\u001b[0m\u001b[0;34m\u001b[0m\u001b[0;34m\u001b[0m\u001b[0m\n\u001b[0;32m--> 596\u001b[0;31m               ctx=ctx)\n\u001b[0m\u001b[1;32m    597\u001b[0m         \u001b[0;32melse\u001b[0m\u001b[0;34m:\u001b[0m\u001b[0;34m\u001b[0m\u001b[0;34m\u001b[0m\u001b[0m\n\u001b[1;32m    598\u001b[0m           outputs = execute.execute_with_cancellation(\n",
            "\u001b[0;32m/usr/local/lib/python3.7/dist-packages/tensorflow/python/eager/execute.py\u001b[0m in \u001b[0;36mquick_execute\u001b[0;34m(op_name, num_outputs, inputs, attrs, ctx, name)\u001b[0m\n\u001b[1;32m     58\u001b[0m     \u001b[0mctx\u001b[0m\u001b[0;34m.\u001b[0m\u001b[0mensure_initialized\u001b[0m\u001b[0;34m(\u001b[0m\u001b[0;34m)\u001b[0m\u001b[0;34m\u001b[0m\u001b[0;34m\u001b[0m\u001b[0m\n\u001b[1;32m     59\u001b[0m     tensors = pywrap_tfe.TFE_Py_Execute(ctx._handle, device_name, op_name,\n\u001b[0;32m---> 60\u001b[0;31m                                         inputs, attrs, num_outputs)\n\u001b[0m\u001b[1;32m     61\u001b[0m   \u001b[0;32mexcept\u001b[0m \u001b[0mcore\u001b[0m\u001b[0;34m.\u001b[0m\u001b[0m_NotOkStatusException\u001b[0m \u001b[0;32mas\u001b[0m \u001b[0me\u001b[0m\u001b[0;34m:\u001b[0m\u001b[0;34m\u001b[0m\u001b[0;34m\u001b[0m\u001b[0m\n\u001b[1;32m     62\u001b[0m     \u001b[0;32mif\u001b[0m \u001b[0mname\u001b[0m \u001b[0;32mis\u001b[0m \u001b[0;32mnot\u001b[0m \u001b[0;32mNone\u001b[0m\u001b[0;34m:\u001b[0m\u001b[0;34m\u001b[0m\u001b[0;34m\u001b[0m\u001b[0m\n",
            "\u001b[0;31mKeyboardInterrupt\u001b[0m: "
          ]
        }
      ]
    },
    {
      "cell_type": "code",
      "metadata": {
        "id": "afw1UKhdLXg4"
      },
      "source": [
        "predictions=conv_ae.predict(X_test_bis)\n",
        "# pred_num=scaler.inverse_transform(predictions.reshape(-1,2000))\n",
        "# pred_num_rounded=np.vectorize(round)(pred_num)"
      ],
      "execution_count": 100,
      "outputs": []
    },
    {
      "cell_type": "code",
      "metadata": {
        "id": "69zma5BJDp8p"
      },
      "source": [
        "def unpad(query, target):\n",
        "  try:\n",
        "    idx=np.where(query==0)[0][-1] + 1\n",
        "  except IndexError:\n",
        "    idx=0\n",
        "  return query[idx:], target[idx:]"
      ],
      "execution_count": 96,
      "outputs": []
    },
    {
      "cell_type": "code",
      "metadata": {
        "id": "pgn7kHaDFfwi",
        "outputId": "ed276fea-65e3-4e4c-c8d5-6c6a4c06e37b",
        "colab": {
          "base_uri": "https://localhost:8080/"
        }
      },
      "source": [
        "rpts=5\n",
        "means=np.zeros(rpts)\n",
        "sums=np.zeros(rpts)\n",
        "desvs=np.zeros(rpts)\n",
        "for i in range(rpts):\n",
        "  history = conv_ae.fit(X_train_bis, X_train_bis, epochs=10,\n",
        "  validation_data=[X_valid_bis, X_valid_bis])\n",
        "  scores=np.zeros(X_test_bis.shape[0])\n",
        "  predictions=conv_ae.predict(X_test_bis)\n",
        "  for n,(query, target) in enumerate(zip(X_test_bis.reshape(-1,2000), predictions.reshape(-1,2000))):\n",
        "    qry,tgt=unpad(query,target)\n",
        "    scores[n]=sum(qry-tgt)\n",
        "  means[i]=scores.mean()\n",
        "  desvs[i]=scores.std()\n",
        "  sums[i]=scores.sum()"
      ],
      "execution_count": null,
      "outputs": [
        {
          "output_type": "stream",
          "name": "stdout",
          "text": [
            "Epoch 1/10\n",
            "1758/1758 [==============================] - 21s 11ms/step - loss: 0.0998 - val_loss: 0.0000e+00\n",
            "Epoch 2/10\n",
            "1758/1758 [==============================] - 19s 11ms/step - loss: 0.0859 - val_loss: 0.0000e+00\n",
            "Epoch 3/10\n",
            "1758/1758 [==============================] - 19s 11ms/step - loss: 0.0838 - val_loss: 0.0000e+00\n",
            "Epoch 4/10\n",
            "1758/1758 [==============================] - 19s 11ms/step - loss: 0.0828 - val_loss: 0.0000e+00\n",
            "Epoch 5/10\n",
            "1758/1758 [==============================] - 19s 11ms/step - loss: 0.0822 - val_loss: 0.0000e+00\n",
            "Epoch 6/10\n",
            "1758/1758 [==============================] - 19s 11ms/step - loss: 0.0819 - val_loss: 0.0000e+00\n",
            "Epoch 7/10\n",
            "1758/1758 [==============================] - 19s 11ms/step - loss: 0.0816 - val_loss: 0.0000e+00\n",
            "Epoch 8/10\n",
            "1758/1758 [==============================] - 19s 11ms/step - loss: 0.0814 - val_loss: 0.0000e+00\n",
            "Epoch 9/10\n",
            "1758/1758 [==============================] - 18s 11ms/step - loss: 0.0812 - val_loss: 0.0000e+00\n",
            "Epoch 10/10\n",
            "1758/1758 [==============================] - 19s 11ms/step - loss: 0.0811 - val_loss: 0.0000e+00\n",
            "Epoch 1/10\n",
            "1758/1758 [==============================] - 20s 11ms/step - loss: 0.0810 - val_loss: 0.0000e+00\n",
            "Epoch 2/10\n",
            "1758/1758 [==============================] - 19s 11ms/step - loss: 0.0808 - val_loss: 0.0000e+00\n",
            "Epoch 3/10\n",
            "1758/1758 [==============================] - 19s 11ms/step - loss: 0.0807 - val_loss: 0.0000e+00\n",
            "Epoch 4/10\n",
            "1758/1758 [==============================] - 19s 11ms/step - loss: 0.0807 - val_loss: 0.0000e+00\n",
            "Epoch 5/10\n",
            "1758/1758 [==============================] - 19s 11ms/step - loss: 0.0806 - val_loss: 0.0000e+00\n",
            "Epoch 6/10\n",
            "1758/1758 [==============================] - 19s 11ms/step - loss: 0.0805 - val_loss: 0.0000e+00\n",
            "Epoch 7/10\n",
            "1758/1758 [==============================] - 19s 11ms/step - loss: 0.0805 - val_loss: 0.0000e+00\n",
            "Epoch 8/10\n",
            "1758/1758 [==============================] - 19s 11ms/step - loss: 0.0804 - val_loss: 0.0000e+00\n",
            "Epoch 9/10\n",
            "1758/1758 [==============================] - 19s 11ms/step - loss: 0.0804 - val_loss: 0.0000e+00\n",
            "Epoch 10/10\n",
            "1758/1758 [==============================] - 19s 11ms/step - loss: 0.0803 - val_loss: 0.0000e+00\n"
          ]
        }
      ]
    }
  ]
}