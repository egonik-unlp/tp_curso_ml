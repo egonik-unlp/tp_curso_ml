{
  "nbformat": 4,
  "nbformat_minor": 0,
  "metadata": {
    "colab": {
      "name": "Autoencoder.ipynb",
      "provenance": [],
      "authorship_tag": "ABX9TyNTu6LPgQhN9EUPraXdw/c+",
      "include_colab_link": true
    },
    "kernelspec": {
      "name": "python3",
      "display_name": "Python 3"
    },
    "language_info": {
      "name": "python"
    },
    "accelerator": "GPU"
  },
  "cells": [
    {
      "cell_type": "markdown",
      "metadata": {
        "id": "view-in-github",
        "colab_type": "text"
      },
      "source": [
        "<a href=\"https://colab.research.google.com/github/egonik-unlp/tp_curso_ml/blob/main/src/notebooks/Autoencoder.ipynb\" target=\"_parent\"><img src=\"https://colab.research.google.com/assets/colab-badge.svg\" alt=\"Open In Colab\"/></a>"
      ]
    },
    {
      "cell_type": "code",
      "metadata": {
        "colab": {
          "base_uri": "https://localhost:8080/"
        },
        "id": "ytMhZKgfLD9e",
        "outputId": "0852db1c-b6c2-4abf-b8ff-74491d2830dc"
      },
      "source": [
        "import numpy as np\n",
        "import pandas as pd\n",
        "import tensorflow as tf\n",
        "from tensorflow import keras \n",
        "import matplotlib.pyplot as plt\n",
        "from tensorflow.keras.preprocessing.sequence import pad_sequences\n",
        "from tensorflow.keras.utils import to_categorical\n",
        "from sklearn.model_selection import train_test_split\n",
        "from google.colab import drive\n",
        "from sklearn.preprocessing import normalize, MinMaxScaler\n",
        "drive.mount(\"/content/drive\")"
      ],
      "execution_count": 1,
      "outputs": [
        {
          "output_type": "stream",
          "name": "stdout",
          "text": [
            "Mounted at /content/drive\n"
          ]
        }
      ]
    },
    {
      "cell_type": "code",
      "metadata": {
        "colab": {
          "base_uri": "https://localhost:8080/"
        },
        "id": "kPGvGWF3M5ua",
        "outputId": "695dd7d5-69c9-4508-b5e4-e7248c7c1996"
      },
      "source": [
        "%cd /content/drive/MyDrive/protein_classifier_with_locations/dataset_proteoma_full/\n",
        "proteome=np.load(\"proteome_short.npy\")"
      ],
      "execution_count": 2,
      "outputs": [
        {
          "output_type": "stream",
          "name": "stdout",
          "text": [
            "/content/drive/MyDrive/protein_classifier_with_locations/dataset_proteoma_full\n"
          ]
        }
      ]
    },
    {
      "cell_type": "code",
      "metadata": {
        "id": "K0IJbrVbvQ-L"
      },
      "source": [
        "norm=X_train.max()"
      ],
      "execution_count": 18,
      "outputs": []
    },
    {
      "cell_type": "code",
      "metadata": {
        "id": "z1-4wMEEQZtn"
      },
      "source": [
        "scaler=MinMaxScaler()\n",
        "X_train_val, X_test=train_test_split(proteome)\n",
        "X_train, X_valid=train_test_split(X_train_val)\n",
        "\n",
        "X_train_n=scaler.fit_transform(X_train)\n",
        "X_valid_n=scaler.transform(X_valid)\n",
        "\n",
        "X_train_n=X_train/X_train.max()\n",
        "X_valid"
      ],
      "execution_count": 3,
      "outputs": []
    },
    {
      "cell_type": "code",
      "metadata": {
        "id": "tyWCSS_avfMv"
      },
      "source": [
        "X_test_n=scaler.transform(X_test)"
      ],
      "execution_count": 19,
      "outputs": []
    },
    {
      "cell_type": "code",
      "metadata": {
        "id": "e_DLMOxY--ex"
      },
      "source": [
        "X_train_bis=X_train_n.reshape(-1,2000,1)\n",
        "X_valid_bis=X_valid_n.reshape(-1,2000,1)\n"
      ],
      "execution_count": 4,
      "outputs": []
    },
    {
      "cell_type": "code",
      "metadata": {
        "colab": {
          "base_uri": "https://localhost:8080/"
        },
        "id": "qbDj1bLzNqLF",
        "outputId": "007d44d0-320c-4053-fc3a-11961ded6e68"
      },
      "source": [
        "tf.keras.backend.clear_session()\n",
        "\n",
        "conv_encoder = keras.models.Sequential([\n",
        "keras.layers.Reshape([2000, 1], input_shape=[2000,1]),\n",
        "keras.layers.Conv1D(16, kernel_size=3, padding=\"same\", activation=\"selu\"),\n",
        "keras.layers.MaxPool1D(pool_size=2),\n",
        "keras.layers.Conv1D(32, kernel_size=3, padding=\"same\", activation=\"selu\"),\n",
        "keras.layers.MaxPool1D(pool_size=2),\n",
        "keras.layers.Conv1D(64, kernel_size=3, padding=\"same\", activation=\"selu\"),\n",
        "keras.layers.MaxPool1D(pool_size=2)\n",
        "])\n",
        "\n",
        "\n",
        "conv_decoder = keras.models.Sequential([\n",
        "keras.layers.Conv1DTranspose(32, kernel_size=3, strides=2, padding=\"same\",\n",
        "activation=\"selu\",\n",
        "input_shape=[250, 64]),\n",
        "keras.layers.Conv1DTranspose(16, kernel_size=3, strides=2, padding=\"same\",\n",
        "activation=\"selu\"),\n",
        "keras.layers.Conv1DTranspose(1, kernel_size=3, strides=2, padding=\"same\",\n",
        "activation=\"sigmoid\"),\n",
        "\n",
        "])\n",
        "\n",
        "\n",
        "conv_ae = keras.models.Sequential([conv_encoder, conv_decoder])\n",
        "conv_ae.summary()"
      ],
      "execution_count": 5,
      "outputs": [
        {
          "output_type": "stream",
          "name": "stdout",
          "text": [
            "Model: \"sequential_2\"\n",
            "_________________________________________________________________\n",
            "Layer (type)                 Output Shape              Param #   \n",
            "=================================================================\n",
            "sequential (Sequential)      (None, 250, 64)           7840      \n",
            "_________________________________________________________________\n",
            "sequential_1 (Sequential)    (None, 2000, 1)           7777      \n",
            "=================================================================\n",
            "Total params: 15,617\n",
            "Trainable params: 15,617\n",
            "Non-trainable params: 0\n",
            "_________________________________________________________________\n"
          ]
        }
      ]
    },
    {
      "cell_type": "code",
      "metadata": {
        "colab": {
          "base_uri": "https://localhost:8080/"
        },
        "id": "57bJtD7Q8yCd",
        "outputId": "0385089a-dc65-4421-9807-f5f791f4dadf"
      },
      "source": [
        "conv_ae.compile(loss=\"binary_crossentropy\",\n",
        "optimizer=keras.optimizers.SGD(learning_rate=1.5))\n",
        "history = conv_ae.fit(X_train_bis, X_train_bis, epochs=10,\n",
        "validation_data=[X_valid_bis, X_valid_bis])"
      ],
      "execution_count": 59,
      "outputs": [
        {
          "output_type": "stream",
          "name": "stdout",
          "text": [
            "Epoch 1/10\n",
            "1758/1758 [==============================] - 21s 11ms/step - loss: 0.0800 - val_loss: 0.0000e+00\n",
            "Epoch 2/10\n",
            "1758/1758 [==============================] - 19s 11ms/step - loss: 0.0800 - val_loss: 0.0000e+00\n",
            "Epoch 3/10\n",
            "1758/1758 [==============================] - 19s 11ms/step - loss: 0.0799 - val_loss: 0.0000e+00\n",
            "Epoch 4/10\n",
            "1758/1758 [==============================] - 20s 11ms/step - loss: 0.0799 - val_loss: 0.0000e+00\n",
            "Epoch 5/10\n",
            "1758/1758 [==============================] - 19s 11ms/step - loss: 0.0799 - val_loss: 0.0000e+00\n",
            "Epoch 6/10\n",
            "1758/1758 [==============================] - 19s 11ms/step - loss: 0.0798 - val_loss: 0.0000e+00\n",
            "Epoch 7/10\n",
            "1758/1758 [==============================] - 19s 11ms/step - loss: 0.0798 - val_loss: 0.0000e+00\n",
            "Epoch 8/10\n",
            "1758/1758 [==============================] - 19s 11ms/step - loss: 0.0797 - val_loss: 0.0000e+00\n",
            "Epoch 9/10\n",
            "1758/1758 [==============================] - 20s 11ms/step - loss: 0.0797 - val_loss: 0.0000e+00\n",
            "Epoch 10/10\n",
            "1758/1758 [==============================] - 19s 11ms/step - loss: 0.0797 - val_loss: 0.0000e+00\n"
          ]
        }
      ]
    },
    {
      "cell_type": "code",
      "metadata": {
        "colab": {
          "base_uri": "https://localhost:8080/"
        },
        "id": "lCawfLa3MMpT",
        "outputId": "4cf63969-e737-426f-a4b4-b8da1abb1ec5"
      },
      "source": [
        "conv_encoder.summary()"
      ],
      "execution_count": 7,
      "outputs": [
        {
          "output_type": "stream",
          "name": "stdout",
          "text": [
            "Model: \"sequential\"\n",
            "_________________________________________________________________\n",
            "Layer (type)                 Output Shape              Param #   \n",
            "=================================================================\n",
            "reshape (Reshape)            (None, 2000, 1)           0         \n",
            "_________________________________________________________________\n",
            "conv1d (Conv1D)              (None, 2000, 16)          64        \n",
            "_________________________________________________________________\n",
            "max_pooling1d (MaxPooling1D) (None, 1000, 16)          0         \n",
            "_________________________________________________________________\n",
            "conv1d_1 (Conv1D)            (None, 1000, 32)          1568      \n",
            "_________________________________________________________________\n",
            "max_pooling1d_1 (MaxPooling1 (None, 500, 32)           0         \n",
            "_________________________________________________________________\n",
            "conv1d_2 (Conv1D)            (None, 500, 64)           6208      \n",
            "_________________________________________________________________\n",
            "max_pooling1d_2 (MaxPooling1 (None, 250, 64)           0         \n",
            "=================================================================\n",
            "Total params: 7,840\n",
            "Trainable params: 7,840\n",
            "Non-trainable params: 0\n",
            "_________________________________________________________________\n"
          ]
        }
      ]
    },
    {
      "cell_type": "code",
      "metadata": {
        "colab": {
          "base_uri": "https://localhost:8080/"
        },
        "id": "Iqo23Qi5MTLS",
        "outputId": "29045dd5-36ba-4246-f31a-357984a4611a"
      },
      "source": [
        "conv_decoder.summary()"
      ],
      "execution_count": 8,
      "outputs": [
        {
          "output_type": "stream",
          "name": "stdout",
          "text": [
            "Model: \"sequential_1\"\n",
            "_________________________________________________________________\n",
            "Layer (type)                 Output Shape              Param #   \n",
            "=================================================================\n",
            "conv1d_transpose (Conv1DTran (None, 500, 32)           6176      \n",
            "_________________________________________________________________\n",
            "conv1d_transpose_1 (Conv1DTr (None, 1000, 16)          1552      \n",
            "_________________________________________________________________\n",
            "conv1d_transpose_2 (Conv1DTr (None, 2000, 1)           49        \n",
            "=================================================================\n",
            "Total params: 7,777\n",
            "Trainable params: 7,777\n",
            "Non-trainable params: 0\n",
            "_________________________________________________________________\n"
          ]
        }
      ]
    },
    {
      "cell_type": "code",
      "metadata": {
        "id": "afw1UKhdLXg4"
      },
      "source": [
        "predictions=conv_ae.predict(X_test_n)\n",
        "pred_num=scaler.inverse_transform(predictions.reshape(-1,2000))"
      ],
      "execution_count": 60,
      "outputs": []
    },
    {
      "cell_type": "code",
      "metadata": {
        "id": "6t57Hk7UP3bs"
      },
      "source": [
        "pred_num_rounded=np.vectorize(round)(pred_num)"
      ],
      "execution_count": null,
      "outputs": []
    },
    {
      "cell_type": "code",
      "metadata": {
        "id": "c8sL1ejItvcc"
      },
      "source": [
        "np.save(\"autoencoded_sequences\",pred_num_rounded)"
      ],
      "execution_count": null,
      "outputs": []
    },
    {
      "cell_type": "code",
      "metadata": {
        "id": "c4hkhotj64qA"
      },
      "source": [
        "seq110=X_test[110][np.where(X_test[110]!=0)]"
      ],
      "execution_count": null,
      "outputs": []
    },
    {
      "cell_type": "code",
      "metadata": {
        "id": "_VzRwNiJ8D1N"
      },
      "source": [
        "seq110"
      ],
      "execution_count": null,
      "outputs": []
    },
    {
      "cell_type": "code",
      "metadata": {
        "id": "Vcd8SRnm4a1u"
      },
      "source": [
        "pred_110=pred_num_rounded[110,(np.where(pred_num_rounded[110]!= 0 ))].flatten()"
      ],
      "execution_count": null,
      "outputs": []
    },
    {
      "cell_type": "code",
      "metadata": {
        "id": "W_FJW_ZE7TRv"
      },
      "source": [
        "sum(np.equal(seq110,pred_110[1:]))/len(seq110)"
      ],
      "execution_count": null,
      "outputs": []
    }
  ]
}