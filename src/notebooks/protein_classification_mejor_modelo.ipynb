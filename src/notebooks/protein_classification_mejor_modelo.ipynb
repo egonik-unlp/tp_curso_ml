{
  "nbformat": 4,
  "nbformat_minor": 0,
  "metadata": {
    "colab": {
      "name": "protein_classification.ipynb",
      "provenance": [],
      "authorship_tag": "ABX9TyNiVA8H8w4kFiiv5AYx1OAL",
      "include_colab_link": true
    },
    "kernelspec": {
      "name": "python3",
      "display_name": "Python 3"
    },
    "language_info": {
      "name": "python"
    },
    "accelerator": "GPU"
  },
  "cells": [
    {
      "cell_type": "markdown",
      "metadata": {
        "id": "view-in-github",
        "colab_type": "text"
      },
      "source": [
        "<a href=\"https://colab.research.google.com/github/egonik-unlp/tp_curso_ml/blob/main/src/protein_classification.ipynb\" target=\"_parent\"><img src=\"https://colab.research.google.com/assets/colab-badge.svg\" alt=\"Open In Colab\"/></a>"
      ]
    },
    {
      "cell_type": "code",
      "metadata": {
        "colab": {
          "base_uri": "https://localhost:8080/"
        },
        "id": "qOjvxqem7CM0",
        "outputId": "871cb5c3-785a-41c9-8946-28186bd6b689"
      },
      "source": [
        "!git clone https://github.com/egonik-unlp/tp_curso_ml.git"
      ],
      "execution_count": 1,
      "outputs": [
        {
          "output_type": "stream",
          "text": [
            "Cloning into 'tp_curso_ml'...\n",
            "remote: Enumerating objects: 36, done.\u001b[K\n",
            "remote: Counting objects: 100% (36/36), done.\u001b[K\n",
            "remote: Compressing objects: 100% (24/24), done.\u001b[K\n",
            "remote: Total 36 (delta 9), reused 35 (delta 8), pack-reused 0\u001b[K\n",
            "Unpacking objects: 100% (36/36), done.\n"
          ],
          "name": "stdout"
        }
      ]
    },
    {
      "cell_type": "code",
      "metadata": {
        "colab": {
          "base_uri": "https://localhost:8080/"
        },
        "id": "AJnhd-J46r_u",
        "outputId": "8bd2878a-bddc-49bd-b99d-9da3ea290ec1"
      },
      "source": [
        "import pandas as pd\n",
        "import numpy as np\n",
        "import tensorflow as tf\n",
        "from tensorflow import keras\n",
        "import matplotlib.pyplot as plt\n",
        "import os\n",
        "from sklearn.model_selection import train_test_split\n",
        "from datetime import datetime\n",
        "from tensorflow.keras.utils import to_categorical\n",
        "from google.colab import drive\n",
        "drive.mount('/content/drive')"
      ],
      "execution_count": 2,
      "outputs": [
        {
          "output_type": "stream",
          "text": [
            "Mounted at /content/drive\n"
          ],
          "name": "stdout"
        }
      ]
    },
    {
      "cell_type": "code",
      "metadata": {
        "id": "7_kInuQ0B1Ly"
      },
      "source": [
        "folder_name=datetime.strftime(datetime.now(), '%d-%m_%H-%M')\n",
        "os.mkdir('/content/drive/MyDrive/protein_classifier/{}'.format(folder_name))"
      ],
      "execution_count": 3,
      "outputs": []
    },
    {
      "cell_type": "code",
      "metadata": {
        "colab": {
          "base_uri": "https://localhost:8080/"
        },
        "id": "DnB5zRvp7Lzb",
        "outputId": "def19a5b-0c44-4363-802f-bdde19f06f88"
      },
      "source": [
        "%cd /content/tp_curso_ml/src/\n",
        "npzfile=np.load('pickle/preprocessed_data.npz')\n",
        "data, labels=npzfile.values()\n",
        "print(data.shape, labels.shape)"
      ],
      "execution_count": 3,
      "outputs": [
        {
          "output_type": "stream",
          "text": [
            "/content/tp_curso_ml/src\n",
            "(2200, 1500) (2200, 1)\n"
          ],
          "name": "stdout"
        }
      ]
    },
    {
      "cell_type": "code",
      "metadata": {
        "colab": {
          "base_uri": "https://localhost:8080/"
        },
        "id": "3njNC3yPGAof",
        "outputId": "7ff16828-669f-4227-894d-09491c3072b6"
      },
      "source": [
        "data_one_array=np.hstack([node.reshape(-1,1) for node in data]).T\n",
        "data_one_array.shape, labels.shape"
      ],
      "execution_count": 4,
      "outputs": [
        {
          "output_type": "execute_result",
          "data": {
            "text/plain": [
              "((2200, 1500), (2200, 1))"
            ]
          },
          "metadata": {
            "tags": []
          },
          "execution_count": 4
        }
      ]
    },
    {
      "cell_type": "code",
      "metadata": {
        "id": "zjpz8UX_7yqO"
      },
      "source": [
        "X_tv, X_test, t_tv, t_test=train_test_split(data_one_array, labels, test_size=.2, random_state=42)\n",
        "X_train, X_val, t_train, t_val=train_test_split(X_tv, t_tv, test_size=.2, random_state=42)"
      ],
      "execution_count": 5,
      "outputs": []
    },
    {
      "cell_type": "markdown",
      "metadata": {
        "id": "IXWnR9sqFUHq"
      },
      "source": [
        "## Problema de list-of-lists\n",
        "\n",
        "Para ver si se soluciona el problema de \n",
        "```python\n",
        "ValueError: Data cardinality is ambiguous:\n",
        "  x sizes: 1500\n",
        "  y sizes: 999\n",
        "Make sure all arrays contain the same number of samples.\n",
        "```\n",
        "\n",
        "Voy a tomar cada nodo del array, lo voy a rotar y voy a hacer un hstack"
      ]
    },
    {
      "cell_type": "code",
      "metadata": {
        "id": "-l11U5drCzkm"
      },
      "source": [
        "X_train_ohe=to_categorical(X_train)\n",
        "X_val_ohe=to_categorical(X_val)\n",
        "X_test_ohe=to_categorical(X_test)"
      ],
      "execution_count": 6,
      "outputs": []
    },
    {
      "cell_type": "code",
      "metadata": {
        "colab": {
          "base_uri": "https://localhost:8080/",
          "height": 1000
        },
        "id": "7DY9lxzi8bQw",
        "outputId": "c58af118-f9ab-43cd-b07a-356f91bd16af"
      },
      "source": [
        "keras.backend.clear_session()\n",
        "\n",
        "\n",
        "input_=keras.layers.Input(shape=X_train_ohe.shape[1:])\n",
        "\n",
        "conv1=keras.layers.Conv1D(filters=64, kernel_size=7)(input_)\n",
        "pool1=keras.layers.MaxPool1D(pool_size=2)(conv1)\n",
        "\n",
        "\n",
        "dense_intermediate=keras.layers.Dense(units=128, activation='relu')(pool1)\n",
        "\n",
        "\n",
        "\n",
        "conv3=keras.layers.Conv1D(filters=128, kernel_size=3)(dense_intermediate)\n",
        "conv4=keras.layers.Conv1D(filters=128,kernel_size=3)(conv3)\n",
        "pool2=keras.layers.MaxPool1D(pool_size=2)(conv4)\n",
        "\n",
        "\n",
        "\n",
        "flatten=keras.layers.Flatten()(pool2)\n",
        "\n",
        "\n",
        "dense1=keras.layers.Dense(units=128, activation='relu')(flatten)\n",
        "dense2=keras.layers.Dense(units=64, activation='relu')(dense1)\n",
        "\n",
        "concat=keras.layers.concatenate([dense1, dense2])\n",
        "\n",
        "dropout1=keras.layers.Dropout(.5)(concat)\n",
        "\n",
        "\n",
        "\n",
        "\n",
        "output=keras.layers.Dense(1, activation='sigmoid')(dropout1)\n",
        "model= keras.models.Model(inputs=[input_], outputs=[output])\n",
        "\n",
        "\n",
        "\n",
        "model.summary()\n",
        "keras.utils.plot_model(model)"
      ],
      "execution_count": 78,
      "outputs": [
        {
          "output_type": "stream",
          "text": [
            "Model: \"model\"\n",
            "__________________________________________________________________________________________________\n",
            "Layer (type)                    Output Shape         Param #     Connected to                     \n",
            "==================================================================================================\n",
            "input_1 (InputLayer)            [(None, 1500, 26)]   0                                            \n",
            "__________________________________________________________________________________________________\n",
            "conv1d (Conv1D)                 (None, 1494, 64)     11712       input_1[0][0]                    \n",
            "__________________________________________________________________________________________________\n",
            "max_pooling1d (MaxPooling1D)    (None, 747, 64)      0           conv1d[0][0]                     \n",
            "__________________________________________________________________________________________________\n",
            "dense (Dense)                   (None, 747, 128)     8320        max_pooling1d[0][0]              \n",
            "__________________________________________________________________________________________________\n",
            "conv1d_1 (Conv1D)               (None, 745, 128)     49280       dense[0][0]                      \n",
            "__________________________________________________________________________________________________\n",
            "conv1d_2 (Conv1D)               (None, 743, 128)     49280       conv1d_1[0][0]                   \n",
            "__________________________________________________________________________________________________\n",
            "max_pooling1d_1 (MaxPooling1D)  (None, 371, 128)     0           conv1d_2[0][0]                   \n",
            "__________________________________________________________________________________________________\n",
            "flatten (Flatten)               (None, 47488)        0           max_pooling1d_1[0][0]            \n",
            "__________________________________________________________________________________________________\n",
            "dense_1 (Dense)                 (None, 128)          6078592     flatten[0][0]                    \n",
            "__________________________________________________________________________________________________\n",
            "dense_2 (Dense)                 (None, 64)           8256        dense_1[0][0]                    \n",
            "__________________________________________________________________________________________________\n",
            "concatenate (Concatenate)       (None, 192)          0           dense_1[0][0]                    \n",
            "                                                                 dense_2[0][0]                    \n",
            "__________________________________________________________________________________________________\n",
            "dropout (Dropout)               (None, 192)          0           concatenate[0][0]                \n",
            "__________________________________________________________________________________________________\n",
            "dense_3 (Dense)                 (None, 1)            193         dropout[0][0]                    \n",
            "==================================================================================================\n",
            "Total params: 6,205,633\n",
            "Trainable params: 6,205,633\n",
            "Non-trainable params: 0\n",
            "__________________________________________________________________________________________________\n"
          ],
          "name": "stdout"
        },
        {
          "output_type": "execute_result",
          "data": {
            "image/png": "[encoded data removed]",
            "text/plain": [
              "<IPython.core.display.Image object>"
            ]
          },
          "metadata": {
            "tags": []
          },
          "execution_count": 78
        }
      ]
    },
    {
      "cell_type": "code",
      "metadata": {
        "colab": {
          "base_uri": "https://localhost:8080/",
          "height": 1000
        },
        "id": "xuD0KL7GCHAS",
        "outputId": "21e8ad4d-1ab7-422d-b573-c6fbc3341b22"
      },
      "source": [
        "### Trato de hacer capas convolucionales paralelas\n",
        "\n",
        "\n",
        "\n",
        "keras.backend.clear_session()\n",
        "\n",
        "\n",
        "input_=keras.layers.Input(shape=X_train_ohe.shape[1:])\n",
        "\n",
        "convp11=keras.layers.Conv1D(filters=64, kernel_size=7)(input_)\n",
        "poolp1=keras.layers.MaxPooling1D(4)(convp11)\n",
        "\n",
        "convp21=keras.layers.Conv1D(filters=64, kernel_size=3)(input_)\n",
        "poolp2=keras.layers.MaxPooling1D(4)(convp21)\n",
        "\n",
        "convp31=keras.layers.Conv1D(filters=64, kernel_size=5)(input_)\n",
        "poolp3=keras.layers.MaxPooling1D(4)(convp31)\n",
        "\n",
        "\n",
        "\n",
        "\n",
        "concat_2_conv=keras.layers.concatenate([poolp3,poolp1, poolp2], axis=1)\n",
        "\n",
        "\n",
        "conv2=keras.layers.Conv1D(filters=128, kernel_size=5)(concat_2_conv)\n",
        "pools1=keras.layers.MaxPooling1D(8)(conv2)\n",
        "flatten=keras.layers.Flatten()(pools1)\n",
        "\n",
        "dropout0=keras.layers.Dropout(.5)(flatten)\n",
        "\n",
        "dense=keras.layers.Dense(units=128, activation='relu')(dropout0)\n",
        "\n",
        "dropout1=keras.layers.Dropout(.5)(dense)\n",
        "\n",
        "# flatten_input=keras.layers.Flatten()(input_)\n",
        "\n",
        "# concat=keras.layers.concatenate([flatten_input, dropout1])\n",
        "\n",
        "output=keras.layers.Dense(1, activation='sigmoid')(dense)\n",
        "model= keras.models.Model(inputs=[input_], outputs=[output])\n",
        "\n",
        "\n",
        "\n",
        "model.summary()\n",
        "keras.utils.plot_model(model)"
      ],
      "execution_count": 107,
      "outputs": [
        {
          "output_type": "stream",
          "text": [
            "Model: \"model\"\n",
            "__________________________________________________________________________________________________\n",
            "Layer (type)                    Output Shape         Param #     Connected to                     \n",
            "==================================================================================================\n",
            "input_1 (InputLayer)            [(None, 1500, 26)]   0                                            \n",
            "__________________________________________________________________________________________________\n",
            "conv1d_2 (Conv1D)               (None, 1496, 64)     8384        input_1[0][0]                    \n",
            "__________________________________________________________________________________________________\n",
            "conv1d (Conv1D)                 (None, 1494, 64)     11712       input_1[0][0]                    \n",
            "__________________________________________________________________________________________________\n",
            "conv1d_1 (Conv1D)               (None, 1498, 64)     5056        input_1[0][0]                    \n",
            "__________________________________________________________________________________________________\n",
            "max_pooling1d_2 (MaxPooling1D)  (None, 374, 64)      0           conv1d_2[0][0]                   \n",
            "__________________________________________________________________________________________________\n",
            "max_pooling1d (MaxPooling1D)    (None, 373, 64)      0           conv1d[0][0]                     \n",
            "__________________________________________________________________________________________________\n",
            "max_pooling1d_1 (MaxPooling1D)  (None, 374, 64)      0           conv1d_1[0][0]                   \n",
            "__________________________________________________________________________________________________\n",
            "concatenate (Concatenate)       (None, 1121, 64)     0           max_pooling1d_2[0][0]            \n",
            "                                                                 max_pooling1d[0][0]              \n",
            "                                                                 max_pooling1d_1[0][0]            \n",
            "__________________________________________________________________________________________________\n",
            "conv1d_3 (Conv1D)               (None, 1117, 128)    41088       concatenate[0][0]                \n",
            "__________________________________________________________________________________________________\n",
            "max_pooling1d_3 (MaxPooling1D)  (None, 139, 128)     0           conv1d_3[0][0]                   \n",
            "__________________________________________________________________________________________________\n",
            "flatten (Flatten)               (None, 17792)        0           max_pooling1d_3[0][0]            \n",
            "__________________________________________________________________________________________________\n",
            "dropout (Dropout)               (None, 17792)        0           flatten[0][0]                    \n",
            "__________________________________________________________________________________________________\n",
            "dense (Dense)                   (None, 128)          2277504     dropout[0][0]                    \n",
            "__________________________________________________________________________________________________\n",
            "dense_1 (Dense)                 (None, 1)            129         dense[0][0]                      \n",
            "==================================================================================================\n",
            "Total params: 2,343,873\n",
            "Trainable params: 2,343,873\n",
            "Non-trainable params: 0\n",
            "__________________________________________________________________________________________________\n"
          ],
          "name": "stdout"
        },
        {
          "output_type": "execute_result",
          "data": {
            "image/png": "[encoded data removed]",
            "text/plain": [
              "<IPython.core.display.Image object>"
            ]
          },
          "metadata": {
            "tags": []
          },
          "execution_count": 107
        }
      ]
    },
    {
      "cell_type": "code",
      "metadata": {
        "colab": {
          "base_uri": "https://localhost:8080/"
        },
        "id": "oMLfIR8NA2G1",
        "outputId": "8accb105-a48b-41df-dd18-aa803c929a6a"
      },
      "source": [
        "## Empecemos de nuevo con un modelo simple\n",
        "\n",
        "\n",
        "keras.backend.clear_session()\n",
        "\n",
        "\n",
        "\n",
        "input=keras.layers.Input(shape=X_train_ohe.shape[1:])\n",
        "\n",
        "conv1=keras.layers.Conv1D(filters=32, kernel_size=7)(input) #stride?\n",
        "pool1=keras.layers.MaxPooling1D(pool_size=2)(conv1)\n",
        "\n",
        "conv2=keras.layers.Conv1D(filters=64, kernel_size=3)(pool1)\n",
        "conv3=keras.layers.Conv1D(filters=64, kernel_size=3)(conv2)\n",
        "pool2=keras.layers.MaxPool1D(pool_size=4)(conv3)\n",
        "\n",
        "dropout=keras.layers.Dropout(.5)(pool2)\n",
        "\n",
        "flatten=keras.layers.Flatten()(dropout)\n",
        "dense1=keras.layers.Dense(128, activation='relu')(flatten)\n",
        "\n",
        "output=keras.layers.Dense(1, activation='sigmoid')(dense1)\n",
        "\n",
        "model=keras.models.Model(inputs=[input], outputs=[output])\n",
        "\n",
        "model.summary()"
      ],
      "execution_count": 100,
      "outputs": [
        {
          "output_type": "stream",
          "text": [
            "Model: \"model\"\n",
            "_________________________________________________________________\n",
            "Layer (type)                 Output Shape              Param #   \n",
            "=================================================================\n",
            "input_1 (InputLayer)         [(None, 1500, 26)]        0         \n",
            "_________________________________________________________________\n",
            "conv1d (Conv1D)              (None, 1494, 32)          5856      \n",
            "_________________________________________________________________\n",
            "max_pooling1d (MaxPooling1D) (None, 747, 32)           0         \n",
            "_________________________________________________________________\n",
            "conv1d_1 (Conv1D)            (None, 745, 64)           6208      \n",
            "_________________________________________________________________\n",
            "conv1d_2 (Conv1D)            (None, 743, 64)           12352     \n",
            "_________________________________________________________________\n",
            "max_pooling1d_1 (MaxPooling1 (None, 185, 64)           0         \n",
            "_________________________________________________________________\n",
            "dropout (Dropout)            (None, 185, 64)           0         \n",
            "_________________________________________________________________\n",
            "flatten (Flatten)            (None, 11840)             0         \n",
            "_________________________________________________________________\n",
            "dense (Dense)                (None, 128)               1515648   \n",
            "_________________________________________________________________\n",
            "dense_1 (Dense)              (None, 1)                 129       \n",
            "=================================================================\n",
            "Total params: 1,540,193\n",
            "Trainable params: 1,540,193\n",
            "Non-trainable params: 0\n",
            "_________________________________________________________________\n"
          ],
          "name": "stdout"
        }
      ]
    },
    {
      "cell_type": "code",
      "metadata": {
        "id": "fUjkK_MrBV4Y"
      },
      "source": [
        "folder_name=datetime.strftime(datetime.now(), '%d-%m_%H-%M')\n",
        "os.mkdir('/content/drive/MyDrive/protein_classifier/{}'.format(folder_name))\n",
        "\n",
        "earlystoppingcb=keras.callbacks.EarlyStopping(patience=10, restore_best_weights=True)\n",
        "checkpoint=keras.callbacks.ModelCheckpoint(filepath='/content/drive/MyDrive/protein_classifier/{}/checkpoint.h5'.format(folder_name),save_best_only=True)"
      ],
      "execution_count": 108,
      "outputs": []
    },
    {
      "cell_type": "code",
      "metadata": {
        "id": "YdCsafTfBa44"
      },
      "source": [
        "model.compile(loss='binary_crossentropy',\n",
        "              optimizer='sgd',\n",
        "              metrics=['accuracy'])"
      ],
      "execution_count": 109,
      "outputs": []
    },
    {
      "cell_type": "code",
      "metadata": {
        "colab": {
          "base_uri": "https://localhost:8080/"
        },
        "id": "o7gQo-q6BjtG",
        "outputId": "98cc4aa0-20a9-44c6-ce5d-3c467b08db5d"
      },
      "source": [
        "history=model.fit(X_train_ohe, t_train, epochs=1300,batch_size=32, callbacks=[earlystoppingcb, checkpoint], validation_data=(X_val_ohe, t_val))"
      ],
      "execution_count": 110,
      "outputs": [
        {
          "output_type": "stream",
          "text": [
            "Epoch 1/1300\n",
            "44/44 [==============================] - 2s 19ms/step - loss: 0.6790 - accuracy: 0.5604 - val_loss: 0.6475 - val_accuracy: 0.6733\n",
            "Epoch 2/1300\n",
            "44/44 [==============================] - 1s 15ms/step - loss: 0.6662 - accuracy: 0.6307 - val_loss: 0.6382 - val_accuracy: 0.6591\n",
            "Epoch 3/1300\n",
            "44/44 [==============================] - 1s 15ms/step - loss: 0.6589 - accuracy: 0.6207 - val_loss: 0.6418 - val_accuracy: 0.6506\n",
            "Epoch 4/1300\n",
            "44/44 [==============================] - 1s 15ms/step - loss: 0.6539 - accuracy: 0.6314 - val_loss: 0.6348 - val_accuracy: 0.6534\n",
            "Epoch 5/1300\n",
            "44/44 [==============================] - 1s 15ms/step - loss: 0.6531 - accuracy: 0.6307 - val_loss: 0.6284 - val_accuracy: 0.6562\n",
            "Epoch 6/1300\n",
            "44/44 [==============================] - 1s 15ms/step - loss: 0.6507 - accuracy: 0.6321 - val_loss: 0.6251 - val_accuracy: 0.6619\n",
            "Epoch 7/1300\n",
            "44/44 [==============================] - 1s 15ms/step - loss: 0.6388 - accuracy: 0.6470 - val_loss: 0.6258 - val_accuracy: 0.6506\n",
            "Epoch 8/1300\n",
            "44/44 [==============================] - 1s 15ms/step - loss: 0.6459 - accuracy: 0.6399 - val_loss: 0.6321 - val_accuracy: 0.6534\n",
            "Epoch 9/1300\n",
            "44/44 [==============================] - 1s 15ms/step - loss: 0.6393 - accuracy: 0.6420 - val_loss: 0.6206 - val_accuracy: 0.6591\n",
            "Epoch 10/1300\n",
            "44/44 [==============================] - 1s 15ms/step - loss: 0.6285 - accuracy: 0.6527 - val_loss: 0.6280 - val_accuracy: 0.6733\n",
            "Epoch 11/1300\n",
            "44/44 [==============================] - 1s 15ms/step - loss: 0.6277 - accuracy: 0.6499 - val_loss: 0.6155 - val_accuracy: 0.6676\n",
            "Epoch 12/1300\n",
            "44/44 [==============================] - 1s 15ms/step - loss: 0.6246 - accuracy: 0.6456 - val_loss: 0.6150 - val_accuracy: 0.6761\n",
            "Epoch 13/1300\n",
            "44/44 [==============================] - 1s 15ms/step - loss: 0.6227 - accuracy: 0.6499 - val_loss: 0.6104 - val_accuracy: 0.6676\n",
            "Epoch 14/1300\n",
            "44/44 [==============================] - 1s 15ms/step - loss: 0.6184 - accuracy: 0.6612 - val_loss: 0.6221 - val_accuracy: 0.6562\n",
            "Epoch 15/1300\n",
            "44/44 [==============================] - 1s 15ms/step - loss: 0.6196 - accuracy: 0.6534 - val_loss: 0.6044 - val_accuracy: 0.6648\n",
            "Epoch 16/1300\n",
            "44/44 [==============================] - 1s 15ms/step - loss: 0.6053 - accuracy: 0.6634 - val_loss: 0.6003 - val_accuracy: 0.6761\n",
            "Epoch 17/1300\n",
            "44/44 [==============================] - 1s 15ms/step - loss: 0.6062 - accuracy: 0.6740 - val_loss: 0.5978 - val_accuracy: 0.6648\n",
            "Epoch 18/1300\n",
            "44/44 [==============================] - 1s 15ms/step - loss: 0.6078 - accuracy: 0.6612 - val_loss: 0.6003 - val_accuracy: 0.6648\n",
            "Epoch 19/1300\n",
            "44/44 [==============================] - 1s 15ms/step - loss: 0.6018 - accuracy: 0.6726 - val_loss: 0.5962 - val_accuracy: 0.6676\n",
            "Epoch 20/1300\n",
            "44/44 [==============================] - 1s 15ms/step - loss: 0.5957 - accuracy: 0.6790 - val_loss: 0.5952 - val_accuracy: 0.7131\n",
            "Epoch 21/1300\n",
            "44/44 [==============================] - 1s 15ms/step - loss: 0.5914 - accuracy: 0.6776 - val_loss: 0.6086 - val_accuracy: 0.7102\n",
            "Epoch 22/1300\n",
            "44/44 [==============================] - 1s 15ms/step - loss: 0.5804 - accuracy: 0.6953 - val_loss: 0.5843 - val_accuracy: 0.6932\n",
            "Epoch 23/1300\n",
            "44/44 [==============================] - 1s 15ms/step - loss: 0.5791 - accuracy: 0.6939 - val_loss: 0.5920 - val_accuracy: 0.7017\n",
            "Epoch 24/1300\n",
            "44/44 [==============================] - 1s 15ms/step - loss: 0.5765 - accuracy: 0.6932 - val_loss: 0.5795 - val_accuracy: 0.6903\n",
            "Epoch 25/1300\n",
            "44/44 [==============================] - 1s 15ms/step - loss: 0.5698 - accuracy: 0.6960 - val_loss: 0.5826 - val_accuracy: 0.7131\n",
            "Epoch 26/1300\n",
            "44/44 [==============================] - 1s 15ms/step - loss: 0.5640 - accuracy: 0.7081 - val_loss: 0.5752 - val_accuracy: 0.6932\n",
            "Epoch 27/1300\n",
            "44/44 [==============================] - 1s 15ms/step - loss: 0.5495 - accuracy: 0.7209 - val_loss: 0.5648 - val_accuracy: 0.7216\n",
            "Epoch 28/1300\n",
            "44/44 [==============================] - 1s 15ms/step - loss: 0.5518 - accuracy: 0.7294 - val_loss: 0.5735 - val_accuracy: 0.6932\n",
            "Epoch 29/1300\n",
            "44/44 [==============================] - 1s 15ms/step - loss: 0.5519 - accuracy: 0.7209 - val_loss: 0.5640 - val_accuracy: 0.7415\n",
            "Epoch 30/1300\n",
            "44/44 [==============================] - 1s 15ms/step - loss: 0.5348 - accuracy: 0.7365 - val_loss: 0.5525 - val_accuracy: 0.7045\n",
            "Epoch 31/1300\n",
            "44/44 [==============================] - 1s 15ms/step - loss: 0.5319 - accuracy: 0.7372 - val_loss: 0.5576 - val_accuracy: 0.7528\n",
            "Epoch 32/1300\n",
            "44/44 [==============================] - 1s 15ms/step - loss: 0.5264 - accuracy: 0.7507 - val_loss: 0.5422 - val_accuracy: 0.7301\n",
            "Epoch 33/1300\n",
            "44/44 [==============================] - 1s 14ms/step - loss: 0.5080 - accuracy: 0.7642 - val_loss: 0.5927 - val_accuracy: 0.6960\n",
            "Epoch 34/1300\n",
            "44/44 [==============================] - 1s 15ms/step - loss: 0.5035 - accuracy: 0.7578 - val_loss: 0.5336 - val_accuracy: 0.7585\n",
            "Epoch 35/1300\n",
            "44/44 [==============================] - 1s 15ms/step - loss: 0.4893 - accuracy: 0.7798 - val_loss: 0.5325 - val_accuracy: 0.7727\n",
            "Epoch 36/1300\n",
            "44/44 [==============================] - 1s 15ms/step - loss: 0.4834 - accuracy: 0.7791 - val_loss: 0.5199 - val_accuracy: 0.7472\n",
            "Epoch 37/1300\n",
            "44/44 [==============================] - 1s 15ms/step - loss: 0.4741 - accuracy: 0.7912 - val_loss: 0.5309 - val_accuracy: 0.7216\n",
            "Epoch 38/1300\n",
            "44/44 [==============================] - 1s 15ms/step - loss: 0.4704 - accuracy: 0.7933 - val_loss: 0.5807 - val_accuracy: 0.6648\n",
            "Epoch 39/1300\n",
            "44/44 [==============================] - 1s 14ms/step - loss: 0.4689 - accuracy: 0.7940 - val_loss: 0.4981 - val_accuracy: 0.7642\n",
            "Epoch 40/1300\n",
            "44/44 [==============================] - 1s 15ms/step - loss: 0.4379 - accuracy: 0.8210 - val_loss: 0.5024 - val_accuracy: 0.8068\n",
            "Epoch 41/1300\n",
            "44/44 [==============================] - 1s 15ms/step - loss: 0.4364 - accuracy: 0.8196 - val_loss: 0.4849 - val_accuracy: 0.7926\n",
            "Epoch 42/1300\n",
            "44/44 [==============================] - 1s 15ms/step - loss: 0.4204 - accuracy: 0.8267 - val_loss: 0.4886 - val_accuracy: 0.7955\n",
            "Epoch 43/1300\n",
            "44/44 [==============================] - 1s 15ms/step - loss: 0.4097 - accuracy: 0.8352 - val_loss: 0.4917 - val_accuracy: 0.7500\n",
            "Epoch 44/1300\n",
            "44/44 [==============================] - 1s 15ms/step - loss: 0.4094 - accuracy: 0.8381 - val_loss: 0.4862 - val_accuracy: 0.7869\n",
            "Epoch 45/1300\n",
            "44/44 [==============================] - 1s 15ms/step - loss: 0.3934 - accuracy: 0.8416 - val_loss: 0.4802 - val_accuracy: 0.7869\n",
            "Epoch 46/1300\n",
            "44/44 [==============================] - 1s 15ms/step - loss: 0.3842 - accuracy: 0.8494 - val_loss: 0.4757 - val_accuracy: 0.7699\n",
            "Epoch 47/1300\n",
            "44/44 [==============================] - 1s 15ms/step - loss: 0.3731 - accuracy: 0.8558 - val_loss: 0.4643 - val_accuracy: 0.8097\n",
            "Epoch 48/1300\n",
            "44/44 [==============================] - 1s 15ms/step - loss: 0.3705 - accuracy: 0.8530 - val_loss: 0.4509 - val_accuracy: 0.8210\n",
            "Epoch 49/1300\n",
            "44/44 [==============================] - 1s 15ms/step - loss: 0.3612 - accuracy: 0.8558 - val_loss: 0.4486 - val_accuracy: 0.8239\n",
            "Epoch 50/1300\n",
            "44/44 [==============================] - 1s 15ms/step - loss: 0.3533 - accuracy: 0.8729 - val_loss: 0.4473 - val_accuracy: 0.8125\n",
            "Epoch 51/1300\n",
            "44/44 [==============================] - 1s 15ms/step - loss: 0.3430 - accuracy: 0.8750 - val_loss: 0.4378 - val_accuracy: 0.8295\n",
            "Epoch 52/1300\n",
            "44/44 [==============================] - 1s 15ms/step - loss: 0.3251 - accuracy: 0.8764 - val_loss: 0.4425 - val_accuracy: 0.8040\n",
            "Epoch 53/1300\n",
            "44/44 [==============================] - 1s 15ms/step - loss: 0.3194 - accuracy: 0.8913 - val_loss: 0.4346 - val_accuracy: 0.7983\n",
            "Epoch 54/1300\n",
            "44/44 [==============================] - 1s 15ms/step - loss: 0.3069 - accuracy: 0.8942 - val_loss: 0.4294 - val_accuracy: 0.8210\n",
            "Epoch 55/1300\n",
            "44/44 [==============================] - 1s 15ms/step - loss: 0.2989 - accuracy: 0.8871 - val_loss: 0.4336 - val_accuracy: 0.8153\n",
            "Epoch 56/1300\n",
            "44/44 [==============================] - 1s 15ms/step - loss: 0.2978 - accuracy: 0.8956 - val_loss: 0.4236 - val_accuracy: 0.8324\n",
            "Epoch 57/1300\n",
            "44/44 [==============================] - 1s 15ms/step - loss: 0.2885 - accuracy: 0.9006 - val_loss: 0.4180 - val_accuracy: 0.8381\n",
            "Epoch 58/1300\n",
            "44/44 [==============================] - 1s 15ms/step - loss: 0.2881 - accuracy: 0.8963 - val_loss: 0.4375 - val_accuracy: 0.8097\n",
            "Epoch 59/1300\n",
            "44/44 [==============================] - 1s 15ms/step - loss: 0.2627 - accuracy: 0.9183 - val_loss: 0.4179 - val_accuracy: 0.8352\n",
            "Epoch 60/1300\n",
            "44/44 [==============================] - 1s 15ms/step - loss: 0.2693 - accuracy: 0.9055 - val_loss: 0.4137 - val_accuracy: 0.8409\n",
            "Epoch 61/1300\n",
            "44/44 [==============================] - 1s 15ms/step - loss: 0.2531 - accuracy: 0.9134 - val_loss: 0.4151 - val_accuracy: 0.8210\n",
            "Epoch 62/1300\n",
            "44/44 [==============================] - 1s 15ms/step - loss: 0.2504 - accuracy: 0.9134 - val_loss: 0.4186 - val_accuracy: 0.8153\n",
            "Epoch 63/1300\n",
            "44/44 [==============================] - 1s 15ms/step - loss: 0.2504 - accuracy: 0.9169 - val_loss: 0.4207 - val_accuracy: 0.8267\n",
            "Epoch 64/1300\n",
            "44/44 [==============================] - 1s 15ms/step - loss: 0.2384 - accuracy: 0.9155 - val_loss: 0.4093 - val_accuracy: 0.8324\n",
            "Epoch 65/1300\n",
            "44/44 [==============================] - 1s 15ms/step - loss: 0.2250 - accuracy: 0.9297 - val_loss: 0.4086 - val_accuracy: 0.8409\n",
            "Epoch 66/1300\n",
            "44/44 [==============================] - 1s 15ms/step - loss: 0.2181 - accuracy: 0.9311 - val_loss: 0.4230 - val_accuracy: 0.8295\n",
            "Epoch 67/1300\n",
            "44/44 [==============================] - 1s 15ms/step - loss: 0.2144 - accuracy: 0.9396 - val_loss: 0.4030 - val_accuracy: 0.8239\n",
            "Epoch 68/1300\n",
            "44/44 [==============================] - 1s 15ms/step - loss: 0.2046 - accuracy: 0.9389 - val_loss: 0.4014 - val_accuracy: 0.8409\n",
            "Epoch 69/1300\n",
            "44/44 [==============================] - 1s 15ms/step - loss: 0.2024 - accuracy: 0.9318 - val_loss: 0.3973 - val_accuracy: 0.8438\n",
            "Epoch 70/1300\n",
            "44/44 [==============================] - 1s 15ms/step - loss: 0.2009 - accuracy: 0.9368 - val_loss: 0.3952 - val_accuracy: 0.8438\n",
            "Epoch 71/1300\n",
            "44/44 [==============================] - 1s 15ms/step - loss: 0.1916 - accuracy: 0.9489 - val_loss: 0.3942 - val_accuracy: 0.8324\n",
            "Epoch 72/1300\n",
            "44/44 [==============================] - 1s 15ms/step - loss: 0.1714 - accuracy: 0.9616 - val_loss: 0.3933 - val_accuracy: 0.8494\n",
            "Epoch 73/1300\n",
            "44/44 [==============================] - 1s 15ms/step - loss: 0.1731 - accuracy: 0.9510 - val_loss: 0.3968 - val_accuracy: 0.8409\n",
            "Epoch 74/1300\n",
            "44/44 [==============================] - 1s 15ms/step - loss: 0.1779 - accuracy: 0.9489 - val_loss: 0.3928 - val_accuracy: 0.8295\n",
            "Epoch 75/1300\n",
            "44/44 [==============================] - 1s 15ms/step - loss: 0.1662 - accuracy: 0.9538 - val_loss: 0.3986 - val_accuracy: 0.8295\n",
            "Epoch 76/1300\n",
            "44/44 [==============================] - 1s 15ms/step - loss: 0.1564 - accuracy: 0.9659 - val_loss: 0.3899 - val_accuracy: 0.8352\n",
            "Epoch 77/1300\n",
            "44/44 [==============================] - 1s 15ms/step - loss: 0.1512 - accuracy: 0.9673 - val_loss: 0.3875 - val_accuracy: 0.8409\n",
            "Epoch 78/1300\n",
            "44/44 [==============================] - 1s 15ms/step - loss: 0.1452 - accuracy: 0.9652 - val_loss: 0.3873 - val_accuracy: 0.8438\n",
            "Epoch 79/1300\n",
            "44/44 [==============================] - 1s 15ms/step - loss: 0.1379 - accuracy: 0.9716 - val_loss: 0.3831 - val_accuracy: 0.8494\n",
            "Epoch 80/1300\n",
            "44/44 [==============================] - 1s 15ms/step - loss: 0.1355 - accuracy: 0.9688 - val_loss: 0.3893 - val_accuracy: 0.8381\n",
            "Epoch 81/1300\n",
            "44/44 [==============================] - 1s 15ms/step - loss: 0.1285 - accuracy: 0.9730 - val_loss: 0.3899 - val_accuracy: 0.8381\n",
            "Epoch 82/1300\n",
            "44/44 [==============================] - 1s 15ms/step - loss: 0.1314 - accuracy: 0.9723 - val_loss: 0.3849 - val_accuracy: 0.8438\n",
            "Epoch 83/1300\n",
            "44/44 [==============================] - 1s 15ms/step - loss: 0.1251 - accuracy: 0.9751 - val_loss: 0.3851 - val_accuracy: 0.8438\n",
            "Epoch 84/1300\n",
            "44/44 [==============================] - 1s 15ms/step - loss: 0.1239 - accuracy: 0.9766 - val_loss: 0.3841 - val_accuracy: 0.8438\n",
            "Epoch 85/1300\n",
            "44/44 [==============================] - 1s 15ms/step - loss: 0.1231 - accuracy: 0.9751 - val_loss: 0.3866 - val_accuracy: 0.8409\n",
            "Epoch 86/1300\n",
            "44/44 [==============================] - 1s 15ms/step - loss: 0.1150 - accuracy: 0.9744 - val_loss: 0.3840 - val_accuracy: 0.8438\n",
            "Epoch 87/1300\n",
            "44/44 [==============================] - 1s 15ms/step - loss: 0.1097 - accuracy: 0.9773 - val_loss: 0.3841 - val_accuracy: 0.8551\n",
            "Epoch 88/1300\n",
            "44/44 [==============================] - 1s 16ms/step - loss: 0.1138 - accuracy: 0.9780 - val_loss: 0.3823 - val_accuracy: 0.8381\n",
            "Epoch 89/1300\n",
            "44/44 [==============================] - 1s 15ms/step - loss: 0.1021 - accuracy: 0.9801 - val_loss: 0.3857 - val_accuracy: 0.8381\n",
            "Epoch 90/1300\n",
            "44/44 [==============================] - 1s 15ms/step - loss: 0.0997 - accuracy: 0.9851 - val_loss: 0.3876 - val_accuracy: 0.8381\n",
            "Epoch 91/1300\n",
            "44/44 [==============================] - 1s 15ms/step - loss: 0.0977 - accuracy: 0.9851 - val_loss: 0.3805 - val_accuracy: 0.8409\n",
            "Epoch 92/1300\n",
            "44/44 [==============================] - 1s 15ms/step - loss: 0.0890 - accuracy: 0.9830 - val_loss: 0.3970 - val_accuracy: 0.8466\n",
            "Epoch 93/1300\n",
            "44/44 [==============================] - 1s 15ms/step - loss: 0.0884 - accuracy: 0.9893 - val_loss: 0.3813 - val_accuracy: 0.8466\n",
            "Epoch 94/1300\n",
            "44/44 [==============================] - 1s 15ms/step - loss: 0.0837 - accuracy: 0.9901 - val_loss: 0.3815 - val_accuracy: 0.8409\n",
            "Epoch 95/1300\n",
            "44/44 [==============================] - 1s 15ms/step - loss: 0.0842 - accuracy: 0.9858 - val_loss: 0.3857 - val_accuracy: 0.8324\n",
            "Epoch 96/1300\n",
            "44/44 [==============================] - 1s 15ms/step - loss: 0.0849 - accuracy: 0.9858 - val_loss: 0.3846 - val_accuracy: 0.8580\n",
            "Epoch 97/1300\n",
            "44/44 [==============================] - 1s 15ms/step - loss: 0.0757 - accuracy: 0.9922 - val_loss: 0.3820 - val_accuracy: 0.8466\n",
            "Epoch 98/1300\n",
            "44/44 [==============================] - 1s 15ms/step - loss: 0.0783 - accuracy: 0.9915 - val_loss: 0.3830 - val_accuracy: 0.8409\n",
            "Epoch 99/1300\n",
            "44/44 [==============================] - 1s 15ms/step - loss: 0.0739 - accuracy: 0.9922 - val_loss: 0.3827 - val_accuracy: 0.8494\n",
            "Epoch 100/1300\n",
            "44/44 [==============================] - 1s 15ms/step - loss: 0.0725 - accuracy: 0.9908 - val_loss: 0.3840 - val_accuracy: 0.8523\n",
            "Epoch 101/1300\n",
            "44/44 [==============================] - 1s 15ms/step - loss: 0.0672 - accuracy: 0.9893 - val_loss: 0.3830 - val_accuracy: 0.8636\n"
          ],
          "name": "stdout"
        }
      ]
    },
    {
      "cell_type": "code",
      "metadata": {
        "id": "81ThuY8T14ad"
      },
      "source": [
        "from sklearn.metrics import roc_curve, plot_roc_curve\n",
        "pred_proba_no_skill=[0 for val in X_val_ohe]\n",
        "pred_proba=model.predict(X_val_ohe)\n",
        "\n",
        "fprns, tprns, threshns = roc_curve(t_val, pred_proba_no_skill)\n",
        "fpr, tpr, thresh = roc_curve(t_val, pred_proba)"
      ],
      "execution_count": 111,
      "outputs": []
    },
    {
      "cell_type": "code",
      "metadata": {
        "colab": {
          "base_uri": "https://localhost:8080/",
          "height": 282
        },
        "id": "R72cFGWw3zfv",
        "outputId": "d9811143-e013-4f74-ae73-191ffe574fbe"
      },
      "source": [
        "plt.plot(fpr, tpr)\n",
        "plt.plot(fprns, tprns, ls='-')"
      ],
      "execution_count": 112,
      "outputs": [
        {
          "output_type": "execute_result",
          "data": {
            "text/plain": [
              "[<matplotlib.lines.Line2D at 0x7fc674262e50>]"
            ]
          },
          "metadata": {
            "tags": []
          },
          "execution_count": 112
        },
        {
          "output_type": "display_data",
          "data": {
            "image/png": "[encoded data removed]",
            "text/plain": [
              "<Figure size 432x288 with 1 Axes>"
            ]
          },
          "metadata": {
            "tags": [],
            "needs_background": "light"
          }
        }
      ]
    }
  ]
}