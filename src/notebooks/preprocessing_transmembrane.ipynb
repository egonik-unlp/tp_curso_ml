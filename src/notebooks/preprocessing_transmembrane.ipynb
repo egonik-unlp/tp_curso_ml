{
 "cells": [
  {
   "cell_type": "code",
   "execution_count": 4,
   "id": "dec19824-e249-4934-b1ce-85d675fd334a",
   "metadata": {},
   "outputs": [],
   "source": [
    "import requests as r \n",
    "import pandas as pd\n",
    "import numpy as np\n",
    "import os\n",
    "import re\n",
    "import csv\n",
    "import json"
   ]
  },
  {
   "cell_type": "code",
   "execution_count": 9,
   "id": "42a6c9dd-9fef-4a84-adf8-ab76211d6b78",
   "metadata": {},
   "outputs": [
    {
     "data": {
      "text/plain": [
       "Index(['Entry', 'Entry name', 'Status', 'Protein names', 'Gene names',\n",
       "       'Organism', 'Length', 'Binding site', 'Function [CC]', 'Metal binding',\n",
       "       'Nucleotide binding', 'Site', 'Annotation', 'Gene names  (ORF )',\n",
       "       'Sequence', 'Developmental stage', 'Tissue specificity',\n",
       "       'Gene ontology (molecular function)',\n",
       "       'Gene ontology (cellular component)', 'Coiled coil',\n",
       "       'Compositional bias', 'Protein families', 'Organism ID',\n",
       "       'Gene ontology IDs', 'Intramembrane', 'Subcellular location [CC]',\n",
       "       'Topological domain', 'Transmembrane'],\n",
       "      dtype='object')"
      ]
     },
     "execution_count": 9,
     "metadata": {},
     "output_type": "execute_result"
    }
   ],
   "source": [
    "df=pd.read_csv('/home/edugonik/Documents/git/tp_curso_ml/src/pickle/datasets/extract.tab', sep = '\\t')\n",
    "df.columns"
   ]
  },
  {
   "cell_type": "code",
   "execution_count": 10,
   "id": "4103a74d-5753-4401-baff-099c320f2903",
   "metadata": {},
   "outputs": [],
   "source": [
    "transmembrana = df.dropna(subset=['Transmembrane'])"
   ]
  },
  {
   "cell_type": "code",
   "execution_count": 86,
   "id": "a5c1187c-7784-48f0-94fe-7d240229df03",
   "metadata": {},
   "outputs": [],
   "source": [
    "def random_selection_dataframe(dataframe: pd.DataFrame, length:int)-> pd.DataFrame:\n",
    "    dataframe.reset_index(drop=True, inplace=True)\n",
    "    selected_indeces=np.random.choice(a=dataframe.index, size=length, replace=False)\n",
    "    return dataframe.iloc[selected_indeces,:]"
   ]
  },
  {
   "cell_type": "code",
   "execution_count": 37,
   "id": "5b2ec29f-3ab2-4f3c-9d60-25e33c238c15",
   "metadata": {},
   "outputs": [],
   "source": [
    "n_residuos_tm=lambda row:len(re.findall(r\"(TRANSMEM \\d+(..)\\d+;)\",row['Transmembrane']))\n",
    "n_residuos_tm_np=np.vectorize(lambda datum:len(re.findall(r\"(TRANSMEM \\d+(..)\\d+;)\",datum)))"
   ]
  },
  {
   "cell_type": "code",
   "execution_count": 19,
   "id": "9500342c-340e-470f-9a6e-0adc6da2288e",
   "metadata": {},
   "outputs": [],
   "source": [
    "set_todos=set(df.Entry)\n",
    "set_transmembrana=set(transmembrana.Entry)"
   ]
  },
  {
   "cell_type": "code",
   "execution_count": 26,
   "id": "24d166b2-c5a1-48fe-846f-f6a2c74fcf47",
   "metadata": {},
   "outputs": [],
   "source": [
    "set_no_transmembrana=set_todos - set_transmembrana\n",
    "no_transmembrana=df[df.Entry.isin(set_no_transmembrana)]"
   ]
  },
  {
   "cell_type": "code",
   "execution_count": 91,
   "id": "4e54d317-4030-4327-afef-22e102465eea",
   "metadata": {},
   "outputs": [],
   "source": [
    "sel_nt=random_selection_dataframe(no_transmembrana[['Sequence','Transmembrane']], transmembrana.shape[0]).to_numpy()\n",
    "sel_t=transmembrana[['Sequence', 'Transmembrane']].to_numpy()\n",
    "sel_t[:,1]=n_residuos_tm_np(sel_t[:,1])\n",
    "sel_nt[:,1]=0\n",
    "label=np.vstack([np.ones((sel_t.shape[0],1)), np.zeros((sel_nt.shape[0],1))])\n",
    "data=np.vstack([sel_t,sel_nt])\n"
   ]
  },
  {
   "cell_type": "code",
   "execution_count": null,
   "id": "4aecabb2-f02c-4271-9dfc-edca4779b74a",
   "metadata": {},
   "outputs": [],
   "source": [
    "''.join(data[:,0])"
   ]
  }
 ],
 "metadata": {
  "kernelspec": {
   "display_name": "Python 3",
   "language": "python",
   "name": "python3"
  },
  "language_info": {
   "codemirror_mode": {
    "name": "ipython",
    "version": 3
   },
   "file_extension": ".py",
   "mimetype": "text/x-python",
   "name": "python",
   "nbconvert_exporter": "python",
   "pygments_lexer": "ipython3",
   "version": "3.8.8"
  }
 },
 "nbformat": 4,
 "nbformat_minor": 5
}
