{
 "cells": [
  {
   "cell_type": "code",
   "execution_count": 1,
   "id": "dec19824-e249-4934-b1ce-85d675fd334a",
   "metadata": {},
   "outputs": [
    {
     "name": "stderr",
     "output_type": "stream",
     "text": [
      "2021-10-22 23:50:51.308178: W tensorflow/stream_executor/platform/default/dso_loader.cc:64] Could not load dynamic library 'libcudart.so.11.0'; dlerror: libcudart.so.11.0: cannot open shared object file: No such file or directory\n",
      "2021-10-22 23:50:51.308220: I tensorflow/stream_executor/cuda/cudart_stub.cc:29] Ignore above cudart dlerror if you do not have a GPU set up on your machine.\n"
     ]
    }
   ],
   "source": [
    "import requests as r \n",
    "import pandas as pd\n",
    "import numpy as np\n",
    "import matplotlib.pyplot as plt\n",
    "import os\n",
    "import re\n",
    "import csv\n",
    "import json\n",
    "from tensorflow import keras"
   ]
  },
  {
   "cell_type": "code",
   "execution_count": 2,
   "id": "42a6c9dd-9fef-4a84-adf8-ab76211d6b78",
   "metadata": {},
   "outputs": [
    {
     "data": {
      "text/plain": [
       "Index(['Entry', 'Entry name', 'Status', 'Protein names', 'Gene names',\n",
       "       'Organism', 'Length', 'Binding site', 'Function [CC]', 'Metal binding',\n",
       "       'Nucleotide binding', 'Site', 'Annotation', 'Gene names  (ORF )',\n",
       "       'Sequence', 'Developmental stage', 'Tissue specificity',\n",
       "       'Gene ontology (molecular function)',\n",
       "       'Gene ontology (cellular component)', 'Coiled coil',\n",
       "       'Compositional bias', 'Protein families', 'Organism ID',\n",
       "       'Gene ontology IDs', 'Intramembrane', 'Subcellular location [CC]',\n",
       "       'Topological domain', 'Transmembrane'],\n",
       "      dtype='object')"
      ]
     },
     "execution_count": 2,
     "metadata": {},
     "output_type": "execute_result"
    }
   ],
   "source": [
    "df=pd.read_csv('/home/edugonik/Documents/git/tp_curso_ml/src/pickle/datasets/extract.tab', sep = '\\t')\n",
    "df.columns"
   ]
  },
  {
   "cell_type": "code",
   "execution_count": 3,
   "id": "4103a74d-5753-4401-baff-099c320f2903",
   "metadata": {},
   "outputs": [],
   "source": [
    "transmembrana = df.dropna(subset=['Transmembrane'])"
   ]
  },
  {
   "cell_type": "code",
   "execution_count": 4,
   "id": "a5c1187c-7784-48f0-94fe-7d240229df03",
   "metadata": {},
   "outputs": [],
   "source": [
    "def random_selection_dataframe(dataframe: pd.DataFrame, length:int)-> pd.DataFrame:\n",
    "    dataframe.reset_index(drop=True, inplace=True)\n",
    "    selected_indeces=np.random.choice(a=dataframe.index, size=length, replace=False)\n",
    "    return dataframe.iloc[selected_indeces,:]"
   ]
  },
  {
   "cell_type": "code",
   "execution_count": 5,
   "id": "5b2ec29f-3ab2-4f3c-9d60-25e33c238c15",
   "metadata": {},
   "outputs": [],
   "source": [
    "n_residuos_tm=lambda row:len(re.findall(r\"(TRANSMEM \\d+(..)\\d+;)\",row['Transmembrane']))\n",
    "n_residuos_tm_np=np.vectorize(lambda datum:len(re.findall(r\"(TRANSMEM \\d+(..)\\d+;)\",datum)))"
   ]
  },
  {
   "cell_type": "code",
   "execution_count": 6,
   "id": "9500342c-340e-470f-9a6e-0adc6da2288e",
   "metadata": {},
   "outputs": [],
   "source": [
    "set_todos=set(df.Entry)\n",
    "set_transmembrana=set(transmembrana.Entry)"
   ]
  },
  {
   "cell_type": "code",
   "execution_count": 7,
   "id": "24d166b2-c5a1-48fe-846f-f6a2c74fcf47",
   "metadata": {},
   "outputs": [],
   "source": [
    "set_no_transmembrana=set_todos - set_transmembrana\n",
    "no_transmembrana=df[df.Entry.isin(set_no_transmembrana)]"
   ]
  },
  {
   "cell_type": "code",
   "execution_count": 8,
   "id": "4e54d317-4030-4327-afef-22e102465eea",
   "metadata": {},
   "outputs": [
    {
     "data": {
      "text/plain": [
       "(157710, 2)"
      ]
     },
     "execution_count": 8,
     "metadata": {},
     "output_type": "execute_result"
    }
   ],
   "source": [
    "sel_nt=random_selection_dataframe(no_transmembrana[['Sequence','Transmembrane']], transmembrana.shape[0]).to_numpy()\n",
    "sel_t=transmembrana[['Sequence', 'Transmembrane']].to_numpy()\n",
    "sel_t[:,1]=n_residuos_tm_np(sel_t[:,1])\n",
    "sel_nt[:,1]=0\n",
    "\n",
    "# label=np.vstack([np.ones((sel_t.shape[0],1)), np.zeros((sel_nt.shape[0],1))])\n",
    "data=np.vstack([sel_t,sel_nt])\n",
    "data.shape"
   ]
  },
  {
   "cell_type": "code",
   "execution_count": 9,
   "id": "4aecabb2-f02c-4271-9dfc-edca4779b74a",
   "metadata": {},
   "outputs": [],
   "source": [
    "allchars=set()\n",
    "for n,node in enumerate(data[:,0]):\n",
    "        for char in node:\n",
    "            allchars.add(char)"
   ]
  },
  {
   "cell_type": "code",
   "execution_count": 23,
   "id": "8f590bca-ddf5-4350-8f0d-9ac039854d64",
   "metadata": {},
   "outputs": [],
   "source": [
    "codigo_numerico={}\n",
    "for n,char in enumerate(allchars,1):\n",
    "    codigo_numerico[char]=n\n",
    "with open('codigo_numerico.json', 'w') as file:\n",
    "    json.dump(codigo_numerico, file)"
   ]
  },
  {
   "cell_type": "code",
   "execution_count": 11,
   "id": "ed377791-2856-4c0b-9f2f-2c5fa56ccbbe",
   "metadata": {},
   "outputs": [
    {
     "data": {
      "text/plain": [
       "[]"
      ]
     },
     "execution_count": 11,
     "metadata": {},
     "output_type": "execute_result"
    },
    {
     "data": {
      "image/png": "[encoded data removed]",
      "text/plain": [
       "<Figure size 432x288 with 1 Axes>"
      ]
     },
     "metadata": {
      "needs_background": "light"
     },
     "output_type": "display_data"
    }
   ],
   "source": [
    "plt.hist(np.vectorize(len)(data[:,0]))\n",
    "plt.semilogy()"
   ]
  },
  {
   "cell_type": "code",
   "execution_count": 12,
   "id": "770074f0-bc44-40ed-b882-711c7d1cd21b",
   "metadata": {},
   "outputs": [],
   "source": [
    "data=data[np.vectorize(len)(data[:,0]) < 2000] #Solo incluyo secuencias menores a 2000 pb"
   ]
  },
  {
   "cell_type": "code",
   "execution_count": 39,
   "id": "a9e35427-bde2-49ea-9160-f9640a4beee8",
   "metadata": {},
   "outputs": [
    {
     "data": {
      "text/plain": [
       "array(['0', '0', '0', ..., '0', '0', '2'], dtype='<U18562')"
      ]
     },
     "execution_count": 39,
     "metadata": {},
     "output_type": "execute_result"
    }
   ],
   "source": [
    "numeric_nodes=[]\n",
    "for node in data[:,0]:\n",
    "    numeric_nodes.append(keras.preprocessing.sequence.pad_sequences(np.array([codigo_numerico[char] for char in node], dtype=int).reshape(1,-1), 2000))\n",
    "seqs=np.vstack(numeric_nodes)"
   ]
  },
  {
   "cell_type": "code",
   "execution_count": 41,
   "id": "14082d5f-17e2-4a94-8a81-5940bef26c49",
   "metadata": {},
   "outputs": [
    {
     "data": {
      "text/plain": [
       "array([[ 0,  0,  0, ...,  9, 21,  0],\n",
       "       [ 0,  0,  0, ...,  2,  8,  0],\n",
       "       [ 0,  0,  0, ..., 22, 24,  0],\n",
       "       ...,\n",
       "       [ 0,  0,  0, ..., 24, 24,  0],\n",
       "       [ 0,  0,  0, ..., 19, 22,  0],\n",
       "       [ 0,  0,  0, ..., 10, 11,  2]])"
      ]
     },
     "execution_count": 41,
     "metadata": {},
     "output_type": "execute_result"
    }
   ],
   "source": []
  },
  {
   "cell_type": "code",
   "execution_count": 34,
   "id": "68c0e3be-f980-4f9f-8545-f443c855f693",
   "metadata": {},
   "outputs": [
    {
     "data": {
      "text/plain": [
       "((61630, 2000), (61630,))"
      ]
     },
     "execution_count": 34,
     "metadata": {},
     "output_type": "execute_result"
    }
   ],
   "source": [
    "seqs.shape, data[:,1].shape"
   ]
  },
  {
   "cell_type": "code",
   "execution_count": 14,
   "id": "b8c8fd2b-3bd4-4fb7-ab78-10da1497e3dd",
   "metadata": {},
   "outputs": [],
   "source": [
    "np.savez_compressed('/home/edugonik/Documents/git/tp_curso_ml/src/pickle/numpy_arrays/data_compressed.npz', seqs=seqs, labels_tmd=labels_tmd, labels_ntmd=labels_ntmd)"
   ]
  },
  {
   "cell_type": "code",
   "execution_count": 15,
   "id": "eb87953b-a909-4ede-920e-f7849d3969b7",
   "metadata": {},
   "outputs": [],
   "source": [
    "go_proteins={}\n",
    "for (ni, entry),(n,row) in zip(transmembrana['Entry'].iteritems(),transmembrana[\"Gene ontology (cellular component)\"].iteritems()):\n",
    "    if not pd.isna(row):\n",
    "        go_proteins[entry]=row.split(';')\n",
    "    else:\n",
    "        pass"
   ]
  },
  {
   "cell_type": "code",
   "execution_count": 16,
   "id": "b7218114-2352-4587-8ba5-749b5719aada",
   "metadata": {},
   "outputs": [],
   "source": [
    "plasma_membrane={}\n",
    "for protein, go_terms in go_proteins.items():\n",
    "    for go_term in go_terms:\n",
    "        qry=re.findall(r\"GO:0005886\", go_term)\n",
    "        if qry:\n",
    "            plasma_membrane[protein]=go_terms\n",
    "            "
   ]
  },
  {
   "cell_type": "code",
   "execution_count": 17,
   "id": "cfffcd7f-ae7a-4c11-8cb6-cac429311a86",
   "metadata": {},
   "outputs": [],
   "source": [
    "go_terms={\n",
    "    \"mitochondria\":\"GO:0031966\",\n",
    "    \"nuclear\":'GO:0031965',\n",
    "    \"cell\":'GO:0005886'\n",
    "}"
   ]
  },
  {
   "cell_type": "code",
   "execution_count": 65,
   "id": "700a8eed-13bc-4afe-a08f-be2a0ef6ef79",
   "metadata": {},
   "outputs": [],
   "source": [
    "data_raw=[]\n",
    "classes={\n",
    "    0:[],\n",
    "    1:[],\n",
    "    2:[]\n",
    "}\n",
    "for i, node in df.iterrows():\n",
    "    try:\n",
    "        if len(node.Sequence) < 2000:\n",
    "            if go_terms['cell'] in node['Gene ontology (cellular component)']:\n",
    "                data_raw.append([node.Sequence, 0])\n",
    "                classes[0].append(node.Sequence)\n",
    "            elif go_terms['mitochondria'] in node['Gene ontology (cellular component)']:\n",
    "                data_raw.append([node.Sequence,1])\n",
    "                classes[1].append(node.Sequence)\n",
    "\n",
    "            elif go_terms['nuclear'] in node[\"Gene ontology (cellular component)\"]:\n",
    "                data_raw.append([node.Sequence,2])\n",
    "                classes[2].append(node.Sequence)\n",
    "\n",
    "        \n",
    "    except TypeError:\n",
    "        pass\n",
    "    \n"
   ]
  },
  {
   "cell_type": "code",
   "execution_count": 72,
   "id": "ebc33fb8-3d63-4b5c-8c39-cc7ccd7e8096",
   "metadata": {},
   "outputs": [],
   "source": [
    "seq_minima=min([len(value) for value in classes.values()])\n",
    "secuencias=[]\n",
    "for n,value in enumerate(classes.values()):\n",
    "    sel=np.random.choice(value, seq_minima, replace=False).reshape(-1,1)\n",
    "    secuencias.append(np.hstack([sel,np.full(sel.shape, n )]))\n",
    "data_raw=np.vstack(secuencias)"
   ]
  },
  {
   "cell_type": "code",
   "execution_count": 75,
   "id": "ffdcfc3d-722b-432a-a761-6a5168699a69",
   "metadata": {},
   "outputs": [],
   "source": [
    "data_raw_np=np.array(data_raw )\n",
    "# data=data_raw_np[np.where(np.vectorize(len)(data_raw_np[:,0]) < 2000)[0]]\n",
    "data=data_raw\n",
    "numeric_nodes=[]\n",
    "for node in data[:,0]:\n",
    "    numeric_nodes.append(keras.preprocessing.sequence.pad_sequences(np.array([codigo_numerico[char] for char in node], dtype=int).reshape(1,-1), 2000))\n",
    "seqs=np.vstack(numeric_nodes)\n",
    "final_data=np.hstack([seqs, data[:,1].astype(int).reshape(-1,1)])\n"
   ]
  },
  {
   "cell_type": "code",
   "execution_count": 78,
   "id": "9fea3250-a8fe-42ff-a7f6-782955d549cc",
   "metadata": {},
   "outputs": [],
   "source": [
    "np.save('/home/edugonik/Documents/git/tp_curso_ml/src/pickle/numpy_arrays/data', final_data)"
   ]
  }
 ],
 "metadata": {
  "kernelspec": {
   "display_name": "Python [conda env:bio_ml]",
   "language": "python",
   "name": "conda-env-bio_ml-py"
  },
  "language_info": {
   "codemirror_mode": {
    "name": "ipython",
    "version": 3
   },
   "file_extension": ".py",
   "mimetype": "text/x-python",
   "name": "python",
   "nbconvert_exporter": "python",
   "pygments_lexer": "ipython3",
   "version": "3.9.6"
  }
 },
 "nbformat": 4,
 "nbformat_minor": 5
}
