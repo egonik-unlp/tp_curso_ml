{
  "nbformat": 4,
  "nbformat_minor": 0,
  "metadata": {
    "colab": {
      "name": "nn_transmembrane.ipynb",
      "provenance": [],
      "authorship_tag": "ABX9TyPzJ3XrcxLv9dUoOr5nWnv1",
      "include_colab_link": true
    },
    "kernelspec": {
      "name": "python3",
      "display_name": "Python 3"
    },
    "language_info": {
      "name": "python"
    },
    "accelerator": "GPU"
  },
  "cells": [
    {
      "cell_type": "markdown",
      "metadata": {
        "id": "view-in-github",
        "colab_type": "text"
      },
      "source": [
        "<a href=\"https://colab.research.google.com/github/egonik-unlp/tp_curso_ml/blob/main/src/notebooks/nn_transmembrane.ipynb\" target=\"_parent\"><img src=\"https://colab.research.google.com/assets/colab-badge.svg\" alt=\"Open In Colab\"/></a>"
      ]
    },
    {
      "cell_type": "code",
      "metadata": {
        "colab": {
          "base_uri": "https://localhost:8080/"
        },
        "id": "lHOjHXSl1BkK",
        "outputId": "b1e19321-475f-4cde-fe2e-17ae3eca31c9"
      },
      "source": [
        "# !git clone https://github.com/egonik-unlp/tp_curso_ml.git\n",
        "!git pull\n",
        "import matplotlib.pyplot as plt\n",
        "import pandas as pd\n",
        "import numpy as np\n",
        "import json\n",
        "import tensorflow as tf\n",
        "from sklearn.model_selection import train_test_split\n",
        "from tensorflow import keras\n",
        "from google.colab import drive\n",
        "from tensorflow.keras.utils import to_categorical\n",
        "drive.mount('/content/drive')\n",
        "import os\n",
        "from datetime import datetime"
      ],
      "execution_count": null,
      "outputs": [
        {
          "output_type": "stream",
          "name": "stdout",
          "text": [
            "Already up to date.\n",
            "Drive already mounted at /content/drive; to attempt to forcibly remount, call drive.mount(\"/content/drive\", force_remount=True).\n"
          ]
        }
      ]
    },
    {
      "cell_type": "code",
      "metadata": {
        "colab": {
          "base_uri": "https://localhost:8080/"
        },
        "id": "BF7L6Huc1cV6",
        "outputId": "95078be7-e155-4218-f855-998cabf6ca8b"
      },
      "source": [
        "%cd /content/tp_curso_ml/src/pickle/numpy_arrays/\n",
        "data=np.load('data_compressed.npz', allow_pickle=True)"
      ],
      "execution_count": null,
      "outputs": [
        {
          "output_type": "stream",
          "name": "stdout",
          "text": [
            "/content/tp_curso_ml/src/pickle/numpy_arrays\n"
          ]
        }
      ]
    },
    {
      "cell_type": "code",
      "metadata": {
        "id": "NS32eyOb2k2x"
      },
      "source": [
        "X_1=data.f.seqs\n",
        "labels_0=data.f.labels_tmd.reshape(-1,1)\n",
        "labels_1=data.f.labels_ntmd.reshape(-1,1)"
      ],
      "execution_count": null,
      "outputs": []
    },
    {
      "cell_type": "code",
      "metadata": {
        "id": "dBYFF0QuRPAO"
      },
      "source": [
        "def to_categorial_transmembrane(*arrays):\n",
        "  retval=[]\n",
        "  for array in arrays:\n",
        "    retval.append(keras.utils.to_categorical(array))\n",
        "  return retval"
      ],
      "execution_count": null,
      "outputs": []
    },
    {
      "cell_type": "code",
      "metadata": {
        "id": "YkJpFqkjGGIJ"
      },
      "source": [
        "#Labels_0\n",
        "\n",
        "X_train_val, X_test, t_train_val, t_test_0=train_test_split(X_1, labels_0, random_state=42)\n",
        "X_train,X_val,t_train_0,t_val_0=train_test_split(X_train_val, t_train_val, random_state=42)\n",
        "\n",
        "#Labels_1\n",
        "\n",
        "X_train_val, X_test, t_train_val, t_test_1=train_test_split(X_1, labels_1, random_state=42)\n",
        "X_train,X_val,t_train_1,t_val_1=train_test_split(X_train_val, t_train_val, random_state=42)\n",
        "\n",
        "t_train_1_ohe=to_categorical(t_train_1)\n",
        "t_val_1_ohe=to_categorical(t_val_1)\n",
        "t_test_1_ohe=to_categorical(t_test_1)"
      ],
      "execution_count": null,
      "outputs": []
    },
    {
      "cell_type": "code",
      "metadata": {
        "id": "Cm_5vihiWf_P"
      },
      "source": [
        ""
      ],
      "execution_count": null,
      "outputs": []
    },
    {
      "cell_type": "code",
      "metadata": {
        "id": "4Yck7fj7HmwS"
      },
      "source": [
        "tf.keras.backend.clear_session()\n",
        "input_=keras.layers.Input(shape=(2000,1))\n",
        "conv1=keras.layers.Conv1D(filters=32, kernel_size=3,activation='relu')(input_)\n",
        "conv2=keras.layers.Conv1D(filters=32, kernel_size=3,activation='relu')(conv1)\n",
        "pool1=keras.layers.MaxPooling1D(pool_size=4)(conv2)\n",
        "conv3=keras.layers.Conv1D(filters=64, kernel_size=4,activation='relu')(pool1)\n",
        "conv4=keras.layers.Conv1D(filters=64, kernel_size=4,activation='relu')(conv3)\n",
        "pool2=keras.layers.MaxPooling1D(pool_size=4)(conv4)\n",
        "flatten=keras.layers.Flatten()(pool2)\n",
        "dense1=keras.layers.Dense(128, activation='relu')(flatten)\n",
        "output_=keras.layers.Dense(1, activation='sigmoid')(dense1)\n",
        "model=keras.models.Model(inputs=[input_], outputs=[output_])"
      ],
      "execution_count": null,
      "outputs": []
    },
    {
      "cell_type": "code",
      "metadata": {
        "id": "hzkLPK7RVE9l"
      },
      "source": [
        "folder_name=datetime.strftime(datetime.now(), '%d-%m_%H-%M')\n",
        "os.mkdir('/content/drive/MyDrive/protein_classifier/{}'.format(folder_name))\n",
        "\n",
        "earlystoppingcb=keras.callbacks.EarlyStopping(patience=10, restore_best_weights=True)\n",
        "checkpoint=keras.callbacks.ModelCheckpoint(filepath='/content/drive/MyDrive/protein_classifier/{}/checkpoint.h5'.format(folder_name),save_best_only=True)"
      ],
      "execution_count": null,
      "outputs": []
    },
    {
      "cell_type": "code",
      "metadata": {
        "id": "LdCIXrbtVbd9"
      },
      "source": [
        "model.compile(loss='binary_crossentropy',\n",
        "              optimizer='sgd',\n",
        "              metrics=['accuracy'])\n"
      ],
      "execution_count": null,
      "outputs": []
    },
    {
      "cell_type": "code",
      "metadata": {
        "id": "c9TsuEyfVgBG",
        "colab": {
          "base_uri": "https://localhost:8080/"
        },
        "outputId": "fed2f553-620e-49b5-aabd-47450a50f7bc"
      },
      "source": [
        "history=model.fit(X_train, t_train_0, epochs=1300,batch_size=64, callbacks=[earlystoppingcb, checkpoint], validation_data=(X_val, t_val_0))\n"
      ],
      "execution_count": null,
      "outputs": [
        {
          "output_type": "stream",
          "name": "stdout",
          "text": [
            "Epoch 1/1300\n",
            "1378/1378 [==============================] - 63s 23ms/step - loss: 0.6746 - accuracy: 0.5799 - val_loss: 0.6482 - val_accuracy: 0.6175\n",
            "Epoch 2/1300\n",
            "1378/1378 [==============================] - 31s 22ms/step - loss: 0.6318 - accuracy: 0.6430 - val_loss: 0.5820 - val_accuracy: 0.6801\n",
            "Epoch 3/1300\n",
            "1378/1378 [==============================] - 31s 22ms/step - loss: 0.6079 - accuracy: 0.6636 - val_loss: 0.6549 - val_accuracy: 0.6156\n",
            "Epoch 4/1300\n",
            "1378/1378 [==============================] - 31s 22ms/step - loss: 0.5574 - accuracy: 0.7106 - val_loss: 0.5806 - val_accuracy: 0.7190\n",
            "Epoch 5/1300\n",
            "1378/1378 [==============================] - 31s 22ms/step - loss: 0.4751 - accuracy: 0.7722 - val_loss: 0.3843 - val_accuracy: 0.8342\n",
            "Epoch 6/1300\n",
            "1378/1378 [==============================] - 30s 22ms/step - loss: 0.4112 - accuracy: 0.8110 - val_loss: 0.3882 - val_accuracy: 0.8420\n",
            "Epoch 7/1300\n",
            "1378/1378 [==============================] - 30s 22ms/step - loss: 0.3616 - accuracy: 0.8414 - val_loss: 0.3443 - val_accuracy: 0.8530\n",
            "Epoch 8/1300\n",
            "1378/1378 [==============================] - 30s 22ms/step - loss: 0.3314 - accuracy: 0.8584 - val_loss: 0.4257 - val_accuracy: 0.8173\n",
            "Epoch 9/1300\n",
            "1378/1378 [==============================] - 30s 22ms/step - loss: 0.3063 - accuracy: 0.8703 - val_loss: 0.3400 - val_accuracy: 0.8519\n",
            "Epoch 10/1300\n",
            "1378/1378 [==============================] - 30s 22ms/step - loss: 0.2891 - accuracy: 0.8783 - val_loss: 0.2894 - val_accuracy: 0.8812\n",
            "Epoch 11/1300\n",
            "1378/1378 [==============================] - 30s 22ms/step - loss: 0.2681 - accuracy: 0.8888 - val_loss: 0.2988 - val_accuracy: 0.8747\n",
            "Epoch 12/1300\n",
            "1378/1378 [==============================] - 30s 22ms/step - loss: 0.2554 - accuracy: 0.8956 - val_loss: 0.2833 - val_accuracy: 0.8826\n",
            "Epoch 13/1300\n",
            "1378/1378 [==============================] - 30s 22ms/step - loss: 0.2400 - accuracy: 0.9027 - val_loss: 0.2692 - val_accuracy: 0.8889\n",
            "Epoch 14/1300\n",
            "1378/1378 [==============================] - 30s 22ms/step - loss: 0.2240 - accuracy: 0.9095 - val_loss: 0.3089 - val_accuracy: 0.8734\n",
            "Epoch 15/1300\n",
            "1378/1378 [==============================] - 30s 22ms/step - loss: 0.2100 - accuracy: 0.9159 - val_loss: 0.3406 - val_accuracy: 0.8574\n",
            "Epoch 16/1300\n",
            "1378/1378 [==============================] - 30s 22ms/step - loss: 0.1957 - accuracy: 0.9226 - val_loss: 0.2590 - val_accuracy: 0.8946\n",
            "Epoch 17/1300\n",
            "1378/1378 [==============================] - 30s 22ms/step - loss: 0.1862 - accuracy: 0.9282 - val_loss: 0.3440 - val_accuracy: 0.8605\n",
            "Epoch 18/1300\n",
            "1378/1378 [==============================] - 30s 22ms/step - loss: 0.1681 - accuracy: 0.9351 - val_loss: 0.4528 - val_accuracy: 0.8237\n",
            "Epoch 19/1300\n",
            "1378/1378 [==============================] - 30s 22ms/step - loss: 0.1548 - accuracy: 0.9413 - val_loss: 0.2686 - val_accuracy: 0.8963\n",
            "Epoch 20/1300\n",
            "1378/1378 [==============================] - 30s 22ms/step - loss: 0.1571 - accuracy: 0.9421 - val_loss: 0.2684 - val_accuracy: 0.8969\n",
            "Epoch 21/1300\n",
            "1378/1378 [==============================] - 30s 22ms/step - loss: 0.1294 - accuracy: 0.9522 - val_loss: 0.2817 - val_accuracy: 0.8986\n",
            "Epoch 22/1300\n",
            "1378/1378 [==============================] - 30s 22ms/step - loss: 0.1223 - accuracy: 0.9567 - val_loss: 0.3106 - val_accuracy: 0.8893\n",
            "Epoch 23/1300\n",
            "1378/1378 [==============================] - 31s 22ms/step - loss: 0.1043 - accuracy: 0.9627 - val_loss: 0.2881 - val_accuracy: 0.9032\n",
            "Epoch 24/1300\n",
            "1378/1378 [==============================] - 31s 22ms/step - loss: 0.0942 - accuracy: 0.9666 - val_loss: 0.2850 - val_accuracy: 0.9035\n",
            "Epoch 25/1300\n",
            "1378/1378 [==============================] - 30s 22ms/step - loss: 0.0780 - accuracy: 0.9728 - val_loss: 0.3157 - val_accuracy: 0.9030\n",
            "Epoch 26/1300\n",
            "1378/1378 [==============================] - 31s 22ms/step - loss: 0.1068 - accuracy: 0.9619 - val_loss: 0.3148 - val_accuracy: 0.9023\n"
          ]
        }
      ]
    },
    {
      "cell_type": "code",
      "metadata": {
        "colab": {
          "base_uri": "https://localhost:8080/",
          "height": 375
        },
        "id": "2pF2fn4XbbhZ",
        "outputId": "1b4e2bb1-3c03-49e2-eafa-483319f4df10"
      },
      "source": [
        "%cd /content/tp_curso_ml/src/pickle/json_files\n",
        "\n",
        "with open('codigo_numerico.json') as file:\n",
        "  cn=json.load(file)\n",
        "sec_juan=\"\"\"MATETVELHKLKLAELKQECLARGLETKGIKQDLIHRLQAYLEEHAEEEANEEDVLGDET\n",
        "EEEETKPIELPVKEEEPPEKTVDVAAEKKVVKITSEIPQTERMQKRAERFNVPVSLESKK\n",
        "AARAARFGISSVPTKGLSSDNKPMVNLDKLKERAQRFGLNVSSISRKSEDDEKLKKRKER\n",
        "FGIVTSSAGTGTTEDTEAKKRKRAERFGIA\"\"\"\n",
        "# arr_sec_juan=np.array(sec\n",
        "translator=np.vectorize(lambda aa: cn.get(aa))\n",
        "cn.get(\"M\")\n",
        "query_juan=translator([letter for letter in sec_juan])\n",
        "query_juan"
      ],
      "execution_count": null,
      "outputs": [
        {
          "output_type": "stream",
          "name": "stdout",
          "text": [
            "/content/tp_curso_ml/src/pickle/json_files\n"
          ]
        },
        {
          "output_type": "error",
          "ename": "TypeError",
          "evalue": "ignored",
          "traceback": [
            "\u001b[0;31m---------------------------------------------------------------------------\u001b[0m",
            "\u001b[0;31mTypeError\u001b[0m                                 Traceback (most recent call last)",
            "\u001b[0;32m<ipython-input-22-b32750a52caa>\u001b[0m in \u001b[0;36m<module>\u001b[0;34m()\u001b[0m\n\u001b[1;32m     10\u001b[0m \u001b[0mtranslator\u001b[0m\u001b[0;34m=\u001b[0m\u001b[0mnp\u001b[0m\u001b[0;34m.\u001b[0m\u001b[0mvectorize\u001b[0m\u001b[0;34m(\u001b[0m\u001b[0;32mlambda\u001b[0m \u001b[0maa\u001b[0m\u001b[0;34m:\u001b[0m \u001b[0mcn\u001b[0m\u001b[0;34m.\u001b[0m\u001b[0mget\u001b[0m\u001b[0;34m(\u001b[0m\u001b[0maa\u001b[0m\u001b[0;34m)\u001b[0m\u001b[0;34m)\u001b[0m\u001b[0;34m\u001b[0m\u001b[0;34m\u001b[0m\u001b[0m\n\u001b[1;32m     11\u001b[0m \u001b[0mcn\u001b[0m\u001b[0;34m.\u001b[0m\u001b[0mget\u001b[0m\u001b[0;34m(\u001b[0m\u001b[0;34m\"M\"\u001b[0m\u001b[0;34m)\u001b[0m\u001b[0;34m\u001b[0m\u001b[0;34m\u001b[0m\u001b[0m\n\u001b[0;32m---> 12\u001b[0;31m \u001b[0mquery_juan\u001b[0m\u001b[0;34m=\u001b[0m\u001b[0mtranslator\u001b[0m\u001b[0;34m(\u001b[0m\u001b[0;34m[\u001b[0m\u001b[0mletter\u001b[0m \u001b[0;32mfor\u001b[0m \u001b[0mletter\u001b[0m \u001b[0;32min\u001b[0m \u001b[0msec_juan\u001b[0m\u001b[0;34m]\u001b[0m\u001b[0;34m)\u001b[0m\u001b[0;34m\u001b[0m\u001b[0;34m\u001b[0m\u001b[0m\n\u001b[0m\u001b[1;32m     13\u001b[0m \u001b[0mquery_juan\u001b[0m\u001b[0;34m\u001b[0m\u001b[0;34m\u001b[0m\u001b[0m\n",
            "\u001b[0;32m/usr/local/lib/python3.7/dist-packages/numpy/lib/function_base.py\u001b[0m in \u001b[0;36m__call__\u001b[0;34m(self, *args, **kwargs)\u001b[0m\n\u001b[1;32m   2106\u001b[0m             \u001b[0mvargs\u001b[0m\u001b[0;34m.\u001b[0m\u001b[0mextend\u001b[0m\u001b[0;34m(\u001b[0m\u001b[0;34m[\u001b[0m\u001b[0mkwargs\u001b[0m\u001b[0;34m[\u001b[0m\u001b[0m_n\u001b[0m\u001b[0;34m]\u001b[0m \u001b[0;32mfor\u001b[0m \u001b[0m_n\u001b[0m \u001b[0;32min\u001b[0m \u001b[0mnames\u001b[0m\u001b[0;34m]\u001b[0m\u001b[0;34m)\u001b[0m\u001b[0;34m\u001b[0m\u001b[0;34m\u001b[0m\u001b[0m\n\u001b[1;32m   2107\u001b[0m \u001b[0;34m\u001b[0m\u001b[0m\n\u001b[0;32m-> 2108\u001b[0;31m         \u001b[0;32mreturn\u001b[0m \u001b[0mself\u001b[0m\u001b[0;34m.\u001b[0m\u001b[0m_vectorize_call\u001b[0m\u001b[0;34m(\u001b[0m\u001b[0mfunc\u001b[0m\u001b[0;34m=\u001b[0m\u001b[0mfunc\u001b[0m\u001b[0;34m,\u001b[0m \u001b[0margs\u001b[0m\u001b[0;34m=\u001b[0m\u001b[0mvargs\u001b[0m\u001b[0;34m)\u001b[0m\u001b[0;34m\u001b[0m\u001b[0;34m\u001b[0m\u001b[0m\n\u001b[0m\u001b[1;32m   2109\u001b[0m \u001b[0;34m\u001b[0m\u001b[0m\n\u001b[1;32m   2110\u001b[0m     \u001b[0;32mdef\u001b[0m \u001b[0m_get_ufunc_and_otypes\u001b[0m\u001b[0;34m(\u001b[0m\u001b[0mself\u001b[0m\u001b[0;34m,\u001b[0m \u001b[0mfunc\u001b[0m\u001b[0;34m,\u001b[0m \u001b[0margs\u001b[0m\u001b[0;34m)\u001b[0m\u001b[0;34m:\u001b[0m\u001b[0;34m\u001b[0m\u001b[0;34m\u001b[0m\u001b[0m\n",
            "\u001b[0;32m/usr/local/lib/python3.7/dist-packages/numpy/lib/function_base.py\u001b[0m in \u001b[0;36m_vectorize_call\u001b[0;34m(self, func, args)\u001b[0m\n\u001b[1;32m   2193\u001b[0m \u001b[0;34m\u001b[0m\u001b[0m\n\u001b[1;32m   2194\u001b[0m             \u001b[0;32mif\u001b[0m \u001b[0mufunc\u001b[0m\u001b[0;34m.\u001b[0m\u001b[0mnout\u001b[0m \u001b[0;34m==\u001b[0m \u001b[0;36m1\u001b[0m\u001b[0;34m:\u001b[0m\u001b[0;34m\u001b[0m\u001b[0;34m\u001b[0m\u001b[0m\n\u001b[0;32m-> 2195\u001b[0;31m                 \u001b[0mres\u001b[0m \u001b[0;34m=\u001b[0m \u001b[0marray\u001b[0m\u001b[0;34m(\u001b[0m\u001b[0moutputs\u001b[0m\u001b[0;34m,\u001b[0m \u001b[0mcopy\u001b[0m\u001b[0;34m=\u001b[0m\u001b[0;32mFalse\u001b[0m\u001b[0;34m,\u001b[0m \u001b[0msubok\u001b[0m\u001b[0;34m=\u001b[0m\u001b[0;32mTrue\u001b[0m\u001b[0;34m,\u001b[0m \u001b[0mdtype\u001b[0m\u001b[0;34m=\u001b[0m\u001b[0motypes\u001b[0m\u001b[0;34m[\u001b[0m\u001b[0;36m0\u001b[0m\u001b[0;34m]\u001b[0m\u001b[0;34m)\u001b[0m\u001b[0;34m\u001b[0m\u001b[0;34m\u001b[0m\u001b[0m\n\u001b[0m\u001b[1;32m   2196\u001b[0m             \u001b[0;32melse\u001b[0m\u001b[0;34m:\u001b[0m\u001b[0;34m\u001b[0m\u001b[0;34m\u001b[0m\u001b[0m\n\u001b[1;32m   2197\u001b[0m                 res = tuple([array(x, copy=False, subok=True, dtype=t)\n",
            "\u001b[0;31mTypeError\u001b[0m: int() argument must be a string, a bytes-like object or a number, not 'NoneType'"
          ]
        }
      ]
    },
    {
      "cell_type": "code",
      "metadata": {
        "colab": {
          "base_uri": "https://localhost:8080/"
        },
        "id": "6uoKYdCFeYKd",
        "outputId": "973f7af2-dee0-4b39-b528-eb1e61c8041a"
      },
      "source": [
        "[letter for letter in sec_juan ]"
      ],
      "execution_count": null,
      "outputs": [
        {
          "output_type": "execute_result",
          "data": {
            "text/plain": [
              "['M',\n",
              " 'A',\n",
              " 'T',\n",
              " 'E',\n",
              " 'T',\n",
              " 'V',\n",
              " 'E',\n",
              " 'L',\n",
              " 'H',\n",
              " 'K',\n",
              " 'L',\n",
              " 'K',\n",
              " 'L',\n",
              " 'A',\n",
              " 'E',\n",
              " 'L',\n",
              " 'K',\n",
              " 'Q',\n",
              " 'E',\n",
              " 'C',\n",
              " 'L',\n",
              " 'A',\n",
              " 'R',\n",
              " 'G',\n",
              " 'L',\n",
              " 'E',\n",
              " 'T',\n",
              " 'K',\n",
              " 'G',\n",
              " 'I',\n",
              " 'K',\n",
              " 'Q',\n",
              " 'D',\n",
              " 'L',\n",
              " 'I',\n",
              " 'H',\n",
              " 'R',\n",
              " 'L',\n",
              " 'Q',\n",
              " 'A',\n",
              " 'Y',\n",
              " 'L',\n",
              " 'E',\n",
              " 'E',\n",
              " 'H',\n",
              " 'A',\n",
              " 'E',\n",
              " 'E',\n",
              " 'E',\n",
              " 'A',\n",
              " 'N',\n",
              " 'E',\n",
              " 'E',\n",
              " 'D',\n",
              " 'V',\n",
              " 'L',\n",
              " 'G',\n",
              " 'D',\n",
              " 'E',\n",
              " 'T',\n",
              " '\\n',\n",
              " 'E',\n",
              " 'E',\n",
              " 'E',\n",
              " 'E',\n",
              " 'T',\n",
              " 'K',\n",
              " 'P',\n",
              " 'I',\n",
              " 'E',\n",
              " 'L',\n",
              " 'P',\n",
              " 'V',\n",
              " 'K',\n",
              " 'E',\n",
              " 'E',\n",
              " 'E',\n",
              " 'P',\n",
              " 'P',\n",
              " 'E',\n",
              " 'K',\n",
              " 'T',\n",
              " 'V',\n",
              " 'D',\n",
              " 'V',\n",
              " 'A',\n",
              " 'A',\n",
              " 'E',\n",
              " 'K',\n",
              " 'K',\n",
              " 'V',\n",
              " 'V',\n",
              " 'K',\n",
              " 'I',\n",
              " 'T',\n",
              " 'S',\n",
              " 'E',\n",
              " 'I',\n",
              " 'P',\n",
              " 'Q',\n",
              " 'T',\n",
              " 'E',\n",
              " 'R',\n",
              " 'M',\n",
              " 'Q',\n",
              " 'K',\n",
              " 'R',\n",
              " 'A',\n",
              " 'E',\n",
              " 'R',\n",
              " 'F',\n",
              " 'N',\n",
              " 'V',\n",
              " 'P',\n",
              " 'V',\n",
              " 'S',\n",
              " 'L',\n",
              " 'E',\n",
              " 'S',\n",
              " 'K',\n",
              " 'K',\n",
              " '\\n',\n",
              " 'A',\n",
              " 'A',\n",
              " 'R',\n",
              " 'A',\n",
              " 'A',\n",
              " 'R',\n",
              " 'F',\n",
              " 'G',\n",
              " 'I',\n",
              " 'S',\n",
              " 'S',\n",
              " 'V',\n",
              " 'P',\n",
              " 'T',\n",
              " 'K',\n",
              " 'G',\n",
              " 'L',\n",
              " 'S',\n",
              " 'S',\n",
              " 'D',\n",
              " 'N',\n",
              " 'K',\n",
              " 'P',\n",
              " 'M',\n",
              " 'V',\n",
              " 'N',\n",
              " 'L',\n",
              " 'D',\n",
              " 'K',\n",
              " 'L',\n",
              " 'K',\n",
              " 'E',\n",
              " 'R',\n",
              " 'A',\n",
              " 'Q',\n",
              " 'R',\n",
              " 'F',\n",
              " 'G',\n",
              " 'L',\n",
              " 'N',\n",
              " 'V',\n",
              " 'S',\n",
              " 'S',\n",
              " 'I',\n",
              " 'S',\n",
              " 'R',\n",
              " 'K',\n",
              " 'S',\n",
              " 'E',\n",
              " 'D',\n",
              " 'D',\n",
              " 'E',\n",
              " 'K',\n",
              " 'L',\n",
              " 'K',\n",
              " 'K',\n",
              " 'R',\n",
              " 'K',\n",
              " 'E',\n",
              " 'R',\n",
              " '\\n',\n",
              " 'F',\n",
              " 'G',\n",
              " 'I',\n",
              " 'V',\n",
              " 'T',\n",
              " 'S',\n",
              " 'S',\n",
              " 'A',\n",
              " 'G',\n",
              " 'T',\n",
              " 'G',\n",
              " 'T',\n",
              " 'T',\n",
              " 'E',\n",
              " 'D',\n",
              " 'T',\n",
              " 'E',\n",
              " 'A',\n",
              " 'K',\n",
              " 'K',\n",
              " 'R',\n",
              " 'K',\n",
              " 'R',\n",
              " 'A',\n",
              " 'E',\n",
              " 'R',\n",
              " 'F',\n",
              " 'G',\n",
              " 'I',\n",
              " 'A']"
            ]
          },
          "metadata": {},
          "execution_count": 23
        }
      ]
    }
  ]
}