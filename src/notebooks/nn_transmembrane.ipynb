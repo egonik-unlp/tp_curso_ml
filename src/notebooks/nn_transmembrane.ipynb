{
  "nbformat": 4,
  "nbformat_minor": 0,
  "metadata": {
    "colab": {
      "name": "nn_transmembrane.ipynb",
      "provenance": [],
      "authorship_tag": "ABX9TyP1wXwIM1HNRAmoJ2St4AjZ",
      "include_colab_link": true
    },
    "kernelspec": {
      "name": "python3",
      "display_name": "Python 3"
    },
    "language_info": {
      "name": "python"
    },
    "accelerator": "GPU"
  },
  "cells": [
    {
      "cell_type": "markdown",
      "metadata": {
        "id": "view-in-github",
        "colab_type": "text"
      },
      "source": [
        "<a href=\"https://colab.research.google.com/github/egonik-unlp/tp_curso_ml/blob/main/src/notebooks/nn_transmembrane.ipynb\" target=\"_parent\"><img src=\"https://colab.research.google.com/assets/colab-badge.svg\" alt=\"Open In Colab\"/></a>"
      ]
    },
    {
      "cell_type": "code",
      "metadata": {
        "colab": {
          "base_uri": "https://localhost:8080/"
        },
        "id": "lHOjHXSl1BkK",
        "outputId": "e3207498-fdd3-475d-d559-cc8ee69ef4f9"
      },
      "source": [
        "!git clone https://github.com/egonik-unlp/tp_curso_ml.git\n",
        "#!git pull\n",
        "import matplotlib.pyplot as plt\n",
        "import pandas as pd\n",
        "import numpy as np\n",
        "import json\n",
        "import tensorflow as tf\n",
        "from sklearn.model_selection import train_test_split\n",
        "from tensorflow import keras\n",
        "from google.colab import drive\n",
        "from tensorflow.keras.utils import to_categorical\n",
        "drive.mount('/content/drive')\n",
        "import os\n",
        "from datetime import datetime"
      ],
      "execution_count": 2,
      "outputs": [
        {
          "output_type": "stream",
          "name": "stdout",
          "text": [
            "Cloning into 'tp_curso_ml'...\n",
            "remote: Enumerating objects: 192, done.\u001b[K\n",
            "remote: Counting objects: 100% (192/192), done.\u001b[K\n",
            "remote: Compressing objects: 100% (126/126), done.\u001b[K\n",
            "remote: Total 192 (delta 73), reused 171 (delta 58), pack-reused 0\u001b[K\n",
            "Receiving objects: 100% (192/192), 114.57 MiB | 21.08 MiB/s, done.\n",
            "Resolving deltas: 100% (73/73), done.\n",
            "Mounted at /content/drive\n"
          ]
        }
      ]
    },
    {
      "cell_type": "code",
      "metadata": {
        "colab": {
          "base_uri": "https://localhost:8080/"
        },
        "id": "BF7L6Huc1cV6",
        "outputId": "b5d0fb40-f118-4630-a30e-5a1cee0348a7"
      },
      "source": [
        "%cd /content/tp_curso_ml/src/pickle/numpy_arrays/\n",
        "data=np.load('data_compressed.npz', allow_pickle=True)"
      ],
      "execution_count": 3,
      "outputs": [
        {
          "output_type": "stream",
          "name": "stdout",
          "text": [
            "/content/tp_curso_ml/src/pickle/numpy_arrays\n"
          ]
        }
      ]
    },
    {
      "cell_type": "code",
      "metadata": {
        "id": "NS32eyOb2k2x"
      },
      "source": [
        "X_1=data.f.seqs\n",
        "labels_0=data.f.labels_tmd.reshape(-1,1)\n",
        "labels_1=data.f.labels_ntmd.reshape(-1,1)"
      ],
      "execution_count": 4,
      "outputs": []
    },
    {
      "cell_type": "code",
      "metadata": {
        "id": "dBYFF0QuRPAO"
      },
      "source": [
        "def to_categorial_transmembrane(*arrays):\n",
        "  retval=[]\n",
        "  for array in arrays:\n",
        "    retval.append(keras.utils.to_categorical(array))\n",
        "  return retval"
      ],
      "execution_count": 5,
      "outputs": []
    },
    {
      "cell_type": "code",
      "metadata": {
        "id": "YkJpFqkjGGIJ"
      },
      "source": [
        "#Labels_0\n",
        "\n",
        "X_train_val, X_test, t_train_val, t_test_0=train_test_split(X_1, labels_0, random_state=42)\n",
        "X_train,X_val,t_train_0,t_val_0=train_test_split(X_train_val, t_train_val, random_state=42)\n",
        "\n",
        "#Labels_1\n",
        "\n",
        "X_train_val, X_test, t_train_val, t_test_1=train_test_split(X_1, labels_1, random_state=42)\n",
        "X_train,X_val,t_train_1,t_val_1=train_test_split(X_train_val, t_train_val, random_state=42)\n",
        "\n",
        "t_train_1_ohe=to_categorical(t_train_1)\n",
        "t_val_1_ohe=to_categorical(t_val_1)\n",
        "t_test_1_ohe=to_categorical(t_test_1)"
      ],
      "execution_count": 6,
      "outputs": []
    },
    {
      "cell_type": "code",
      "metadata": {
        "id": "Cm_5vihiWf_P"
      },
      "source": [
        ""
      ],
      "execution_count": null,
      "outputs": []
    },
    {
      "cell_type": "code",
      "metadata": {
        "id": "4Yck7fj7HmwS"
      },
      "source": [
        "tf.keras.backend.clear_session()\n",
        "input_=keras.layers.Input(shape=(2000,1))\n",
        "conv1=keras.layers.Conv1D(filters=32, kernel_size=3,activation='relu')(input_)\n",
        "conv2=keras.layers.Conv1D(filters=32, kernel_size=3,activation='relu')(conv1)\n",
        "pool1=keras.layers.MaxPooling1D(pool_size=4)(conv2)\n",
        "conv3=keras.layers.Conv1D(filters=64, kernel_size=4,activation='relu')(pool1)\n",
        "conv4=keras.layers.Conv1D(filters=64, kernel_size=4,activation='relu')(conv3)\n",
        "pool2=keras.layers.MaxPooling1D(pool_size=4)(conv4)\n",
        "flatten=keras.layers.Flatten()(pool2)\n",
        "dense1=keras.layers.Dense(128, activation='relu')(flatten)\n",
        "output_=keras.layers.Dense(1, activation='sigmoid')(dense1)\n",
        "model=keras.models.Model(inputs=[input_], outputs=[output_])"
      ],
      "execution_count": 7,
      "outputs": []
    },
    {
      "cell_type": "code",
      "metadata": {
        "id": "hzkLPK7RVE9l"
      },
      "source": [
        "folder_name=datetime.strftime(datetime.now(), '%d-%m_%H-%M')\n",
        "os.mkdir('/content/drive/MyDrive/protein_classifier/{}'.format(folder_name))\n",
        "\n",
        "earlystoppingcb=keras.callbacks.EarlyStopping(patience=10, restore_best_weights=True)\n",
        "checkpoint=keras.callbacks.ModelCheckpoint(filepath='/content/drive/MyDrive/protein_classifier/{}/checkpoint.h5'.format(folder_name),save_best_only=True)"
      ],
      "execution_count": 8,
      "outputs": []
    },
    {
      "cell_type": "code",
      "metadata": {
        "id": "LdCIXrbtVbd9"
      },
      "source": [
        "model.compile(loss='binary_crossentropy',\n",
        "              optimizer='sgd',\n",
        "              metrics=['accuracy'])\n"
      ],
      "execution_count": 9,
      "outputs": []
    },
    {
      "cell_type": "code",
      "metadata": {
        "id": "c9TsuEyfVgBG",
        "colab": {
          "base_uri": "https://localhost:8080/"
        },
        "outputId": "cde82f79-24df-4dd1-cb85-559e7c27c019"
      },
      "source": [
        "history=model.fit(X_train, t_train_0, epochs=1300,batch_size=64, callbacks=[earlystoppingcb, checkpoint], validation_data=(X_val, t_val_0))\n"
      ],
      "execution_count": 10,
      "outputs": [
        {
          "output_type": "stream",
          "name": "stdout",
          "text": [
            "Epoch 1/1300\n",
            "1378/1378 [==============================] - 62s 24ms/step - loss: 0.6785 - accuracy: 0.5786 - val_loss: 0.6678 - val_accuracy: 0.5681\n",
            "Epoch 2/1300\n",
            "1378/1378 [==============================] - 32s 23ms/step - loss: 0.6380 - accuracy: 0.6329 - val_loss: 0.7585 - val_accuracy: 0.5354\n",
            "Epoch 3/1300\n",
            "1378/1378 [==============================] - 32s 23ms/step - loss: 0.6096 - accuracy: 0.6627 - val_loss: 0.5508 - val_accuracy: 0.6884\n",
            "Epoch 4/1300\n",
            "1378/1378 [==============================] - 32s 23ms/step - loss: 0.5653 - accuracy: 0.7041 - val_loss: 0.5469 - val_accuracy: 0.7085\n",
            "Epoch 5/1300\n",
            "1378/1378 [==============================] - 32s 23ms/step - loss: 0.5006 - accuracy: 0.7555 - val_loss: 0.5122 - val_accuracy: 0.7515\n",
            "Epoch 6/1300\n",
            "1378/1378 [==============================] - 32s 23ms/step - loss: 0.4314 - accuracy: 0.8006 - val_loss: 0.3767 - val_accuracy: 0.8415\n",
            "Epoch 7/1300\n",
            "1378/1378 [==============================] - 32s 23ms/step - loss: 0.3726 - accuracy: 0.8356 - val_loss: 0.3329 - val_accuracy: 0.8563\n",
            "Epoch 8/1300\n",
            "1378/1378 [==============================] - 32s 23ms/step - loss: 0.3418 - accuracy: 0.8516 - val_loss: 0.3214 - val_accuracy: 0.8639\n",
            "Epoch 9/1300\n",
            "1378/1378 [==============================] - 32s 23ms/step - loss: 0.3137 - accuracy: 0.8661 - val_loss: 0.6566 - val_accuracy: 0.6743\n",
            "Epoch 10/1300\n",
            "1378/1378 [==============================] - 32s 23ms/step - loss: 0.2922 - accuracy: 0.8775 - val_loss: 0.3660 - val_accuracy: 0.8408\n",
            "Epoch 11/1300\n",
            "1378/1378 [==============================] - 32s 23ms/step - loss: 0.2727 - accuracy: 0.8871 - val_loss: 0.3673 - val_accuracy: 0.8403\n",
            "Epoch 12/1300\n",
            "1378/1378 [==============================] - 32s 23ms/step - loss: 0.2508 - accuracy: 0.8972 - val_loss: 0.3546 - val_accuracy: 0.8486\n",
            "Epoch 13/1300\n",
            "1378/1378 [==============================] - 32s 23ms/step - loss: 0.2343 - accuracy: 0.9053 - val_loss: 0.2888 - val_accuracy: 0.8810\n",
            "Epoch 14/1300\n",
            "1378/1378 [==============================] - 32s 23ms/step - loss: 0.2182 - accuracy: 0.9134 - val_loss: 0.2848 - val_accuracy: 0.8822\n",
            "Epoch 15/1300\n",
            "1378/1378 [==============================] - 32s 23ms/step - loss: 0.1957 - accuracy: 0.9229 - val_loss: 0.4519 - val_accuracy: 0.8187\n",
            "Epoch 16/1300\n",
            "1378/1378 [==============================] - 32s 23ms/step - loss: 0.1808 - accuracy: 0.9307 - val_loss: 0.3464 - val_accuracy: 0.8640\n",
            "Epoch 17/1300\n",
            "1378/1378 [==============================] - 32s 23ms/step - loss: 0.1623 - accuracy: 0.9377 - val_loss: 0.2962 - val_accuracy: 0.8870\n",
            "Epoch 18/1300\n",
            "1378/1378 [==============================] - 32s 23ms/step - loss: 0.1487 - accuracy: 0.9444 - val_loss: 0.2940 - val_accuracy: 0.8894\n",
            "Epoch 19/1300\n",
            "1378/1378 [==============================] - 32s 23ms/step - loss: 0.1325 - accuracy: 0.9510 - val_loss: 0.3017 - val_accuracy: 0.8911\n",
            "Epoch 20/1300\n",
            "1378/1378 [==============================] - 32s 23ms/step - loss: 0.1176 - accuracy: 0.9569 - val_loss: 0.3095 - val_accuracy: 0.8869\n",
            "Epoch 21/1300\n",
            "1378/1378 [==============================] - 32s 23ms/step - loss: 0.1492 - accuracy: 0.9411 - val_loss: 0.3249 - val_accuracy: 0.8909\n",
            "Epoch 22/1300\n",
            "1378/1378 [==============================] - 32s 23ms/step - loss: 0.0972 - accuracy: 0.9666 - val_loss: 0.3401 - val_accuracy: 0.8900\n",
            "Epoch 23/1300\n",
            "1378/1378 [==============================] - 32s 23ms/step - loss: 0.0832 - accuracy: 0.9715 - val_loss: 0.3307 - val_accuracy: 0.8906\n",
            "Epoch 24/1300\n",
            "1378/1378 [==============================] - 32s 23ms/step - loss: 0.0711 - accuracy: 0.9764 - val_loss: 0.3592 - val_accuracy: 0.8912\n"
          ]
        }
      ]
    },
    {
      "cell_type": "markdown",
      "metadata": {
        "id": "EYzEDyIHJenP"
      },
      "source": [
        "# Clasificación en tres clases\n",
        "\n",
        "Intento clasificar las proteinas en tres ubicaciones: mitocondria, superficie celular y lisosoma"
      ]
    },
    {
      "cell_type": "code",
      "metadata": {
        "id": "0VGCVAEeJ6HT"
      },
      "source": [
        "data_3=np.load('data.npy')\n",
        "X,t=data_3[:,:-1],data_3[:,-1]\n",
        "X_train_val,X_test, t_train_val, t_test=train_test_split(X,t, random_state=42)\n",
        "X_train,X_val,t_train,t_val=train_test_split(X_train_val, t_train_val, random_state=42)\n",
        "t_train_ohe=to_categorical(t_train)\n",
        "t_val_ohe=to_categorical(t_val)\n",
        "t_test_ohe=to_categorical(t_test)"
      ],
      "execution_count": 32,
      "outputs": []
    },
    {
      "cell_type": "code",
      "metadata": {
        "id": "I3I1-GfiQ38p"
      },
      "source": [
        "X_train_bis=X_train.reshape(-1,2000,1)\n",
        "X_val_bis=X_val.reshape(-1,2000,1)\n",
        "X_test_bis=X_test.reshape(-1,2000,1)"
      ],
      "execution_count": 42,
      "outputs": []
    },
    {
      "cell_type": "code",
      "metadata": {
        "id": "P_pQvqKzJs_N"
      },
      "source": [
        "tf.keras.backend.clear_session()\n",
        "input_=keras.layers.Input(shape=X_train_bis.shape[1:])\n",
        "conv1=keras.layers.Conv1D(filters=32, kernel_size=3,activation='relu')(input_)\n",
        "conv2=keras.layers.Conv1D(filters=32, kernel_size=3,activation='relu')(conv1)\n",
        "pool1=keras.layers.MaxPooling1D(pool_size=4)(conv2)\n",
        "\n",
        "conv3=keras.layers.Conv1D(filters=64, kernel_size=4,activation='relu')(pool1)\n",
        "conv4=keras.layers.Conv1D(filters=64, kernel_size=4,activation='relu')(conv3)\n",
        "pool2=keras.layers.MaxPooling1D(pool_size=4)(conv4)\n",
        "\n",
        "conv5=keras.layers.Conv1D(filters=128, kernel_size=7,activation='relu')(pool2)\n",
        "conv6=keras.layers.Conv1D(filters=128, kernel_size=7,activation='relu')(conv5)\n",
        "pool3=keras.layers.MaxPooling1D(pool_size=3)(conv6)\n",
        "\n",
        "\n",
        "\n",
        "\n",
        "flatten=keras.layers.Flatten()(pool3)\n",
        "dense1=keras.layers.Dense(64, activation='relu')(flatten)\n",
        "dense2=keras.layers.Dense(64, activation='relu')(dense1)\n",
        "output_=keras.layers.Dense(3, activation='softmax')(dense2)\n",
        "model_3=keras.models.Model(inputs=[input_], outputs=[output_])"
      ],
      "execution_count": 65,
      "outputs": []
    },
    {
      "cell_type": "code",
      "metadata": {
        "id": "AfwBLS5pOwX0"
      },
      "source": [
        "folder_name=datetime.strftime(datetime.now(), '%d-%m_%H-%M')\n",
        "os.mkdir('/content/drive/MyDrive/protein_classifier_with_locations/{}'.format(folder_name))\n",
        "\n",
        "earlystoppingcb=keras.callbacks.EarlyStopping(patience=10, restore_best_weights=True)\n",
        "checkpoint=keras.callbacks.ModelCheckpoint(filepath='/content/drive/MyDrive/protein_classifier_with_locations/{}/checkpoint.h5'.format(folder_name),save_best_only=True)"
      ],
      "execution_count": 66,
      "outputs": []
    },
    {
      "cell_type": "code",
      "metadata": {
        "id": "FplnUlIPO3Zb"
      },
      "source": [
        "model_3.compile(loss='categorical_crossentropy',\n",
        "              optimizer='sgd',\n",
        "              metrics=['accuracy'])\n"
      ],
      "execution_count": 67,
      "outputs": []
    },
    {
      "cell_type": "code",
      "metadata": {
        "id": "0VyjrSF_O6Cp",
        "outputId": "933d1f04-9f2a-4be0-b29c-c9518e83d2b8",
        "colab": {
          "base_uri": "https://localhost:8080/"
        }
      },
      "source": [
        "history=model_3.fit(X_train_bis, t_train_ohe, epochs=1300,batch_size=64, callbacks=[earlystoppingcb, checkpoint], validation_data=(X_val, t_val_ohe))\n"
      ],
      "execution_count": 68,
      "outputs": [
        {
          "output_type": "stream",
          "name": "stdout",
          "text": [
            "Epoch 1/1300\n",
            "25/25 [==============================] - 2s 47ms/step - loss: 1.0700 - accuracy: 0.4135 - val_loss: 1.0363 - val_accuracy: 0.4933\n",
            "Epoch 2/1300\n",
            "25/25 [==============================] - 1s 33ms/step - loss: 1.0524 - accuracy: 0.4671 - val_loss: 1.0380 - val_accuracy: 0.4704\n",
            "Epoch 3/1300\n",
            "25/25 [==============================] - 1s 33ms/step - loss: 1.0457 - accuracy: 0.4633 - val_loss: 1.0170 - val_accuracy: 0.5105\n",
            "Epoch 4/1300\n",
            "25/25 [==============================] - 1s 32ms/step - loss: 1.0416 - accuracy: 0.4665 - val_loss: 1.0068 - val_accuracy: 0.4971\n",
            "Epoch 5/1300\n",
            "25/25 [==============================] - 1s 33ms/step - loss: 1.0378 - accuracy: 0.4697 - val_loss: 1.0090 - val_accuracy: 0.5220\n",
            "Epoch 6/1300\n",
            "25/25 [==============================] - 1s 33ms/step - loss: 1.0314 - accuracy: 0.4742 - val_loss: 1.0163 - val_accuracy: 0.4665\n",
            "Epoch 7/1300\n",
            "25/25 [==============================] - 1s 34ms/step - loss: 1.0286 - accuracy: 0.4786 - val_loss: 1.0102 - val_accuracy: 0.4952\n",
            "Epoch 8/1300\n",
            "25/25 [==============================] - 1s 32ms/step - loss: 1.0275 - accuracy: 0.4818 - val_loss: 1.0188 - val_accuracy: 0.4761\n",
            "Epoch 9/1300\n",
            "25/25 [==============================] - 1s 33ms/step - loss: 1.0290 - accuracy: 0.4703 - val_loss: 0.9978 - val_accuracy: 0.5163\n",
            "Epoch 10/1300\n",
            "25/25 [==============================] - 1s 32ms/step - loss: 1.0206 - accuracy: 0.4780 - val_loss: 0.9899 - val_accuracy: 0.5124\n",
            "Epoch 11/1300\n",
            "25/25 [==============================] - 1s 35ms/step - loss: 1.0149 - accuracy: 0.4952 - val_loss: 1.0159 - val_accuracy: 0.5163\n",
            "Epoch 12/1300\n",
            "25/25 [==============================] - 1s 32ms/step - loss: 1.0167 - accuracy: 0.4888 - val_loss: 1.0074 - val_accuracy: 0.4608\n",
            "Epoch 13/1300\n",
            "25/25 [==============================] - 1s 32ms/step - loss: 1.0069 - accuracy: 0.4907 - val_loss: 0.9888 - val_accuracy: 0.5373\n",
            "Epoch 14/1300\n",
            "25/25 [==============================] - 1s 33ms/step - loss: 1.0089 - accuracy: 0.4952 - val_loss: 0.9770 - val_accuracy: 0.5373\n",
            "Epoch 15/1300\n",
            "25/25 [==============================] - 1s 35ms/step - loss: 1.0088 - accuracy: 0.4984 - val_loss: 0.9905 - val_accuracy: 0.5296\n",
            "Epoch 16/1300\n",
            "25/25 [==============================] - 1s 33ms/step - loss: 1.0041 - accuracy: 0.4984 - val_loss: 0.9733 - val_accuracy: 0.5468\n",
            "Epoch 17/1300\n",
            "25/25 [==============================] - 1s 33ms/step - loss: 0.9950 - accuracy: 0.5175 - val_loss: 0.9696 - val_accuracy: 0.5468\n",
            "Epoch 18/1300\n",
            "25/25 [==============================] - 1s 32ms/step - loss: 0.9946 - accuracy: 0.5150 - val_loss: 0.9809 - val_accuracy: 0.5143\n",
            "Epoch 19/1300\n",
            "25/25 [==============================] - 1s 35ms/step - loss: 0.9968 - accuracy: 0.5124 - val_loss: 0.9690 - val_accuracy: 0.5449\n",
            "Epoch 20/1300\n",
            "25/25 [==============================] - 1s 32ms/step - loss: 0.9896 - accuracy: 0.5022 - val_loss: 0.9875 - val_accuracy: 0.5220\n",
            "Epoch 21/1300\n",
            "25/25 [==============================] - 1s 33ms/step - loss: 0.9859 - accuracy: 0.5035 - val_loss: 0.9791 - val_accuracy: 0.5315\n",
            "Epoch 22/1300\n",
            "25/25 [==============================] - 1s 32ms/step - loss: 0.9842 - accuracy: 0.5150 - val_loss: 0.9968 - val_accuracy: 0.5220\n",
            "Epoch 23/1300\n",
            "25/25 [==============================] - 1s 32ms/step - loss: 0.9817 - accuracy: 0.5182 - val_loss: 0.9742 - val_accuracy: 0.5430\n",
            "Epoch 24/1300\n",
            "25/25 [==============================] - 1s 32ms/step - loss: 0.9821 - accuracy: 0.5112 - val_loss: 0.9521 - val_accuracy: 0.5430\n",
            "Epoch 25/1300\n",
            "25/25 [==============================] - 1s 33ms/step - loss: 0.9698 - accuracy: 0.5195 - val_loss: 0.9532 - val_accuracy: 0.5373\n",
            "Epoch 26/1300\n",
            "25/25 [==============================] - 1s 33ms/step - loss: 0.9637 - accuracy: 0.5214 - val_loss: 1.0180 - val_accuracy: 0.4532\n",
            "Epoch 27/1300\n",
            "25/25 [==============================] - 1s 32ms/step - loss: 0.9675 - accuracy: 0.5169 - val_loss: 0.9393 - val_accuracy: 0.5621\n",
            "Epoch 28/1300\n",
            "25/25 [==============================] - 1s 32ms/step - loss: 0.9666 - accuracy: 0.5195 - val_loss: 0.9524 - val_accuracy: 0.5641\n",
            "Epoch 29/1300\n",
            "25/25 [==============================] - 1s 32ms/step - loss: 0.9555 - accuracy: 0.5233 - val_loss: 1.0176 - val_accuracy: 0.4340\n",
            "Epoch 30/1300\n",
            "25/25 [==============================] - 1s 32ms/step - loss: 0.9564 - accuracy: 0.5316 - val_loss: 0.9766 - val_accuracy: 0.5354\n",
            "Epoch 31/1300\n",
            "25/25 [==============================] - 1s 33ms/step - loss: 0.9479 - accuracy: 0.5297 - val_loss: 0.9417 - val_accuracy: 0.5392\n",
            "Epoch 32/1300\n",
            "25/25 [==============================] - 1s 33ms/step - loss: 0.9373 - accuracy: 0.5450 - val_loss: 0.9319 - val_accuracy: 0.5698\n",
            "Epoch 33/1300\n",
            "25/25 [==============================] - 1s 33ms/step - loss: 0.9305 - accuracy: 0.5495 - val_loss: 0.9728 - val_accuracy: 0.4952\n",
            "Epoch 34/1300\n",
            "25/25 [==============================] - 1s 32ms/step - loss: 0.9303 - accuracy: 0.5456 - val_loss: 0.9982 - val_accuracy: 0.4761\n",
            "Epoch 35/1300\n",
            "25/25 [==============================] - 1s 33ms/step - loss: 0.9187 - accuracy: 0.5539 - val_loss: 0.9365 - val_accuracy: 0.5698\n",
            "Epoch 36/1300\n",
            "25/25 [==============================] - 1s 33ms/step - loss: 0.9143 - accuracy: 0.5635 - val_loss: 0.9958 - val_accuracy: 0.5239\n",
            "Epoch 37/1300\n",
            "25/25 [==============================] - 1s 32ms/step - loss: 0.9103 - accuracy: 0.5692 - val_loss: 0.9476 - val_accuracy: 0.5583\n",
            "Epoch 38/1300\n",
            "25/25 [==============================] - 1s 32ms/step - loss: 0.8953 - accuracy: 0.5654 - val_loss: 0.9957 - val_accuracy: 0.4914\n",
            "Epoch 39/1300\n",
            "25/25 [==============================] - 1s 33ms/step - loss: 0.8974 - accuracy: 0.5807 - val_loss: 0.9420 - val_accuracy: 0.5449\n",
            "Epoch 40/1300\n",
            "25/25 [==============================] - 1s 35ms/step - loss: 0.8774 - accuracy: 0.5871 - val_loss: 0.9334 - val_accuracy: 0.5315\n",
            "Epoch 41/1300\n",
            "25/25 [==============================] - 1s 35ms/step - loss: 0.8677 - accuracy: 0.5935 - val_loss: 0.9420 - val_accuracy: 0.5526\n",
            "Epoch 42/1300\n",
            "25/25 [==============================] - 1s 33ms/step - loss: 0.8579 - accuracy: 0.6056 - val_loss: 0.9527 - val_accuracy: 0.5277\n"
          ]
        }
      ]
    },
    {
      "cell_type": "code",
      "metadata": {
        "id": "u3Gim_99QT-B",
        "outputId": "56990963-f83b-4fbf-9b7b-f16a56002fc3",
        "colab": {
          "base_uri": "https://localhost:8080/"
        }
      },
      "source": [
        ""
      ],
      "execution_count": 56,
      "outputs": [
        {
          "output_type": "execute_result",
          "data": {
            "text/plain": [
              "array([[0., 0., 1.],\n",
              "       [0., 0., 1.],\n",
              "       [0., 0., 1.],\n",
              "       ...,\n",
              "       [1., 0., 0.],\n",
              "       [0., 1., 0.],\n",
              "       [1., 0., 0.]], dtype=float32)"
            ]
          },
          "metadata": {},
          "execution_count": 56
        }
      ]
    },
    {
      "cell_type": "markdown",
      "metadata": {
        "id": "MBgKZOc8KruY"
      },
      "source": [
        "# Transfer learning desde un Autoencoder preentrenado con todo el proteoma. Mejora?"
      ]
    },
    {
      "cell_type": "markdown",
      "metadata": {
        "id": "9tOw5uA1K2d4"
      },
      "source": [
        "# GAN"
      ]
    },
    {
      "cell_type": "code",
      "metadata": {
        "id": "2pF2fn4XbbhZ"
      },
      "source": [
        "%cd /content/tp_curso_ml/src/pickle/json_files\n",
        "\n",
        "with open('codigo_numerico.json') as file:\n",
        "  cn=json.load(file)\n",
        "sec_juan=\"\"\"MATETVELHKLKLAELKQECLARGLETKGIKQDLIHRLQAYLEEHAEEEANEEDVLGDET\n",
        "EEEETKPIELPVKEEEPPEKTVDVAAEKKVVKITSEIPQTERMQKRAERFNVPVSLESKK\n",
        "AARAARFGISSVPTKGLSSDNKPMVNLDKLKERAQRFGLNVSSISRKSEDDEKLKKRKER\n",
        "FGIVTSSAGTGTTEDTEAKKRKRAERFGIA\"\"\"\n",
        "# arr_sec_juan=np.array(sec\n",
        "translator=np.vectorize(lambda aa: cn.get(aa))\n",
        "cn.get(\"M\")\n",
        "query_juan=translator([letter for letter in sec_juan])\n",
        "query_juan"
      ],
      "execution_count": null,
      "outputs": []
    }
  ]
}