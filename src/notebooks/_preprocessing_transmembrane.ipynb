{
 "cells": [
  {
   "cell_type": "code",
   "execution_count": 16,
   "id": "dec19824-e249-4934-b1ce-85d675fd334a",
   "metadata": {},
   "outputs": [],
   "source": [
    "import requests as r \n",
    "import pandas as pd\n",
    "import numpy as np\n",
    "import matplotlib.pyplot as plt\n",
    "import os\n",
    "import re\n",
    "import csv\n",
    "import json\n",
    "from tensorflow import keras"
   ]
  },
  {
   "cell_type": "code",
   "execution_count": 60,
   "id": "51c19d1a-2100-456d-a3ce-6c439dfc8027",
   "metadata": {},
   "outputs": [
    {
     "name": "stdout",
     "output_type": "stream",
     "text": [
      "TimeseriesGenerator\n",
      "__builtins__\n",
      "__cached__\n",
      "__doc__\n",
      "__file__\n",
      "__loader__\n",
      "__name__\n",
      "__package__\n",
      "__path__\n",
      "__spec__\n",
      "_sys\n",
      "make_sampling_table\n",
      "pad_sequences\n",
      "skipgrams\n"
     ]
    }
   ],
   "source": [
    "for att in dir(keras.preprocessing.sequence):\n",
    "    print(att)"
   ]
  },
  {
   "cell_type": "code",
   "execution_count": 2,
   "id": "42a6c9dd-9fef-4a84-adf8-ab76211d6b78",
   "metadata": {},
   "outputs": [
    {
     "data": {
      "text/plain": [
       "Index(['Entry', 'Entry name', 'Status', 'Protein names', 'Gene names',\n",
       "       'Organism', 'Length', 'Binding site', 'Function [CC]', 'Metal binding',\n",
       "       'Nucleotide binding', 'Site', 'Annotation', 'Gene names  (ORF )',\n",
       "       'Sequence', 'Developmental stage', 'Tissue specificity',\n",
       "       'Gene ontology (molecular function)',\n",
       "       'Gene ontology (cellular component)', 'Coiled coil',\n",
       "       'Compositional bias', 'Protein families', 'Organism ID',\n",
       "       'Gene ontology IDs', 'Intramembrane', 'Subcellular location [CC]',\n",
       "       'Topological domain', 'Transmembrane'],\n",
       "      dtype='object')"
      ]
     },
     "execution_count": 2,
     "metadata": {},
     "output_type": "execute_result"
    }
   ],
   "source": [
    "df=pd.read_csv('/home/edugonik/Documents/git/tp_curso_ml/src/pickle/datasets/extract.tab', sep = '\\t')\n",
    "df.columns"
   ]
  },
  {
   "cell_type": "code",
   "execution_count": 3,
   "id": "4103a74d-5753-4401-baff-099c320f2903",
   "metadata": {},
   "outputs": [],
   "source": [
    "transmembrana = df.dropna(subset=['Transmembrane'])"
   ]
  },
  {
   "cell_type": "code",
   "execution_count": 4,
   "id": "a5c1187c-7784-48f0-94fe-7d240229df03",
   "metadata": {},
   "outputs": [],
   "source": [
    "def random_selection_dataframe(dataframe: pd.DataFrame, length:int)-> pd.DataFrame:\n",
    "    dataframe.reset_index(drop=True, inplace=True)\n",
    "    selected_indeces=np.random.choice(a=dataframe.index, size=length, replace=False)\n",
    "    return dataframe.iloc[selected_indeces,:]"
   ]
  },
  {
   "cell_type": "code",
   "execution_count": 5,
   "id": "5b2ec29f-3ab2-4f3c-9d60-25e33c238c15",
   "metadata": {},
   "outputs": [],
   "source": [
    "n_residuos_tm=lambda row:len(re.findall(r\"(TRANSMEM \\d+(..)\\d+;)\",row['Transmembrane']))\n",
    "n_residuos_tm_np=np.vectorize(lambda datum:len(re.findall(r\"(TRANSMEM \\d+(..)\\d+;)\",datum)))"
   ]
  },
  {
   "cell_type": "code",
   "execution_count": 6,
   "id": "9500342c-340e-470f-9a6e-0adc6da2288e",
   "metadata": {},
   "outputs": [],
   "source": [
    "set_todos=set(df.Entry)\n",
    "set_transmembrana=set(transmembrana.Entry)"
   ]
  },
  {
   "cell_type": "code",
   "execution_count": 7,
   "id": "24d166b2-c5a1-48fe-846f-f6a2c74fcf47",
   "metadata": {},
   "outputs": [],
   "source": [
    "set_no_transmembrana=set_todos - set_transmembrana\n",
    "no_transmembrana=df[df.Entry.isin(set_no_transmembrana)]"
   ]
  },
  {
   "cell_type": "code",
   "execution_count": 44,
   "id": "4e54d317-4030-4327-afef-22e102465eea",
   "metadata": {},
   "outputs": [
    {
     "data": {
      "text/plain": [
       "(157710, 2)"
      ]
     },
     "execution_count": 44,
     "metadata": {},
     "output_type": "execute_result"
    }
   ],
   "source": [
    "sel_nt=random_selection_dataframe(no_transmembrana[['Sequence','Transmembrane']], transmembrana.shape[0]).to_numpy()\n",
    "sel_t=transmembrana[['Sequence', 'Transmembrane']].to_numpy()\n",
    "sel_t[:,1]=n_residuos_tm_np(sel_t[:,1])\n",
    "sel_nt[:,1]=0\n",
    "label=np.vstack([np.ones((sel_t.shape[0],1)), np.zeros((sel_nt.shape[0],1))])\n",
    "data=np.vstack([sel_t,sel_nt])\n",
    "data.shape"
   ]
  },
  {
   "cell_type": "code",
   "execution_count": 45,
   "id": "4aecabb2-f02c-4271-9dfc-edca4779b74a",
   "metadata": {},
   "outputs": [],
   "source": [
    "allchars=set()\n",
    "for n,node in enumerate(data[:,0]):\n",
    "        for char in node:\n",
    "            allchars.add(char)"
   ]
  },
  {
   "cell_type": "code",
   "execution_count": 10,
   "id": "8f590bca-ddf5-4350-8f0d-9ac039854d64",
   "metadata": {},
   "outputs": [],
   "source": [
    "codigo_numerico={}\n",
    "for n,char in enumerate(allchars):\n",
    "    codigo_numerico[char]=n\n",
    "with open('codigo_numerico.json', 'w') as file:\n",
    "    json.dump(codigo_numerico, file)"
   ]
  },
  {
   "cell_type": "code",
   "execution_count": 22,
   "id": "ed377791-2856-4c0b-9f2f-2c5fa56ccbbe",
   "metadata": {},
   "outputs": [
    {
     "data": {
      "text/plain": [
       "[]"
      ]
     },
     "execution_count": 22,
     "metadata": {},
     "output_type": "execute_result"
    },
    {
     "data": {
      "image/png": "[encoded data removed]",
      "text/plain": [
       "<Figure size 432x288 with 1 Axes>"
      ]
     },
     "metadata": {
      "needs_background": "light"
     },
     "output_type": "display_data"
    }
   ],
   "source": [
    "plt.hist(np.vectorize(len)(data[:,0]))\n",
    "plt.semilogy()"
   ]
  },
  {
   "cell_type": "code",
   "execution_count": 46,
   "id": "770074f0-bc44-40ed-b882-711c7d1cd21b",
   "metadata": {},
   "outputs": [],
   "source": [
    "data=data[np.vectorize(len)(data[:,0]) < 2000] #Solo incluyo secuencias menores a 2000 pb"
   ]
  },
  {
   "cell_type": "code",
   "execution_count": 54,
   "id": "15ea5f4a-ca9d-4604-b8b9-050b23f3dfa1",
   "metadata": {},
   "outputs": [],
   "source": [
    "numeric_nodes=[]\n",
    "for node in data[:,0]:\n",
    "    numeric_nodes.append(keras.preprocessing.sequence.pad_sequences(np.array([codigo_numerico[char] for char in node], dtype=int).reshape(1,-1), 2000))\n",
    "seqs=np.vstack(numeric_nodes)\n",
    "transmembrane_domains=data[:,-1]"
   ]
  },
  {
   "cell_type": "code",
   "execution_count": 62,
   "id": "b8c8fd2b-3bd4-4fb7-ab78-10da1497e3dd",
   "metadata": {},
   "outputs": [],
   "source": [
    "np.savez('/home/edugonik/Documents/git/tp_curso_ml/src/pickle/numpy_arrays/data.npz', seqs=seqs, transmembrane_domains=transmembrane_domains)"
   ]
  }
 ],
 "metadata": {
  "kernelspec": {
   "display_name": "Python [conda env:bio_ml]",
   "language": "python",
   "name": "conda-env-bio_ml-py"
  },
  "language_info": {
   "codemirror_mode": {
    "name": "ipython",
    "version": 3
   },
   "file_extension": ".py",
   "mimetype": "text/x-python",
   "name": "python",
   "nbconvert_exporter": "python",
   "pygments_lexer": "ipython3",
   "version": "3.9.6"
  }
 },
 "nbformat": 4,
 "nbformat_minor": 5
}
