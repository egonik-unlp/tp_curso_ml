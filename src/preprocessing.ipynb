{
 "cells": [
  {
   "cell_type": "code",
   "execution_count": 1,
   "id": "dc0b9e3c-7e09-409d-bc4e-31841cc3a44c",
   "metadata": {},
   "outputs": [
    {
     "name": "stderr",
     "output_type": "stream",
     "text": [
      "2021-08-17 23:28:43.190958: W tensorflow/stream_executor/platform/default/dso_loader.cc:64] Could not load dynamic library 'libcudart.so.11.0'; dlerror: libcudart.so.11.0: cannot open shared object file: No such file or directory\n",
      "2021-08-17 23:28:43.191038: I tensorflow/stream_executor/cuda/cudart_stub.cc:29] Ignore above cudart dlerror if you do not have a GPU set up on your machine.\n"
     ]
    }
   ],
   "source": [
    "import requests as r\n",
    "import pandas as pd\n",
    "import json\n",
    "import numpy as np\n",
    "from tensorflow import keras\n",
    "from keras.preprocessing.sequence import pad_sequences\n",
    "import tensorflow as tf\n",
    "import matplotlib.pyplot as plt\n",
    "import seaborn as sns\n",
    "import re"
   ]
  },
  {
   "cell_type": "markdown",
   "id": "76b386e9-4790-486b-8fbd-01657407ed43",
   "metadata": {},
   "source": [
    "## Obtengo datasets\n",
    "\n",
    "Utilizando la API de [mobidb](https://mobidb.bio.unipd.it/) descargo en formato JSON los proteomas de _Homo sapiens_ , _Danio rerio_ , y _Gallus gallus_. Hago un backup de los datos en la carpeta `src/pickle/raw_mobidb_data` para no redescargar los datos.\n",
    "\n",
    "Luego examiné la longitud de secuencias para tratar de establecer cual sería la secuencia mas corta que resultase significativa, teniendo en cuenta que voy a tener que _paddear_ los datos para que todos los datos sean igualemente largos. Los datos con secuencias 'recortadas' quedan guardados en la variable `curated_data`."
   ]
  },
  {
   "cell_type": "code",
   "execution_count": 2,
   "id": "6164e9b7-46eb-4053-8502-38b84dc0cc83",
   "metadata": {},
   "outputs": [],
   "source": [
    "url='https://mobidb.bio.unipd.it/api/download?proteome=UP000005640&format=json'\n",
    "human_proteome_data=r.get(url).json()"
   ]
  },
  {
   "cell_type": "code",
   "execution_count": 3,
   "id": "d86bf6e4-61ab-4339-bbc9-3cd29c83b158",
   "metadata": {},
   "outputs": [],
   "source": [
    "url_drosophila='https://mobidb.bio.unipd.it/api/download?proteome=UP000000803&format=json'\n",
    "drosophila_proteome_data=r.get(url_drosophila).json()"
   ]
  },
  {
   "cell_type": "code",
   "execution_count": 157,
   "id": "8c6a560b-b91d-4ba5-8bf3-ec2b2526d956",
   "metadata": {},
   "outputs": [],
   "source": [
    "url_celegans='https://mobidb.bio.unipd.it/api/download?proteome=UP000001940&format=json'\n",
    "celegans_proteome_data=r.get(url_celegans).json()"
   ]
  },
  {
   "cell_type": "code",
   "execution_count": 4,
   "id": "13856710-76ca-49a0-b950-53418a1b696a",
   "metadata": {},
   "outputs": [],
   "source": [
    "url_danio='https://mobidb.bio.unipd.it/api/download?proteome=UP000000437&format=json'\n",
    "danio_proteome_data=r.get(url_danio).json()\n",
    "\n",
    "url_gallus='https://mobidb.bio.unipd.it/api/download?proteome=UP000000539&format=json'\n",
    "gallus_proteome_data=r.get(url_gallus).json()"
   ]
  },
  {
   "cell_type": "code",
   "execution_count": 158,
   "id": "69368330-e06a-4456-a5bd-503fe69ec2d7",
   "metadata": {},
   "outputs": [],
   "source": [
    "proteome_data=human_proteome_data+drosophila_proteome_data+gallus_proteome_data+danio_proteome_data+celegans_proteome_data"
   ]
  },
  {
   "cell_type": "code",
   "execution_count": 159,
   "id": "03d5d80a-e9e0-4080-a9a2-d231b6032d2b",
   "metadata": {},
   "outputs": [],
   "source": [
    "with open('pickle/raw_mobidb_data/proteomes.json', 'w') as file:\n",
    "    json.dump(proteome_data, file)"
   ]
  },
  {
   "cell_type": "code",
   "execution_count": 160,
   "id": "6c04b4d7-f995-436e-b665-45c33a95e986",
   "metadata": {},
   "outputs": [],
   "source": [
    "sequences=[protein['sequence'] for protein in proteome_data]"
   ]
  },
  {
   "cell_type": "code",
   "execution_count": 161,
   "id": "a7ac7b1a-ca3e-4afa-91d2-323bbb52940d",
   "metadata": {},
   "outputs": [],
   "source": [
    "seqlengths=[len(sequence) for sequence in sequences]"
   ]
  },
  {
   "cell_type": "code",
   "execution_count": 162,
   "id": "7eb83c56-d22e-4e5f-9fa3-ac36404207af",
   "metadata": {},
   "outputs": [],
   "source": [
    "sl=sorted(seqlengths)"
   ]
  },
  {
   "cell_type": "code",
   "execution_count": 248,
   "id": "0800068a-09dd-4d3a-a7bf-3cf56c094288",
   "metadata": {},
   "outputs": [
    {
     "data": {
      "image/png": "[encoded data removed]",
      "text/plain": [
       "<Figure size 432x288 with 1 Axes>"
      ]
     },
     "metadata": {
      "needs_background": "light"
     },
     "output_type": "display_data"
    }
   ],
   "source": [
    "sns.histplot(sl, bins=150)\n",
    "plt.ylim(top=3000)\n",
    "plt.xlim((500,5000))\n",
    "plt.savefig('../misc/plots/plot_protsize.png')"
   ]
  },
  {
   "cell_type": "code",
   "execution_count": 249,
   "id": "db22a059-5fb0-450f-857b-1a862110282d",
   "metadata": {},
   "outputs": [],
   "source": [
    "curated_data=[]\n",
    "for n,node in enumerate(proteome_data):\n",
    "    if len(node['sequence']) < 1750:\n",
    "        curated_data.append(node)\n"
   ]
  },
  {
   "cell_type": "markdown",
   "id": "a0fa95c2-363d-463f-b629-df81b062e703",
   "metadata": {},
   "source": [
    "## Categorias 'Omniprescentes'\n",
    "\n",
    "\n",
    "La idea es determinar cual de todas las categorías están presentes en todos los datos, para poder luego decidir cuál campo uso como UID"
   ]
  },
  {
   "cell_type": "code",
   "execution_count": 250,
   "id": "93953d20-a1e4-4e0b-aafa-2074b90c6f3b",
   "metadata": {},
   "outputs": [
    {
     "data": {
      "text/plain": [
       "['uniref100',\n",
       " 'taxonomy',\n",
       " 'sequence',\n",
       " 'organism',\n",
       " 'proteome',\n",
       " 'length',\n",
       " 'acc',\n",
       " 'uniparc',\n",
       " 'ncbi_taxon_id']"
      ]
     },
     "execution_count": 250,
     "metadata": {},
     "output_type": "execute_result"
    }
   ],
   "source": [
    "all_keys=[]\n",
    "for node in curated_data:\n",
    "    all_keys+=list(node.keys())\n",
    "count={}\n",
    "for key in all_keys:\n",
    "    count[key]=0\n",
    "for node in curated_data:\n",
    "    for k in list(node.keys()):\n",
    "        count[k]+=1\n",
    "count_of_omniprescence=len(curated_data)\n",
    "omnipresent_fields=[]\n",
    "for key, value in count.items():\n",
    "    if value == count_of_omniprescence:\n",
    "        omnipresent_fields.append(key)\n",
    "omnipresent_fields"
   ]
  },
  {
   "cell_type": "markdown",
   "id": "f95e067f-80cd-46e4-8554-76e4a30592c9",
   "metadata": {},
   "source": [
    "## Determino los identificadores de localización\n",
    "\n",
    "\n",
    "A partir de los datos almacenados en `curated_data` determino cuales datos tienen información sobre la localización subcelular de la proteina. En esta base de datos, cada proteina cuenta con una lista describiendo esta información. Tomo entonces los nodos de esta lista, para tratar de determinar cuales son todas las localizaciones posibles, almacenados en la variable `all_descriptors`.\n",
    "\n",
    "Algunas de estas localizaciones describen conjuntos de localización especifica y general con el formato \"ubicación-general:ubicación-general\", por ejemplo: '\\[80 kda soluble fragment\\]: secreted' o '\\[beta-dystroglycan\\]: cell membrane'. En estos casos me interesa particularmente la ubicación general. Almaceno esta información en las variables `colon_descriptors` y `colon_descriptor_categories`.\n",
    "\n",
    "Luego voy a tomar la información almacenada en `colon_descriptor_categories` para filtrar las proteinas por localización."
   ]
  },
  {
   "cell_type": "code",
   "execution_count": 251,
   "id": "15566bed-d859-4597-a22a-55d92c748e4e",
   "metadata": {},
   "outputs": [],
   "source": [
    "localized=[]\n",
    "unlocalized=0\n",
    "locations=[]\n",
    "for protein in curated_data:\n",
    "    try:\n",
    "        localized.append(protein['localization'])\n",
    "    except KeyError as e:\n",
    "        if e.args[0]=='localization':\n",
    "            unlocalized+=1\n",
    "\n",
    "for location in localized:\n",
    "    locations+=location\n",
    "locations=set(locations)\n",
    "all_descriptors=[]\n",
    "for location in locations:\n",
    "    mezza=[loc.strip().lower() for loc in re.split(r\";|,\", location)]\n",
    "    all_descriptors+=mezza\n",
    "all_descriptors=set(all_descriptors)\n",
    "\n",
    "colon_descriptor_categories=set()\n",
    "colon_descriptors=set()\n",
    "for node in all_descriptors:\n",
    "    if ':' in node:\n",
    "        colon_descriptors.add(node.lower())\n",
    "        parts=node.split(':')\n",
    "        assert len(parts) <= 2\n",
    "        colon_descriptor_categories.add(parts[1].strip().lower())\n",
    "    "
   ]
  },
  {
   "cell_type": "code",
   "execution_count": 252,
   "id": "0a233058-ced8-4207-a0ac-a94c6eadb121",
   "metadata": {},
   "outputs": [
    {
     "data": {
      "text/plain": [
       "{'cell membrane',\n",
       " 'cell surface',\n",
       " 'cytoplasm',\n",
       " 'cytoplasmic granule',\n",
       " 'cytoplasmic vesicle',\n",
       " 'cytoplasmic vesicle membrane',\n",
       " 'endomembrane system',\n",
       " 'endoplasmic reticulum',\n",
       " 'endoplasmic reticulum membrane',\n",
       " 'golgi apparatus',\n",
       " 'golgi apparatus membrane',\n",
       " 'lysosome',\n",
       " 'lysosome lumen',\n",
       " 'membrane',\n",
       " 'membrane raft',\n",
       " 'mitochondrion',\n",
       " 'mitochondrion inner membrane',\n",
       " 'mitochondrion matrix',\n",
       " 'mitochondrion membrane',\n",
       " 'nucleus',\n",
       " 'secreted',\n",
       " 'virion'}"
      ]
     },
     "execution_count": 252,
     "metadata": {},
     "output_type": "execute_result"
    }
   ],
   "source": [
    "colon_descriptor_categories"
   ]
  },
  {
   "cell_type": "code",
   "execution_count": 253,
   "id": "8ddb0607-f49a-4075-826b-8a51318982a4",
   "metadata": {},
   "outputs": [],
   "source": [
    "surface=[]\n",
    "mitochondrion=[]\n",
    "other=[]\n",
    "cytoplasm=[]\n",
    "for node in sorted(list(colon_descriptor_categories)):\n",
    "    if 'mitoch' in node:\n",
    "        mitochondrion.append(node)\n",
    "    elif 'cell' in node or 'membrane' in node  and 'endo' not in node and 'golgi' not in node and 'cyto' not in node:\n",
    "        surface.append(node)\n",
    "    elif 'golgi' in node or 'lyso' in node or 'endop' in node:\n",
    "            other.append(node)\n",
    "  "
   ]
  },
  {
   "cell_type": "code",
   "execution_count": 254,
   "id": "ea9e750e-3956-4914-abad-9a2c63e2df9e",
   "metadata": {},
   "outputs": [
    {
     "data": {
      "text/plain": [
       "([],\n",
       " ['endoplasmic reticulum',\n",
       "  'endoplasmic reticulum membrane',\n",
       "  'golgi apparatus',\n",
       "  'golgi apparatus membrane',\n",
       "  'lysosome',\n",
       "  'lysosome lumen'],\n",
       " ['cell membrane', 'cell surface', 'membrane', 'membrane raft'],\n",
       " ['mitochondrion',\n",
       "  'mitochondrion inner membrane',\n",
       "  'mitochondrion matrix',\n",
       "  'mitochondrion membrane'])"
      ]
     },
     "execution_count": 254,
     "metadata": {},
     "output_type": "execute_result"
    }
   ],
   "source": [
    "cytoplasm,other, surface, mitochondrion"
   ]
  },
  {
   "cell_type": "markdown",
   "id": "07a187c5-5be7-4285-97f9-c082ba71b3a0",
   "metadata": {},
   "source": [
    "## Formateo los datos \n",
    "\n",
    "Voy a intentar reorganizar los datos para poder facilitar el procesamiento subsecuente. Para ello en un primer lugar genero un diccionario que llamaré `urefed_located_data` que contenga el `uref100` de las proteinas como clave y los datos como valores. \n",
    "\n",
    "Luego voy a eliminar los datos que _a priori_ no considero necesarios generando el diccionario `categorised_data` que contiene el `uref100` de las proteinas como UID nuevamente, y como valores solo voy a conservar localización y secuencia. También voy a agregar un campo `cats` que luego almacenará las categorías en las que se asignará la proteina, con la idea de no tener proteinas almacenadas en dos categorías distintas."
   ]
  },
  {
   "cell_type": "code",
   "execution_count": 255,
   "id": "2aeb232f-e87f-498b-9eef-0d9828209695",
   "metadata": {},
   "outputs": [
    {
     "name": "stdout",
     "output_type": "stream",
     "text": [
      "138679 53786\n"
     ]
    }
   ],
   "source": [
    "urefed_curated_data={}\n",
    "cnte=0\n",
    "cnt=0\n",
    "for node in curated_data:\n",
    "    try:\n",
    "        _=node['localization']\n",
    "        urefed_curated_data[node['uniref100']]=node\n",
    "        cnt+=1\n",
    "    except KeyError:\n",
    "        cnte+=1\n",
    "        pass\n",
    "\n",
    "print(cnte,cnt)"
   ]
  },
  {
   "cell_type": "code",
   "execution_count": 256,
   "id": "e79714e3-de72-464f-8c21-596ba7d1deff",
   "metadata": {},
   "outputs": [],
   "source": [
    "breaks=0\n",
    "categorised_data=[]\n",
    "for key, values in  urefed_curated_data.items():\n",
    "    for value in values['localization']:\n",
    "        for val in re.split(r\",|:|;\", value): \n",
    "            if val.lower() in colon_descriptors or val.lower() in colon_descriptor_categories: \n",
    "                categorised_data.append({\n",
    "                'uniref100':values['uniref100'],\n",
    "                'localization':values['localization'],\n",
    "                'sequence':values['sequence'],\n",
    "                'cats':{'number':0,\n",
    "                       'names':[]}\n",
    "                })\n",
    "            breaks+=1\n",
    "            break\n",
    "        break\n",
    "       "
   ]
  },
  {
   "cell_type": "code",
   "execution_count": 257,
   "id": "d266ac9a-b46b-4a7c-9d39-af78b83d9958",
   "metadata": {},
   "outputs": [],
   "source": [
    "labeled_data={\n",
    "    'other':{},\n",
    "    'surface':{}\n",
    "}\n",
    "deletable=[]\n",
    "for datum in categorised_data:\n",
    "    for value in datum['localization']:\n",
    "        if value.lower() in surface:\n",
    "            labeled_data['surface'][datum['uniref100']]=datum.copy()\n",
    "#             datum['cats']['number']+=1\n",
    "            if 'surface' not in datum['cats']['names']:\n",
    "                datum['cats']['number']+=1\n",
    "                datum['cats']['names'].append('surface')\n",
    "        else:\n",
    "            labeled_data['other'][datum['uniref100']]=datum.copy()\n",
    "#             datum['cats']['number']+=1\n",
    "            if 'other' not in datum['cats']['names']:\n",
    "                datum['cats']['number']+=1\n",
    "                datum['cats']['names'].append('other')\n",
    "        if datum['cats']['number'] > 1:\n",
    "            deletable.append(datum)"
   ]
  },
  {
   "cell_type": "code",
   "execution_count": 258,
   "id": "0b77ab1b-0938-4cb4-961c-9f1070f8be4e",
   "metadata": {},
   "outputs": [
    {
     "data": {
      "text/plain": [
       "{('surface', 'other'): 569, ('other', 'surface'): 1241}"
      ]
     },
     "execution_count": 258,
     "metadata": {},
     "output_type": "execute_result"
    }
   ],
   "source": [
    "local_combinations=set()\n",
    "counts={}\n",
    "for node in deletable:\n",
    "    local_combinations.add(tuple(node['cats']['names']))\n",
    "for node in local_combinations:\n",
    "    counts[node]=0\n",
    "for node in deletable:\n",
    "    counts[tuple(node['cats']['names'])]+=1\n",
    "counts"
   ]
  },
  {
   "cell_type": "code",
   "execution_count": 259,
   "id": "a21ca10a-f8ec-4395-b961-9100fd6926b6",
   "metadata": {},
   "outputs": [
    {
     "name": "stdout",
     "output_type": "stream",
     "text": [
      "2\n"
     ]
    },
    {
     "ename": "KeyError",
     "evalue": "'UniRef100_Q07912'",
     "output_type": "error",
     "traceback": [
      "\u001b[0;31m---------------------------------------------------------------------------\u001b[0m",
      "\u001b[0;31mKeyError\u001b[0m                                  Traceback (most recent call last)",
      "\u001b[0;32m/tmp/ipykernel_19416/4183244228.py\u001b[0m in \u001b[0;36m<module>\u001b[0;34m\u001b[0m\n\u001b[1;32m     13\u001b[0m             \u001b[0;32mif\u001b[0m \u001b[0mcat\u001b[0m\u001b[0;34m==\u001b[0m\u001b[0;34m'other'\u001b[0m\u001b[0;34m:\u001b[0m\u001b[0;34m\u001b[0m\u001b[0;34m\u001b[0m\u001b[0m\n\u001b[1;32m     14\u001b[0m                 \u001b[0ment\u001b[0m\u001b[0;34m+=\u001b[0m\u001b[0;36m1\u001b[0m\u001b[0;34m\u001b[0m\u001b[0;34m\u001b[0m\u001b[0m\n\u001b[0;32m---> 15\u001b[0;31m                 \u001b[0ma\u001b[0m \u001b[0;34m=\u001b[0m \u001b[0mclean_labeled_data\u001b[0m\u001b[0;34m[\u001b[0m\u001b[0mcat\u001b[0m\u001b[0;34m]\u001b[0m\u001b[0;34m[\u001b[0m\u001b[0mname\u001b[0m\u001b[0;34m]\u001b[0m\u001b[0;34m.\u001b[0m\u001b[0mcopy\u001b[0m\u001b[0;34m(\u001b[0m\u001b[0;34m)\u001b[0m\u001b[0;34m\u001b[0m\u001b[0;34m\u001b[0m\u001b[0m\n\u001b[0m\u001b[1;32m     16\u001b[0m                 \u001b[0;32mdel\u001b[0m \u001b[0mclean_labeled_data\u001b[0m\u001b[0;34m[\u001b[0m\u001b[0mcat\u001b[0m\u001b[0;34m]\u001b[0m\u001b[0;34m[\u001b[0m\u001b[0mname\u001b[0m\u001b[0;34m]\u001b[0m\u001b[0;34m\u001b[0m\u001b[0;34m\u001b[0m\u001b[0m\n\u001b[1;32m     17\u001b[0m                 \u001b[0mdeleted\u001b[0m\u001b[0;34m.\u001b[0m\u001b[0mappend\u001b[0m\u001b[0;34m(\u001b[0m\u001b[0ma\u001b[0m\u001b[0;34m)\u001b[0m\u001b[0;34m\u001b[0m\u001b[0;34m\u001b[0m\u001b[0m\n",
      "\u001b[0;31mKeyError\u001b[0m: 'UniRef100_Q07912'"
     ]
    }
   ],
   "source": [
    "pt=0\n",
    "ent=0\n",
    "exc=0\n",
    "deleted=[]\n",
    "clean_labeled_data=labeled_data.copy()\n",
    "print(len(clean_labeled_data))\n",
    "for repseq in deletable:\n",
    "    cats=repseq['cats']['names']\n",
    "    name=repseq['uniref100']\n",
    "    for cat in cats:\n",
    "        pt+=1\n",
    "        try:\n",
    "            if cat=='other':\n",
    "                ent+=1\n",
    "                a = clean_labeled_data[cat][name].copy()\n",
    "                del clean_labeled_data[cat][name]\n",
    "                deleted.append(a)\n",
    "                \n",
    "        except AssertionError:\n",
    "            exc+=1\n",
    "            pass\n",
    "print(len(clean_labeled_data))\n",
    "#print(cat,name)"
   ]
  },
  {
   "cell_type": "code",
   "execution_count": 260,
   "id": "cef524b5-7e25-49e5-a322-b99c2bd9b069",
   "metadata": {},
   "outputs": [
    {
     "data": {
      "text/plain": [
       "{'uniref100': 'UniRef100_Q13685',\n",
       " 'localization': ['Cell membrane', 'Cytoplasm'],\n",
       " 'sequence': 'MESESESGAAADTPPLETLSFHGDEEIIEVVELDPGPPDPDDLAQEMEDVDFEEEEEEEGNEEGWVLEPQEGVVGSMEGPDDSEVTFALHSASVFCVSLDPKTNTLAVTGGEDDKAFVWRLSDGELLFECAGHKDSVTCAGFSHDSTLVATGDMSGLLKVWQVDTKEEVWSFEAGDLEWMEWHPRAPVLLAGTADGNTWMWKVPNGDCKTFQGPNCPATCGRVLPDGKRAVVGYEDGTIRIWDLKQGSPIHVLKGTEGHQGPLTCVAANQDGSLILTGSVDCQAKLVSATTGKVVGVFRPETVASQPSLGEGEESESNSVESLGFCSVMPLAAVGYLDGTLAIYDLATQTLRHQCQHQSGIVQLLWEAGTAVVYTCSLDGIVRLWDARTGRLLTDYRGHTAEILDFALSKDASLVVTTSGDHKAKVFCVQRPDR',\n",
       " 'cats': {'number': 2, 'names': ['surface', 'other']}}"
      ]
     },
     "execution_count": 260,
     "metadata": {},
     "output_type": "execute_result"
    }
   ],
   "source": [
    "deletable[0]"
   ]
  },
  {
   "cell_type": "code",
   "execution_count": 261,
   "id": "25a2f144-0431-421c-8f1a-609fb2e2db72",
   "metadata": {},
   "outputs": [
    {
     "ename": "KeyError",
     "evalue": "'UniRef100_Q13685'",
     "output_type": "error",
     "traceback": [
      "\u001b[0;31m---------------------------------------------------------------------------\u001b[0m",
      "\u001b[0;31mKeyError\u001b[0m                                  Traceback (most recent call last)",
      "\u001b[0;32m/tmp/ipykernel_19416/3426601642.py\u001b[0m in \u001b[0;36m<module>\u001b[0;34m\u001b[0m\n\u001b[0;32m----> 1\u001b[0;31m \u001b[0mlabeled_data\u001b[0m\u001b[0;34m[\u001b[0m\u001b[0;34m'other'\u001b[0m\u001b[0;34m]\u001b[0m\u001b[0;34m[\u001b[0m\u001b[0;34m'UniRef100_Q13685'\u001b[0m\u001b[0;34m]\u001b[0m\u001b[0;34m\u001b[0m\u001b[0;34m\u001b[0m\u001b[0m\n\u001b[0m",
      "\u001b[0;31mKeyError\u001b[0m: 'UniRef100_Q13685'"
     ]
    }
   ],
   "source": [
    "labeled_data['other']['UniRef100_Q13685']"
   ]
  },
  {
   "cell_type": "code",
   "execution_count": 262,
   "id": "e184d961-f7ca-4124-b83e-b952e2d12684",
   "metadata": {},
   "outputs": [
    {
     "data": {
      "text/plain": [
       "(6,\n",
       " 12,\n",
       " 0,\n",
       " [{'uniref100': 'UniRef100_Q13685',\n",
       "   'localization': ['Cell membrane', 'Cytoplasm'],\n",
       "   'sequence': 'MESESESGAAADTPPLETLSFHGDEEIIEVVELDPGPPDPDDLAQEMEDVDFEEEEEEEGNEEGWVLEPQEGVVGSMEGPDDSEVTFALHSASVFCVSLDPKTNTLAVTGGEDDKAFVWRLSDGELLFECAGHKDSVTCAGFSHDSTLVATGDMSGLLKVWQVDTKEEVWSFEAGDLEWMEWHPRAPVLLAGTADGNTWMWKVPNGDCKTFQGPNCPATCGRVLPDGKRAVVGYEDGTIRIWDLKQGSPIHVLKGTEGHQGPLTCVAANQDGSLILTGSVDCQAKLVSATTGKVVGVFRPETVASQPSLGEGEESESNSVESLGFCSVMPLAAVGYLDGTLAIYDLATQTLRHQCQHQSGIVQLLWEAGTAVVYTCSLDGIVRLWDARTGRLLTDYRGHTAEILDFALSKDASLVVTTSGDHKAKVFCVQRPDR',\n",
       "   'cats': {'number': 2, 'names': ['surface', 'other']}},\n",
       "  {'uniref100': 'UniRef100_P00505',\n",
       "   'localization': ['Mitochondrion matrix', 'Cell membrane'],\n",
       "   'sequence': 'MALLHSGRVLPGIAAAFHPGLAAAASARASSWWTHVEMGPPDPILGVTEAFKRDTNSKKMNLGVGAYRDDNGKPYVLPSVRKAEAQIAAKNLDKEYLPIGGLAEFCKASAELALGENSEVLKSGRFVTVQTISGTGALRIGASFLQRFFKFSRDVFLPKPTWGNHTPIFRDAGMQLQGYRYYDPKTCGFDFTGAVEDISKIPEQSVLLLHACAHNPTGVDPRPEQWKEIATVVKKRNLFAFFDMAYQGFASGDGDKDAWAVRHFIEQGINVCLCQSYAKNMGLYGERVGAFTMVCKDADEAKRVESQLKILIRPMYSNPPLNGARIAAAILNTPDLRKQWLQEVKVMADRIIGMRTQLVSNLKKEGSTHNWQHITDQIGMFCFTGLKPEQVERLIKEFSIYMTKDGRISVAGVTSSNVGYLAHAIHQVTK',\n",
       "   'cats': {'number': 2, 'names': ['other', 'surface']}},\n",
       "  {'uniref100': 'UniRef100_P45844',\n",
       "   'localization': ['Endoplasmic reticulum membrane; Multi-pass membrane protein',\n",
       "    'Golgi apparatus membrane; Multi-pass membrane protein',\n",
       "    'Cell membrane'],\n",
       "   'sequence': 'MACLMAAFSVGTAMNASSYSAEMTEPKSVCVSVDEVVSSNMEATETDLLNGHLKKVDNNLTEAQRFSSLPRRAAVNIEFRDLSYSVPEGPWWRKKGYKTLLKGISGKFNSGELVAIMGPSGAGKSTLMNILAGYRETGMKGAVLINGLPRDLRCFRKVSCYIMQDDMLLPHLTVQEAMMVSAHLKLQEKDEGRREMVKEILTALGLLSCANTRTGSLSGGQRKRLAIALELVNNPPVMFFDEPTSGLDSASCFQVVSLMKGLAQGGRSIICTIHQPSAKLFELFDQLYVLSQGQCVYRGKVCNLVPYLRDLGLNCPTYHNPADFVMEVASGEYGDQNSRLVRAVREGMCDSDHKRDLGGDAEVNPFLWHRPSEEVKQTKRLKGLRKDSSSMEGCHSFSASCLTQFCILFKRTFLSIMRDSVLTHLRITSHIGIGLLIGLLYLGIGNEAKKVLSNSGFLFFSMLFLMFAALMPTVLTFPLEMGVFLREHLNYWYSLKAYYLAKTMADVPFQIMFPVAYCSIVYWMTSQPSDAVRFVLFAALGTMTSLVAQSLGLLIGAASTSLQVATFVGPVTAIPVLLFSGFFVSFDTIPTYLQWMSYISYVRYGFEGVILSIYGLDREDLHCDIDETCHFQKSEAILRELDVENAKLYLDFIVLGIFFISLRLIAYFVLRYKIRAER',\n",
       "   'cats': {'number': 2, 'names': ['other', 'surface']}},\n",
       "  {'uniref100': 'UniRef100_Q96GR2',\n",
       "   'localization': ['Cytoplasm',\n",
       "    'Cytoplasmic vesicle',\n",
       "    'Microsome',\n",
       "    'Endoplasmic reticulum',\n",
       "    'Cell membrane'],\n",
       "   'sequence': 'MPRNSGAGYGCPHGDPSMLDSRETPQESRQDMIVRTTQEKLKTSSLTDRQPLSKESLNHALELSVPEKVNNAQWDAPEEALWTTRADGRVRLRIDPSCPQLPYTVHRMFYEALDKYGDLIALGFKRQDKWEHISYSQYYLLARRAAKGFLKLGLKQAHSVAILGFNSPEWFFSAVGTVFAGGIVTGIYTTSSPEACQYIAYDCCANVIMVDTQKQLEKILKIWKQLPHLKAVVIYKEPPPNKMANVYTMEEFMELGNEVPEEALDAIIDTQQPNQCCVLVYTSGTTGNPKGVMLSQDNITWTARYGSQAGDIRPAEVQQEVVVSYLPLSHIAAQIYDLWTGIQWGAQVCFAEPDALKGSLVNTLREVEPTSHMGVPRVWEKIMERIQEVAAQSGFIRRKMLLWAMSVTLEQNLTCPGSDLKPFTTRLADYLVLAKVRQALGFAKCQKNFYGAAPMMAETQHFFLGLNIRLYAGYGLSETSGPHFMSSPYNYRLYSSGKLVPGCRVKLVNQDAEGIGEICLWGRTIFMGYLNMEDKTCEAIDEEGWLHTGDAGRLDADGFLYITGRLKELIITAGGENVPPVPIEEAVKMELPIISNAMLIGDQRKFLSMLLTLKCTLDPDTSDQTDNLTEQAMEFCQRVGSRATTVSEIIEKKDEAVYQAIEEGIRRVNMNAAARPYHIQKWAILERDFSISGGELGPTMKLKRLTVLEKYKGIIDSFYQEQKM',\n",
       "   'cats': {'number': 2, 'names': ['other', 'surface']}},\n",
       "  {'uniref100': 'UniRef100_Q07912',\n",
       "   'localization': ['Cell membrane',\n",
       "    'Nucleus',\n",
       "    'Endosome',\n",
       "    'Cell junction, adherens junction',\n",
       "    'Cytoplasmic vesicle membrane; Peripheral membrane protein; Cytoplasmic side',\n",
       "    'Cytoplasmic vesicle, clathrin-coated vesicle',\n",
       "    'Membrane, clathrin-coated pit',\n",
       "    'Cytoplasm, perinuclear region',\n",
       "    'Cytoplasm, cytosol'],\n",
       "   'sequence': 'MQPEEGTGWLLELLSEVQLQQYFLRLRDDLNVTRLSHFEYVKNEDLEKIGMGRPGQRRLWEAVKRRKALCKRKSWMSKVFSGKRLEAEFPPHHSQSTFRKTSPAPGGPAGEGPLQSLTCLIGEKDLRLLEKLGDGSFGVVRRGEWDAPSGKTVSVAVKCLKPDVLSQPEAMDDFIREVNAMHSLDHRNLIRLYGVVLTPPMKMVTELAPLGSLLDRLRKHQGHFLLGTLSRYAVQVAEGMGYLESKRFIHRDLAARNLLLATRDLVKIGDFGLMRALPQNDDHYVMQEHRKVPFAWCAPESLKTRTFSHASDTWMFGVTLWEMFTYGQEPWIGLNGSQILHKIDKEGERLPRPEDCPQDIYNVMVQCWAHKPEDRPTFVALRDFLLEAQPTDMRALQDFEEPDKLHIQMNDVITVIEGRAENYWWRGQNTRTLCVGPFPRNVVTSVAGLSAQDISQPLQNSFIHTGHGDSDPRHCWGFPDRIDELYLGNPMDPPDLLSVELSTSRPPQHLGGVKKPTYDPVSEDQDPLSSDFKRLGLRKPGLPRGLWLAKPSARVPGTKASRGSGAEVTLIDFGEEPVVPALRPCAPSLAQLAMDACSLLDETPPQSPTRALPRPLHPTPVVDWDARPLPPPPAYDDVAQDEDDFEICSINSTLVGAGVPAGPSQGQTNYAFVPEQARPPPPLEDNLFLPPQGGGKPPSSAQTAEIFQALQQECMRQLQAPAGSPAPSPSPGGDDKPQVPPRVPIPPRPTRPHVQLSPAPPGEEETSQWPGPASPPRVPPREPLSPQGSRTPSPLVPPGSSPLPPRLSSSPGKTMPTTQSFASDPKYATPQVIQAPGPRAGPCILPIVRDGKKVSSTHYYLLPERPSYLERYQRFLREAQSPEEPTPLPVPLLLPPPSTPAPAAPTATVRPMPQAALDPKANFSTNNSNPGARPPPPRATARLPQRGCPGDGPEAGRPADKIQMAMVHGVTTEECQAALQCHGWSVQRAAQYLKVEQLFGLGLRPRGECHKVLEMFDWNLEQAGCHLLGSWGPAHHKR',\n",
       "   'cats': {'number': 2, 'names': ['surface', 'other']}}])"
      ]
     },
     "execution_count": 262,
     "metadata": {},
     "output_type": "execute_result"
    }
   ],
   "source": [
    "ent,pt, exc, deleted"
   ]
  },
  {
   "cell_type": "code",
   "execution_count": 276,
   "id": "9d0e773a-4844-4ccd-8509-bbee708f3dc0",
   "metadata": {},
   "outputs": [],
   "source": [
    "with open('pickle/json_files/fully_preprocessed.json', 'w') as file:\n",
    "    json.dump(clean_labeled_data, file)"
   ]
  },
  {
   "cell_type": "code",
   "execution_count": 286,
   "id": "c1bd7478-3e5a-4ca5-958a-6f1ef9e57df1",
   "metadata": {},
   "outputs": [
    {
     "name": "stdout",
     "output_type": "stream",
     "text": [
      "clase other tiene 45790 datos\n",
      "clase surface tiene 1292 datos\n"
     ]
    }
   ],
   "source": [
    "for k,v in clean_labeled_data.items():\n",
    "    print('clase {} tiene {} datos'.format(k, len(v)))"
   ]
  },
  {
   "cell_type": "code",
   "execution_count": 293,
   "id": "d13c135f-081b-4a20-b0a1-4087fa840ef1",
   "metadata": {},
   "outputs": [],
   "source": [
    "# mitochondrion_proteins=np.array([ protein['sequence'] for uref, protein in clean_labeled_data['mitochondrion'].items() ])\n",
    "surface_proteins=np.array([ protein['sequence'] for uref, protein in clean_labeled_data['surface'].items() ])\n",
    "other_proteins=np.array([ protein['sequence'] for uref, protein in clean_labeled_data['other'].items() ])\n",
    "all_prot_array=np.hstack([surface_proteins,mitochondrion_proteins,other_proteins])"
   ]
  },
  {
   "cell_type": "code",
   "execution_count": 294,
   "id": "2647b431-5d21-4ff4-9b09-d5f95597c010",
   "metadata": {},
   "outputs": [
    {
     "data": {
      "text/plain": [
       "(1292,)"
      ]
     },
     "execution_count": 294,
     "metadata": {},
     "output_type": "execute_result"
    }
   ],
   "source": [
    "surface_proteins.shape"
   ]
  },
  {
   "cell_type": "markdown",
   "id": "cbf6b6da-a84f-4cf4-805f-8293ed2b57f8",
   "metadata": {},
   "source": [
    "### Acomodo clases\n",
    "\n",
    "Como la cantidad de proteinas está desbalanceada en ambas clases, voy a recortar la clase \"mitochondrion\" para que tenga la misma longitud que \"surface\""
   ]
  },
  {
   "cell_type": "code",
   "execution_count": 300,
   "id": "445f2cd2-a45d-4714-ac84-516a632af69e",
   "metadata": {},
   "outputs": [],
   "source": [
    "catlength=np.min([len(surface_proteins), len(other_proteins) ])\n",
    "# mitochondrion_proteins=np.random.choice(mitochondrion_proteins,catlength, replace=False)\n",
    "surface_proteins=np.random.choice(surface_proteins,catlength, replace=False)\n",
    "other_proteins=np.random.choice(other_proteins,catlength, replace=False)"
   ]
  },
  {
   "cell_type": "code",
   "execution_count": 310,
   "id": "6938fcd9-84c0-46df-a85f-7c3531dcb6f7",
   "metadata": {},
   "outputs": [
    {
     "data": {
      "text/plain": [
       "(1292,)"
      ]
     },
     "execution_count": 310,
     "metadata": {},
     "output_type": "execute_result"
    }
   ],
   "source": [
    "other_proteins.shape"
   ]
  },
  {
   "cell_type": "markdown",
   "id": "29e91185-6931-4e46-be4d-770b7ed55d75",
   "metadata": {},
   "source": [
    "## Codificación numérica\n",
    "\n",
    "Obtengo todas las posibles variantes de aa en el dataset, le asigno un valor numérico y transformo los arrays en valores numéricos. El código queda guardado en la variable `numeric_code` y en el archivo `numeric_code.json`. Los arrays se llaman `{organela}_proteins_numeric`."
   ]
  },
  {
   "cell_type": "code",
   "execution_count": 282,
   "id": "e7be7b1b-5abf-4b72-94a5-7872bf030cde",
   "metadata": {},
   "outputs": [],
   "source": [
    "allseqs=''\n",
    "for sequence in all_prot_array:\n",
    "    allseqs+=sequence\n",
    "aas=set()\n",
    "for val in allseqs:\n",
    "    aas.add(val)\n",
    "numeric_code={aa:num for num,aa in enumerate(aas,3)}\n",
    "with open('pickle/json_files/numeric_code.json', 'w') as file:\n",
    "    json.dump(numeric_code, file)"
   ]
  },
  {
   "cell_type": "code",
   "execution_count": 312,
   "id": "1aa91a63-454a-4e76-aade-8455adb5ce0e",
   "metadata": {},
   "outputs": [
    {
     "name": "stderr",
     "output_type": "stream",
     "text": [
      "/tmp/ipykernel_19416/224264744.py:7: VisibleDeprecationWarning: Creating an ndarray from ragged nested sequences (which is a list-or-tuple of lists-or-tuples-or ndarrays with different lengths or shapes) is deprecated. If you meant to do this, you must specify 'dtype=object' when creating the ndarray\n",
      "  surface_proteins_numeric=np.array(surface_proteins_numeric)\n"
     ]
    },
    {
     "data": {
      "text/plain": [
       "(1090,)"
      ]
     },
     "execution_count": 312,
     "metadata": {},
     "output_type": "execute_result"
    }
   ],
   "source": [
    "surface_proteins_numeric=[]\n",
    "for sequence in surface_proteins:\n",
    "    sequence_array=np.zeros(len(sequence), dtype=int)\n",
    "    for n,amino_acid in enumerate(sequence):\n",
    "        sequence_array[n]=numeric_code[amino_acid]\n",
    "    surface_proteins_numeric.append(sequence_array)\n",
    "surface_proteins_numeric=np.array(surface_proteins_numeric)\n",
    "# mitochondrion_proteins_numeric=[]\n",
    "# for sequence in mitochondrion_proteins:\n",
    "#     sequence_array=np.zeros(len(sequence), dtype=int)\n",
    "#     for n,amino_acid in enumerate(sequence):\n",
    "#         sequence_array[n]=numeric_code[amino_acid]\n",
    "#     mitochondrion_proteins_numeric.append(sequence_array)\n",
    "# mitochondrion_proteins_numeric=np.array(mitochondrion_proteins_numeric)\n",
    "other_proteins_numeric=[]\n",
    "for sequence in other_proteins:\n",
    "    sequence_array=np.zeros(len(sequence), dtype=int)\n",
    "    for n,amino_acid in enumerate(sequence):\n",
    "        sequence_array[n]=numeric_code[amino_acid]\n",
    "    other_proteins_numeric.append(sequence_array)\n",
    "other_proteins_numeric=np.array(other_proteins_numeric)\n",
    "\n",
    "surface_proteins_numeric.shape\n",
    "other_proteins_numeric.shape"
   ]
  },
  {
   "cell_type": "markdown",
   "id": "f775ca2c-66b9-4b12-9a40-e2dfb5b082ce",
   "metadata": {},
   "source": [
    "## Manejo de arrays final\n",
    "\n",
    "Para tener un dataset uniforme, paddeo las secuencias para que todos los arrays tengan la misma longitud, y hago un vstack para que en lugar de tener un array de arrays (deprecadisimo) tenga un 2D-array. Luego genero los labels acorde a la organela a la que pertenezca la secuencia y guardo los files en la carpeta `src/pickle/numpy_arrays` con formato `.npy` para cada dataset individualmente y todo junto como un paquete `.npz`"
   ]
  },
  {
   "cell_type": "code",
   "execution_count": 305,
   "id": "229c7f3e-8959-45b1-b258-c5b406d4c1e5",
   "metadata": {},
   "outputs": [],
   "source": [
    "padded_surface_proteins=np.vstack(pad_sequences(surface_proteins_numeric,padding='post', maxlen=1750))\n",
    "# padded_mitochondrion_proteins=np.vstack(pad_sequences(mitochondrion_proteins_numeric,padding='post',maxlen=1500))\n",
    "padded_other_proteins=np.vstack(pad_sequences(other_proteins_numeric,padding='post',maxlen=1750))"
   ]
  },
  {
   "cell_type": "code",
   "execution_count": 307,
   "id": "73e5ec1b-de78-475b-9e51-e7e141b904ff",
   "metadata": {},
   "outputs": [
    {
     "data": {
      "text/plain": [
       "((1090, 1750), (1292, 1750))"
      ]
     },
     "execution_count": 307,
     "metadata": {},
     "output_type": "execute_result"
    }
   ],
   "source": [
    "padded_other_proteins.shape,padded_surface_proteins.shape#, padded_mitochondrion_proteins.shape"
   ]
  },
  {
   "cell_type": "code",
   "execution_count": 279,
   "id": "e6a001f4-00ac-47f6-b524-6c830c1bad3c",
   "metadata": {},
   "outputs": [],
   "source": [
    "data=np.vstack([padded_surface_proteins, padded_mitochondrion_proteins, padded_other_proteins])"
   ]
  },
  {
   "cell_type": "code",
   "execution_count": 271,
   "id": "d418b575-e2df-4159-8445-3ed43baa73f4",
   "metadata": {},
   "outputs": [
    {
     "data": {
      "text/plain": [
       "(3270, 1500)"
      ]
     },
     "execution_count": 271,
     "metadata": {},
     "output_type": "execute_result"
    }
   ],
   "source": [
    "data.shape"
   ]
  },
  {
   "cell_type": "code",
   "execution_count": 272,
   "id": "f6d4b709-d98c-414e-80c0-2e691a460cb0",
   "metadata": {},
   "outputs": [],
   "source": [
    "np.save('pickle/numpy_arrays/padded_surface_proteins', padded_surface_proteins)\n",
    "np.save('pickle/numpy_arrays/padded_mitochondrion_proteins',padded_mitochondrion_proteins)\n",
    "np.save('pickle/numpy_arrays/padded_other_proteins',padded_other_proteins)\n",
    "np.save('pickle/numpy_arrays/labels', labels)\n"
   ]
  },
  {
   "cell_type": "code",
   "execution_count": 273,
   "id": "18f7b28b-8c01-4c66-884d-c3270d813171",
   "metadata": {},
   "outputs": [],
   "source": [
    "# labels=np.hstack([np.zeros(padded_surface_proteins.shape[0]),np.ones(padded_mitochondrion_proteins.shape[0])]).reshape(-1,1)\n",
    "labels=np.hstack((np.full(catlength, 0),np.full(catlength, 1),np.full(catlength, 2))).reshape(-1,1)"
   ]
  },
  {
   "cell_type": "code",
   "execution_count": 274,
   "id": "cb75f41b-cbbb-4893-b4b3-2d23ce86cb8a",
   "metadata": {},
   "outputs": [
    {
     "data": {
      "text/plain": [
       "array([[0],\n",
       "       [0],\n",
       "       [0],\n",
       "       ...,\n",
       "       [2],\n",
       "       [2],\n",
       "       [2]])"
      ]
     },
     "execution_count": 274,
     "metadata": {},
     "output_type": "execute_result"
    }
   ],
   "source": [
    "labels"
   ]
  },
  {
   "cell_type": "code",
   "execution_count": 275,
   "id": "e9b7f7cf-4a5a-4bfa-be89-040b3a126094",
   "metadata": {},
   "outputs": [],
   "source": [
    "np.savez('pickle/numpy_arrays/preprocessed_data', data=data, labels=labels)"
   ]
  }
 ],
 "metadata": {
  "kernelspec": {
   "display_name": "Python [conda env:bio_ml]",
   "language": "python",
   "name": "conda-env-bio_ml-py"
  },
  "language_info": {
   "codemirror_mode": {
    "name": "ipython",
    "version": 3
   },
   "file_extension": ".py",
   "mimetype": "text/x-python",
   "name": "python",
   "nbconvert_exporter": "python",
   "pygments_lexer": "ipython3",
   "version": "3.9.6"
  }
 },
 "nbformat": 4,
 "nbformat_minor": 5
}
