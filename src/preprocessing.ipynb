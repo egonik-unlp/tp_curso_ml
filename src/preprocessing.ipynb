{
 "cells": [
  {
   "cell_type": "code",
   "execution_count": 1,
   "id": "dc0b9e3c-7e09-409d-bc4e-31841cc3a44c",
   "metadata": {},
   "outputs": [
    {
     "name": "stderr",
     "output_type": "stream",
     "text": [
      "2021-08-17 23:28:43.190958: W tensorflow/stream_executor/platform/default/dso_loader.cc:64] Could not load dynamic library 'libcudart.so.11.0'; dlerror: libcudart.so.11.0: cannot open shared object file: No such file or directory\n",
      "2021-08-17 23:28:43.191038: I tensorflow/stream_executor/cuda/cudart_stub.cc:29] Ignore above cudart dlerror if you do not have a GPU set up on your machine.\n"
     ]
    }
   ],
   "source": [
    "import requests as r\n",
    "import pandas as pd\n",
    "import json\n",
    "import numpy as np\n",
    "from tensorflow import keras\n",
    "from keras.preprocessing.sequence import pad_sequences\n",
    "import tensorflow as tf\n",
    "import matplotlib.pyplot as plt\n",
    "import seaborn as sns\n",
    "import re"
   ]
  },
  {
   "cell_type": "markdown",
   "id": "76b386e9-4790-486b-8fbd-01657407ed43",
   "metadata": {},
   "source": [
    "## Obtengo datasets\n",
    "\n",
    "Utilizando la API de [mobidb](https://mobidb.bio.unipd.it/) descargo en formato JSON los proteomas de _Homo sapiens_ , _Danio rerio_ , y _Gallus gallus_. Hago un backup de los datos en la carpeta `src/pickle/raw_mobidb_data` para no redescargar los datos.\n",
    "\n",
    "Luego examiné la longitud de secuencias para tratar de establecer cual sería la secuencia mas corta que resultase significativa, teniendo en cuenta que voy a tener que _paddear_ los datos para que todos los datos sean igualemente largos. Los datos con secuencias 'recortadas' quedan guardados en la variable `curated_data`."
   ]
  },
  {
   "cell_type": "code",
   "execution_count": 2,
   "id": "6164e9b7-46eb-4053-8502-38b84dc0cc83",
   "metadata": {},
   "outputs": [],
   "source": [
    "url='https://mobidb.bio.unipd.it/api/download?proteome=UP000005640&format=json'\n",
    "human_proteome_data=r.get(url).json()"
   ]
  },
  {
   "cell_type": "code",
   "execution_count": 3,
   "id": "d86bf6e4-61ab-4339-bbc9-3cd29c83b158",
   "metadata": {},
   "outputs": [],
   "source": [
    "url_drosophila='https://mobidb.bio.unipd.it/api/download?proteome=UP000000803&format=json'\n",
    "drosophila_proteome_data=r.get(url_drosophila).json()"
   ]
  },
  {
   "cell_type": "code",
   "execution_count": 4,
   "id": "13856710-76ca-49a0-b950-53418a1b696a",
   "metadata": {},
   "outputs": [],
   "source": [
    "url_danio='https://mobidb.bio.unipd.it/api/download?proteome=UP000000437&format=json'\n",
    "danio_proteome_data=r.get(url_danio).json()\n",
    "\n",
    "url_gallus='https://mobidb.bio.unipd.it/api/download?proteome=UP000000539&format=json'\n",
    "gallus_proteome_data=r.get(url_gallus).json()"
   ]
  },
  {
   "cell_type": "code",
   "execution_count": 5,
   "id": "69368330-e06a-4456-a5bd-503fe69ec2d7",
   "metadata": {},
   "outputs": [],
   "source": [
    "proteome_data=human_proteome_data+drosophila_proteome_data+gallus_proteome_data+danio_proteome_data"
   ]
  },
  {
   "cell_type": "code",
   "execution_count": 6,
   "id": "03d5d80a-e9e0-4080-a9a2-d231b6032d2b",
   "metadata": {},
   "outputs": [],
   "source": [
    "with open('pickle/raw_mobidb_data/proteomes.json', 'w') as file:\n",
    "    json.dump(proteome_data, file)"
   ]
  },
  {
   "cell_type": "code",
   "execution_count": 7,
   "id": "6c04b4d7-f995-436e-b665-45c33a95e986",
   "metadata": {},
   "outputs": [],
   "source": [
    "sequences=[protein['sequence'] for protein in proteome_data]"
   ]
  },
  {
   "cell_type": "code",
   "execution_count": 8,
   "id": "a7ac7b1a-ca3e-4afa-91d2-323bbb52940d",
   "metadata": {},
   "outputs": [],
   "source": [
    "seqlengths=[len(sequence) for sequence in sequences]"
   ]
  },
  {
   "cell_type": "code",
   "execution_count": 9,
   "id": "7eb83c56-d22e-4e5f-9fa3-ac36404207af",
   "metadata": {},
   "outputs": [],
   "source": [
    "sl=sorted(seqlengths)"
   ]
  },
  {
   "cell_type": "code",
   "execution_count": 36,
   "id": "0800068a-09dd-4d3a-a7bf-3cf56c094288",
   "metadata": {},
   "outputs": [
    {
     "data": {
      "image/png": "[encoded data removed]",
      "text/plain": [
       "<Figure size 432x288 with 1 Axes>"
      ]
     },
     "metadata": {
      "needs_background": "light"
     },
     "output_type": "display_data"
    }
   ],
   "source": [
    "sns.histplot(sl)\n",
    "plt.ylim(top=700)\n",
    "plt.xlim((500,5000))\n",
    "plt.savefig('../misc/plots/plot_protsize.png')"
   ]
  },
  {
   "cell_type": "code",
   "execution_count": 11,
   "id": "db22a059-5fb0-450f-857b-1a862110282d",
   "metadata": {},
   "outputs": [],
   "source": [
    "curated_data=[]\n",
    "for n,node in enumerate(proteome_data):\n",
    "    if len(node['sequence']) < 1500:\n",
    "        curated_data.append(node)\n"
   ]
  },
  {
   "cell_type": "markdown",
   "id": "a0fa95c2-363d-463f-b629-df81b062e703",
   "metadata": {},
   "source": [
    "## Categorias 'Omniprescentes'\n",
    "\n",
    "\n",
    "La idea es determinar cual de todas las categorías están presentes en todos los datos, para poder luego decidir cuál campo uso como UID"
   ]
  },
  {
   "cell_type": "code",
   "execution_count": 13,
   "id": "93953d20-a1e4-4e0b-aafa-2074b90c6f3b",
   "metadata": {},
   "outputs": [
    {
     "data": {
      "text/plain": [
       "['uniref100',\n",
       " 'taxonomy',\n",
       " 'sequence',\n",
       " 'organism',\n",
       " 'proteome',\n",
       " 'length',\n",
       " 'acc',\n",
       " 'uniparc',\n",
       " 'ncbi_taxon_id']"
      ]
     },
     "execution_count": 13,
     "metadata": {},
     "output_type": "execute_result"
    }
   ],
   "source": [
    "all_keys=[]\n",
    "for node in curated_data:\n",
    "    all_keys+=list(node.keys())\n",
    "count={}\n",
    "for key in all_keys:\n",
    "    count[key]=0\n",
    "for node in curated_data:\n",
    "    for k in list(node.keys()):\n",
    "        count[k]+=1\n",
    "count_of_omniprescence=len(curated_data)\n",
    "omnipresent_fields=[]\n",
    "for key, value in count.items():\n",
    "    if value == count_of_omniprescence:\n",
    "        omnipresent_fields.append(key)\n",
    "omnipresent_fields"
   ]
  },
  {
   "cell_type": "markdown",
   "id": "f95e067f-80cd-46e4-8554-76e4a30592c9",
   "metadata": {},
   "source": [
    "## Determino los identificadores de localización\n",
    "\n",
    "\n",
    "A partir de los datos almacenados en `curated_data` determino cuales datos tienen información sobre la localización subcelular de la proteina. En esta base de datos, cada proteina cuenta con una lista describiendo esta información. Tomo entonces los nodos de esta lista, para tratar de determinar cuales son todas las localizaciones posibles, almacenados en la variable `all_descriptors`.\n",
    "\n",
    "Algunas de estas localizaciones describen conjuntos de localización especifica y general con el formato \"ubicación-general:ubicación-general\", por ejemplo: '\\[80 kda soluble fragment\\]: secreted' o '\\[beta-dystroglycan\\]: cell membrane'. En estos casos me interesa particularmente la ubicación general. Almaceno esta información en las variables `colon_descriptors` y `colon_descriptor_categories`.\n",
    "\n",
    "Luego voy a tomar la información almacenada en `colon_descriptor_categories` para filtrar las proteinas por localización."
   ]
  },
  {
   "cell_type": "code",
   "execution_count": 14,
   "id": "15566bed-d859-4597-a22a-55d92c748e4e",
   "metadata": {},
   "outputs": [],
   "source": [
    "localized=[]\n",
    "unlocalized=0\n",
    "locations=[]\n",
    "for protein in curated_data:\n",
    "    try:\n",
    "        localized.append(protein['localization'])\n",
    "    except KeyError as e:\n",
    "        if e.args[0]=='localization':\n",
    "            unlocalized+=1\n",
    "\n",
    "for location in localized:\n",
    "    locations+=location\n",
    "locations=set(locations)\n",
    "all_descriptors=[]\n",
    "for location in locations:\n",
    "    mezza=[loc.strip().lower() for loc in re.split(r\";|,\", location)]\n",
    "    all_descriptors+=mezza\n",
    "all_descriptors=set(all_descriptors)\n",
    "\n",
    "colon_descriptor_categories=set()\n",
    "colon_descriptors=set()\n",
    "for node in all_descriptors:\n",
    "    if ':' in node:\n",
    "        colon_descriptors.add(node.lower())\n",
    "        parts=node.split(':')\n",
    "        assert len(parts) <= 2\n",
    "        colon_descriptor_categories.add(parts[1].strip().lower())\n",
    "    "
   ]
  },
  {
   "cell_type": "code",
   "execution_count": 15,
   "id": "8ddb0607-f49a-4075-826b-8a51318982a4",
   "metadata": {},
   "outputs": [],
   "source": [
    "surface=[]\n",
    "mitochondrion=[]\n",
    "other=[]\n",
    "for node in sorted(list(colon_descriptor_categories)):\n",
    "    if 'mitoch' in node:\n",
    "        mitochondrion.append(node)\n",
    "    elif 'cell' in node or 'membrane' in node  and 'endo' not in node and 'golgi' not in node and 'cyto' not in node:\n",
    "        surface.append(node)\n",
    "    else:\n",
    "        if 'golgi' in node or 'lyso' in node or 'endop' in node:\n",
    "            other.append(node)"
   ]
  },
  {
   "cell_type": "code",
   "execution_count": 16,
   "id": "ea9e750e-3956-4914-abad-9a2c63e2df9e",
   "metadata": {},
   "outputs": [
    {
     "data": {
      "text/plain": [
       "(['endoplasmic reticulum',\n",
       "  'endoplasmic reticulum membrane',\n",
       "  'golgi apparatus',\n",
       "  'golgi apparatus membrane',\n",
       "  'lysosome',\n",
       "  'lysosome lumen'],\n",
       " ['cell membrane', 'cell surface', 'membrane', 'membrane raft'],\n",
       " ['mitochondrion',\n",
       "  'mitochondrion inner membrane',\n",
       "  'mitochondrion matrix',\n",
       "  'mitochondrion membrane'])"
      ]
     },
     "execution_count": 16,
     "metadata": {},
     "output_type": "execute_result"
    }
   ],
   "source": [
    "other, surface, mitochondrion"
   ]
  },
  {
   "cell_type": "markdown",
   "id": "07a187c5-5be7-4285-97f9-c082ba71b3a0",
   "metadata": {},
   "source": [
    "## Formateo los datos \n",
    "\n",
    "Voy a intentar reorganizar los datos para poder facilitar el procesamiento subsecuente. Para ello en un primer lugar genero un diccionario que llamaré `urefed_located_data` que contenga el `uref100` de las proteinas como clave y los datos como valores. \n",
    "\n",
    "Luego voy a eliminar los datos que _a priori_ no considero necesarios generando el diccionario `categorised_data` que contiene el `uref100` de las proteinas como UID nuevamente, y como valores solo voy a conservar localización y secuencia. También voy a agregar un campo `cats` que luego almacenará las categorías en las que se asignará la proteina, con la idea de no tener proteinas almacenadas en dos categorías distintas."
   ]
  },
  {
   "cell_type": "code",
   "execution_count": 17,
   "id": "2aeb232f-e87f-498b-9eef-0d9828209695",
   "metadata": {},
   "outputs": [
    {
     "name": "stdout",
     "output_type": "stream",
     "text": [
      "115836 48256\n"
     ]
    }
   ],
   "source": [
    "urefed_curated_data={}\n",
    "cnte=0\n",
    "cnt=0\n",
    "for node in curated_data:\n",
    "    try:\n",
    "        _=node['localization']\n",
    "        urefed_curated_data[node['uniref100']]=node\n",
    "        cnt+=1\n",
    "    except KeyError:\n",
    "        cnte+=1\n",
    "        pass\n",
    "\n",
    "print(cnte,cnt)"
   ]
  },
  {
   "cell_type": "code",
   "execution_count": 19,
   "id": "e79714e3-de72-464f-8c21-596ba7d1deff",
   "metadata": {},
   "outputs": [],
   "source": [
    "breaks=0\n",
    "categorised_data=[]\n",
    "for key, values in  urefed_curated_data.items():\n",
    "    for value in values['localization']:\n",
    "        for val in re.split(r\",|:|;\", value): \n",
    "            if val.lower() in colon_descriptors or val.lower() in colon_descriptor_categories: \n",
    "                categorised_data.append({\n",
    "                'uniref100':values['uniref100'],\n",
    "                'localization':values['localization'],\n",
    "                'sequence':values['sequence'],\n",
    "                'cats':{'number':0,\n",
    "                       'names':[]}\n",
    "                })\n",
    "            breaks+=1\n",
    "            break\n",
    "        break\n",
    "       "
   ]
  },
  {
   "cell_type": "code",
   "execution_count": 20,
   "id": "d266ac9a-b46b-4a7c-9d39-af78b83d9958",
   "metadata": {},
   "outputs": [],
   "source": [
    "labeled_data={\n",
    "    'other':{},\n",
    "    'mitochondrion':{},\n",
    "    'surface':{}\n",
    "}\n",
    "deletable=[]\n",
    "for datum in categorised_data:\n",
    "    for value in datum['localization']:\n",
    "        if value.lower() in ['nada']:\n",
    "            labeled_data['other'][datum['uniref100']]=datum\n",
    "            datum['cats']['number']+=1\n",
    "            datum['cats']['names'].add('other')\n",
    "            print('gothere')\n",
    "        if value.lower() in mitochondrion:\n",
    "            labeled_data['mitochondrion'][datum['uniref100']]=datum\n",
    "            if 'mitochondrion' not in datum['cats']['names']:\n",
    "                datum['cats']['number']+=1\n",
    "                datum['cats']['names'].append('mitochondrion')\n",
    "        if value.lower() in surface:\n",
    "            labeled_data['surface'][datum['uniref100']]=datum\n",
    "#             datum['cats']['number']+=1\n",
    "            if 'surface' not in datum['cats']['names']:\n",
    "                datum['cats']['number']+=1\n",
    "                datum['cats']['names'].append('surface')\n",
    "        if datum['cats']['number'] > 1:\n",
    "            deletable.append(datum)"
   ]
  },
  {
   "cell_type": "code",
   "execution_count": 21,
   "id": "0b77ab1b-0938-4cb4-961c-9f1070f8be4e",
   "metadata": {},
   "outputs": [
    {
     "data": {
      "text/plain": [
       "70"
      ]
     },
     "execution_count": 21,
     "metadata": {},
     "output_type": "execute_result"
    }
   ],
   "source": [
    "len(deletable)"
   ]
  },
  {
   "cell_type": "code",
   "execution_count": 22,
   "id": "a21ca10a-f8ec-4395-b961-9100fd6926b6",
   "metadata": {},
   "outputs": [],
   "source": [
    "clean_labeled_data=labeled_data.copy()\n",
    "for repseq in deletable:\n",
    "    cats=repseq['cats']['names']\n",
    "    name=repseq['uniref100']\n",
    "    for cat in cats:\n",
    "        try:\n",
    "            del clean_labeled_data[cat][name]\n",
    "        except KeyError:\n",
    "            pass\n",
    "            #print(cat,name)"
   ]
  },
  {
   "cell_type": "code",
   "execution_count": 39,
   "id": "9d0e773a-4844-4ccd-8509-bbee708f3dc0",
   "metadata": {},
   "outputs": [],
   "source": [
    "with open('pickle/json_files/fully_preprocessed.json', 'w') as file:\n",
    "    json.dump(clean_labeled_data, file)"
   ]
  },
  {
   "cell_type": "code",
   "execution_count": 40,
   "id": "c1bd7478-3e5a-4ca5-958a-6f1ef9e57df1",
   "metadata": {},
   "outputs": [
    {
     "name": "stdout",
     "output_type": "stream",
     "text": [
      "clase other tiene 0 datos\n",
      "clase mitochondrion tiene 1528 datos\n",
      "clase surface tiene 1149 datos\n"
     ]
    }
   ],
   "source": [
    "for k,v in clean_labeled_data.items():\n",
    "    print('clase {} tiene {} datos'.format(k, len(v)))"
   ]
  },
  {
   "cell_type": "code",
   "execution_count": 25,
   "id": "d13c135f-081b-4a20-b0a1-4087fa840ef1",
   "metadata": {},
   "outputs": [],
   "source": [
    "mitochondrion_proteins=np.array([protein['sequence'] for uref, protein in clean_labeled_data['mitochondrion'].items() ])\n",
    "surface_proteins=np.array([protein['sequence'] for uref, protein in clean_labeled_data['surface'].items() ])\n",
    "all_prot_array=np.hstack([surface_proteins,mitochondrion_proteins])"
   ]
  },
  {
   "cell_type": "markdown",
   "id": "cbf6b6da-a84f-4cf4-805f-8293ed2b57f8",
   "metadata": {},
   "source": [
    "### Acomodo clases\n",
    "\n",
    "Como la cantidad de proteinas está desbalanceada en ambas clases, voy a recortar la clase \"mitochondrion\" para que tenga la misma longitud que \"surface\""
   ]
  },
  {
   "cell_type": "code",
   "execution_count": 26,
   "id": "445f2cd2-a45d-4714-ac84-516a632af69e",
   "metadata": {},
   "outputs": [],
   "source": [
    "mitochondrion_proteins=mitochondrion_proteins[:1100]\n",
    "surface_proteins=surface_proteins[:1100]"
   ]
  },
  {
   "cell_type": "code",
   "execution_count": 41,
   "id": "e7be7b1b-5abf-4b72-94a5-7872bf030cde",
   "metadata": {},
   "outputs": [],
   "source": [
    "allseqs=''\n",
    "for sequence in all_prot_array:\n",
    "    allseqs+=sequence\n",
    "aas=set()\n",
    "for val in allseqs:\n",
    "    aas.add(val)\n",
    "numeric_code={aa:num for num,aa in enumerate(aas,3)}\n",
    "with open('pickle/json_files/numeric_code.json', 'w') as file:\n",
    "    json.dump(numeric_code, file)"
   ]
  },
  {
   "cell_type": "code",
   "execution_count": 28,
   "id": "1aa91a63-454a-4e76-aade-8455adb5ce0e",
   "metadata": {},
   "outputs": [
    {
     "name": "stderr",
     "output_type": "stream",
     "text": [
      "/tmp/ipykernel_19416/1075402229.py:7: VisibleDeprecationWarning: Creating an ndarray from ragged nested sequences (which is a list-or-tuple of lists-or-tuples-or ndarrays with different lengths or shapes) is deprecated. If you meant to do this, you must specify 'dtype=object' when creating the ndarray\n",
      "  surface_proteins_numeric=np.array(surface_proteins_numeric)\n",
      "/tmp/ipykernel_19416/1075402229.py:14: VisibleDeprecationWarning: Creating an ndarray from ragged nested sequences (which is a list-or-tuple of lists-or-tuples-or ndarrays with different lengths or shapes) is deprecated. If you meant to do this, you must specify 'dtype=object' when creating the ndarray\n",
      "  mitochondrion_proteins_numeric=np.array(mitochondrion_proteins_numeric)\n"
     ]
    }
   ],
   "source": [
    "surface_proteins_numeric=[]\n",
    "for sequence in surface_proteins:\n",
    "    sequence_array=np.zeros(len(sequence), dtype=int)\n",
    "    for n,amino_acid in enumerate(sequence):\n",
    "        sequence_array[n]=numeric_code[amino_acid]\n",
    "    surface_proteins_numeric.append(sequence_array)\n",
    "surface_proteins_numeric=np.array(surface_proteins_numeric)\n",
    "mitochondrion_proteins_numeric=[]\n",
    "for sequence in mitochondrion_proteins:\n",
    "    sequence_array=np.zeros(len(sequence), dtype=int)\n",
    "    for n,amino_acid in enumerate(sequence):\n",
    "        sequence_array[n]=numeric_code[amino_acid]\n",
    "    mitochondrion_proteins_numeric.append(sequence_array)\n",
    "mitochondrion_proteins_numeric=np.array(mitochondrion_proteins_numeric)\n",
    "\n"
   ]
  },
  {
   "cell_type": "code",
   "execution_count": 29,
   "id": "229c7f3e-8959-45b1-b258-c5b406d4c1e5",
   "metadata": {},
   "outputs": [],
   "source": [
    "padded_surface_proteins=pad_sequences(surface_proteins_numeric,padding='post', maxlen=1500)\n",
    "padded_mitochondrion_proteins=pad_sequences(mitochondrion_proteins_numeric,padding='post',maxlen=1500)"
   ]
  },
  {
   "cell_type": "code",
   "execution_count": 37,
   "id": "7f0c2dd7-9199-4c49-8a93-2b6896eb089c",
   "metadata": {},
   "outputs": [],
   "source": [
    "np.save('pickle/numpy_arrays/padded_surface_proteins', padded_surface_proteins)\n",
    "np.save('pickle/numpy_arrays/padded_mitochondrion_proteins',padded_mitochondrion_proteins)"
   ]
  },
  {
   "cell_type": "code",
   "execution_count": 31,
   "id": "73e5ec1b-de78-475b-9e51-e7e141b904ff",
   "metadata": {},
   "outputs": [
    {
     "data": {
      "text/plain": [
       "((1100, 1500), (1100, 1500))"
      ]
     },
     "execution_count": 31,
     "metadata": {},
     "output_type": "execute_result"
    }
   ],
   "source": [
    "padded_surface_proteins.shape, padded_mitochondrion_proteins.shape"
   ]
  },
  {
   "cell_type": "code",
   "execution_count": 32,
   "id": "e6a001f4-00ac-47f6-b524-6c830c1bad3c",
   "metadata": {},
   "outputs": [],
   "source": [
    "data=np.vstack([padded_surface_proteins, padded_mitochondrion_proteins])"
   ]
  },
  {
   "cell_type": "code",
   "execution_count": 33,
   "id": "18f7b28b-8c01-4c66-884d-c3270d813171",
   "metadata": {},
   "outputs": [],
   "source": [
    "labels=np.hstack([np.zeros(padded_surface_proteins.shape[0]),np.ones(padded_mitochondrion_proteins.shape[0])]).reshape(-1,1)"
   ]
  },
  {
   "cell_type": "code",
   "execution_count": 38,
   "id": "e9b7f7cf-4a5a-4bfa-be89-040b3a126094",
   "metadata": {},
   "outputs": [],
   "source": [
    "np.savez('pickle/numpy_arrays/preprocessed_data', data=data, labels=labels)"
   ]
  }
 ],
 "metadata": {
  "kernelspec": {
   "display_name": "Python [conda env:bio_ml]",
   "language": "python",
   "name": "conda-env-bio_ml-py"
  },
  "language_info": {
   "codemirror_mode": {
    "name": "ipython",
    "version": 3
   },
   "file_extension": ".py",
   "mimetype": "text/x-python",
   "name": "python",
   "nbconvert_exporter": "python",
   "pygments_lexer": "ipython3",
   "version": "3.9.6"
  }
 },
 "nbformat": 4,
 "nbformat_minor": 5
}
