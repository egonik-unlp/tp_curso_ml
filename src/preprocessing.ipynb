{
 "cells": [
  {
   "cell_type": "code",
   "execution_count": 2,
   "id": "dc0b9e3c-7e09-409d-bc4e-31841cc3a44c",
   "metadata": {},
   "outputs": [
    {
     "name": "stderr",
     "output_type": "stream",
     "text": [
      "2021-08-15 02:53:45.253253: W tensorflow/stream_executor/platform/default/dso_loader.cc:64] Could not load dynamic library 'libcudart.so.11.0'; dlerror: libcudart.so.11.0: cannot open shared object file: No such file or directory\n",
      "2021-08-15 02:53:45.253309: I tensorflow/stream_executor/cuda/cudart_stub.cc:29] Ignore above cudart dlerror if you do not have a GPU set up on your machine.\n"
     ]
    }
   ],
   "source": [
    "import requests as r\n",
    "import pandas as pd\n",
    "import json\n",
    "import numpy as np\n",
    "from tensorflow import keras\n",
    "from keras.preprocessing.sequence import pad_sequences\n",
    "import tensorflow as tf\n",
    "import matplotlib.pyplot as plt\n",
    "import seaborn as sns"
   ]
  },
  {
   "cell_type": "code",
   "execution_count": 3,
   "id": "6164e9b7-46eb-4053-8502-38b84dc0cc83",
   "metadata": {},
   "outputs": [],
   "source": [
    "url='https://mobidb.bio.unipd.it/api/download?proteome=UP000005640&format=json'\n",
    "proteome_data=r.get(url).json()"
   ]
  },
  {
   "cell_type": "code",
   "execution_count": 4,
   "id": "6c04b4d7-f995-436e-b665-45c33a95e986",
   "metadata": {},
   "outputs": [],
   "source": [
    "sequences=[protein['sequence'] for protein in proteome_data]"
   ]
  },
  {
   "cell_type": "code",
   "execution_count": 5,
   "id": "a7ac7b1a-ca3e-4afa-91d2-323bbb52940d",
   "metadata": {},
   "outputs": [],
   "source": [
    "seqlengths=[len(sequence) for sequence in sequences]"
   ]
  },
  {
   "cell_type": "code",
   "execution_count": 6,
   "id": "7eb83c56-d22e-4e5f-9fa3-ac36404207af",
   "metadata": {},
   "outputs": [],
   "source": [
    "sl=sorted(seqlengths)"
   ]
  },
  {
   "cell_type": "code",
   "execution_count": 7,
   "id": "0800068a-09dd-4d3a-a7bf-3cf56c094288",
   "metadata": {},
   "outputs": [
    {
     "data": {
      "image/png": "[encoded data removed]",
      "text/plain": [
       "<Figure size 432x288 with 1 Axes>"
      ]
     },
     "metadata": {
      "needs_background": "light"
     },
     "output_type": "display_data"
    }
   ],
   "source": [
    "sns.histplot(sl)\n",
    "plt.ylim(top=700)\n",
    "plt.xlim((500,5000))\n",
    "plt.savefig('plot_protsize.png')"
   ]
  },
  {
   "cell_type": "code",
   "execution_count": 8,
   "id": "db22a059-5fb0-450f-857b-1a862110282d",
   "metadata": {},
   "outputs": [],
   "source": [
    "curated_data=[]\n",
    "for n,node in enumerate(proteome_data):\n",
    "    if len(node['sequence']) < 1500:\n",
    "        curated_data.append(node)\n"
   ]
  },
  {
   "cell_type": "code",
   "execution_count": 9,
   "id": "db9f0271-d261-4a98-9198-c44888f9d472",
   "metadata": {},
   "outputs": [],
   "source": [
    "with open('pickle/curated_sequences.json', 'w') as file:\n",
    "    json.dump(curated_data, file)\n"
   ]
  },
  {
   "cell_type": "code",
   "execution_count": 10,
   "id": "15566bed-d859-4597-a22a-55d92c748e4e",
   "metadata": {},
   "outputs": [],
   "source": [
    "localized=[]\n",
    "unlocalized=0\n",
    "unnamed=0\n",
    "otros_args=[]\n",
    "hay_otros_args=0\n",
    "for protein in curated_data:\n",
    "    try:\n",
    "        localized.append(protein['localization'])\n",
    "    except KeyError as e:\n",
    "        if e.args[0]=='localization':\n",
    "            unlocalized+=1\n",
    "        "
   ]
  },
  {
   "cell_type": "code",
   "execution_count": 11,
   "id": "36d5d009-36f5-4cfb-9bed-2c17143e048f",
   "metadata": {},
   "outputs": [],
   "source": [
    "locations=[]\n",
    "for location in localized:\n",
    "    locations+=location\n",
    "locations=set(locations)"
   ]
  },
  {
   "cell_type": "code",
   "execution_count": 12,
   "id": "2c0b30b3-c035-491d-8b0c-e0ac7d7ed16d",
   "metadata": {},
   "outputs": [],
   "source": [
    "all_descriptors=[]\n",
    "for location in locations:\n",
    "    mezza=[]\n",
    "    mezza_coma=location.split(',')\n",
    "    for node in mezza_coma:\n",
    "        mezza+=node.split(';')\n",
    "    all_descriptors+=mezza\n",
    "all_descriptors={node.strip() for node in all_descriptors}"
   ]
  },
  {
   "cell_type": "code",
   "execution_count": 13,
   "id": "d5211830-505f-4e12-9f4f-eae7fe429fac",
   "metadata": {},
   "outputs": [
    {
     "data": {
      "text/plain": [
       "{'cell membrane',\n",
       " 'cell surface',\n",
       " 'cytoplasm',\n",
       " 'cytoplasmic vesicle',\n",
       " 'cytoplasmic vesicle membrane',\n",
       " 'endomembrane system',\n",
       " 'endoplasmic reticulum',\n",
       " 'endoplasmic reticulum membrane',\n",
       " 'golgi apparatus',\n",
       " 'golgi apparatus membrane',\n",
       " 'lysosome',\n",
       " 'lysosome lumen',\n",
       " 'membrane',\n",
       " 'membrane raft',\n",
       " 'mitochondrion',\n",
       " 'mitochondrion inner membrane',\n",
       " 'mitochondrion matrix',\n",
       " 'mitochondrion membrane',\n",
       " 'nucleus',\n",
       " 'secreted',\n",
       " 'virion'}"
      ]
     },
     "execution_count": 13,
     "metadata": {},
     "output_type": "execute_result"
    }
   ],
   "source": [
    "colon_descriptor_categories=set()\n",
    "colon_descriptors=set()\n",
    "for node in all_descriptors:\n",
    "    if ':' in node:\n",
    "        colon_descriptors.add(node.lower())\n",
    "        parts=node.split(':')\n",
    "        assert len(parts) <= 2\n",
    "        colon_descriptor_categories.add(parts[1].strip().lower())\n",
    "colon_descriptor_categories"
   ]
  },
  {
   "cell_type": "code",
   "execution_count": 14,
   "id": "2aeb232f-e87f-498b-9eef-0d9828209695",
   "metadata": {},
   "outputs": [
    {
     "name": "stdout",
     "output_type": "stream",
     "text": [
      "50195 23117\n"
     ]
    }
   ],
   "source": [
    "urefed_curated_data={}\n",
    "cnte=0\n",
    "cnt=0\n",
    "for node in curated_data:\n",
    "    try:\n",
    "        _=node['localization']\n",
    "        urefed_curated_data[node['uniref100']]=node\n",
    "        cnt+=1\n",
    "    except KeyError:\n",
    "        cnte+=1\n",
    "        pass\n",
    "\n",
    "print(cnte,cnt)"
   ]
  },
  {
   "cell_type": "code",
   "execution_count": 15,
   "id": "d4c287ff-298c-4b65-8c9e-05548363fb61",
   "metadata": {},
   "outputs": [],
   "source": [
    "with open('pickle/urefed_located_data.json', 'w') as file:\n",
    "    json.dump(urefed_curated_data, file)"
   ]
  },
  {
   "cell_type": "code",
   "execution_count": 16,
   "id": "0f13addb-0faf-498b-ae17-1c97f6230df3",
   "metadata": {},
   "outputs": [
    {
     "data": {
      "text/plain": [
       "['uniref100',\n",
       " 'taxonomy',\n",
       " 'sequence',\n",
       " 'organism',\n",
       " 'proteome',\n",
       " 'length',\n",
       " 'acc',\n",
       " 'uniparc',\n",
       " 'ncbi_taxon_id']"
      ]
     },
     "execution_count": 16,
     "metadata": {},
     "output_type": "execute_result"
    }
   ],
   "source": [
    "all_keys=[]\n",
    "for node in curated_data:\n",
    "    all_keys+=list(node.keys())\n",
    "count={}\n",
    "for key in all_keys:\n",
    "    count[key]=0\n",
    "for node in curated_data:\n",
    "    for k in list(node.keys()):\n",
    "        count[k]+=1\n",
    "count_of_omniprescence=len(curated_data)\n",
    "omnipresent_fields=[]\n",
    "for key, value in count.items():\n",
    "    if value == count_of_omniprescence:\n",
    "        omnipresent_fields.append(key)\n",
    "omnipresent_fields"
   ]
  },
  {
   "cell_type": "code",
   "execution_count": 17,
   "id": "ca3da180-8587-4ae4-90ca-67ac6ad26858",
   "metadata": {},
   "outputs": [],
   "source": [
    "breaks=0\n",
    "categorised_data=[]\n",
    "for key, values in  urefed_curated_data.items():\n",
    "    for value in values['localization']:\n",
    "        if value.lower() in colon_descriptors or value.lower() in colon_descriptor_categories: \n",
    "            categorised_data.append({\n",
    "                'uniref100':values['uniref100'],\n",
    "                'localization':values['localization'],\n",
    "                'sequence':values['sequence'],\n",
    "                'cats':{'number':0,\n",
    "                       'names':[]}\n",
    "            })\n",
    "            breaks+=1\n",
    "            break\n",
    "       "
   ]
  },
  {
   "cell_type": "code",
   "execution_count": 20,
   "id": "9bf1351a-0d31-4ee3-aa9f-60a2c41e9b2e",
   "metadata": {},
   "outputs": [
    {
     "name": "stdout",
     "output_type": "stream",
     "text": [
      "{'uniref100': 'UniRef100_P31946', 'taxonomy': ['Eukaryota', 'Metazoa', 'Chordata', 'Craniata', 'Vertebrata', 'Euteleostomi', 'Mammalia', 'Eutheria', 'Euarchontoglires', 'Primates', 'Haplorrhini', 'Catarrhini', 'Hominidae', 'Homo'], 'sequence': 'MTMDKSELVQKAKLAEQAERYDDMAAAMKAVTEQGHELSNEERNLLSVAYKNVVGARRSSWRVISSIEQKTERNEKKQQMGKEYREKIEAELQDICNDVLELLDKYLIPNATQPESKVFYLKMKGDYFRYLSEVASGDNKQTTVSNSQQAYQEAFEISKKEMQPTHPIRLGLALNFSVFYYEILNSPEKACSLAKTAFDEAIAELDTLNEESYKDSTLIMQLLRDNLTLWTSENQGDEGDAGEGEN', 'localization': ['Cytoplasm', 'Melanosome', 'Vacuole membrane'], 'organism': 'Homo sapiens (Human)', 'proteome': 'UP000005640', 'length': 246, 'acc': 'P31946', 'uniref50': 'UniRef50_P31946', 'gene': 'YWHAB', 'name': '14-3-3 protein beta/alpha', 'uniparc': 'UPI000013C714', 'uniref90': 'UniRef90_P31946', 'ptms': {'names': ['N-acetylmethionine; in 14-3-3 protein beta/alpha; alternate', 'N-acetylthreonine; in 14-3-3 protein beta/alpha, N-terminally processed', 'Phosphothreonine', 'N6-acetyllysine', 'N6-acetyllysine; alternate', 'Phosphoserine', 'Nitrated tyrosine'], 'positions': [[1], [2], [2], [5, 70, 117], [51], [60, 186, 232], [84, 106]]}, 'ncbi_taxon_id': 9606, 'accession': 'P31946', 'reviewed': True, 'prediction-disorder-iupl': {'regions': [[2, 2], [8, 9], [12, 12], [25, 26], [29, 34], [36, 36], [65, 84], [139, 139], [141, 143], [145, 148], [155, 158], [231, 246]], 'content_fraction': 0.248, 'content_count': 61}, 'prediction-disorder-espN': {'regions': [[1, 7], [34, 37], [70, 81], [109, 115], [138, 139], [156, 166], [228, 246]], 'content_fraction': 0.252, 'content_count': 62}, 'prediction-disorder-dis465': {'regions': [[1, 9], [32, 39], [69, 83], [137, 150], [235, 246]], 'content_fraction': 0.236, 'content_count': 58}, 'prediction-disorder-disHL': {'regions': [[1, 6], [8, 8], [37, 40], [52, 80], [108, 117], [136, 143], [159, 164], [208, 213], [229, 246]], 'content_fraction': 0.358, 'content_count': 88}, 'prediction-disorder-iups': {'regions': [[1, 9], [74, 78], [80, 80], [141, 141], [143, 145], [147, 147], [233, 246]], 'content_fraction': 0.138, 'content_count': 34}, 'prediction-disorder-jronn': {'regions': [[1, 53], [55, 89], [135, 163], [232, 246]], 'content_fraction': 0.537, 'content_count': 132}, 'prediction-disorder-espD': {'regions': [[1, 37], [236, 244]], 'content_fraction': 0.187, 'content_count': 46}, 'prediction-disorder-glo': {'regions': [[1, 1], [3, 3], [5, 5], [232, 236], [238, 239], [241, 241], [243, 243], [245, 246]], 'content_fraction': 0.057, 'content_count': 14}, 'prediction-disorder-espX': {'regions': [[1, 18], [70, 78], [230, 246]], 'content_fraction': 0.179, 'content_count': 44}, 'prediction-disorder-vsl': {'regions': [[1, 44], [53, 89], [137, 163], [208, 215], [229, 246]], 'content_fraction': 0.545, 'content_count': 134}, 'homology-domain-pfam': {'regions': [[11, 231]], 'content_fraction': 0.898, 'content_count': 221, 'regions_ids': ['PF00244'], 'regions_names': ['14-3-3 domain']}, 'homology-domain-gene3d': {'regions': [[1, 246]], 'content_fraction': 1, 'content_count': 246, 'regions_ids': ['1.20.190.20'], 'regions_names': ['14-3-3 domain superfamily']}, 'prediction-rigidity-dynamine': {'scores': [0.255, 0.24, 0.224, 0.214, 0.209, 0.207, 0.202, 0.197, 0.187, 0.187, 0.19, 0.211, 0.221, 0.223, 0.226, 0.234, 0.248, 0.261, 0.254, 0.236, 0.209, 0.182, 0.183, 0.194, 0.216, 0.23, 0.235, 0.24, 0.246, 0.237, 0.225, 0.242, 0.262, 0.289, 0.302, 0.282, 0.283, 0.283, 0.279, 0.264, 0.249, 0.227, 0.204, 0.192, 0.171, 0.156, 0.16, 0.162, 0.164, 0.166, 0.183, 0.196, 0.204, 0.223, 0.242, 0.253, 0.268, 0.264, 0.25, 0.238, 0.22, 0.202, 0.191, 0.199, 0.207, 0.226, 0.238, 0.245, 0.249, 0.256, 0.261, 0.264, 0.269, 0.271, 0.271, 0.271, 0.267, 0.28, 0.301, 0.316, 0.307, 0.28, 0.245, 0.21, 0.191, 0.174, 0.168, 0.161, 0.165, 0.182, 0.184, 0.178, 0.17, 0.134, 0.12, 0.099, 0.103, 0.088, 0.081, 0.072, 0.079, 0.071, 0.052, 0.043, 0.056, 0.078, 0.111, 0.139, 0.169, 0.205, 0.223, 0.216, 0.212, 0.217, 0.186, 0.166, 0.129, 0.094, 0.064, 0.059, 0.087, 0.121, 0.156, 0.171, 0.167, 0.136, 0.126, 0.119, 0.117, 0.117, 0.129, 0.158, 0.187, 0.232, 0.271, 0.308, 0.334, 0.341, 0.327, 0.308, 0.282, 0.263, 0.25, 0.253, 0.271, 0.285, 0.289, 0.276, 0.264, 0.237, 0.211, 0.189, 0.191, 0.179, 0.161, 0.172, 0.201, 0.231, 0.242, 0.26, 0.265, 0.285, 0.286, 0.264, 0.231, 0.189, 0.16, 0.156, 0.151, 0.162, 0.17, 0.172, 0.159, 0.141, 0.128, 0.104, 0.096, 0.058, 0.04, 0.024, 0.038, 0.061, 0.106, 0.143, 0.174, 0.2, 0.219, 0.203, 0.179, 0.168, 0.152, 0.168, 0.173, 0.17, 0.158, 0.154, 0.144, 0.123, 0.106, 0.117, 0.131, 0.147, 0.149, 0.151, 0.147, 0.142, 0.167, 0.194, 0.207, 0.204, 0.203, 0.195, 0.183, 0.157, 0.133, 0.123, 0.121, 0.119, 0.098, 0.097, 0.109, 0.126, 0.13, 0.14, 0.154, 0.171, 0.182, 0.186, 0.181, 0.189, 0.203, 0.233, 0.279, 0.32, 0.348, 0.358, 0.354, 0.361, 0.378, 0.385, 0.399, 0.409, 0.408, 0.397, 0.379, 0.353]}, 'prediction-helix-fess': {'scores': [0.003, 0.066, 0.149, 0.118, 0.863, 0.913, 0.958, 0.971, 0.973, 0.971, 0.966, 0.954, 0.923, 0.93, 0.921, 0.905, 0.88, 0.848, 0.78, 0.708, 0.777, 0.823, 0.892, 0.968, 0.978, 0.981, 0.982, 0.976, 0.972, 0.961, 0.943, 0.896, 0.822, 0.595, 0.404, 0.329, 0.334, 0.269, 0.235, 0.831, 0.892, 0.908, 0.903, 0.912, 0.949, 0.96, 0.964, 0.969, 0.962, 0.942, 0.909, 0.83, 0.794, 0.721, 0.601, 0.586, 0.589, 0.62, 0.624, 0.726, 0.838, 0.865, 0.876, 0.868, 0.819, 0.769, 0.787, 0.753, 0.692, 0.663, 0.614, 0.631, 0.678, 0.737, 0.861, 0.891, 0.904, 0.884, 0.85, 0.76, 0.717, 0.885, 0.92, 0.94, 0.952, 0.957, 0.957, 0.956, 0.961, 0.957, 0.959, 0.96, 0.958, 0.953, 0.945, 0.933, 0.938, 0.953, 0.972, 0.977, 0.977, 0.971, 0.951, 0.897, 0.803, 0.646, 0.411, 0.125, 0.126, 0.134, 0.128, 0.085, 0.059, 0.222, 0.347, 0.42, 0.489, 0.533, 0.575, 0.586, 0.525, 0.45, 0.341, 0.343, 0.485, 0.604, 0.751, 0.786, 0.804, 0.811, 0.785, 0.761, 0.719, 0.634, 0.469, 0.241, 0.1, 0.112, 0.147, 0.208, 0.218, 0.21, 0.223, 0.33, 0.349, 0.46, 0.588, 0.853, 0.916, 0.943, 0.959, 0.962, 0.959, 0.947, 0.913, 0.874, 0.81, 0.715, 0.738, 0.684, 0.554, 0.282, 0.052, 0.062, 0.081, 0.113, 0.342, 0.45, 0.523, 0.588, 0.627, 0.655, 0.65, 0.626, 0.611, 0.694, 0.75, 0.795, 0.803, 0.825, 0.83, 0.817, 0.748, 0.495, 0.194, 0.016, 0.722, 0.848, 0.884, 0.882, 0.879, 0.904, 0.916, 0.916, 0.927, 0.928, 0.929, 0.943, 0.956, 0.96, 0.959, 0.953, 0.931, 0.885, 0.823, 0.676, 0.53, 0.368, 0.273, 0.549, 0.555, 0.524, 0.519, 0.544, 0.593, 0.789, 0.907, 0.939, 0.954, 0.956, 0.955, 0.945, 0.912, 0.827, 0.652, 0.52, 0.499, 0.485, 0.464, 0.382, 0.312, 0.264, 0.26, 0.228, 0.169, 0.099, 0.136, 0.209, 0.181, 0.209, 0.206, 0.155, 0.154, 0.07, 0.071, 0.003]}, 'prediction-sheet-fess': {'scores': [0.002, 0.028, 0.03, 0.011, 0.003, 0.003, 0.003, 0.004, 0.004, 0.003, 0.003, 0.003, 0.003, 0.003, 0.003, 0.003, 0.003, 0.004, 0.004, 0.003, 0.003, 0.003, 0.003, 0.003, 0.003, 0.003, 0.003, 0.003, 0.003, 0.003, 0.005, 0.006, 0.006, 0.005, 0.005, 0.011, 0.036, 0.034, 0.014, 0.004, 0.004, 0.004, 0.005, 0.005, 0.007, 0.007, 0.008, 0.007, 0.008, 0.01, 0.01, 0.01, 0.017, 0.021, 0.019, 0.02, 0.029, 0.023, 0.018, 0.025, 0.041, 0.065, 0.073, 0.071, 0.059, 0.04, 0.026, 0.02, 0.015, 0.012, 0.011, 0.01, 0.009, 0.008, 0.008, 0.008, 0.008, 0.008, 0.007, 0.007, 0.005, 0.005, 0.006, 0.006, 0.005, 0.005, 0.005, 0.004, 0.004, 0.004, 0.004, 0.003, 0.003, 0.003, 0.003, 0.003, 0.003, 0.003, 0.003, 0.003, 0.004, 0.004, 0.004, 0.005, 0.009, 0.019, 0.042, 0.041, 0.032, 0.025, 0.029, 0.043, 0.033, 0.025, 0.035, 0.071, 0.174, 0.293, 0.318, 0.326, 0.339, 0.26, 0.171, 0.07, 0.022, 0.027, 0.083, 0.117, 0.129, 0.126, 0.125, 0.114, 0.115, 0.108, 0.089, 0.059, 0.027, 0.023, 0.039, 0.106, 0.221, 0.289, 0.306, 0.247, 0.15, 0.051, 0.023, 0.015, 0.013, 0.011, 0.01, 0.009, 0.01, 0.012, 0.017, 0.023, 0.024, 0.02, 0.018, 0.021, 0.026, 0.035, 0.031, 0.03, 0.04, 0.052, 0.095, 0.217, 0.24, 0.213, 0.172, 0.16, 0.149, 0.123, 0.089, 0.081, 0.097, 0.12, 0.132, 0.122, 0.116, 0.098, 0.08, 0.055, 0.028, 0.009, 0.006, 0.008, 0.01, 0.014, 0.015, 0.013, 0.013, 0.012, 0.009, 0.008, 0.008, 0.008, 0.008, 0.009, 0.01, 0.012, 0.013, 0.015, 0.016, 0.016, 0.02, 0.023, 0.018, 0.017, 0.021, 0.027, 0.028, 0.021, 0.014, 0.015, 0.025, 0.031, 0.027, 0.026, 0.025, 0.022, 0.019, 0.016, 0.012, 0.019, 0.077, 0.177, 0.247, 0.276, 0.262, 0.18, 0.098, 0.056, 0.046, 0.035, 0.039, 0.051, 0.047, 0.052, 0.052, 0.044, 0.047, 0.038, 0.032, 0.002]}, 'prediction-coil-fess': {'scores': [0.995, 0.907, 0.822, 0.872, 0.135, 0.085, 0.039, 0.025, 0.023, 0.026, 0.031, 0.043, 0.075, 0.067, 0.076, 0.092, 0.117, 0.149, 0.217, 0.289, 0.219, 0.174, 0.106, 0.029, 0.019, 0.016, 0.015, 0.022, 0.025, 0.036, 0.053, 0.099, 0.172, 0.4, 0.591, 0.66, 0.63, 0.697, 0.751, 0.165, 0.103, 0.088, 0.092, 0.083, 0.044, 0.033, 0.028, 0.024, 0.03, 0.047, 0.08, 0.16, 0.189, 0.259, 0.38, 0.394, 0.382, 0.357, 0.359, 0.249, 0.122, 0.07, 0.051, 0.061, 0.123, 0.191, 0.186, 0.227, 0.293, 0.325, 0.375, 0.359, 0.313, 0.255, 0.132, 0.101, 0.088, 0.108, 0.143, 0.234, 0.278, 0.11, 0.075, 0.054, 0.042, 0.038, 0.039, 0.04, 0.035, 0.039, 0.038, 0.036, 0.038, 0.044, 0.051, 0.064, 0.059, 0.044, 0.024, 0.02, 0.02, 0.025, 0.045, 0.097, 0.188, 0.335, 0.547, 0.835, 0.842, 0.84, 0.843, 0.872, 0.908, 0.753, 0.618, 0.509, 0.337, 0.174, 0.106, 0.088, 0.136, 0.289, 0.488, 0.588, 0.493, 0.369, 0.166, 0.096, 0.066, 0.062, 0.09, 0.125, 0.167, 0.258, 0.442, 0.701, 0.873, 0.864, 0.814, 0.687, 0.561, 0.502, 0.471, 0.423, 0.501, 0.489, 0.389, 0.132, 0.071, 0.046, 0.031, 0.029, 0.032, 0.041, 0.071, 0.104, 0.167, 0.265, 0.244, 0.295, 0.421, 0.683, 0.917, 0.908, 0.879, 0.835, 0.563, 0.332, 0.238, 0.199, 0.201, 0.184, 0.201, 0.251, 0.299, 0.225, 0.153, 0.085, 0.066, 0.053, 0.054, 0.085, 0.172, 0.449, 0.778, 0.975, 0.271, 0.144, 0.106, 0.104, 0.106, 0.083, 0.071, 0.072, 0.064, 0.064, 0.063, 0.049, 0.037, 0.031, 0.031, 0.035, 0.056, 0.1, 0.162, 0.308, 0.45, 0.61, 0.709, 0.434, 0.424, 0.449, 0.453, 0.434, 0.393, 0.196, 0.067, 0.03, 0.019, 0.017, 0.02, 0.032, 0.069, 0.156, 0.336, 0.462, 0.424, 0.337, 0.289, 0.342, 0.426, 0.556, 0.643, 0.715, 0.785, 0.866, 0.825, 0.74, 0.771, 0.739, 0.742, 0.801, 0.798, 0.892, 0.898, 0.994]}, 'prediction-lip-anchor': {'regions': [[25, 28], [46, 53], [95, 106], [121, 130], [173, 183], [218, 225]], 'content_fraction': 0.215, 'content_count': 53}, 'prediction-disorder-mobidb_lite': {'scores': [0.875, 0.875, 0.875, 0.75, 0.875, 0.75, 0.625, 0.75, 0.625, 0.25, 0.25, 0.375, 0.25, 0.25, 0.25, 0.25, 0.25, 0.25, 0.125, 0.125, 0.125, 0.125, 0.125, 0.125, 0.25, 0.25, 0.125, 0.125, 0.25, 0.25, 0.25, 0.375, 0.375, 0.5, 0.375, 0.5, 0.5, 0.25, 0.25, 0.125, 0, 0, 0, 0, 0, 0, 0, 0, 0, 0, 0, 0.125, 0.125, 0.125, 0.125, 0.125, 0.125, 0.125, 0.125, 0.125, 0.125, 0.125, 0.125, 0.125, 0.25, 0.25, 0.25, 0.25, 0.375, 0.625, 0.625, 0.625, 0.625, 0.75, 0.75, 0.75, 0.75, 0.75, 0.5, 0.625, 0.375, 0.25, 0.25, 0.125, 0, 0, 0, 0, 0, 0, 0, 0, 0, 0, 0, 0, 0, 0, 0, 0, 0, 0, 0, 0, 0, 0, 0, 0.125, 0.25, 0.25, 0.25, 0.25, 0.25, 0.25, 0.25, 0.125, 0.125, 0, 0, 0, 0, 0, 0, 0, 0, 0, 0, 0, 0, 0, 0, 0, 0, 0, 0, 0.125, 0.25, 0.375, 0.5, 0.25, 0.5, 0.375, 0.5, 0.25, 0.375, 0.25, 0.375, 0.25, 0.125, 0.125, 0, 0, 0, 0, 0.125, 0.25, 0.25, 0.25, 0.25, 0.25, 0.25, 0.25, 0.25, 0.25, 0.125, 0.125, 0, 0, 0, 0, 0, 0, 0, 0, 0, 0, 0, 0, 0, 0, 0, 0, 0, 0, 0, 0, 0, 0, 0, 0, 0, 0, 0, 0, 0, 0, 0, 0, 0, 0, 0, 0, 0, 0, 0, 0, 0, 0.125, 0.125, 0.125, 0.125, 0.125, 0.125, 0, 0, 0, 0, 0, 0, 0, 0, 0, 0, 0, 0, 0, 0, 0.125, 0.25, 0.375, 0.5, 0.625, 0.75, 0.75, 0.875, 1, 0.875, 1, 1, 0.875, 1, 0.875, 1, 0.875, 0.875, 0.875]}, 'prediction-disorder-th_50': {'regions': [[1, 9], [12, 12], [32, 37], [69, 81], [138, 139], [141, 143], [145, 145], [147, 147], [231, 246]], 'content_fraction': 0.211, 'content_count': 52}, 'homology-domain-merge': {'regions': [[1, 245]], 'content_fraction': 0.996, 'content_count': 245}, 'curated-disorder-ideal': {'source_id': 'IID00038', 'regions': [[1, 2], [71, 75], [233, 246]], 'content_fraction': 0.085, 'content_count': 21}, 'curated-disorder-merge': {'regions': [[1, 2], [71, 75], [233, 246]], 'content_fraction': 0.085, 'content_count': 21}, 'curated-disorder-priority': {'regions': [[1, 2], [71, 75], [233, 246]], 'content_fraction': 0.085, 'content_count': 21}, 'derived-bfactor-mobi-2bq0_A': {'source_id': '2bq0_A', 'scores': [None, None, 0.191, 0.192, 0.186, 0.178, 0.171, 0.158, 0.149, 0.148, 0.14, 0.134, 0.139, 0.136, 0.127, 0.126, 0.132, 0.127, 0.127, 0.114, 0.117, 0.112, 0.111, 0.113, 0.108, 0.105, 0.109, 0.114, 0.115, 0.12, 0.119, 0.121, 0.131, 0.138, 0.136, 0.133, 0.129, 0.137, 0.146, 0.154, 0.153, 0.147, 0.141, 0.135, 0.126, 0.117, 0.108, 0.106, 0.105, 0.108, 0.109, 0.111, 0.112, 0.114, 0.113, 0.119, 0.123, 0.125, 0.122, 0.125, 0.13, 0.146, 0.15, 0.157, 0.17, 0.184, 0.188, 0.195, 0.208, 0.204, 0.202, 0.194, 0.181, 0.165, 0.159, 0.158, 0.156, 0.159, 0.161, 0.158, 0.154, 0.15, 0.146, 0.142, 0.145, 0.137, 0.134, 0.119, 0.122, 0.123, 0.121, 0.127, 0.134, 0.132, 0.119, 0.121, 0.122, 0.118, 0.114, 0.117, 0.126, 0.126, 0.13, 0.14, 0.142, 0.137, 0.13, 0.128, 0.134, 0.142, 0.147, 0.153, 0.151, 0.15, 0.15, 0.137, 0.132, 0.121, 0.115, 0.11, 0.109, 0.115, 0.116, 0.11, 0.106, 0.102, 0.111, 0.119, 0.127, 0.132, 0.145, 0.159, 0.166, 0.178, 0.199, 0.211, 0.22, 0.222, 0.214, 0.201, 0.194, 0.183, 0.169, 0.167, 0.165, 0.162, 0.156, 0.159, 0.157, 0.142, 0.131, 0.139, 0.141, 0.139, 0.145, 0.151, 0.14, 0.139, 0.14, 0.141, 0.134, 0.131, 0.124, 0.115, 0.11, 0.112, 0.115, 0.115, 0.116, 0.113, 0.117, 0.118, 0.115, 0.111, 0.112, 0.116, 0.118, 0.121, 0.127, 0.138, 0.152, 0.156, 0.162, 0.166, 0.164, 0.165, 0.162, 0.16, 0.15, 0.139, 0.135, 0.127, 0.126, 0.125, 0.124, 0.114, 0.1, 0.094, 0.099, 0.096, 0.096, 0.099, 0.105, 0.104, 0.104, 0.111, 0.119, 0.128, 0.134, 0.142, 0.143, 0.138, 0.133, 0.137, 0.132, 0.125, 0.123, 0.126, 0.118, 0.119, 0.122, 0.12, 0.128, 0.14, 0.147, 0.156, 0.172, 0.185, 0.193, 0.196, 0.213, 0.226, None, None, None, None, None, None, None, None, None, None, None, None, None, None]}, 'derived-bfactor-mobi-2bq0_B': {'source_id': '2bq0_B', 'scores': [None, None, 0.164, 0.156, 0.151, 0.141, 0.132, 0.129, 0.124, 0.121, 0.111, 0.112, 0.118, 0.117, 0.114, 0.118, 0.124, 0.12, 0.118, 0.112, 0.11, 0.11, 0.104, 0.105, 0.104, 0.099, 0.1, 0.101, 0.102, 0.108, 0.112, 0.117, 0.124, 0.129, 0.132, 0.135, 0.135, 0.131, 0.136, 0.14, 0.138, 0.135, 0.138, 0.13, 0.12, 0.115, 0.114, 0.105, 0.102, 0.106, 0.11, 0.114, 0.119, 0.118, 0.116, 0.12, 0.127, 0.13, 0.128, 0.131, 0.142, 0.156, 0.162, 0.171, 0.18, 0.188, 0.192, 0.201, 0.215, 0.22, 0.234, 0.249, 0.267, 0.277, 0.28, 0.278, 0.27, 0.26, 0.238, 0.207, 0.186, 0.179, 0.177, 0.164, 0.161, 0.153, 0.142, 0.13, 0.132, 0.127, 0.128, 0.135, 0.142, 0.134, 0.122, 0.125, 0.125, 0.117, 0.112, 0.117, 0.121, 0.125, 0.13, 0.136, 0.138, 0.133, 0.127, 0.132, 0.14, 0.149, 0.153, 0.162, 0.162, 0.158, 0.149, 0.141, 0.131, 0.123, 0.118, 0.114, 0.115, 0.12, 0.113, 0.109, 0.108, 0.111, 0.116, 0.124, 0.139, 0.146, 0.153, 0.161, 0.169, 0.18, 0.193, 0.215, 0.221, 0.223, 0.216, 0.206, 0.197, 0.19, 0.178, 0.17, 0.165, 0.161, 0.16, 0.16, 0.158, 0.145, 0.137, 0.146, 0.15, 0.147, 0.156, 0.157, 0.151, 0.148, 0.151, 0.151, 0.145, 0.142, 0.136, 0.132, 0.128, 0.128, 0.124, 0.127, 0.126, 0.131, 0.132, 0.132, 0.125, 0.118, 0.123, 0.12, 0.12, 0.127, 0.134, 0.141, 0.154, 0.164, 0.165, 0.162, 0.168, 0.163, 0.155, 0.146, 0.132, 0.127, 0.124, 0.114, 0.116, 0.116, 0.116, 0.106, 0.1, 0.1, 0.101, 0.103, 0.1, 0.103, 0.112, 0.121, 0.124, 0.136, 0.139, 0.14, 0.147, 0.152, 0.149, 0.145, 0.139, 0.142, 0.14, 0.135, 0.13, 0.129, 0.124, 0.121, 0.123, 0.121, 0.125, 0.135, 0.138, 0.147, 0.163, 0.176, 0.181, 0.189, 0.21, 0.226, 0.24, None, None, None, None, None, None, None, None, None, None, None, None, None]}, 'derived-bfactor-mobi-2c23_A': {'source_id': '2c23_A', 'scores': [None, None, 0.349, 0.325, 0.271, 0.256, 0.268, 0.24, 0.246, 0.273, 0.245, 0.232, 0.259, 0.25, 0.185, 0.198, 0.257, 0.227, 0.222, 0.209, 0.189, 0.218, 0.259, 0.233, 0.227, 0.252, 0.257, 0.24, 0.21, 0.223, 0.231, 0.227, 0.26, 0.251, 0.227, 0.224, 0.229, 0.24, 0.225, 0.22, 0.246, 0.213, 0.207, 0.221, 0.229, 0.201, 0.196, 0.198, 0.221, 0.208, 0.201, 0.174, 0.158, 0.195, 0.202, 0.207, 0.195, 0.222, 0.227, 0.234, 0.238, 0.264, 0.269, 0.247, 0.273, 0.29, 0.326, 0.342, 0.353, 0.349, None, None, None, None, None, 0.394, 0.392, 0.376, 0.364, 0.375, 0.33, 0.287, 0.295, 0.293, 0.296, 0.276, 0.283, 0.251, 0.217, 0.194, 0.191, 0.217, 0.231, 0.24, 0.235, 0.242, 0.242, 0.245, 0.227, 0.193, 0.247, 0.237, 0.238, 0.255, 0.254, 0.241, 0.235, 0.222, 0.238, 0.228, 0.217, 0.242, 0.271, 0.266, 0.272, 0.241, 0.221, 0.192, 0.189, 0.199, 0.196, 0.202, 0.201, 0.224, 0.189, 0.181, 0.188, 0.196, 0.196, 0.188, 0.189, 0.231, 0.234, 0.253, 0.307, 0.325, 0.32, 0.342, 0.297, 0.281, 0.274, 0.256, 0.234, 0.211, 0.237, 0.216, 0.21, 0.207, 0.228, 0.208, 0.211, 0.164, 0.198, 0.213, 0.231, 0.241, 0.216, 0.226, 0.221, 0.22, 0.212, 0.262, 0.246, 0.232, 0.233, 0.215, 0.232, 0.197, 0.191, 0.216, 0.223, 0.187, 0.191, 0.2, 0.189, 0.188, 0.188, 0.186, 0.202, 0.207, 0.231, 0.216, 0.214, 0.231, 0.275, 0.261, 0.224, 0.218, 0.202, 0.183, 0.226, 0.218, 0.23, 0.205, 0.246, 0.208, 0.202, 0.204, 0.205, 0.243, 0.247, 0.29, 0.305, 0.303, 0.304, 0.333, 0.375, 0.369, 0.394, 0.392, 0.385, 0.362, 0.318, 0.288, 0.312, 0.277, 0.258, 0.264, 0.215, 0.248, 0.259, 0.236, 0.227, 0.281, 0.28, 0.231, 0.279, 0.315, 0.299, 0.288, 0.298, 0.314, None, None, None, None, None, None, None, None, None, None, None, None, None, None]}, 'derived-bfactor-mobi-4dnk_A': {'source_id': '4dnk_A', 'scores': [None, 0.674, 0.532, 0.44, 0.378, 0.388, 0.404, 0.205, 0.229, 0.271, 0.258, 0.215, 0.237, 0.237, 0.226, 0.224, 0.244, 0.236, 0.228, 0.209, 0.217, 0.23, 0.221, 0.191, 0.179, 0.187, 0.194, 0.187, 0.197, 0.214, 0.217, 0.202, 0.231, 0.236, 0.22, 0.209, 0.215, 0.21, 0.232, 0.256, 0.259, 0.232, 0.22, 0.213, 0.209, 0.196, 0.197, 0.194, 0.189, 0.192, 0.212, 0.201, 0.191, 0.191, 0.2, 0.211, 0.199, 0.207, 0.205, 0.197, 0.209, 0.231, 0.23, 0.215, 0.238, 0.262, 0.269, 0.295, 0.35, 0.37, 0.391, 0.373, 0.383, 0.329, 0.308, 0.293, 0.291, 0.299, 0.279, 0.257, 0.24, 0.25, 0.247, 0.222, 0.226, 0.231, 0.222, 0.19, 0.198, 0.202, 0.238, 0.221, 0.233, 0.26, 0.208, 0.191, 0.215, 0.223, 0.184, 0.19, 0.227, 0.202, 0.189, 0.227, 0.244, 0.22, 0.205, 0.198, 0.227, 0.239, 0.212, 0.223, 0.227, 0.232, 0.254, 0.23, 0.215, 0.19, 0.185, 0.168, 0.176, 0.188, 0.186, 0.177, 0.184, 0.18, 0.181, 0.197, 0.203, 0.212, 0.219, 0.227, 0.239, 0.266, 0.312, 0.407, 0.427, 0.435, 0.371, 0.315, 0.329, 0.255, 0.222, 0.209, 0.225, 0.231, 0.208, 0.212, 0.238, 0.212, 0.193, 0.208, 0.236, 0.222, 0.233, 0.259, 0.231, 0.219, 0.237, 0.255, 0.262, 0.255, 0.231, 0.213, 0.201, 0.205, 0.205, 0.224, 0.201, 0.192, 0.202, 0.195, 0.181, 0.192, 0.186, 0.188, 0.2, 0.215, 0.203, 0.206, 0.221, 0.226, 0.22, 0.229, 0.234, 0.23, 0.235, 0.241, 0.213, 0.194, 0.219, 0.21, 0.21, 0.194, 0.207, 0.203, 0.184, 0.186, 0.207, 0.195, 0.184, 0.187, 0.205, 0.206, 0.195, 0.222, 0.216, 0.211, 0.237, 0.261, 0.343, 0.283, 0.223, 0.253, 0.262, 0.208, 0.203, 0.238, 0.199, 0.185, 0.227, 0.221, 0.205, 0.239, 0.268, 0.242, 0.272, 0.326, 0.322, 0.318, 0.405, 0.492, 0.494, None, None, None, None, None, None, None, None, None, None, None, None, None]}, 'derived-bfactor-mobi-4dnk_B': {'source_id': '4dnk_B', 'scores': [0.457, 0.386, 0.27, 0.243, 0.241, 0.235, 0.223, 0.208, 0.206, 0.221, 0.213, 0.206, 0.208, 0.206, 0.193, 0.218, 0.23, 0.229, 0.229, 0.221, 0.21, 0.213, 0.201, 0.182, 0.189, 0.199, 0.205, 0.186, 0.19, 0.195, 0.184, 0.197, 0.229, 0.24, 0.249, 0.244, 0.237, 0.211, 0.217, 0.242, 0.243, 0.228, 0.237, 0.231, 0.206, 0.203, 0.215, 0.206, 0.195, 0.199, 0.221, 0.219, 0.191, 0.198, 0.207, 0.198, 0.206, 0.219, 0.219, 0.213, 0.221, 0.257, 0.25, 0.253, 0.281, 0.306, 0.311, 0.326, 0.361, 0.395, 0.369, 0.377, 0.592, 0.639, 0.609, 0.577, 0.547, 0.499, 0.475, 0.439, 0.384, 0.366, 0.358, 0.331, 0.315, 0.322, 0.311, 0.292, 0.311, 0.334, 0.237, 0.24, 0.261, 0.261, 0.212, 0.208, 0.218, 0.213, 0.189, 0.215, 0.243, 0.215, 0.202, 0.229, 0.252, 0.231, 0.222, 0.224, 0.261, 0.284, 0.266, 0.286, 0.295, 0.277, 0.269, 0.24, 0.23, 0.217, 0.216, 0.2, 0.206, 0.24, 0.212, 0.197, 0.209, 0.204, 0.199, 0.207, 0.22, 0.227, 0.243, 0.27, 0.3, 0.313, 0.354, 0.445, 0.497, 0.52, 0.453, 0.383, 0.379, 0.303, 0.275, 0.247, 0.25, 0.245, 0.246, 0.251, 0.264, 0.244, 0.229, 0.248, 0.248, 0.234, 0.24, 0.252, 0.236, 0.233, 0.255, 0.286, 0.277, 0.245, 0.25, 0.222, 0.218, 0.24, 0.239, 0.233, 0.218, 0.211, 0.227, 0.238, 0.218, 0.228, 0.235, 0.214, 0.202, 0.213, 0.214, 0.221, 0.245, 0.277, 0.271, 0.26, 0.262, 0.243, 0.236, 0.249, 0.211, 0.203, 0.214, 0.191, 0.186, 0.19, 0.198, 0.193, 0.189, 0.194, 0.206, 0.208, 0.198, 0.196, 0.216, 0.266, 0.243, 0.275, 0.284, 0.27, 0.309, 0.313, 0.319, 0.286, 0.248, 0.265, 0.273, 0.223, 0.219, 0.242, 0.219, 0.198, 0.236, 0.243, 0.213, 0.385, 0.335, 0.299, 0.32, 0.355, 0.332, 0.323, 0.406, 0.492, 0.544, 0.676, None, None, None, None, None, None, None, None, None, None, None, None]}, 'derived-bfactor-mobi-5n10_A': {'source_id': '5n10_A', 'scores': [None, None, 1, 0.636, 0.541, 0.399, 0.365, 0.316, 0.239, 0.295, 0.294, 0.257, 0.237, 0.255, 0.205, 0.221, 0.227, 0.224, 0.228, 0.206, 0.222, 0.234, 0.216, 0.195, 0.252, 0.313, 0.283, 0.211, 0.263, 0.333, 0.301, 0.275, 0.377, 0.434, 0.453, 0.447, 0.424, 0.285, 0.321, 0.316, 0.336, 0.272, 0.272, 0.274, 0.234, 0.236, 0.21, 0.238, 0.2, 0.193, 0.196, 0.186, 0.196, 0.202, 0.204, 0.236, 0.205, 0.198, 0.211, 0.217, 0.238, 0.246, 0.263, 0.237, 0.305, 0.371, 0.401, 0.421, 0.518, 0.922, 1, 1, 1, 1, 1, 1, 0.88, 0.903, 0.588, 0.509, 0.452, 0.439, 0.427, 0.351, 0.299, 0.306, 0.327, 0.238, 0.24, 0.305, 0.255, 0.241, 0.247, 0.244, 0.209, 0.23, 0.251, 0.269, 0.213, 0.233, 0.267, 0.252, 0.224, 0.27, 0.301, 0.297, 0.242, 0.28, 0.37, 0.34, 0.325, 0.453, 0.385, 0.397, 0.316, 0.32, 0.276, 0.227, 0.233, 0.209, 0.221, 0.199, 0.221, 0.197, 0.189, 0.174, 0.2, 0.195, 0.195, 0.209, 0.216, 0.257, 0.222, 0.283, 0.339, 0.446, 0.555, 0.62, 0.371, 0.348, 0.334, 0.309, 0.271, 0.255, 0.27, 0.25, 0.232, 0.253, 0.28, 0.216, 0.202, 0.23, 0.245, 0.225, 0.241, 0.278, 0.264, 0.255, 0.321, 0.377, 0.29, 0.282, 0.307, 0.263, 0.258, 0.253, 0.228, 0.267, 0.286, 0.222, 0.214, 0.215, 0.237, 0.192, 0.174, 0.192, 0.193, 0.175, 0.197, 0.237, 0.213, 0.215, 0.236, 0.274, 0.374, 0.277, 0.327, 0.322, 0.263, 0.226, 0.261, 0.273, 0.24, 0.205, 0.243, 0.264, 0.216, 0.21, 0.296, 0.297, 0.245, 0.228, 0.303, 0.278, 0.302, 0.346, 0.336, 0.42, 0.605, 0.44, 0.539, 0.71, 0.376, 0.278, 0.321, 0.248, 0.218, 0.272, 0.236, 0.23, 0.234, 0.224, 0.193, 0.211, 0.25, 0.215, 0.251, 0.236, 0.222, 0.256, 0.304, 0.38, 1, None, None, None, None, None, None, None, None, None, None, None, None, None]}, 'derived-bfactor-mobi-5n10_B': {'source_id': '5n10_B', 'scores': [0.301, 0.235, 0.281, 0.277, 0.291, 0.286, 0.248, 0.226, 0.26, 0.231, 0.237, 0.233, 0.253, 0.242, 0.237, 0.248, 0.255, 0.267, 0.212, 0.213, 0.234, 0.235, 0.233, 0.217, 0.241, 0.284, 0.225, 0.249, 0.255, 0.27, 0.255, 0.286, 0.272, 0.296, 0.379, 0.375, 0.405, 0.315, 0.356, 0.393, 0.475, 0.364, 0.329, 0.292, 0.287, 0.231, 0.305, 0.256, 0.258, 0.21, 0.232, 0.228, 0.221, 0.21, 0.232, 0.203, 0.215, 0.225, 0.262, 0.221, 0.22, 0.241, 0.222, 0.228, 0.283, 0.271, 0.271, 0.283, 0.356, 0.353, 0.291, 0.301, 0.314, 0.332, 0.317, 0.348, 0.295, 0.334, 0.288, 0.294, 0.263, 0.233, 0.288, 0.261, 0.262, 0.283, 0.286, 0.236, 0.259, 0.286, 0.251, 0.268, 0.284, 0.311, 0.238, 0.282, 0.318, 0.265, 0.239, 0.288, 0.355, 0.288, 0.349, 0.366, 0.404, 0.315, 0.306, 0.343, 0.637, 0.765, 0.728, 0.871, 0.526, 0.686, 0.501, 0.518, 0.366, 0.35, 0.343, 0.27, 0.299, 0.241, 0.302, 0.239, 0.253, 0.252, 0.23, 0.258, 0.223, 0.247, 0.262, 0.281, 0.303, 0.343, 0.355, 0.449, 0.496, 0.631, 0.443, 0.367, 0.337, 0.411, 0.32, 0.271, 0.33, 0.261, 0.259, 0.283, 0.298, 0.255, 0.271, 0.315, 0.292, 0.32, 0.298, 0.373, 0.319, 0.361, 0.432, 0.496, 0.528, 0.486, 0.399, 0.429, 0.444, 0.426, 0.373, 0.383, 0.357, 0.31, 0.435, 0.258, 0.322, 0.294, 0.27, 0.269, 0.245, 0.272, 0.245, 0.299, 0.312, 0.314, 0.283, 0.319, 0.344, 0.379, 0.362, 0.391, 0.342, 0.267, 0.347, 0.34, 0.31, 0.322, 0.333, 0.315, 0.315, 0.373, 0.483, 0.43, 0.572, 0.639, 0.726, 0.555, 0.953, 0.922, 0.745, 1, 0.947, 0.993, 0.957, 0.783, 0.675, 0.573, 0.516, 0.402, 0.417, 0.481, 0.355, 0.321, 0.361, 0.364, 0.347, 0.404, 0.434, 0.336, 0.329, 0.472, 0.443, 0.442, 0.897, 1, 1, None, None, None, None, None, None, None, None, None, None, None, None, None]}, 'derived-bfactor-mobi-6a5q_A': {'source_id': '6a5q_A', 'scores': [None, None, 0.444, 0.452, 0.391, 0.387, 0.339, 0.265, 0.226, 0.229, 0.201, 0.162, 0.173, 0.157, 0.166, 0.159, 0.157, 0.157, 0.131, 0.152, 0.172, 0.181, 0.138, 0.164, 0.163, 0.149, 0.152, 0.171, 0.177, 0.207, 0.239, 0.238, 0.282, 0.354, 0.488, 0.481, 0.447, 0.274, 0.226, 0.224, 0.221, 0.195, 0.208, 0.183, 0.145, 0.16, 0.164, 0.162, 0.133, 0.124, 0.144, 0.155, 0.13, 0.128, 0.115, 0.165, 0.156, 0.154, 0.195, 0.167, 0.188, 0.202, 0.179, 0.209, 0.27, 0.292, 0.295, 0.378, 0.487, 0.468, 0.576, 0.673, 0.68, 0.531, 0.466, 0.437, 0.385, 0.383, 0.35, 0.306, 0.271, 0.296, 0.259, 0.205, 0.221, 0.232, 0.204, 0.189, 0.205, 0.191, 0.169, 0.172, 0.186, 0.155, 0.12, 0.141, 0.175, 0.192, 0.199, 0.189, 0.218, 0.17, 0.182, 0.275, 0.222, 0.217, 0.227, 0.203, 0.309, 0.289, 0.318, 0.424, 0.307, 0.325, 0.286, 0.244, 0.193, 0.176, 0.181, 0.169, 0.147, 0.173, 0.174, 0.169, 0.167, 0.145, 0.14, 0.155, 0.145, 0.132, 0.159, 0.196, 0.22, 0.269, 0.29, 0.449, 0.487, 0.437, 0.424, 0.326, 0.298, 0.29, 0.25, 0.248, 0.281, 0.199, 0.19, 0.236, 0.24, 0.206, 0.163, 0.231, 0.204, 0.201, 0.246, 0.292, 0.212, 0.229, 0.283, 0.282, 0.211, 0.238, 0.252, 0.19, 0.208, 0.2, 0.164, 0.184, 0.162, 0.173, 0.152, 0.172, 0.166, 0.127, 0.13, 0.159, 0.156, 0.182, 0.185, 0.23, 0.238, 0.219, 0.253, 0.247, 0.359, 0.3, 0.272, 0.278, 0.29, 0.244, 0.224, 0.224, 0.223, 0.213, 0.177, 0.181, 0.193, 0.148, 0.172, 0.197, 0.187, 0.25, 0.251, 0.281, 0.254, 0.26, 0.248, 0.224, 0.237, 0.198, 0.22, 0.229, 0.193, 0.212, 0.214, 0.198, 0.192, 0.168, 0.149, 0.154, 0.183, 0.18, 0.163, 0.205, 0.214, 0.216, 0.23, 0.298, 0.301, 0.299, 0.481, 0.539, 0.589, 0.676, None, None, None, None, None, None, None, None, None, None, None, None]}, 'derived-bfactor-mobi-6a5q_B': {'source_id': '6a5q_B', 'scores': [None, None, 0.51, 0.421, 0.331, 0.326, 0.327, 0.267, 0.211, 0.192, 0.217, 0.173, 0.156, 0.213, 0.16, 0.151, 0.193, 0.158, 0.156, 0.126, 0.168, 0.19, 0.157, 0.141, 0.189, 0.21, 0.171, 0.182, 0.186, 0.233, 0.227, 0.221, 0.233, 0.288, 0.279, 0.307, 0.246, 0.196, 0.178, 0.205, 0.263, 0.185, 0.176, 0.184, 0.193, 0.188, 0.135, 0.145, 0.159, 0.124, 0.149, 0.135, 0.162, 0.135, 0.109, 0.183, 0.138, 0.131, 0.174, 0.159, 0.147, 0.151, 0.132, 0.135, 0.168, 0.2, 0.151, 0.181, 0.213, 0.231, 0.219, 0.233, 0.202, 0.213, 0.292, 0.297, 0.226, 0.211, 0.223, 0.216, 0.179, 0.182, 0.21, 0.177, 0.195, 0.187, 0.173, 0.143, 0.169, 0.179, 0.172, 0.178, 0.167, 0.18, 0.144, 0.185, 0.176, 0.166, 0.174, 0.17, 0.186, 0.176, 0.176, 0.215, 0.22, 0.19, 0.206, 0.198, 0.25, 0.277, 0.224, 0.273, 0.276, 0.252, 0.259, 0.237, 0.205, 0.163, 0.184, 0.168, 0.152, 0.182, 0.142, 0.162, 0.126, 0.14, 0.131, 0.15, 0.128, 0.147, 0.194, 0.19, 0.174, 0.219, 0.174, 0.287, 0.323, 0.349, 0.317, 0.225, 0.274, 0.211, 0.189, 0.185, 0.195, 0.175, 0.195, 0.183, 0.217, 0.166, 0.16, 0.208, 0.18, 0.175, 0.181, 0.251, 0.165, 0.241, 0.255, 0.288, 0.216, 0.183, 0.198, 0.171, 0.15, 0.148, 0.162, 0.176, 0.163, 0.145, 0.155, 0.137, 0.135, 0.129, 0.123, 0.142, 0.172, 0.147, 0.165, 0.18, 0.191, 0.211, 0.207, 0.222, 0.255, 0.267, 0.266, 0.323, 0.275, 0.219, 0.217, 0.246, 0.205, 0.188, 0.199, 0.195, 0.18, 0.177, 0.207, 0.191, 0.166, 0.187, 0.213, 0.196, 0.203, 0.237, 0.182, 0.193, 0.213, 0.182, 0.218, 0.191, 0.175, 0.197, 0.186, 0.19, 0.167, 0.168, 0.159, 0.162, 0.172, 0.162, 0.154, 0.196, 0.216, 0.197, 0.204, 0.277, 0.246, 0.289, 0.388, 0.468, 0.672, 0.777, None, None, None, None, None, None, None, None, None, None, None, None]}, 'derived-bfactor-mobi-6a5q_C': {'source_id': '6a5q_C', 'scores': [None, None, 0.536, 0.456, 0.426, 0.37, 0.419, 0.319, 0.318, 0.318, 0.313, 0.23, 0.219, 0.26, 0.279, 0.202, 0.249, 0.279, 0.23, 0.236, 0.196, 0.265, 0.222, 0.228, 0.208, 0.295, 0.241, 0.291, 0.272, 0.299, 0.301, 0.299, 0.363, 0.397, 0.428, 0.39, 0.402, 0.319, 0.259, 0.23, 0.272, 0.248, 0.254, 0.231, 0.206, 0.239, 0.215, 0.181, 0.185, 0.207, 0.185, 0.215, 0.203, 0.229, 0.199, 0.238, 0.217, 0.238, 0.233, 0.224, 0.271, 0.289, 0.246, 0.314, 0.355, 0.388, 0.422, 0.491, 0.511, 0.51, 0.591, None, None, None, None, None, None, 0.615, 0.633, 0.585, 0.493, 0.503, 0.468, 0.356, 0.373, 0.372, 0.34, 0.305, 0.304, 0.316, 0.311, 0.274, 0.293, 0.304, 0.231, 0.259, 0.243, 0.262, 0.25, 0.281, 0.289, 0.255, 0.254, 0.34, 0.414, 0.38, 0.321, 0.234, 0.341, 0.318, 0.3, 0.282, 0.32, 0.321, 0.315, 0.265, 0.231, 0.244, 0.208, 0.215, 0.223, 0.2, 0.235, 0.237, 0.21, 0.227, 0.262, 0.292, 0.235, 0.224, 0.339, 0.317, 0.332, 0.317, 0.384, 0.427, 0.464, 0.459, 0.519, 0.438, 0.363, 0.366, 0.344, 0.258, 0.304, 0.289, 0.296, 0.308, 0.34, 0.284, 0.241, 0.243, 0.29, 0.215, 0.218, 0.282, 0.249, 0.239, 0.269, 0.314, 0.279, 0.246, 0.258, 0.233, 0.184, 0.186, 0.184, 0.177, 0.186, 0.182, 0.183, 0.179, 0.223, 0.176, 0.201, 0.232, 0.23, 0.23, 0.263, 0.293, 0.303, 0.305, 0.318, 0.34, 0.408, 0.342, 0.377, 0.395, 0.392, 0.282, 0.273, 0.312, 0.272, 0.259, 0.255, 0.255, 0.236, 0.193, 0.21, 0.219, 0.205, 0.23, 0.238, 0.229, 0.235, 0.245, 0.219, 0.203, 0.247, 0.218, 0.241, 0.242, 0.187, 0.232, 0.213, 0.18, 0.207, 0.198, 0.186, 0.18, 0.206, 0.202, 0.187, 0.21, 0.232, 0.205, 0.285, 0.285, 0.328, 0.337, 0.433, 0.522, 0.637, 0.751, None, None, None, None, None, None, None, None, None, None, None, None]}, 'derived-bfactor-mobi-6byk_A': {'source_id': '6byk_A', 'scores': [None, None, 0.251, 0.274, 0.272, 0.292, 0.297, 0.209, 0.19, 0.2, 0.197, 0.14, 0.14, 0.144, 0.114, 0.149, 0.16, 0.17, 0.153, 0.149, 0.14, 0.158, 0.164, 0.139, 0.135, 0.155, 0.214, 0.184, 0.184, 0.18, 0.198, 0.221, 0.254, 0.277, 0.281, 0.3, 0.243, 0.186, 0.166, 0.219, 0.23, 0.203, 0.209, 0.233, 0.194, 0.146, 0.181, 0.157, 0.142, 0.134, 0.154, 0.163, 0.135, 0.159, 0.152, 0.151, 0.156, 0.146, 0.143, 0.151, 0.161, 0.199, 0.176, 0.212, 0.251, 0.283, 0.319, 0.39, 0.493, 0.557, 0.624, 0.718, 0.693, 0.727, 0.527, 0.451, 0.431, 0.417, 0.36, 0.301, 0.251, 0.245, 0.237, 0.21, 0.227, 0.182, 0.176, 0.176, 0.171, 0.165, 0.169, 0.153, 0.183, 0.196, 0.167, 0.174, 0.197, 0.233, 0.159, 0.134, 0.157, 0.153, 0.194, 0.266, 0.202, 0.168, 0.168, 0.177, 0.202, 0.215, 0.217, 0.232, 0.248, 0.249, 0.24, 0.196, 0.194, 0.148, 0.155, 0.168, 0.142, 0.154, 0.151, 0.16, 0.153, 0.176, 0.161, 0.19, 0.173, 0.162, 0.165, 0.192, 0.174, 0.227, 0.306, 0.362, 0.348, 0.339, 0.29, 0.207, 0.203, 0.171, 0.155, 0.158, 0.172, 0.157, 0.154, 0.159, 0.216, 0.148, 0.12, 0.173, 0.132, 0.172, 0.26, 0.283, 0.23, 0.263, 0.269, 0.279, 0.271, 0.26, 0.3, 0.288, 0.318, 0.277, 0.27, 0.229, 0.207, 0.233, 0.181, 0.155, 0.168, 0.172, 0.152, 0.147, 0.176, 0.185, 0.195, 0.186, 0.209, 0.206, 0.174, 0.181, 0.241, 0.234, 0.239, 0.28, 0.293, 0.246, 0.268, 0.263, 0.243, 0.244, 0.248, 0.225, 0.249, 0.296, 0.334, 0.321, 0.33, 0.357, 0.381, 0.443, 0.568, 0.603, 0.686, 0.591, 0.632, 0.57, 0.557, 0.549, 0.532, 0.511, 0.49, 0.443, 0.348, 0.279, 0.227, 0.245, 0.272, 0.236, 0.201, 0.228, 0.258, 0.21, 0.23, 0.242, 0.246, 0.222, 0.27, 0.318, None, None, None, None, None, None, None, None, None, None, None, None, None, None]}, 'derived-bfactor-mobi-6byk_B': {'source_id': '6byk_B', 'scores': [None, None, 0.371, 0.385, 0.375, 0.31, 0.283, 0.224, 0.196, 0.24, 0.227, 0.175, 0.191, 0.204, 0.146, 0.162, 0.205, 0.215, 0.157, 0.165, 0.149, 0.208, 0.215, 0.174, 0.16, 0.194, 0.159, 0.169, 0.164, 0.196, 0.184, 0.195, 0.248, 0.257, 0.255, 0.276, 0.259, 0.208, 0.208, 0.224, 0.217, 0.229, 0.215, 0.21, 0.142, 0.13, 0.137, 0.111, 0.117, 0.135, 0.148, 0.129, 0.103, 0.128, 0.117, 0.127, 0.134, 0.128, 0.139, 0.141, 0.155, 0.175, 0.147, 0.133, 0.173, 0.198, 0.26, 0.319, 0.413, 0.451, 0.463, 0.516, 0.581, 0.552, 0.476, 0.417, 0.358, 0.351, 0.307, 0.247, 0.24, 0.24, 0.252, 0.185, 0.169, 0.162, 0.166, 0.175, 0.186, 0.166, 0.201, 0.172, 0.173, 0.21, 0.172, 0.153, 0.16, 0.171, 0.163, 0.168, 0.212, 0.169, 0.192, 0.224, 0.225, 0.211, 0.203, 0.187, 0.198, 0.198, 0.201, 0.217, 0.238, 0.231, 0.21, 0.239, 0.22, 0.187, 0.17, 0.161, 0.146, 0.131, 0.136, 0.136, 0.144, 0.14, 0.144, 0.145, 0.135, 0.168, 0.151, 0.207, 0.192, 0.183, 0.235, 0.276, 0.279, 0.261, 0.216, 0.194, 0.171, 0.189, 0.173, 0.162, 0.215, 0.173, 0.164, 0.17, 0.188, 0.149, 0.161, 0.175, 0.156, 0.167, 0.166, 0.182, 0.16, 0.171, 0.193, 0.186, 0.202, 0.231, 0.289, 0.23, 0.189, 0.168, 0.153, 0.134, 0.142, 0.146, 0.16, 0.145, 0.126, 0.136, 0.135, 0.135, 0.169, 0.14, 0.142, 0.163, 0.155, 0.167, 0.152, 0.163, 0.233, 0.177, 0.176, 0.205, 0.209, 0.2, 0.163, 0.183, 0.131, 0.17, 0.22, 0.192, 0.166, 0.171, 0.283, 0.271, 0.267, 0.29, 0.394, 0.47, 0.629, 0.625, 0.784, 0.719, 0.601, 0.625, 0.652, 0.637, 0.651, 0.605, 0.539, 0.484, 0.33, 0.291, 0.219, 0.225, 0.226, 0.195, 0.203, 0.277, 0.261, 0.223, 0.239, 0.273, 0.29, 0.307, 0.36, 0.37, None, None, None, None, None, None, None, None, None, None, None, None, None, None]}, 'derived-bfactor-mobi-6byk_C': {'source_id': '6byk_C', 'scores': [None, None, 0.374, 0.388, 0.394, 0.391, 0.389, 0.293, 0.235, 0.26, 0.247, 0.221, 0.211, 0.2, 0.162, 0.214, 0.222, 0.257, 0.215, 0.183, 0.184, 0.232, 0.213, 0.184, 0.171, 0.178, 0.182, 0.182, 0.206, 0.208, 0.181, 0.211, 0.241, 0.308, 0.357, 0.413, 0.326, 0.251, 0.215, 0.244, 0.255, 0.249, 0.239, 0.243, 0.216, 0.205, 0.203, 0.201, 0.181, 0.169, 0.195, 0.197, 0.179, 0.163, 0.203, 0.187, 0.183, 0.173, 0.16, 0.145, 0.165, 0.245, 0.199, 0.19, 0.202, 0.173, 0.183, 0.218, 0.281, 0.323, 0.404, 0.452, 0.427, 0.412, 0.346, 0.311, 0.31, 0.286, 0.264, 0.276, 0.277, 0.255, 0.233, 0.196, 0.189, 0.211, 0.216, 0.177, 0.204, 0.169, 0.174, 0.195, 0.202, 0.216, 0.182, 0.173, 0.186, 0.208, 0.165, 0.172, 0.206, 0.193, 0.2, 0.205, 0.202, 0.18, 0.191, 0.171, 0.167, 0.228, 0.234, 0.256, 0.267, 0.272, 0.28, 0.225, 0.208, 0.163, 0.148, 0.163, 0.18, 0.184, 0.172, 0.152, 0.156, 0.153, 0.154, 0.166, 0.181, 0.153, 0.169, 0.215, 0.199, 0.27, 0.402, 0.496, 0.618, 0.742, 0.71, 0.439, 0.314, 0.277, 0.244, 0.21, 0.227, 0.192, 0.19, 0.199, 0.213, 0.159, 0.168, 0.203, 0.164, 0.177, 0.211, 0.24, 0.248, 0.307, 0.348, 0.3, 0.26, 0.246, 0.29, 0.251, 0.241, 0.235, 0.237, 0.192, 0.187, 0.18, 0.193, 0.17, 0.155, 0.178, 0.149, 0.159, 0.212, 0.18, 0.176, 0.198, 0.215, 0.211, 0.204, 0.224, 0.259, 0.27, 0.307, 0.354, 0.313, 0.249, 0.235, 0.23, 0.208, 0.223, 0.244, 0.232, 0.241, 0.258, 0.289, 0.278, 0.3, 0.374, 0.444, 0.546, 0.687, 0.69, 0.792, 0.844, 0.73, 0.752, 0.655, 0.653, 0.625, 0.541, 0.469, 0.408, 0.357, 0.296, 0.25, 0.26, 0.279, 0.222, 0.226, 0.249, 0.264, 0.264, 0.276, 0.301, 0.326, 0.362, 0.475, 0.624, None, None, None, None, None, None, None, None, None, None, None, None, None, None]}, 'derived-bfactor-mobi-6byk_D': {'source_id': '6byk_D', 'scores': [None, None, 0.329, 0.315, 0.287, 0.282, 0.272, 0.209, 0.205, 0.205, 0.195, 0.177, 0.171, 0.165, 0.153, 0.176, 0.205, 0.209, 0.198, 0.209, 0.165, 0.202, 0.196, 0.18, 0.159, 0.181, 0.214, 0.211, 0.186, 0.186, 0.178, 0.206, 0.233, 0.272, 0.272, 0.296, 0.251, 0.2, 0.184, 0.212, 0.227, 0.237, 0.242, 0.229, 0.176, 0.169, 0.193, 0.174, 0.166, 0.159, 0.17, 0.162, 0.164, 0.196, 0.205, 0.19, 0.175, 0.196, 0.19, 0.227, 0.214, 0.237, 0.257, 0.271, 0.291, 0.308, 0.321, 0.349, 0.417, 0.499, 0.532, 0.618, 0.688, 0.734, 0.762, 0.752, 0.648, 0.622, 0.491, 0.424, 0.415, 0.359, 0.327, 0.264, 0.224, 0.22, 0.215, 0.187, 0.2, 0.19, 0.186, 0.205, 0.247, 0.245, 0.194, 0.182, 0.204, 0.216, 0.189, 0.18, 0.207, 0.184, 0.23, 0.324, 0.296, 0.263, 0.237, 0.235, 0.291, 0.379, 0.394, 0.401, 0.411, 0.414, 0.385, 0.364, 0.282, 0.183, 0.171, 0.175, 0.167, 0.197, 0.187, 0.178, 0.187, 0.228, 0.193, 0.158, 0.157, 0.204, 0.183, 0.216, 0.244, 0.259, 0.294, 0.33, 0.342, 0.383, 0.327, 0.278, 0.264, 0.262, 0.24, 0.207, 0.236, 0.249, 0.181, 0.173, 0.209, 0.195, 0.199, 0.221, 0.188, 0.197, 0.248, 0.323, 0.267, 0.247, 0.271, 0.283, 0.31, 0.281, 0.31, 0.275, 0.258, 0.222, 0.208, 0.206, 0.209, 0.236, 0.244, 0.191, 0.161, 0.162, 0.178, 0.159, 0.152, 0.163, 0.173, 0.181, 0.177, 0.212, 0.239, 0.252, 0.294, 0.228, 0.215, 0.237, 0.241, 0.243, 0.222, 0.22, 0.195, 0.199, 0.223, 0.22, 0.22, 0.195, 0.202, 0.162, 0.195, 0.254, 0.323, 0.415, 0.579, 0.687, 0.752, 0.889, 0.853, 0.884, 0.815, 0.948, 0.878, 0.799, 0.823, 0.692, 0.462, 0.371, 0.26, 0.244, 0.241, 0.23, 0.206, 0.266, 0.296, 0.27, 0.293, 0.302, 0.323, 0.325, 0.408, 0.408, None, None, None, None, None, None, None, None, None, None, None, None, None, None]}, 'derived-bfactor-mobi-6gn0_A': {'source_id': '6gn0_A', 'scores': [None, None, 0.144, 0.143, 0.125, 0.117, 0.11, 0.09, 0.073, 0.077, 0.068, 0.077, 0.077, 0.075, 0.096, 0.091, 0.082, 0.08, 0.072, 0.071, 0.065, 0.082, 0.084, 0.071, 0.071, 0.075, 0.07, 0.053, 0.03, 0.049, 0.064, 0.08, 0.09, 0.107, 0.126, 0.143, 0.111, 0.089, 0.088, 0.09, 0.086, 0.074, 0.062, 0.05, 0.056, 0.058, 0.052, 0.051, 0.063, 0.059, 0.049, 0.062, 0.073, 0.077, 0.069, 0.069, 0.072, 0.082, 0.086, 0.081, 0.071, 0.071, 0.066, 0.07, 0.085, 0.094, 0.103, 0.129, 0.149, 0.172, 0.187, 0.198, 0.211, 0.214, 0.2, 0.172, 0.151, 0.144, 0.13, 0.131, 0.119, 0.116, 0.109, 0.079, 0.076, 0.082, 0.077, 0.081, 0.079, 0.085, 0.086, 0.089, 0.073, 0.076, 0.059, 0.076, 0.083, 0.076, 0.059, 0.056, 0.069, 0.086, 0.089, 0.098, 0.088, 0.082, 0.075, 0.084, 0.091, 0.102, 0.112, 0.116, 0.111, 0.105, 0.099, 0.087, 0.066, 0.063, 0.065, 0.071, 0.066, 0.052, 0.049, 0.049, 0.048, 0.04, 0.04, 0.045, 0.045, 0.049, 0.058, 0.063, 0.06, 0.08, 0.117, 0.147, 0.159, 0.155, 0.143, 0.136, 0.123, 0.105, 0.094, 0.093, 0.103, 0.087, 0.073, 0.076, 0.079, 0.081, 0.087, 0.089, 0.08, 0.081, 0.075, 0.077, 0.072, 0.076, 0.089, 0.088, 0.09, 0.083, 0.079, 0.089, 0.098, 0.09, 0.075, 0.075, 0.057, 0.04, 0.052, 0.048, 0.04, 0.051, 0.046, 0.046, 0.06, 0.062, 0.074, 0.073, 0.065, 0.072, 0.07, 0.085, 0.103, 0.09, 0.086, 0.075, 0.074, 0.061, 0.054, 0.048, 0.051, 0.05, 0.058, 0.065, 0.065, 0.075, 0.066, 0.065, 0.064, 0.066, 0.072, 0.083, 0.084, 0.094, 0.088, 0.085, 0.093, 0.089, 0.104, 0.097, 0.088, 0.076, 0.072, 0.07, 0.077, 0.077, 0.072, 0.068, 0.06, 0.054, 0.076, 0.076, 0.089, 0.091, 0.099, 0.102, 0.09, 0.093, 0.099, 0.101, 0.114, 0.133, 0.156, 0.182, 0.193, 0.194, 0.192, None, None, None, None, None, None, None]}, 'derived-bfactor-mobi-6gn0_B': {'source_id': '6gn0_B', 'scores': [None, None, 0.157, 0.143, 0.125, 0.112, 0.097, 0.084, 0.082, 0.078, 0.076, 0.078, 0.076, 0.077, 0.074, 0.072, 0.068, 0.066, 0.047, 0.053, 0.073, 0.06, 0.061, 0.074, 0.072, 0.074, 0.076, 0.083, 0.079, 0.076, 0.069, 0.064, 0.071, 0.096, 0.122, 0.138, 0.121, 0.104, 0.093, 0.092, 0.095, 0.093, 0.095, 0.084, 0.082, 0.077, 0.059, 0.04, 0.05, 0.047, 0.037, 0.037, 0.041, 0.043, 0.059, 0.057, 0.065, 0.052, 0.07, 0.086, 0.086, 0.082, 0.073, 0.082, 0.086, 0.075, 0.09, 0.106, 0.116, 0.125, None, None, None, None, None, 0.226, 0.226, 0.221, 0.206, 0.187, 0.146, 0.127, 0.114, 0.09, 0.087, 0.08, 0.074, 0.075, 0.081, 0.076, 0.077, 0.082, 0.077, 0.083, 0.062, 0.046, 0.054, 0.065, 0.064, 0.077, 0.098, 0.094, 0.078, 0.102, 0.092, 0.094, 0.091, 0.097, 0.102, 0.101, 0.103, 0.11, 0.113, 0.111, 0.102, 0.084, 0.072, 0.073, 0.068, 0.054, 0.061, 0.059, 0.071, 0.062, 0.076, 0.072, 0.068, 0.077, 0.067, 0.054, 0.083, 0.095, 0.112, 0.131, 0.147, 0.162, 0.17, 0.168, 0.141, 0.122, 0.115, 0.092, 0.075, 0.072, 0.096, 0.086, 0.08, 0.085, 0.094, 0.098, 0.089, 0.085, 0.087, 0.103, 0.107, 0.092, 0.08, 0.081, 0.087, 0.097, 0.106, 0.096, 0.089, 0.09, 0.086, 0.068, 0.055, 0.051, 0.055, 0.057, 0.067, 0.059, 0.068, 0.065, 0.075, 0.074, 0.066, 0.063, 0.074, 0.082, 0.069, 0.082, 0.081, 0.085, 0.091, 0.091, 0.084, 0.09, 0.091, 0.088, 0.092, 0.107, 0.116, 0.105, 0.09, 0.07, 0.08, 0.07, 0.079, 0.081, 0.083, 0.078, 0.079, 0.068, 0.069, 0.078, 0.086, 0.075, 0.08, 0.079, 0.074, 0.073, 0.073, 0.065, 0.067, 0.064, 0.066, 0.066, 0.061, 0.066, 0.057, 0.056, 0.061, 0.065, 0.09, 0.093, 0.09, 0.097, 0.094, 0.081, 0.089, 0.103, 0.116, 0.123, 0.138, 0.157, 0.176, 0.173, 0.164, None, None, None, None, None, None, None]}, 'derived-bfactor-mobi-6gn0_C': {'source_id': '6gn0_C', 'scores': [None, None, 0.241, 0.241, 0.224, 0.206, 0.196, 0.175, 0.152, 0.134, 0.129, 0.127, 0.129, 0.135, 0.132, 0.12, 0.119, 0.121, 0.121, 0.118, 0.127, 0.132, 0.143, 0.138, 0.132, 0.136, 0.137, 0.139, 0.138, 0.141, 0.142, 0.15, 0.17, 0.184, 0.192, 0.198, 0.19, 0.166, 0.157, 0.142, 0.131, 0.127, 0.115, 0.113, 0.111, 0.105, 0.108, 0.115, 0.118, 0.112, 0.114, 0.109, 0.11, 0.124, 0.117, 0.107, 0.103, 0.107, 0.116, 0.132, 0.138, 0.135, 0.142, 0.137, 0.139, 0.151, 0.154, 0.16, 0.166, 0.181, None, None, None, None, None, 0.197, 0.207, 0.211, 0.208, 0.21, 0.194, 0.185, 0.178, 0.168, 0.156, 0.134, 0.11, 0.113, 0.126, 0.141, 0.142, 0.143, 0.136, 0.14, 0.132, 0.148, 0.158, 0.166, 0.166, 0.178, 0.187, 0.177, 0.177, 0.183, 0.179, 0.172, 0.143, 0.145, 0.162, 0.176, 0.179, 0.165, 0.153, 0.15, 0.149, 0.142, 0.139, 0.139, 0.144, 0.14, 0.129, 0.13, 0.126, 0.124, 0.117, 0.111, 0.125, 0.136, 0.109, 0.108, 0.124, 0.141, 0.156, 0.176, 0.198, 0.209, 0.204, 0.195, 0.177, 0.162, 0.154, 0.154, 0.153, 0.138, 0.127, 0.128, 0.123, 0.119, 0.132, 0.139, 0.131, 0.122, 0.118, 0.125, 0.133, 0.124, 0.116, 0.117, 0.128, 0.144, 0.151, 0.146, 0.121, 0.111, 0.114, 0.117, 0.112, 0.116, 0.117, 0.118, 0.115, 0.11, 0.1, 0.089, 0.107, 0.118, 0.11, 0.112, 0.12, 0.122, 0.127, 0.128, 0.126, 0.119, 0.125, 0.122, 0.117, 0.122, 0.11, 0.096, 0.093, 0.094, 0.088, 0.077, 0.08, 0.089, 0.101, 0.112, 0.106, 0.099, 0.104, 0.119, 0.121, 0.13, 0.123, 0.133, 0.144, 0.143, 0.141, 0.135, 0.134, 0.113, 0.086, 0.09, 0.092, 0.086, 0.09, 0.094, 0.091, 0.088, 0.096, 0.095, 0.087, 0.093, 0.095, 0.093, 0.092, 0.098, 0.099, 0.098, 0.101, 0.109, 0.124, 0.134, 0.126, 0.123, 0.121, 0.121, 0.113, None, None, None, None, None, None, None]}, 'derived-bfactor-mobi-6gn0_D': {'source_id': '6gn0_D', 'scores': [None, None, 0.239, 0.244, 0.236, 0.225, 0.218, 0.193, 0.168, 0.151, 0.132, 0.128, 0.11, 0.1, 0.095, 0.09, 0.096, 0.117, 0.125, 0.124, 0.126, 0.115, 0.101, 0.102, 0.121, 0.135, 0.13, 0.123, 0.128, 0.121, 0.116, 0.122, 0.133, 0.142, 0.166, 0.185, 0.182, 0.166, 0.151, 0.145, 0.131, 0.119, 0.117, 0.116, 0.107, 0.113, 0.117, 0.122, 0.123, 0.107, 0.1, 0.102, 0.106, 0.111, 0.114, 0.109, 0.108, 0.099, 0.115, 0.128, 0.123, 0.097, 0.089, 0.091, 0.116, 0.132, 0.139, 0.152, 0.165, 0.176, 0.26, None, None, None, 0.265, 0.261, 0.259, 0.251, 0.24, 0.228, 0.204, 0.189, 0.18, 0.168, 0.156, 0.151, 0.133, 0.121, 0.116, 0.12, 0.118, 0.129, 0.132, 0.144, 0.146, 0.142, 0.133, 0.13, 0.122, 0.129, 0.143, 0.142, 0.14, 0.154, 0.162, 0.169, 0.17, 0.16, 0.157, 0.153, 0.16, 0.158, 0.152, 0.152, 0.146, 0.141, 0.134, 0.141, 0.139, 0.142, 0.136, 0.123, 0.13, 0.135, 0.129, 0.118, 0.116, 0.122, 0.11, 0.112, 0.117, 0.117, 0.121, 0.134, 0.162, 0.183, 0.187, 0.182, 0.175, 0.163, 0.142, 0.132, 0.124, 0.113, 0.123, 0.125, 0.115, 0.121, 0.129, 0.118, 0.112, 0.118, 0.125, 0.128, 0.124, 0.125, 0.118, 0.119, 0.119, 0.134, 0.149, 0.146, 0.142, 0.139, 0.119, 0.103, 0.095, 0.091, 0.087, 0.092, 0.101, 0.114, 0.117, 0.109, 0.105, 0.112, 0.104, 0.108, 0.115, 0.112, 0.124, 0.124, 0.138, 0.143, 0.139, 0.142, 0.141, 0.142, 0.137, 0.128, 0.116, 0.121, 0.108, 0.102, 0.104, 0.109, 0.108, 0.106, 0.109, 0.105, 0.099, 0.097, 0.106, 0.107, 0.103, 0.117, 0.113, 0.106, 0.115, 0.121, 0.136, 0.136, 0.121, 0.118, 0.119, 0.106, 0.109, 0.1, 0.084, 0.08, 0.071, 0.067, 0.055, 0.064, 0.075, 0.085, 0.09, 0.098, 0.093, 0.098, 0.095, 0.114, 0.137, 0.145, 0.141, 0.143, 0.143, 0.136, 0.122, None, None, None, None, None, None, None]}, 'derived-bfactor-mobi-6gn8_A': {'source_id': '6gn8_A', 'scores': [None, 0.671, 0.605, 0.576, 0.504, 0.49, 0.446, 0.386, 0.354, 0.389, 0.362, 0.335, 0.334, 0.323, 0.298, 0.276, 0.312, 0.3, 0.297, 0.264, 0.235, 0.252, 0.268, 0.264, 0.273, 0.302, 0.328, 0.299, 0.322, 0.355, 0.368, 0.35, 0.375, 0.434, 0.428, 0.435, 0.402, 0.363, 0.361, 0.323, 0.335, 0.322, 0.295, 0.291, 0.285, 0.265, 0.264, 0.237, 0.237, 0.235, 0.232, 0.241, 0.24, 0.235, 0.199, 0.225, 0.231, 0.232, 0.227, 0.248, 0.248, 0.256, 0.278, 0.298, 0.304, 0.337, 0.366, 0.403, 0.453, 0.496, 0.548, 0.612, 0.655, 0.639, 0.629, 0.59, 0.533, 0.498, 0.492, 0.465, 0.377, 0.373, 0.36, 0.305, 0.285, 0.319, 0.3, 0.275, 0.272, 0.295, 0.267, 0.268, 0.267, 0.284, 0.255, 0.257, 0.293, 0.294, 0.279, 0.286, 0.33, 0.315, 0.287, 0.367, 0.393, 0.38, 0.327, 0.328, 0.404, 0.419, 0.386, 0.446, 0.415, 0.388, 0.359, 0.334, 0.332, 0.266, 0.238, 0.248, 0.228, 0.219, 0.226, 0.246, 0.222, 0.206, 0.209, 0.222, 0.223, 0.211, 0.262, 0.292, 0.288, 0.306, 0.341, 0.377, 0.396, 0.399, 0.365, 0.302, 0.313, 0.311, 0.279, 0.257, 0.302, 0.289, 0.245, 0.255, 0.283, 0.24, 0.228, 0.241, 0.288, 0.256, 0.268, 0.289, 0.276, 0.255, 0.282, 0.326, 0.315, 0.283, 0.264, 0.228, 0.225, 0.242, 0.222, 0.227, 0.223, 0.201, 0.196, 0.209, 0.21, 0.191, 0.196, 0.205, 0.198, 0.186, 0.197, 0.231, 0.246, 0.237, 0.25, 0.252, 0.291, 0.275, 0.281, 0.268, 0.233, 0.201, 0.225, 0.237, 0.233, 0.23, 0.228, 0.251, 0.236, 0.227, 0.229, 0.222, 0.226, 0.243, 0.219, 0.264, 0.265, 0.311, 0.269, 0.253, 0.257, 0.312, 0.311, 0.259, 0.242, 0.257, 0.228, 0.217, 0.224, 0.256, 0.209, 0.232, 0.249, 0.239, 0.214, 0.249, 0.275, 0.253, 0.27, 0.316, 0.31, 0.308, 0.371, 0.49, 0.633, None, None, None, None, None, None, None, None, None, None, None, None, None]}, 'derived-bfactor-mobi-6gn8_B': {'source_id': '6gn8_B', 'scores': [None, None, 0.649, 0.624, 0.526, 0.515, 0.471, 0.401, 0.391, 0.406, 0.366, 0.319, 0.326, 0.336, 0.294, 0.295, 0.338, 0.297, 0.269, 0.248, 0.248, 0.265, 0.293, 0.277, 0.294, 0.3, 0.313, 0.305, 0.326, 0.36, 0.359, 0.354, 0.37, 0.412, 0.409, 0.432, 0.42, 0.393, 0.441, 0.464, 0.435, 0.391, 0.371, 0.372, 0.34, 0.313, 0.321, 0.325, 0.28, 0.27, 0.276, 0.276, 0.248, 0.273, 0.29, 0.264, 0.281, 0.297, 0.296, 0.295, 0.331, 0.38, 0.343, 0.354, 0.412, 0.456, 0.454, 0.512, 0.605, 0.675, 0.721, 0.818, 0.881, 0.85, 0.82, 0.732, 0.653, 0.634, 0.579, 0.518, 0.458, 0.433, 0.387, 0.338, 0.358, 0.369, 0.321, 0.297, 0.332, 0.321, 0.299, 0.302, 0.315, 0.295, 0.268, 0.294, 0.309, 0.299, 0.284, 0.327, 0.335, 0.319, 0.349, 0.396, 0.386, 0.388, 0.379, 0.42, 0.464, 0.484, 0.479, 0.555, 0.565, 0.562, 0.531, 0.468, 0.448, 0.434, 0.383, 0.371, 0.377, 0.359, 0.34, 0.345, 0.369, 0.319, 0.299, 0.322, 0.368, 0.324, 0.351, 0.424, 0.432, 0.434, 0.484, 0.557, 0.601, 0.582, 0.499, 0.49, 0.507, 0.451, 0.399, 0.423, 0.451, 0.423, 0.392, 0.441, 0.452, 0.413, 0.437, 0.476, 0.451, 0.433, 0.492, 0.522, 0.516, 0.556, 0.635, 0.665, 0.655, 0.669, 0.734, 0.733, 0.723, 0.629, 0.554, 0.483, 0.519, 0.547, 0.479, 0.49, 0.555, 0.535, 0.458, 0.486, 0.554, 0.511, 0.499, 0.58, 0.612, 0.558, 0.543, 0.617, 0.685, 0.738, 0.786, 0.829, 0.748, 0.712, 0.795, 0.809, 0.72, 0.704, 0.811, 0.816, 0.749, 0.806, 0.905, 0.889, 0.875, 0.973, 1, 1, 1, 1, None, None, None, None, None, 0.999, 0.971, 0.928, 0.834, 0.834, 0.858, 0.769, 0.696, 0.759, 0.764, 0.69, 0.742, 0.845, 0.83, 0.794, 0.888, 0.985, 0.952, 0.97, 1, 1, None, None, None, None, None, None, None, None, None, None, None, None, None, None]}, 'derived-bfactor-mobi-6gnj_A': {'source_id': '6gnj_A', 'scores': [None, None, 0.335, 0.336, 0.296, 0.29, 0.277, 0.241, 0.234, 0.254, 0.247, 0.221, 0.213, 0.211, 0.198, 0.186, 0.196, 0.21, 0.196, 0.188, 0.19, 0.19, 0.195, 0.187, 0.189, 0.204, 0.211, 0.202, 0.204, 0.225, 0.229, 0.219, 0.233, 0.266, 0.289, 0.299, 0.269, 0.238, 0.236, 0.227, 0.225, 0.219, 0.2, 0.198, 0.18, 0.174, 0.171, 0.162, 0.179, 0.179, 0.159, 0.16, 0.162, 0.158, 0.169, 0.193, 0.201, 0.182, 0.17, 0.184, 0.178, 0.166, 0.178, 0.199, 0.208, 0.229, 0.244, 0.267, 0.295, 0.317, 0.36, 0.382, 0.407, 0.402, 0.387, 0.354, 0.327, 0.305, 0.303, 0.296, 0.258, 0.248, 0.237, 0.211, 0.192, 0.19, 0.182, 0.16, 0.179, 0.195, 0.188, 0.189, 0.187, 0.188, 0.171, 0.173, 0.202, 0.218, 0.208, 0.203, 0.218, 0.206, 0.196, 0.231, 0.235, 0.215, 0.191, 0.203, 0.242, 0.268, 0.268, 0.281, 0.255, 0.231, 0.219, 0.216, 0.199, 0.169, 0.165, 0.169, 0.166, 0.152, 0.162, 0.181, 0.173, 0.156, 0.157, 0.168, 0.163, 0.161, 0.154, 0.161, 0.177, 0.205, 0.23, 0.249, 0.257, 0.262, 0.233, 0.198, 0.205, 0.196, 0.172, 0.173, 0.189, 0.181, 0.173, 0.184, 0.194, 0.171, 0.154, 0.175, 0.202, 0.183, 0.188, 0.204, 0.193, 0.191, 0.201, 0.204, 0.202, 0.188, 0.186, 0.182, 0.177, 0.185, 0.169, 0.156, 0.159, 0.151, 0.153, 0.16, 0.161, 0.15, 0.15, 0.146, 0.157, 0.155, 0.148, 0.168, 0.183, 0.171, 0.173, 0.18, 0.193, 0.186, 0.181, 0.183, 0.165, 0.159, 0.165, 0.171, 0.156, 0.158, 0.175, 0.173, 0.165, 0.168, 0.173, 0.172, 0.162, 0.171, 0.185, 0.195, 0.178, 0.192, 0.193, 0.179, 0.19, 0.203, 0.209, 0.18, 0.18, 0.176, 0.164, 0.167, 0.168, 0.178, 0.155, 0.168, 0.173, 0.166, 0.157, 0.158, 0.176, 0.171, 0.177, 0.2, 0.205, 0.22, 0.242, 0.275, 0.336, None, None, None, None, None, None, None, None, None, None, None, None, None]}, 'derived-bfactor-mobi-6gnj_B': {'source_id': '6gnj_B', 'scores': [None, None, 0.383, 0.374, 0.328, 0.329, 0.304, 0.253, 0.256, 0.265, 0.244, 0.207, 0.199, 0.201, 0.191, 0.196, 0.209, 0.209, 0.178, 0.177, 0.175, 0.193, 0.219, 0.205, 0.201, 0.213, 0.222, 0.207, 0.198, 0.221, 0.23, 0.217, 0.23, 0.255, 0.262, 0.276, 0.273, 0.262, 0.278, 0.273, 0.275, 0.259, 0.245, 0.24, 0.219, 0.209, 0.2, 0.187, 0.177, 0.17, 0.175, 0.171, 0.162, 0.182, 0.19, 0.188, 0.185, 0.185, 0.197, 0.199, 0.21, 0.215, 0.214, 0.224, 0.251, 0.26, 0.254, 0.273, 0.315, 0.343, 0.37, 0.409, 0.435, 0.429, 0.424, 0.397, 0.367, 0.357, 0.342, 0.315, 0.284, 0.272, 0.247, 0.214, 0.205, 0.225, 0.211, 0.189, 0.201, 0.208, 0.205, 0.191, 0.204, 0.22, 0.206, 0.206, 0.224, 0.216, 0.184, 0.187, 0.204, 0.204, 0.207, 0.224, 0.234, 0.238, 0.239, 0.248, 0.262, 0.293, 0.3, 0.326, 0.333, 0.32, 0.306, 0.274, 0.254, 0.247, 0.251, 0.238, 0.225, 0.219, 0.212, 0.227, 0.238, 0.225, 0.204, 0.208, 0.208, 0.196, 0.201, 0.237, 0.252, 0.267, 0.293, 0.322, 0.34, 0.337, 0.302, 0.291, 0.304, 0.286, 0.261, 0.26, 0.271, 0.256, 0.25, 0.28, 0.297, 0.278, 0.275, 0.288, 0.29, 0.292, 0.306, 0.312, 0.3, 0.311, 0.341, 0.352, 0.344, 0.343, 0.362, 0.364, 0.361, 0.327, 0.305, 0.278, 0.287, 0.302, 0.292, 0.294, 0.306, 0.296, 0.281, 0.304, 0.319, 0.307, 0.306, 0.328, 0.336, 0.315, 0.308, 0.34, 0.381, 0.418, 0.436, 0.447, 0.415, 0.406, 0.431, 0.444, 0.411, 0.402, 0.427, 0.432, 0.41, 0.432, 0.481, 0.483, 0.481, 0.498, 0.507, 0.507, 0.507, 0.515, 0.512, 0.507, 0.502, 0.5, 0.486, 0.466, 0.479, 0.446, 0.418, 0.42, 0.431, 0.41, 0.394, 0.414, 0.41, 0.377, 0.389, 0.422, 0.416, 0.4, 0.435, 0.469, 0.451, 0.459, 0.491, 0.498, None, None, None, None, None, None, None, None, None, None, None, None, None, None]}, 'derived-bfactor-mobi-6gnk_A': {'source_id': '6gnk_A', 'scores': [None, None, 0.697, 0.664, 0.627, 0.612, 0.592, 0.539, 0.508, 0.503, 0.489, 0.451, 0.44, 0.457, 0.433, 0.428, 0.422, 0.42, 0.404, 0.401, 0.368, 0.355, 0.397, 0.415, 0.421, 0.426, 0.419, 0.422, 0.432, 0.479, 0.458, 0.485, 0.523, 0.556, 0.593, 0.613, 0.578, 0.52, 0.483, 0.464, 0.437, 0.434, 0.41, 0.403, 0.394, 0.373, 0.373, 0.359, 0.357, 0.345, 0.331, 0.327, 0.305, 0.313, 0.326, 0.333, 0.333, 0.325, 0.338, 0.352, 0.381, 0.393, 0.41, 0.424, 0.48, 0.499, 0.524, 0.569, 0.633, 0.679, 0.714, 0.736, 0.749, 0.745, 0.742, 0.719, 0.693, 0.648, 0.616, 0.592, 0.531, 0.493, 0.463, 0.413, 0.391, 0.387, 0.384, 0.384, 0.367, 0.367, 0.376, 0.364, 0.365, 0.366, 0.351, 0.359, 0.382, 0.387, 0.38, 0.356, 0.403, 0.394, 0.405, 0.462, 0.478, 0.491, 0.45, 0.44, 0.495, 0.519, 0.527, 0.526, 0.518, 0.512, 0.473, 0.44, 0.401, 0.371, 0.332, 0.35, 0.34, 0.328, 0.321, 0.35, 0.325, 0.295, 0.316, 0.33, 0.313, 0.316, 0.326, 0.363, 0.378, 0.396, 0.428, 0.46, 0.452, 0.44, 0.418, 0.38, 0.377, 0.345, 0.343, 0.335, 0.368, 0.359, 0.345, 0.319, 0.335, 0.323, 0.319, 0.329, 0.36, 0.37, 0.366, 0.362, 0.355, 0.361, 0.355, 0.384, 0.377, 0.364, 0.349, 0.333, 0.314, 0.333, 0.308, 0.302, 0.294, 0.284, 0.278, 0.305, 0.328, 0.289, 0.277, 0.29, 0.292, 0.301, 0.303, 0.321, 0.329, 0.315, 0.336, 0.34, 0.37, 0.338, 0.323, 0.33, 0.325, 0.314, 0.31, 0.292, 0.281, 0.269, 0.269, 0.272, 0.272, 0.286, 0.276, 0.313, 0.309, 0.309, 0.286, 0.298, 0.301, 0.334, 0.324, 0.316, 0.338, 0.358, 0.358, 0.332, 0.312, 0.317, 0.33, 0.319, 0.306, 0.313, 0.294, 0.309, 0.29, 0.287, 0.28, 0.288, 0.303, 0.301, 0.313, 0.342, 0.338, 0.326, 0.34, 0.35, 0.37, 0.498, None, None, None, None, None, None, None, None, None, None, None, None]}, 'derived-bfactor-mobi-6gnk_B': {'source_id': '6gnk_B', 'scores': [None, None, 0.72, 0.711, 0.694, 0.676, 0.649, 0.612, 0.572, 0.544, 0.506, 0.484, 0.447, 0.43, 0.418, 0.404, 0.419, 0.403, 0.386, 0.378, 0.391, 0.409, 0.431, 0.425, 0.455, 0.486, 0.511, 0.51, 0.532, 0.56, 0.581, 0.598, 0.609, 0.645, 0.663, 0.667, 0.661, 0.64, 0.616, 0.606, 0.595, 0.576, 0.57, 0.553, 0.528, 0.517, 0.496, 0.471, 0.411, 0.405, 0.395, 0.421, 0.42, 0.426, 0.408, 0.412, 0.412, 0.418, 0.441, 0.458, 0.504, 0.499, 0.52, 0.536, 0.572, 0.587, 0.603, 0.626, 0.663, 0.708, 0.751, 0.779, 0.795, 0.791, 0.785, 0.761, 0.746, 0.721, 0.71, 0.691, 0.664, 0.642, 0.613, 0.592, 0.558, 0.548, 0.53, 0.522, 0.523, 0.507, 0.497, 0.483, 0.492, 0.488, 0.491, 0.518, 0.542, 0.563, 0.559, 0.566, 0.596, 0.62, 0.626, 0.637, 0.635, 0.64, 0.677, 0.707, 0.721, 0.728, 0.738, 0.753, 0.755, 0.749, 0.74, 0.729, 0.714, 0.701, 0.699, 0.678, 0.641, 0.607, 0.586, 0.565, 0.534, 0.537, 0.538, 0.542, 0.534, 0.537, 0.568, 0.603, 0.63, 0.666, 0.692, 0.716, 0.734, 0.741, 0.732, 0.713, 0.719, 0.704, 0.681, 0.67, 0.685, 0.688, 0.687, 0.678, 0.658, 0.651, 0.651, 0.668, 0.672, 0.712, 0.755, 0.785, 0.8, 0.836, 0.871, 0.903, 0.935, 0.975, 1, 1, 1, 1, 1, 1, 1, 1, 1, 1, 1, 1, 1, 1, 1, 1, 1, 1, 1, 1, 1, 1, 1, 1, 1, 1, 1, 1, 1, 1, 1, 1, 1, 1, 1, 1, 1, 1, 1, 1, 1, 1, 1, 1, 1, 1, 1, 1, 1, 1, 1, 1, 1, 1, 1, 1, 1, 1, 1, 1, 1, 1, 1, 1, 1, 1, 1, 1, 1, 1, None, None, None, None, None, None, None, None, None, None, None, None, None, None]}, 'derived-bfactor-mobi-6gnn_A': {'source_id': '6gnn_A', 'scores': [None, None, 0.3, 0.312, 0.299, 0.3, 0.275, 0.261, 0.253, 0.238, 0.243, 0.245, 0.224, 0.231, 0.218, 0.237, 0.223, 0.238, 0.222, 0.229, 0.221, 0.225, 0.232, 0.214, 0.224, 0.226, 0.227, 0.231, 0.233, 0.266, 0.27, 0.273, 0.281, 0.286, 0.29, 0.296, 0.299, 0.259, 0.235, 0.238, 0.224, 0.229, 0.228, 0.223, 0.207, 0.209, 0.204, 0.212, 0.216, 0.202, 0.211, 0.21, 0.198, 0.205, 0.213, 0.215, 0.217, 0.222, 0.226, 0.223, 0.234, 0.234, 0.226, 0.231, 0.246, 0.228, 0.231, 0.257, 0.244, 0.242, None, None, None, None, None, 0.277, 0.285, 0.293, 0.311, 0.305, 0.287, 0.286, 0.293, 0.293, 0.26, 0.267, 0.243, 0.238, 0.235, 0.226, 0.221, 0.216, 0.218, 0.221, 0.204, 0.223, 0.24, 0.225, 0.219, 0.233, 0.245, 0.236, 0.24, 0.257, 0.268, 0.274, 0.249, 0.242, 0.261, 0.285, 0.28, 0.28, 0.273, 0.253, 0.241, 0.234, 0.243, 0.239, 0.222, 0.241, 0.229, 0.23, 0.221, 0.229, 0.234, 0.224, 0.23, 0.234, 0.225, 0.226, 0.229, 0.239, 0.251, 0.254, 0.287, 0.301, 0.291, 0.305, 0.293, 0.295, 0.265, 0.251, 0.243, 0.231, 0.244, 0.249, 0.239, 0.233, 0.258, 0.238, 0.225, 0.237, 0.256, 0.22, 0.231, 0.245, 0.232, 0.225, 0.224, 0.242, 0.25, 0.23, 0.207, 0.208, 0.2, 0.203, 0.189, 0.227, 0.215, 0.199, 0.196, 0.214, 0.196, 0.209, 0.224, 0.231, 0.239, 0.244, 0.253, 0.248, 0.236, 0.258, 0.251, 0.238, 0.236, 0.22, 0.225, 0.238, 0.242, 0.227, 0.228, 0.222, 0.218, 0.195, 0.22, 0.214, 0.188, 0.177, 0.211, 0.227, 0.194, 0.181, 0.188, 0.212, 0.203, 0.221, 0.234, 0.239, 0.265, 0.232, 0.25, 0.227, 0.202, 0.206, 0.198, 0.195, 0.174, 0.201, 0.188, 0.198, 0.202, 0.199, 0.209, 0.218, 0.211, 0.23, 0.205, 0.23, 0.213, 0.224, 0.23, 0.243, None, None, None, None, None, None, None, None, None, None, None, None, None, None]}, 'derived-bfactor-mobi-6hep_A': {'source_id': '6hep_A', 'scores': [None, None, 0.432, 0.379, 0.312, 0.331, 0.326, 0.222, 0.179, 0.207, 0.2, 0.162, 0.151, 0.153, 0.147, 0.185, 0.18, 0.154, 0.169, 0.133, 0.14, 0.171, 0.155, 0.15, 0.135, 0.173, 0.153, 0.163, 0.15, 0.169, 0.196, 0.154, 0.179, 0.269, 0.27, 0.318, 0.273, 0.221, 0.217, 0.274, 0.266, 0.206, 0.195, 0.196, 0.191, 0.153, 0.126, 0.131, 0.131, 0.124, 0.119, 0.128, 0.131, 0.114, 0.132, 0.14, 0.099, 0.117, 0.112, 0.118, 0.102, 0.123, 0.129, 0.106, 0.151, 0.169, 0.162, 0.189, 0.216, 0.222, 0.249, 0.361, 0.349, 0.303, 0.343, 0.335, 0.243, 0.229, 0.225, 0.162, 0.159, 0.145, 0.138, 0.126, 0.139, 0.161, 0.132, 0.122, 0.16, 0.181, 0.136, 0.143, 0.156, 0.159, 0.135, 0.129, 0.126, 0.144, 0.103, 0.129, 0.117, 0.137, 0.118, 0.179, 0.152, 0.155, 0.145, 0.165, 0.251, 0.261, 0.216, 0.301, 0.297, 0.3, 0.294, 0.224, 0.189, 0.148, 0.144, 0.109, 0.11, 0.115, 0.098, 0.101, 0.091, 0.073, 0.104, 0.102, 0.112, 0.114, 0.116, 0.144, 0.159, 0.175, 0.193, 0.256, 0.277, 0.283, 0.262, 0.203, 0.195, 0.194, 0.137, 0.17, 0.223, 0.157, 0.148, 0.155, 0.172, 0.156, 0.132, 0.16, 0.186, 0.137, 0.165, 0.21, 0.167, 0.167, 0.224, 0.301, 0.224, 0.192, 0.225, 0.182, 0.154, 0.153, 0.162, 0.161, 0.145, 0.104, 0.141, 0.11, 0.107, 0.132, 0.136, 0.101, 0.117, 0.113, 0.119, 0.143, 0.14, 0.212, 0.156, 0.191, 0.248, 0.194, 0.221, 0.233, 0.196, 0.149, 0.153, 0.13, 0.158, 0.121, 0.137, 0.169, 0.163, 0.178, 0.181, 0.182, 0.154, 0.198, 0.193, 0.196, 0.167, 0.179, 0.184, 0.195, 0.246, 0.293, 0.353, 0.329, 0.279, 0.28, 0.292, 0.199, 0.17, 0.193, 0.169, 0.153, 0.211, 0.197, 0.178, 0.22, 0.245, 0.169, 0.238, 0.332, 0.329, 0.285, 0.432, 0.52, None, None, None, None, None, None, None, None, None, None, None, None, None, None]}, 'derived-bfactor-mobi-6hep_B': {'source_id': '6hep_B', 'scores': [0.168, 0.198, 0.209, 0.25, 0.219, 0.146, 0.13, 0.128, 0.125, 0.12, 0.119, 0.128, 0.111, 0.107, 0.109, 0.12, 0.138, 0.132, 0.16, 0.132, 0.126, 0.148, 0.126, 0.088, 0.105, 0.116, 0.1, 0.105, 0.124, 0.128, 0.121, 0.116, 0.127, 0.192, 0.233, 0.241, 0.206, 0.181, 0.19, 0.208, 0.172, 0.177, 0.118, 0.138, 0.118, 0.112, 0.112, 0.121, 0.139, 0.118, 0.07, 0.116, 0.128, 0.097, 0.119, 0.16, 0.123, 0.127, 0.166, 0.134, 0.162, 0.144, 0.163, 0.185, 0.228, 0.277, 0.251, 0.293, 0.393, 0.38, 0.389, 0.354, 0.262, 0.295, 0.308, 0.322, 0.286, 0.269, 0.296, 0.307, 0.249, 0.238, 0.241, 0.213, 0.175, 0.216, 0.167, 0.173, 0.156, 0.195, 0.17, 0.161, 0.169, 0.152, 0.117, 0.123, 0.142, 0.115, 0.115, 0.146, 0.121, 0.111, 0.13, 0.186, 0.15, 0.148, 0.143, 0.158, 0.213, 0.228, 0.254, 0.343, 0.311, 0.299, 0.294, 0.19, 0.191, 0.15, 0.145, 0.124, 0.149, 0.113, 0.104, 0.086, 0.085, 0.103, 0.106, 0.136, 0.105, 0.114, 0.118, 0.156, 0.149, 0.181, 0.228, 0.274, 0.285, 0.343, 0.267, 0.225, 0.224, 0.183, 0.149, 0.175, 0.184, 0.148, 0.138, 0.185, 0.191, 0.13, 0.147, 0.156, 0.186, 0.176, 0.199, 0.262, 0.236, 0.208, 0.279, 0.289, 0.265, 0.232, 0.265, 0.234, 0.195, 0.224, 0.147, 0.156, 0.177, 0.136, 0.126, 0.119, 0.152, 0.111, 0.101, 0.136, 0.121, 0.13, 0.114, 0.148, 0.19, 0.208, 0.158, 0.24, 0.237, 0.213, 0.263, 0.259, 0.243, 0.202, 0.24, 0.256, 0.238, 0.211, 0.246, 0.242, 0.218, 0.218, 0.296, 0.245, 0.236, 0.275, 0.33, 0.244, 0.268, 0.297, 0.215, 0.237, 0.274, 0.276, 0.292, 0.241, 0.224, 0.286, 0.239, 0.194, 0.183, 0.227, 0.204, 0.183, 0.205, 0.157, 0.151, 0.197, 0.207, 0.147, 0.215, 0.217, 0.223, 0.231, 0.319, 0.427, None, None, None, None, None, None, None, None, None, None, None, None, None, None]}, 'derived-bfactor-mobi-6hep_C': {'source_id': '6hep_C', 'scores': [None, None, 0.554, 0.561, 0.516, 0.463, 0.465, 0.367, 0.332, 0.357, 0.315, 0.264, 0.235, 0.249, 0.228, 0.195, 0.225, 0.244, 0.209, 0.16, 0.204, 0.221, 0.23, 0.216, 0.199, 0.218, 0.219, 0.257, 0.245, 0.291, 0.282, 0.309, 0.322, 0.371, 0.386, 0.379, 0.359, 0.359, 0.309, 0.318, 0.368, 0.289, 0.307, 0.29, 0.259, 0.225, 0.23, 0.184, 0.191, 0.182, 0.169, 0.178, 0.172, 0.154, 0.146, 0.171, 0.126, 0.142, 0.191, 0.142, 0.167, 0.182, 0.192, 0.155, 0.222, 0.289, 0.289, 0.323, 0.41, 0.409, 0.432, 0.539, 0.551, 0.447, 0.452, 0.417, 0.346, 0.342, 0.285, 0.248, 0.235, 0.215, 0.172, 0.143, 0.178, 0.183, 0.172, 0.172, 0.148, 0.193, 0.152, 0.166, 0.174, 0.185, 0.158, 0.155, 0.141, 0.137, 0.145, 0.16, 0.154, 0.198, 0.176, 0.218, 0.208, 0.186, 0.218, 0.245, 0.297, 0.294, 0.328, 0.4, 0.368, 0.288, 0.35, 0.306, 0.23, 0.187, 0.191, 0.188, 0.129, 0.138, 0.163, 0.151, 0.118, 0.131, 0.143, 0.129, 0.125, 0.147, 0.128, 0.133, 0.184, 0.207, 0.236, 0.338, 0.358, 0.337, 0.292, 0.25, 0.255, 0.234, 0.193, 0.209, 0.221, 0.188, 0.157, 0.192, 0.2, 0.179, 0.169, 0.214, 0.232, 0.212, 0.21, 0.233, 0.203, 0.226, 0.262, 0.281, 0.253, 0.285, 0.28, 0.274, 0.225, 0.223, 0.236, 0.176, 0.15, 0.169, 0.187, 0.147, 0.134, 0.148, 0.16, 0.167, 0.153, 0.17, 0.185, 0.196, 0.174, 0.248, 0.2, 0.239, 0.281, 0.292, 0.285, 0.29, 0.276, 0.176, 0.221, 0.207, 0.228, 0.189, 0.248, 0.225, 0.24, 0.222, 0.259, 0.243, 0.205, 0.211, 0.23, 0.209, 0.179, 0.175, 0.157, 0.188, 0.213, 0.251, 0.347, 0.365, 0.335, 0.282, 0.26, 0.204, 0.218, 0.236, 0.167, 0.187, 0.235, 0.181, 0.183, 0.273, 0.263, 0.246, 0.285, 0.339, 0.362, 0.338, 0.469, None, None, None, None, None, None, None, None, None, None, None, None, None, None, None]}, 'derived-bfactor-mobi-6hep_D': {'source_id': '6hep_D', 'scores': [0.192, 0.215, 0.216, 0.233, 0.213, 0.154, 0.206, 0.145, 0.154, 0.187, 0.123, 0.106, 0.131, 0.126, 0.124, 0.109, 0.169, 0.166, 0.143, 0.14, 0.143, 0.147, 0.142, 0.103, 0.123, 0.13, 0.113, 0.127, 0.125, 0.128, 0.129, 0.101, 0.141, 0.167, 0.234, 0.217, 0.226, 0.173, 0.188, 0.223, 0.198, 0.179, 0.166, 0.13, 0.131, 0.111, 0.145, 0.132, 0.151, 0.102, 0.098, 0.119, 0.158, 0.113, 0.133, 0.198, 0.166, 0.169, 0.201, 0.225, 0.199, 0.235, 0.274, 0.284, 0.291, 0.348, 0.388, 0.439, 0.496, 0.527, 0.539, None, None, None, None, None, None, 0.555, 0.531, 0.512, 0.434, 0.426, 0.452, 0.382, 0.308, 0.332, 0.266, 0.247, 0.234, 0.226, 0.233, 0.193, 0.199, 0.133, 0.149, 0.138, 0.156, 0.138, 0.118, 0.12, 0.12, 0.124, 0.132, 0.175, 0.156, 0.128, 0.139, 0.169, 0.195, 0.227, 0.234, 0.293, 0.258, 0.27, 0.287, 0.228, 0.185, 0.147, 0.141, 0.122, 0.115, 0.123, 0.101, 0.109, 0.098, 0.117, 0.119, 0.143, 0.128, 0.119, 0.154, 0.168, 0.183, 0.202, 0.254, 0.319, 0.361, 0.31, 0.25, 0.226, 0.264, 0.229, 0.212, 0.188, 0.192, 0.149, 0.17, 0.15, 0.174, 0.187, 0.128, 0.164, 0.22, 0.166, 0.233, 0.272, 0.244, 0.277, 0.357, 0.358, 0.32, 0.296, 0.343, 0.281, 0.31, 0.235, 0.198, 0.174, 0.183, 0.191, 0.171, 0.144, 0.188, 0.182, 0.117, 0.178, 0.182, 0.141, 0.162, 0.246, 0.245, 0.237, 0.21, 0.277, 0.39, 0.36, 0.317, 0.406, 0.367, 0.254, 0.293, 0.307, 0.314, 0.265, 0.326, 0.277, 0.335, 0.33, 0.35, 0.376, 0.329, 0.416, 0.439, 0.44, 0.455, None, None, None, None, None, None, None, None, 0.519, 0.451, 0.367, 0.354, 0.322, 0.301, 0.294, 0.317, 0.262, 0.274, 0.343, 0.29, 0.259, 0.324, 0.342, 0.338, 0.334, 0.453, 0.49, None, None, None, None, None, None, None, None, None, None, None, None, None, None]}, 'derived-binding_mode_disorder_to_disorder-mobi': {'regions': [[240, 246]], 'content_fraction': 0.028, 'content_count': 7}, 'derived-binding_mode_disorder_to_disorder-priority': {'regions': [[240, 246]], 'content_fraction': 0.028, 'content_count': 7}, 'derived-binding_mode_disorder_to_order-mobi': {'regions': [[1, 2], [71, 77], [206, 213], [232, 239]], 'content_fraction': 0.102, 'content_count': 25}, 'derived-binding_mode_disorder_to_order-priority': {'regions': [[1, 2], [71, 77], [206, 213], [232, 239]], 'content_fraction': 0.102, 'content_count': 25}, 'derived-missing_residues-mobi-2bq0_A': {'source_id': '2bq0_A', 'regions': [[1, 2], [233, 240]], 'content_fraction': 0.041, 'content_count': 10}, 'derived-missing_residues-mobi-2bq0_B': {'source_id': '2bq0_B', 'regions': [[1, 2], [234, 240]], 'content_fraction': 0.037, 'content_count': 9}, 'derived-missing_residues-mobi-2c23_A': {'source_id': '2c23_A', 'regions': [[1, 2], [71, 75], [233, 240]], 'content_fraction': 0.061, 'content_count': 15}, 'derived-missing_residues-mobi-4dnk_A': {'source_id': '4dnk_A', 'regions': [[1, 1], [234, 246]], 'content_fraction': 0.057, 'content_count': 14}, 'derived-missing_residues-mobi-4dnk_B': {'source_id': '4dnk_B', 'regions': [[235, 246]], 'content_fraction': 0.049, 'content_count': 12}, 'derived-missing_residues-mobi-5n10_A': {'source_id': '5n10_A', 'regions': [[1, 2], [234, 246]], 'content_fraction': 0.061, 'content_count': 15}, 'derived-missing_residues-mobi-5n10_B': {'source_id': '5n10_B', 'regions': [[234, 246]], 'content_fraction': 0.053, 'content_count': 13}, 'derived-missing_residues-mobi-6a5q_A': {'source_id': '6a5q_A', 'regions': [[1, 2], [235, 246]], 'content_fraction': 0.057, 'content_count': 14}, 'derived-missing_residues-mobi-6a5q_B': {'source_id': '6a5q_B', 'regions': [[1, 2], [235, 246]], 'content_fraction': 0.057, 'content_count': 14}, 'derived-missing_residues-mobi-6a5q_C': {'source_id': '6a5q_C', 'regions': [[1, 2], [72, 77], [235, 246]], 'content_fraction': 0.081, 'content_count': 20}, 'derived-missing_residues-mobi-6gn0_A': {'source_id': '6gn0_A', 'regions': [[1, 2]], 'content_fraction': 0.008, 'content_count': 2}, 'derived-missing_residues-mobi-6gn0_B': {'source_id': '6gn0_B', 'regions': [[1, 2], [71, 75]], 'content_fraction': 0.028, 'content_count': 7}, 'derived-missing_residues-mobi-6gn0_C': {'source_id': '6gn0_C', 'regions': [[1, 2], [71, 75]], 'content_fraction': 0.028, 'content_count': 7}, 'derived-missing_residues-mobi-6gn0_D': {'source_id': '6gn0_D', 'regions': [[1, 2], [72, 74]], 'content_fraction': 0.02, 'content_count': 5}, 'derived-missing_residues-mobi-6gn8_A': {'source_id': '6gn8_A', 'regions': [[1, 1], [234, 234]], 'content_fraction': 0.008, 'content_count': 2}, 'derived-missing_residues-mobi-6gn8_B': {'source_id': '6gn8_B', 'regions': [[1, 2], [207, 211], [233, 234]], 'content_fraction': 0.037, 'content_count': 9}, 'derived-missing_residues-mobi-6gnj_A': {'source_id': '6gnj_A', 'regions': [[1, 2], [234, 234]], 'content_fraction': 0.012, 'content_count': 3}, 'derived-missing_residues-mobi-6gnj_B': {'source_id': '6gnj_B', 'regions': [[1, 2], [233, 234]], 'content_fraction': 0.016, 'content_count': 4}, 'derived-missing_residues-mobi-6gnk_A': {'source_id': '6gnk_A', 'regions': [[1, 2]], 'content_fraction': 0.008, 'content_count': 2}, 'derived-missing_residues-mobi-6gnk_B': {'source_id': '6gnk_B', 'regions': [[1, 2], [233, 234]], 'content_fraction': 0.016, 'content_count': 4}, 'derived-missing_residues-mobi-6gnn_A': {'source_id': '6gnn_A', 'regions': [[1, 2], [71, 75], [233, 239]], 'content_fraction': 0.057, 'content_count': 14}, 'derived-missing_residues-mobi-6hep_A': {'source_id': '6hep_A', 'regions': [[1, 2]], 'content_fraction': 0.008, 'content_count': 2}, 'derived-missing_residues-mobi-6hep_C': {'source_id': '6hep_C', 'regions': [[1, 2], [232, 232]], 'content_fraction': 0.012, 'content_count': 3}, 'derived-missing_residues-mobi-6hep_D': {'source_id': '6hep_D', 'regions': [[72, 77], [206, 213]], 'content_fraction': 0.057, 'content_count': 14}, 'derived-missing_residues-th_90': {'regions': [[240, 246]], 'content_fraction': 0.028, 'content_count': 7}, 'derived-missing_residues_context_dependent-th_90': {'regions': [[1, 2], [71, 75], [233, 239]], 'content_fraction': 0.057, 'content_count': 14}, 'derived-observed-mobi-2bq0_A': {'source_id': '2bq0_A', 'regions': [[3, 232]], 'content_fraction': 0.935, 'content_count': 230}, 'derived-observed-mobi-2bq0_B': {'source_id': '2bq0_B', 'regions': [[3, 233]], 'content_fraction': 0.939, 'content_count': 231}, 'derived-observed-mobi-2c23_A': {'source_id': '2c23_A', 'regions': [[3, 70], [76, 232]], 'content_fraction': 0.915, 'content_count': 225}, 'derived-observed-mobi-4dnk_A': {'source_id': '4dnk_A', 'regions': [[2, 233]], 'content_fraction': 0.943, 'content_count': 232}, 'derived-observed-mobi-4dnk_B': {'source_id': '4dnk_B', 'regions': [[1, 234]], 'content_fraction': 0.951, 'content_count': 234}, 'derived-observed-mobi-5n10_A': {'source_id': '5n10_A', 'regions': [[3, 233]], 'content_fraction': 0.939, 'content_count': 231}, 'derived-observed-mobi-5n10_B': {'source_id': '5n10_B', 'regions': [[1, 233]], 'content_fraction': 0.947, 'content_count': 233}, 'derived-observed-mobi-6a5q_A': {'source_id': '6a5q_A', 'regions': [[3, 234]], 'content_fraction': 0.943, 'content_count': 232}, 'derived-observed-mobi-6a5q_B': {'source_id': '6a5q_B', 'regions': [[3, 234]], 'content_fraction': 0.943, 'content_count': 232}, 'derived-observed-mobi-6a5q_C': {'source_id': '6a5q_C', 'regions': [[3, 71], [78, 234]], 'content_fraction': 0.919, 'content_count': 226}, 'derived-observed-mobi-6byk_A': {'source_id': '6byk_A', 'regions': [[3, 232]], 'content_fraction': 0.935, 'content_count': 230}, 'derived-observed-mobi-6byk_B': {'source_id': '6byk_B', 'regions': [[3, 232]], 'content_fraction': 0.935, 'content_count': 230}, 'derived-observed-mobi-6byk_C': {'source_id': '6byk_C', 'regions': [[3, 232]], 'content_fraction': 0.935, 'content_count': 230}, 'derived-observed-mobi-6byk_D': {'source_id': '6byk_D', 'regions': [[3, 232]], 'content_fraction': 0.935, 'content_count': 230}, 'derived-observed-mobi-6gn0_A': {'source_id': '6gn0_A', 'regions': [[3, 239]], 'content_fraction': 0.963, 'content_count': 237}, 'derived-observed-mobi-6gn0_B': {'source_id': '6gn0_B', 'regions': [[3, 70], [76, 239]], 'content_fraction': 0.943, 'content_count': 232}, 'derived-observed-mobi-6gn0_C': {'source_id': '6gn0_C', 'regions': [[3, 70], [76, 239]], 'content_fraction': 0.943, 'content_count': 232}, 'derived-observed-mobi-6gn0_D': {'source_id': '6gn0_D', 'regions': [[3, 71], [75, 239]], 'content_fraction': 0.951, 'content_count': 234}, 'derived-observed-mobi-6gn8_A': {'source_id': '6gn8_A', 'regions': [[2, 233]], 'content_fraction': 0.943, 'content_count': 232}, 'derived-observed-mobi-6gn8_B': {'source_id': '6gn8_B', 'regions': [[3, 206], [212, 232]], 'content_fraction': 0.915, 'content_count': 225}, 'derived-observed-mobi-6gnj_A': {'source_id': '6gnj_A', 'regions': [[3, 233]], 'content_fraction': 0.939, 'content_count': 231}, 'derived-observed-mobi-6gnj_B': {'source_id': '6gnj_B', 'regions': [[3, 232]], 'content_fraction': 0.935, 'content_count': 230}, 'derived-observed-mobi-6gnk_A': {'source_id': '6gnk_A', 'regions': [[3, 234]], 'content_fraction': 0.943, 'content_count': 232}, 'derived-observed-mobi-6gnk_B': {'source_id': '6gnk_B', 'regions': [[3, 232]], 'content_fraction': 0.935, 'content_count': 230}, 'derived-observed-mobi-6gnn_A': {'source_id': '6gnn_A', 'regions': [[3, 70], [76, 232]], 'content_fraction': 0.915, 'content_count': 225}, 'derived-observed-mobi-6hep_A': {'source_id': '6hep_A', 'regions': [[3, 232]], 'content_fraction': 0.935, 'content_count': 230}, 'derived-observed-mobi-6hep_B': {'source_id': '6hep_B', 'regions': [[1, 232]], 'content_fraction': 0.943, 'content_count': 232}, 'derived-observed-mobi-6hep_C': {'source_id': '6hep_C', 'regions': [[3, 231]], 'content_fraction': 0.931, 'content_count': 229}, 'derived-observed-mobi-6hep_D': {'source_id': '6hep_D', 'regions': [[1, 71], [78, 205], [214, 232]], 'content_fraction': 0.886, 'content_count': 218}, 'derived-observed-priority': {'regions': [[3, 70], [76, 232]], 'content_fraction': 0.915, 'content_count': 225}, 'derived-observed-th_90': {'regions': [[3, 70], [76, 232]], 'content_fraction': 0.915, 'content_count': 225}, 'prediction-lip-priority': {'regions': [[25, 28], [46, 53], [95, 106], [121, 130], [173, 183], [218, 225]], 'content_fraction': 0.215, 'content_count': 53}}\n",
      "{'uniref100': 'UniRef100_P62258', 'taxonomy': ['Eukaryota', 'Metazoa', 'Chordata', 'Craniata', 'Vertebrata', 'Euteleostomi', 'Mammalia', 'Eutheria', 'Euarchontoglires', 'Primates', 'Haplorrhini', 'Catarrhini', 'Hominidae', 'Homo'], 'sequence': 'MDDREDLVYQAKLAEQAERYDEMVESMKKVAGMDVELTVEERNLLSVAYKNVIGARRASWRIISSIEQKEENKGGEDKLKMIREYRQMVETELKLICCDILDVLDKHLIPAANTGESKVFYYKMKGDYHRYLAEFATGNDRKEAAENSLVAYKAASDIAMTELPPTHPIRLGLALNFSVFYYEILNSPDRACRLAKAAFDDAIAELDTLSEESYKDSTLIMQLLRDNLTLWTSDMQGDGEEQNKEALQDVEDENQ', 'localization': ['Nucleus', 'Cytoplasm', 'Melanosome'], 'organism': 'Homo sapiens (Human)', 'proteome': 'UP000005640', 'length': 255, 'acc': 'P62258', 'uniref50': 'UniRef50_P62258', 'gene': 'YWHAE', 'name': '14-3-3 protein epsilon', 'uniparc': 'UPI0000021A46', 'uniref90': 'UniRef90_P62258', 'ptms': {'names': ['N-acetylmethionine', 'N6-acetyllysine; alternate', 'Phosphoserine', 'N6-acetyllysine', 'N6-acetyllysine', 'N6-acetyllysine', 'Phosphotyrosine', 'Phosphothreonine', 'Phosphoserine', 'Phosphothreonine'], 'positions': [[1, 1], [50, 50], [65, 65], [69, 69], [118, 118], [123, 123], [131, 131], [137, 137], [210, 210], [232, 232]]}, 'ncbi_taxon_id': 9606, 'accession': 'P62258', 'reviewed': True, 'prediction-disorder-iupl': {'regions': [[77, 77], [232, 232], [234, 255]], 'content_fraction': 0.094, 'content_count': 24}, 'prediction-disorder-espN': {'regions': [[1, 4], [231, 255]], 'content_fraction': 0.114, 'content_count': 29}, 'prediction-disorder-dis465': {'regions': [[1, 7], [69, 74], [238, 248], [250, 255]], 'content_fraction': 0.118, 'content_count': 30}, 'prediction-disorder-disHL': {'regions': [[1, 5], [8, 8], [13, 20], [50, 79], [109, 118], [138, 141], [209, 215], [234, 241], [244, 251], [253, 255]], 'content_fraction': 0.329, 'content_count': 84}, 'prediction-disorder-iups': {'regions': [[1, 9], [234, 255]], 'content_fraction': 0.122, 'content_count': 31}, 'prediction-disorder-jronn': {'regions': [[1, 5], [9, 15], [61, 82], [141, 141], [143, 156], [234, 255]], 'content_fraction': 0.278, 'content_count': 71}, 'prediction-disorder-espD': {'regions': [[236, 255]], 'content_fraction': 0.078, 'content_count': 20}, 'prediction-disorder-glo': {'regions': [[1, 2], [5, 5], [234, 236], [248, 248], [251, 251], [253, 253]], 'content_fraction': 0.035, 'content_count': 9}, 'prediction-disorder-espX': {'regions': [[1, 5], [68, 75], [232, 255]], 'content_fraction': 0.145, 'content_count': 37}, 'prediction-disorder-vsl': {'regions': [[1, 30], [66, 80], [139, 147], [208, 217], [227, 255]], 'content_fraction': 0.365, 'content_count': 93}, 'homology-domain-pfam': {'regions': [[10, 232]], 'content_fraction': 0.875, 'content_count': 223, 'regions_ids': ['PF00244'], 'regions_names': ['14-3-3 domain']}, 'homology-domain-gene3d': {'regions': [[1, 247]], 'content_fraction': 0.969, 'content_count': 247, 'regions_ids': ['1.20.190.20'], 'regions_names': ['14-3-3 domain superfamily']}, 'prediction-rigidity-dynamine': {'scores': [0.254, 0.232, 0.212, 0.201, 0.187, 0.157, 0.141, 0.123, 0.13, 0.139, 0.164, 0.179, 0.187, 0.198, 0.217, 0.231, 0.24, 0.237, 0.215, 0.195, 0.181, 0.185, 0.179, 0.182, 0.184, 0.201, 0.212, 0.21, 0.191, 0.188, 0.206, 0.213, 0.197, 0.17, 0.152, 0.148, 0.142, 0.119, 0.094, 0.088, 0.089, 0.098, 0.11, 0.108, 0.102, 0.101, 0.099, 0.102, 0.094, 0.106, 0.121, 0.136, 0.156, 0.17, 0.181, 0.184, 0.174, 0.181, 0.176, 0.148, 0.143, 0.143, 0.154, 0.174, 0.206, 0.223, 0.229, 0.237, 0.26, 0.285, 0.307, 0.333, 0.351, 0.357, 0.322, 0.271, 0.219, 0.19, 0.171, 0.169, 0.152, 0.136, 0.12, 0.109, 0.115, 0.121, 0.125, 0.122, 0.117, 0.091, 0.083, 0.084, 0.078, 0.059, 0.034, -0.003, -0.042, -0.037, -0.02, 0.015, 0.029, 0.038, 0.043, 0.045, 0.053, 0.061, 0.077, 0.101, 0.123, 0.149, 0.186, 0.224, 0.237, 0.243, 0.254, 0.224, 0.197, 0.159, 0.11, 0.074, 0.078, 0.101, 0.139, 0.177, 0.195, 0.201, 0.176, 0.157, 0.129, 0.115, 0.103, 0.104, 0.113, 0.129, 0.16, 0.188, 0.222, 0.255, 0.262, 0.243, 0.233, 0.223, 0.239, 0.234, 0.227, 0.227, 0.225, 0.217, 0.197, 0.175, 0.156, 0.156, 0.161, 0.195, 0.199, 0.195, 0.196, 0.221, 0.231, 0.235, 0.235, 0.231, 0.244, 0.246, 0.241, 0.212, 0.177, 0.16, 0.147, 0.14, 0.148, 0.149, 0.15, 0.138, 0.133, 0.129, 0.105, 0.093, 0.053, 0.032, 0.015, 0.027, 0.046, 0.088, 0.125, 0.158, 0.182, 0.188, 0.161, 0.145, 0.133, 0.117, 0.119, 0.121, 0.13, 0.137, 0.151, 0.15, 0.131, 0.109, 0.117, 0.141, 0.161, 0.168, 0.168, 0.16, 0.154, 0.176, 0.205, 0.221, 0.219, 0.218, 0.211, 0.19, 0.168, 0.144, 0.146, 0.147, 0.146, 0.132, 0.12, 0.127, 0.137, 0.14, 0.146, 0.16, 0.175, 0.187, 0.184, 0.181, 0.178, 0.178, 0.206, 0.24, 0.29, 0.33, 0.358, 0.354, 0.35, 0.341, 0.334, 0.318, 0.298, 0.283, 0.274, 0.276, 0.265, 0.247, 0.237, 0.252, 0.252, 0.26, 0.287, 0.305, 0.309]}, 'prediction-helix-fess': {'scores': [0.003, 0.095, 0.343, 0.733, 0.8, 0.839, 0.895, 0.926, 0.931, 0.932, 0.934, 0.919, 0.93, 0.933, 0.918, 0.904, 0.905, 0.896, 0.871, 0.933, 0.965, 0.976, 0.983, 0.984, 0.982, 0.974, 0.963, 0.951, 0.907, 0.81, 0.516, 0.125, 0.101, 0.151, 0.341, 0.384, 0.349, 0.304, 0.698, 0.679, 0.738, 0.73, 0.746, 0.83, 0.869, 0.89, 0.914, 0.912, 0.9, 0.878, 0.824, 0.8, 0.741, 0.649, 0.667, 0.669, 0.695, 0.687, 0.718, 0.8, 0.799, 0.795, 0.788, 0.732, 0.684, 0.708, 0.683, 0.651, 0.64, 0.624, 0.516, 0.313, 0.183, 0.084, 0.252, 0.671, 0.785, 0.914, 0.943, 0.953, 0.963, 0.969, 0.972, 0.968, 0.962, 0.954, 0.936, 0.908, 0.89, 0.881, 0.86, 0.864, 0.862, 0.868, 0.865, 0.845, 0.822, 0.805, 0.845, 0.909, 0.915, 0.907, 0.895, 0.842, 0.767, 0.678, 0.54, 0.421, 0.339, 0.35, 0.421, 0.356, 0.268, 0.203, 0.175, 0.261, 0.337, 0.445, 0.486, 0.536, 0.548, 0.512, 0.434, 0.333, 0.304, 0.361, 0.516, 0.769, 0.847, 0.888, 0.905, 0.912, 0.909, 0.874, 0.796, 0.592, 0.325, 0.148, 0.156, 0.261, 0.668, 0.798, 0.86, 0.869, 0.859, 0.832, 0.779, 0.791, 0.855, 0.876, 0.874, 0.859, 0.831, 0.784, 0.728, 0.689, 0.678, 0.69, 0.662, 0.62, 0.503, 0.322, 0.044, 0.025, 0.057, 0.105, 0.166, 0.469, 0.583, 0.655, 0.725, 0.755, 0.775, 0.766, 0.735, 0.716, 0.768, 0.824, 0.858, 0.867, 0.879, 0.882, 0.863, 0.786, 0.524, 0.209, 0.023, 0.686, 0.82, 0.928, 0.944, 0.952, 0.967, 0.968, 0.967, 0.967, 0.957, 0.939, 0.929, 0.931, 0.937, 0.949, 0.945, 0.924, 0.88, 0.82, 0.682, 0.555, 0.42, 0.351, 0.624, 0.628, 0.588, 0.561, 0.58, 0.617, 0.819, 0.936, 0.964, 0.973, 0.975, 0.974, 0.966, 0.943, 0.873, 0.721, 0.606, 0.608, 0.629, 0.627, 0.589, 0.565, 0.518, 0.447, 0.379, 0.244, 0.154, 0.151, 0.352, 0.687, 0.801, 0.808, 0.797, 0.938, 0.957, 0.963, 0.962, 0.939, 0.888, 0.845, 0.815, 0.748, 0.606, 0.339, 0.004]}, 'prediction-sheet-fess': {'scores': [0.002, 0.011, 0.007, 0.006, 0.009, 0.011, 0.024, 0.03, 0.026, 0.019, 0.012, 0.008, 0.007, 0.006, 0.005, 0.005, 0.004, 0.004, 0.004, 0.003, 0.003, 0.003, 0.003, 0.003, 0.003, 0.003, 0.003, 0.004, 0.006, 0.008, 0.012, 0.015, 0.039, 0.121, 0.261, 0.347, 0.353, 0.286, 0.123, 0.07, 0.035, 0.02, 0.021, 0.035, 0.04, 0.046, 0.038, 0.036, 0.035, 0.029, 0.027, 0.036, 0.04, 0.035, 0.029, 0.043, 0.045, 0.045, 0.065, 0.102, 0.142, 0.159, 0.149, 0.13, 0.092, 0.066, 0.055, 0.043, 0.031, 0.027, 0.026, 0.024, 0.023, 0.018, 0.012, 0.013, 0.012, 0.014, 0.017, 0.018, 0.015, 0.011, 0.007, 0.007, 0.006, 0.006, 0.007, 0.008, 0.008, 0.009, 0.01, 0.014, 0.02, 0.036, 0.055, 0.058, 0.047, 0.033, 0.021, 0.016, 0.017, 0.016, 0.013, 0.015, 0.012, 0.015, 0.028, 0.061, 0.079, 0.08, 0.062, 0.061, 0.049, 0.035, 0.029, 0.051, 0.119, 0.253, 0.351, 0.351, 0.357, 0.344, 0.248, 0.157, 0.068, 0.027, 0.02, 0.037, 0.048, 0.057, 0.06, 0.058, 0.052, 0.06, 0.05, 0.033, 0.018, 0.012, 0.012, 0.013, 0.013, 0.016, 0.018, 0.018, 0.015, 0.013, 0.012, 0.021, 0.04, 0.055, 0.061, 0.063, 0.053, 0.034, 0.023, 0.022, 0.028, 0.059, 0.079, 0.082, 0.069, 0.06, 0.031, 0.016, 0.016, 0.022, 0.035, 0.058, 0.121, 0.134, 0.109, 0.088, 0.084, 0.082, 0.068, 0.052, 0.047, 0.058, 0.075, 0.08, 0.077, 0.069, 0.058, 0.048, 0.037, 0.021, 0.007, 0.004, 0.005, 0.006, 0.008, 0.008, 0.006, 0.006, 0.006, 0.005, 0.005, 0.005, 0.005, 0.006, 0.006, 0.008, 0.011, 0.013, 0.015, 0.013, 0.013, 0.017, 0.018, 0.015, 0.011, 0.012, 0.015, 0.015, 0.011, 0.007, 0.007, 0.01, 0.013, 0.012, 0.011, 0.01, 0.01, 0.008, 0.007, 0.005, 0.007, 0.031, 0.086, 0.127, 0.132, 0.119, 0.078, 0.044, 0.034, 0.03, 0.02, 0.014, 0.01, 0.01, 0.012, 0.009, 0.007, 0.005, 0.005, 0.005, 0.005, 0.006, 0.006, 0.006, 0.006, 0.005, 0.006, 0.008, 0.002]}, 'prediction-coil-fess': {'scores': [0.995, 0.894, 0.65, 0.261, 0.192, 0.15, 0.08, 0.044, 0.042, 0.049, 0.054, 0.073, 0.064, 0.061, 0.077, 0.092, 0.09, 0.099, 0.125, 0.063, 0.032, 0.021, 0.015, 0.013, 0.015, 0.023, 0.034, 0.045, 0.088, 0.182, 0.472, 0.86, 0.86, 0.728, 0.398, 0.27, 0.299, 0.41, 0.18, 0.251, 0.226, 0.25, 0.233, 0.135, 0.09, 0.064, 0.048, 0.052, 0.065, 0.094, 0.149, 0.164, 0.22, 0.317, 0.303, 0.287, 0.261, 0.268, 0.217, 0.098, 0.059, 0.046, 0.063, 0.138, 0.224, 0.226, 0.262, 0.306, 0.329, 0.349, 0.458, 0.663, 0.793, 0.897, 0.735, 0.316, 0.203, 0.072, 0.04, 0.029, 0.022, 0.02, 0.021, 0.025, 0.031, 0.04, 0.057, 0.084, 0.102, 0.11, 0.13, 0.123, 0.118, 0.095, 0.08, 0.098, 0.13, 0.162, 0.134, 0.075, 0.068, 0.078, 0.091, 0.143, 0.221, 0.306, 0.432, 0.518, 0.582, 0.57, 0.517, 0.582, 0.683, 0.762, 0.797, 0.688, 0.544, 0.301, 0.163, 0.113, 0.095, 0.144, 0.318, 0.51, 0.628, 0.612, 0.464, 0.194, 0.106, 0.055, 0.034, 0.03, 0.039, 0.066, 0.155, 0.375, 0.657, 0.84, 0.832, 0.725, 0.319, 0.186, 0.122, 0.113, 0.126, 0.155, 0.21, 0.188, 0.105, 0.069, 0.065, 0.077, 0.116, 0.182, 0.249, 0.289, 0.294, 0.251, 0.259, 0.298, 0.428, 0.618, 0.925, 0.959, 0.927, 0.873, 0.798, 0.473, 0.296, 0.211, 0.166, 0.157, 0.141, 0.152, 0.197, 0.232, 0.185, 0.119, 0.067, 0.053, 0.044, 0.049, 0.079, 0.166, 0.439, 0.77, 0.97, 0.309, 0.175, 0.066, 0.048, 0.04, 0.026, 0.026, 0.027, 0.028, 0.039, 0.056, 0.066, 0.063, 0.057, 0.042, 0.044, 0.063, 0.106, 0.167, 0.304, 0.428, 0.562, 0.635, 0.365, 0.359, 0.397, 0.424, 0.408, 0.376, 0.174, 0.054, 0.024, 0.015, 0.014, 0.016, 0.024, 0.05, 0.12, 0.274, 0.387, 0.361, 0.286, 0.246, 0.278, 0.316, 0.404, 0.51, 0.587, 0.727, 0.826, 0.835, 0.638, 0.303, 0.188, 0.182, 0.196, 0.057, 0.038, 0.032, 0.033, 0.055, 0.106, 0.15, 0.179, 0.247, 0.388, 0.653, 0.994]}, 'prediction-lip-anchor': {'regions': [[94, 101], [177, 182], [221, 224]], 'content_fraction': 0.071, 'content_count': 18}, 'prediction-disorder-mobidb_lite': {'regions': [[234, 255]], 'content_fraction': 0.086, 'content_count': 22, 'scores': [0.75, 0.75, 0.625, 0.625, 0.625, 0.25, 0.25, 0.25, 0.125, 0, 0, 0, 0.125, 0.125, 0.125, 0.125, 0.125, 0.125, 0.125, 0.125, 0, 0, 0, 0, 0, 0, 0, 0, 0, 0, 0, 0, 0, 0, 0, 0, 0, 0, 0, 0, 0, 0, 0, 0, 0, 0, 0, 0, 0, 0.125, 0.125, 0.125, 0.125, 0.125, 0.125, 0.125, 0.125, 0.125, 0.125, 0.125, 0.125, 0.125, 0.125, 0.125, 0.125, 0.125, 0.125, 0.25, 0.375, 0.375, 0.375, 0.375, 0.375, 0.375, 0.25, 0.125, 0.25, 0.125, 0.125, 0, 0, 0, 0, 0, 0, 0, 0, 0, 0, 0, 0, 0, 0, 0, 0, 0, 0, 0, 0, 0, 0, 0, 0, 0, 0, 0, 0, 0, 0.125, 0.125, 0.125, 0.125, 0.125, 0.125, 0.125, 0.125, 0.125, 0.125, 0, 0, 0, 0, 0, 0, 0, 0, 0, 0, 0, 0, 0, 0, 0, 0, 0, 0, 0, 0.125, 0.125, 0.125, 0.125, 0, 0, 0, 0, 0, 0, 0, 0, 0, 0, 0, 0, 0, 0, 0, 0, 0, 0, 0, 0, 0, 0, 0, 0, 0, 0, 0, 0, 0, 0, 0, 0, 0, 0, 0, 0, 0, 0, 0, 0, 0, 0, 0, 0, 0, 0, 0, 0, 0, 0, 0, 0, 0, 0, 0, 0, 0, 0, 0, 0, 0, 0, 0, 0, 0, 0, 0, 0.125, 0.125, 0.125, 0.125, 0.125, 0.125, 0.125, 0, 0, 0, 0, 0, 0, 0, 0, 0, 0, 0, 0, 0, 0, 0, 0.125, 0.375, 0.25, 0.75, 0.75, 0.875, 0.75, 0.875, 0.875, 0.875, 0.875, 0.75, 0.75, 0.875, 0.875, 0.875, 0.875, 1, 0.75, 0.875, 1, 0.75, 1, 0.875, 0.875]}, 'prediction-polyampholyte-mobidb_lite_sub': {'regions': [[238, 255]], 'content_fraction': 0.071, 'content_count': 18}, 'prediction-disorder-th_50': {'regions': [[1, 5], [69, 74], [234, 255]], 'content_fraction': 0.129, 'content_count': 33}, 'homology-domain-merge': {'regions': [[1, 247]], 'content_fraction': 0.969, 'content_count': 247}, 'curated-disorder-ideal': {'source_id': 'IID00512', 'regions': [[1, 2], [233, 234]], 'content_fraction': 0.016, 'content_count': 4}, 'curated-disorder-merge': {'regions': [[1, 2], [233, 234]], 'content_fraction': 0.016, 'content_count': 4}, 'curated-disorder-priority': {'regions': [[1, 2], [233, 234]], 'content_fraction': 0.016, 'content_count': 4}, 'derived-bfactor-mobi-2br9_A': {'source_id': '2br9_A', 'scores': [None, None, 0.318, 0.269, 0.248, 0.226, 0.199, 0.195, 0.2, 0.192, 0.199, 0.206, 0.201, 0.196, 0.212, 0.202, 0.201, 0.227, 0.217, 0.222, 0.267, 0.24, 0.222, 0.222, 0.227, 0.218, 0.224, 0.247, 0.24, 0.237, 0.24, 0.251, 0.276, 0.275, 0.282, 0.258, 0.225, 0.237, 0.247, 0.248, 0.237, 0.263, 0.27, 0.235, 0.245, 0.27, 0.256, 0.228, 0.237, 0.235, 0.237, 0.247, 0.241, 0.228, 0.249, 0.247, 0.226, 0.234, 0.21, 0.219, 0.217, 0.199, 0.194, 0.22, 0.201, 0.187, 0.203, 0.213, 0.191, 0.181, 0.194, 0.206, 0.235, 0.24, 0.25, 0.253, 0.251, 0.201, 0.2, 0.217, 0.221, 0.191, 0.221, 0.233, 0.221, 0.235, 0.26, 0.285, 0.227, 0.231, 0.231, 0.236, 0.225, 0.241, 0.231, 0.231, 0.233, 0.24, 0.235, 0.225, 0.23, 0.245, 0.232, 0.227, 0.25, 0.264, 0.244, 0.237, 0.232, 0.263, 0.271, 0.268, 0.306, 0.294, 0.281, 0.279, 0.248, 0.225, 0.202, 0.211, 0.214, 0.214, 0.215, 0.247, 0.216, 0.217, 0.217, 0.219, 0.217, 0.22, 0.225, 0.237, 0.253, 0.27, 0.277, 0.294, 0.327, 0.347, 0.348, 0.321, 0.289, 0.28, 0.27, 0.262, 0.241, 0.238, 0.241, 0.225, 0.237, 0.223, 0.207, 0.208, 0.219, 0.224, 0.198, 0.212, 0.225, 0.233, 0.214, 0.238, 0.245, 0.248, 0.211, 0.214, 0.234, 0.238, 0.225, 0.232, 0.223, 0.214, 0.215, 0.226, 0.215, 0.213, 0.204, 0.215, 0.204, 0.219, 0.219, 0.208, 0.249, 0.272, 0.28, 0.272, 0.295, 0.324, 0.303, 0.312, 0.284, 0.262, 0.236, 0.248, 0.23, 0.227, 0.224, 0.217, 0.212, 0.203, 0.216, 0.204, 0.194, 0.187, 0.202, 0.216, 0.264, 0.288, 0.325, 0.296, 0.309, 0.313, 0.314, 0.314, 0.323, 0.332, 0.32, 0.316, 0.289, 0.29, 0.285, 0.254, 0.221, 0.227, 0.207, 0.199, 0.192, 0.234, 0.238, 0.246, 0.273, 0.306, 0.304, 0.331, None, None, None, None, None, None, None, None, None, None, None, None, None, None, None, None, None, None, None, None, None, None, None]}, 'derived-bfactor-mobi-3ual_A': {'source_id': '3ual_A', 'scores': [None, None, 0.472, 0.41, 0.395, 0.369, 0.319, 0.284, 0.293, 0.279, 0.233, 0.246, 0.253, 0.223, 0.198, 0.228, 0.226, 0.213, 0.23, 0.205, 0.244, 0.249, 0.208, 0.212, 0.245, 0.26, 0.225, 0.269, 0.318, 0.304, 0.285, 0.336, 0.367, 0.351, 0.358, 0.297, 0.258, 0.263, 0.255, 0.253, 0.236, 0.236, 0.238, 0.208, 0.215, 0.212, 0.193, 0.178, 0.18, 0.187, 0.179, 0.179, 0.189, 0.161, 0.19, 0.188, 0.176, 0.189, 0.185, 0.199, 0.2, 0.204, 0.195, 0.209, 0.226, 0.224, 0.277, 0.29, 0.312, 0.346, 0.405, 0.487, 0.542, 0.555, 0.515, 0.513, 0.467, 0.376, 0.334, 0.361, 0.3, 0.259, 0.284, 0.3, 0.256, 0.222, 0.277, 0.273, 0.211, 0.231, 0.253, 0.223, 0.202, 0.227, 0.235, 0.203, 0.197, 0.247, 0.244, 0.194, 0.218, 0.262, 0.255, 0.224, 0.3, 0.33, 0.277, 0.255, 0.278, 0.335, 0.355, 0.307, 0.331, 0.312, 0.296, 0.25, 0.234, 0.222, 0.183, 0.175, 0.206, 0.206, 0.164, 0.185, 0.188, 0.179, 0.179, 0.183, 0.207, 0.187, 0.185, 0.21, 0.224, 0.23, 0.268, 0.308, 0.369, 0.416, 0.434, 0.377, 0.315, 0.329, 0.31, 0.238, 0.254, 0.272, 0.251, 0.218, 0.238, 0.251, 0.218, 0.191, 0.219, 0.238, 0.201, 0.209, 0.243, 0.235, 0.219, 0.231, 0.28, 0.274, 0.238, 0.251, 0.244, 0.229, 0.225, 0.191, 0.178, 0.191, 0.192, 0.186, 0.159, 0.186, 0.162, 0.165, 0.179, 0.19, 0.192, 0.193, 0.236, 0.262, 0.274, 0.254, 0.298, 0.34, 0.344, 0.345, 0.348, 0.301, 0.24, 0.278, 0.281, 0.236, 0.216, 0.25, 0.242, 0.21, 0.217, 0.248, 0.225, 0.224, 0.242, 0.287, 0.307, 0.33, 0.394, 0.336, 0.322, 0.324, 0.362, 0.315, 0.297, 0.315, 0.279, 0.252, 0.233, 0.258, 0.234, 0.203, 0.2, 0.232, 0.2, 0.205, 0.246, 0.253, 0.244, 0.305, 0.395, 0.391, 0.388, 0.45, None, None, None, None, None, None, None, None, None, None, None, None, None, None, None, None, None, None, None, None, None, None, None]}, 'derived-bfactor-mobi-3ubw_A': {'source_id': '3ubw_A', 'scores': [None, None, 0.412, 0.364, 0.361, 0.311, 0.28, 0.254, 0.24, 0.216, 0.193, 0.198, 0.206, 0.188, 0.194, 0.198, 0.195, 0.21, 0.195, 0.198, 0.251, 0.241, 0.206, 0.205, 0.259, 0.253, 0.218, 0.256, 0.289, 0.282, 0.282, 0.333, 0.376, 0.406, 0.387, 0.326, 0.261, 0.258, 0.254, 0.255, 0.239, 0.228, 0.231, 0.21, 0.207, 0.218, 0.194, 0.173, 0.174, 0.178, 0.187, 0.189, 0.169, 0.158, 0.199, 0.168, 0.153, 0.166, 0.172, 0.173, 0.19, 0.186, 0.177, 0.195, 0.207, 0.212, 0.241, 0.274, 0.28, 0.317, 0.367, 0.443, 0.488, 0.513, 0.505, 0.491, 0.444, 0.36, 0.308, 0.32, 0.255, 0.227, 0.248, 0.256, 0.234, 0.219, 0.245, 0.24, 0.196, 0.204, 0.221, 0.215, 0.196, 0.199, 0.216, 0.191, 0.21, 0.237, 0.22, 0.179, 0.206, 0.209, 0.217, 0.212, 0.291, 0.283, 0.264, 0.255, 0.268, 0.317, 0.345, 0.338, 0.361, 0.337, 0.311, 0.273, 0.246, 0.221, 0.178, 0.177, 0.167, 0.186, 0.143, 0.174, 0.176, 0.158, 0.151, 0.165, 0.187, 0.151, 0.156, 0.198, 0.209, 0.239, 0.276, 0.303, 0.349, 0.389, 0.394, 0.355, 0.301, 0.298, 0.279, 0.249, 0.239, 0.231, 0.203, 0.188, 0.214, 0.221, 0.197, 0.178, 0.222, 0.211, 0.182, 0.206, 0.243, 0.228, 0.229, 0.257, 0.277, 0.268, 0.226, 0.243, 0.229, 0.218, 0.21, 0.193, 0.203, 0.18, 0.187, 0.175, 0.173, 0.171, 0.141, 0.156, 0.165, 0.183, 0.176, 0.177, 0.223, 0.225, 0.258, 0.251, 0.284, 0.314, 0.323, 0.335, 0.332, 0.279, 0.248, 0.266, 0.274, 0.239, 0.23, 0.25, 0.252, 0.213, 0.22, 0.258, 0.219, 0.189, 0.246, 0.277, 0.297, 0.32, 0.348, 0.341, 0.342, 0.357, 0.368, 0.332, 0.308, 0.299, 0.268, 0.241, 0.224, 0.222, 0.218, 0.191, 0.193, 0.218, 0.184, 0.18, 0.222, 0.252, 0.241, 0.295, 0.368, 0.408, 0.407, 0.476, None, None, None, None, None, None, None, None, None, None, None, None, None, None, None, None, None, None, None, None, None, None, None]}, 'derived-bfactor-mobi-6eih_A': {'source_id': '6eih_A', 'scores': [None, None, 0.237, 0.231, 0.232, 0.193, 0.192, 0.178, 0.177, 0.188, 0.193, 0.177, 0.186, 0.169, 0.198, 0.167, 0.166, 0.197, 0.181, 0.194, 0.208, 0.178, 0.17, 0.176, 0.203, 0.166, 0.168, 0.181, 0.207, 0.197, 0.219, 0.233, 0.213, 0.202, 0.21, 0.215, 0.191, 0.162, 0.162, 0.179, 0.175, 0.169, 0.169, 0.162, 0.163, 0.16, 0.156, 0.146, 0.141, 0.165, 0.144, 0.148, 0.157, 0.15, 0.142, 0.135, 0.142, 0.142, 0.153, 0.161, 0.16, 0.158, 0.166, 0.172, 0.152, 0.152, 0.169, 0.189, 0.17, 0.193, 0.198, 0.211, 0.242, 0.234, 0.257, 0.255, 0.261, 0.209, 0.21, 0.222, 0.191, 0.182, 0.191, 0.21, 0.189, 0.173, 0.187, 0.198, 0.154, 0.149, 0.168, 0.161, 0.155, 0.171, 0.162, 0.177, 0.165, 0.186, 0.169, 0.159, 0.163, 0.171, 0.164, 0.171, 0.185, 0.187, 0.188, 0.176, 0.178, 0.189, 0.175, 0.205, 0.29, 0.218, 0.202, 0.203, 0.174, 0.167, 0.151, 0.146, 0.15, 0.166, 0.161, 0.149, 0.146, 0.139, 0.147, 0.158, 0.163, 0.159, 0.138, 0.169, 0.177, 0.195, 0.205, 0.216, 0.235, 0.246, 0.254, 0.235, 0.188, 0.23, 0.253, 0.213, 0.176, 0.186, 0.173, 0.161, 0.168, 0.166, 0.172, 0.173, 0.193, 0.153, 0.172, 0.18, 0.214, 0.168, 0.186, 0.238, 0.266, 0.212, 0.19, 0.197, 0.205, 0.193, 0.181, 0.195, 0.19, 0.158, 0.155, 0.139, 0.143, 0.143, 0.147, 0.13, 0.15, 0.164, 0.169, 0.175, 0.182, 0.185, 0.203, 0.225, 0.23, 0.278, 0.249, 0.249, 0.214, 0.244, 0.211, 0.214, 0.204, 0.192, 0.168, 0.192, 0.182, 0.159, 0.186, 0.182, 0.176, 0.195, 0.201, 0.202, 0.201, 0.214, 0.255, 0.267, 0.234, 0.264, 0.272, 0.245, 0.243, 0.239, 0.216, 0.208, 0.182, 0.186, 0.181, 0.178, 0.187, 0.209, 0.164, 0.176, 0.206, 0.191, 0.189, 0.243, 0.271, 0.252, 0.227, 0.271, None, None, None, None, None, None, None, None, None, None, None, None, None, None, None, None, None, None, None, None, None, None, None]}, 'derived-binding_mode_disorder_to_disorder-mobi': {'regions': [[1, 2], [233, 234]], 'content_fraction': 0.016, 'content_count': 4}, 'derived-binding_mode_disorder_to_disorder-priority': {'regions': [[1, 2], [233, 234]], 'content_fraction': 0.016, 'content_count': 4}, 'derived-missing_residues-mobi-2br9_A': {'source_id': '2br9_A', 'regions': [[1, 2], [233, 233]], 'content_fraction': 0.012, 'content_count': 3}, 'derived-missing_residues-mobi-3ual_A': {'source_id': '3ual_A', 'regions': [[1, 2]], 'content_fraction': 0.008, 'content_count': 2}, 'derived-missing_residues-mobi-3ubw_A': {'source_id': '3ubw_A', 'regions': [[1, 2], [233, 234]], 'content_fraction': 0.016, 'content_count': 4}, 'derived-missing_residues-th_90': {'regions': [[1, 2], [233, 234]], 'content_fraction': 0.016, 'content_count': 4}, 'derived-observed-mobi-2br9_A': {'source_id': '2br9_A', 'regions': [[3, 232]], 'content_fraction': 0.902, 'content_count': 230}, 'derived-observed-mobi-3ual_A': {'source_id': '3ual_A', 'regions': [[3, 232]], 'content_fraction': 0.902, 'content_count': 230}, 'derived-observed-mobi-3ubw_A': {'source_id': '3ubw_A', 'regions': [[3, 232]], 'content_fraction': 0.902, 'content_count': 230}, 'derived-observed-mobi-6eih_A': {'source_id': '6eih_A', 'regions': [[3, 232]], 'content_fraction': 0.902, 'content_count': 230}, 'derived-observed-priority': {'regions': [[3, 232]], 'content_fraction': 0.902, 'content_count': 230}, 'derived-observed-th_90': {'regions': [[3, 232]], 'content_fraction': 0.902, 'content_count': 230}, 'prediction-disorder-priority': {'regions': [[235, 255]], 'content_fraction': 0.082, 'content_count': 21}, 'prediction-lip-priority': {'regions': [[94, 101], [177, 182], [221, 224]], 'content_fraction': 0.071, 'content_count': 18}}\n"
     ]
    }
   ],
   "source": [
    "l_count=0\n",
    "for key, value in urefed_curated_data.items():\n",
    "    l_count+=1\n",
    "    print(value)\n",
    "    if l_count > 1:\n",
    "        break"
   ]
  },
  {
   "cell_type": "code",
   "execution_count": 22,
   "id": "06e1471e-885a-4eb0-aa68-ac36cad5d720",
   "metadata": {},
   "outputs": [
    {
     "data": {
      "text/plain": [
       "['dato', 'dato2', 'datok', 'datera']"
      ]
     },
     "execution_count": 22,
     "metadata": {},
     "output_type": "execute_result"
    }
   ],
   "source": [
    "import re\n",
    "val='dato,dato2,datok;datera'\n",
    "re.split(r\",|:|;\", val)"
   ]
  },
  {
   "cell_type": "code",
   "execution_count": 23,
   "id": "e79714e3-de72-464f-8c21-596ba7d1deff",
   "metadata": {},
   "outputs": [],
   "source": [
    "breaks=0\n",
    "categorised_data=[]\n",
    "for key, values in  urefed_curated_data.items():\n",
    "    for value in values['localization']:\n",
    "        for val in re.split(r\",|:|;\", value): \n",
    "            if val.lower() in colon_descriptors or val.lower() in colon_descriptor_categories: \n",
    "                categorised_data.append({\n",
    "                'uniref100':values['uniref100'],\n",
    "                'localization':values['localization'],\n",
    "                'sequence':values['sequence'],\n",
    "                'cats':{'number':0,\n",
    "                       'names':[]}\n",
    "                })\n",
    "            breaks+=1\n",
    "            break\n",
    "        break\n",
    "       "
   ]
  },
  {
   "cell_type": "code",
   "execution_count": 24,
   "id": "c7eb0598-dee5-4efe-8b63-c87cd7d7a0cb",
   "metadata": {},
   "outputs": [
    {
     "data": {
      "text/plain": [
       "19772"
      ]
     },
     "execution_count": 24,
     "metadata": {},
     "output_type": "execute_result"
    }
   ],
   "source": [
    "len(categorised_data)"
   ]
  },
  {
   "cell_type": "code",
   "execution_count": 25,
   "id": "cec10255-6505-463b-96a3-4776f78ef6c1",
   "metadata": {},
   "outputs": [],
   "source": [
    "surface=[]\n",
    "mitochondrion=[]\n",
    "other=[]\n",
    "for node in sorted(list(colon_descriptor_categories)):\n",
    "    if 'mitoch' in node:\n",
    "        mitochondrion.append(node)\n",
    "    elif 'cell' in node or 'membrane' in node and 'endo' not in node and 'golgi' not in node and 'cyto' not in node:\n",
    "        surface.append(node)\n",
    "    else:\n",
    "        if 'golgi' in node or 'lyso' in node or 'endop' in node:\n",
    "            other.append(node)"
   ]
  },
  {
   "cell_type": "code",
   "execution_count": 26,
   "id": "3c7854a3-6b1b-469a-9fec-ae69215d1837",
   "metadata": {},
   "outputs": [
    {
     "data": {
      "text/plain": [
       "(['endoplasmic reticulum',\n",
       "  'endoplasmic reticulum membrane',\n",
       "  'golgi apparatus',\n",
       "  'golgi apparatus membrane',\n",
       "  'lysosome',\n",
       "  'lysosome lumen'],\n",
       " ['cell membrane', 'cell surface', 'membrane', 'membrane raft'],\n",
       " ['mitochondrion',\n",
       "  'mitochondrion inner membrane',\n",
       "  'mitochondrion matrix',\n",
       "  'mitochondrion membrane'])"
      ]
     },
     "execution_count": 26,
     "metadata": {},
     "output_type": "execute_result"
    }
   ],
   "source": [
    "other, surface, mitochondrion"
   ]
  },
  {
   "cell_type": "code",
   "execution_count": 27,
   "id": "d266ac9a-b46b-4a7c-9d39-af78b83d9958",
   "metadata": {},
   "outputs": [],
   "source": [
    "labeled_data={\n",
    "    'other':{},\n",
    "    'mitochondrion':{},\n",
    "    'surface':{}\n",
    "}\n",
    "deletable=[]\n",
    "for datum in categorised_data:\n",
    "    for value in datum['localization']:\n",
    "        if value.lower() in other:\n",
    "            labeled_data['other'][datum['uniref100']]=datum\n",
    "            datum['cats']['number']+=1\n",
    "            datum['cats']['names'].append('other')\n",
    "        if value.lower() in mitochondrion:\n",
    "            labeled_data['mitochondrion'][datum['uniref100']]=datum\n",
    "            datum['cats']['number']+=1\n",
    "            datum['cats']['names'].append('mitochondrion')\n",
    "        if value.lower() in surface:\n",
    "            labeled_data['surface'][datum['uniref100']]=datum\n",
    "            datum['cats']['number']+=1\n",
    "            datum['cats']['names'].append('surface')\n",
    "        if datum['cats']['number'] > 1:\n",
    "            deletable.append(datum)"
   ]
  },
  {
   "cell_type": "code",
   "execution_count": 28,
   "id": "a21ca10a-f8ec-4395-b961-9100fd6926b6",
   "metadata": {},
   "outputs": [],
   "source": [
    "clean_labeled_data=labeled_data.copy()\n",
    "for repseq in deletable:\n",
    "    cats=repseq['cats']['names']\n",
    "    name=repseq['uniref100']\n",
    "    for cat in cats:\n",
    "        try:\n",
    "            del clean_labeled_data[cat][name]\n",
    "        except KeyError:\n",
    "            pass\n",
    "            #print(cat,name)"
   ]
  },
  {
   "cell_type": "code",
   "execution_count": 29,
   "id": "9d0e773a-4844-4ccd-8509-bbee708f3dc0",
   "metadata": {},
   "outputs": [],
   "source": [
    "with open('pickle/processed_filtered_data.json', 'w') as file:\n",
    "    json.dump(clean_labeled_data, file)"
   ]
  },
  {
   "cell_type": "code",
   "execution_count": 30,
   "id": "c1bd7478-3e5a-4ca5-958a-6f1ef9e57df1",
   "metadata": {},
   "outputs": [
    {
     "name": "stdout",
     "output_type": "stream",
     "text": [
      "clase other tiene 579 datos\n",
      "clase mitochondrion tiene 789 datos\n",
      "clase surface tiene 714 datos\n"
     ]
    }
   ],
   "source": [
    "for k,v in clean_labeled_data.items():\n",
    "    print('clase {} tiene {} datos'.format(k, len(v)))"
   ]
  },
  {
   "cell_type": "code",
   "execution_count": 31,
   "id": "d13c135f-081b-4a20-b0a1-4087fa840ef1",
   "metadata": {},
   "outputs": [],
   "source": [
    "mitochondrion_proteins=np.array([protein['sequence'] for uref, protein in clean_labeled_data['mitochondrion'].items() ])\n",
    "surface_proteins=np.array([protein['sequence'] for uref, protein in clean_labeled_data['surface'].items() ])\n",
    "all_prot_array=np.hstack([surface_proteins,mitochondrion_proteins])"
   ]
  },
  {
   "cell_type": "code",
   "execution_count": 32,
   "id": "e7be7b1b-5abf-4b72-94a5-7872bf030cde",
   "metadata": {},
   "outputs": [],
   "source": [
    "allseqs=''\n",
    "for sequence in all_prot_array:\n",
    "    allseqs+=sequence\n",
    "aas=set()\n",
    "for val in allseqs:\n",
    "    aas.add(val)\n",
    "numeric_code={aa:num for num,aa in enumerate(aas,3)}\n",
    "with open('pickle/numeric_code.json', 'w') as file:\n",
    "    json.dump(numeric_code, file)"
   ]
  },
  {
   "cell_type": "code",
   "execution_count": null,
   "id": "1aa91a63-454a-4e76-aade-8455adb5ce0e",
   "metadata": {},
   "outputs": [],
   "source": [
    "surface_proteins_numeric=[]\n",
    "for sequence in surface_proteins:\n",
    "    sequence_array=np.zeros(len(sequence), dtype=int)\n",
    "    for n,amino_acid in enumerate(sequence):\n",
    "        sequence_array[n]=numeric_code[amino_acid]\n",
    "    surface_proteins_numeric.append(sequence_array)\n",
    "surface_proteins_numeric=np.array(surface_proteins_numeric)\n",
    "mitochondrion_proteins_numeric=[]\n",
    "for sequence in mitochondrion_proteins:\n",
    "    sequence_array=np.zeros(len(sequence), dtype=int)\n",
    "    for n,amino_acid in enumerate(sequence):\n",
    "        sequence_array[n]=numeric_code[amino_acid]\n",
    "    mitochondrion_proteins_numeric.append(sequence_array)\n",
    "mitochondrion_proteins_numeric=np.array(mitochondrion_proteins_numeric)\n",
    "\n"
   ]
  },
  {
   "cell_type": "code",
   "execution_count": null,
   "id": "229c7f3e-8959-45b1-b258-c5b406d4c1e5",
   "metadata": {},
   "outputs": [],
   "source": [
    "padded_surface_proteins=pad_sequences(surface_proteins_numeric,padding='post', maxlen=1500)\n",
    "padded_mitochondrion_proteins=pad_sequences(mitochondrion_proteins_numeric,padding='post',maxlen=1500)"
   ]
  },
  {
   "cell_type": "code",
   "execution_count": null,
   "id": "7f0c2dd7-9199-4c49-8a93-2b6896eb089c",
   "metadata": {},
   "outputs": [],
   "source": [
    "np.save('padded_surface_proteins', padded_surface_proteins)\n",
    "np.save('padded_mitochondrion_proteins',padded_mitochondrion_proteins)"
   ]
  },
  {
   "cell_type": "code",
   "execution_count": null,
   "id": "73e5ec1b-de78-475b-9e51-e7e141b904ff",
   "metadata": {},
   "outputs": [],
   "source": [
    "padded_surface_proteins.shape, padded_mitochondrion_proteins.shape"
   ]
  },
  {
   "cell_type": "code",
   "execution_count": null,
   "id": "e6a001f4-00ac-47f6-b524-6c830c1bad3c",
   "metadata": {},
   "outputs": [],
   "source": [
    "data=np.vstack([padded_surface_proteins, padded_mitochondrion_proteins])"
   ]
  },
  {
   "cell_type": "code",
   "execution_count": null,
   "id": "18f7b28b-8c01-4c66-884d-c3270d813171",
   "metadata": {},
   "outputs": [],
   "source": [
    "labels=np.hstack([np.zeros(padded_surface_proteins.shape[0]),np.ones(padded_mitochondrion_proteins.shape[0])]).reshape(-1,1)"
   ]
  },
  {
   "cell_type": "code",
   "execution_count": null,
   "id": "e9b7f7cf-4a5a-4bfa-be89-040b3a126094",
   "metadata": {},
   "outputs": [],
   "source": [
    "np.savez('preprocessed_data', data=data, labels=labels)"
   ]
  }
 ],
 "metadata": {
  "kernelspec": {
   "display_name": "Python [conda env:bio_ml]",
   "language": "python",
   "name": "conda-env-bio_ml-py"
  },
  "language_info": {
   "codemirror_mode": {
    "name": "ipython",
    "version": 3
   },
   "file_extension": ".py",
   "mimetype": "text/x-python",
   "name": "python",
   "nbconvert_exporter": "python",
   "pygments_lexer": "ipython3",
   "version": "3.9.6"
  }
 },
 "nbformat": 4,
 "nbformat_minor": 5
}
