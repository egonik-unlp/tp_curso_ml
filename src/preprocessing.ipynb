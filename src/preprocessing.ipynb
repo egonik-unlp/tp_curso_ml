{
 "cells": [
  {
   "cell_type": "code",
   "execution_count": 387,
   "id": "dc0b9e3c-7e09-409d-bc4e-31841cc3a44c",
   "metadata": {},
   "outputs": [],
   "source": [
    "import requests as r\n",
    "import pandas as pd\n",
    "import json\n",
    "import numpy as np\n",
    "from tensorflow import keras\n",
    "from keras.preprocessing.sequence import pad_sequences\n",
    "import tensorflow as tf\n",
    "import matplotlib.pyplot as plt\n",
    "import seaborn as sns"
   ]
  },
  {
   "cell_type": "code",
   "execution_count": 6,
   "id": "6164e9b7-46eb-4053-8502-38b84dc0cc83",
   "metadata": {},
   "outputs": [],
   "source": [
    "url='https://mobidb.bio.unipd.it/api/download?proteome=UP000005640&format=json'\n",
    "proteome_data=r.get(url).json()"
   ]
  },
  {
   "cell_type": "code",
   "execution_count": 7,
   "id": "6c04b4d7-f995-436e-b665-45c33a95e986",
   "metadata": {},
   "outputs": [],
   "source": [
    "sequences=[protein['sequence'] for protein in proteome_data]"
   ]
  },
  {
   "cell_type": "code",
   "execution_count": 8,
   "id": "a7ac7b1a-ca3e-4afa-91d2-323bbb52940d",
   "metadata": {},
   "outputs": [],
   "source": [
    "seqlengths=[len(sequence) for sequence in sequences]"
   ]
  },
  {
   "cell_type": "code",
   "execution_count": 9,
   "id": "7eb83c56-d22e-4e5f-9fa3-ac36404207af",
   "metadata": {},
   "outputs": [],
   "source": [
    "sl=sorted(seqlengths)"
   ]
  },
  {
   "cell_type": "code",
   "execution_count": 10,
   "id": "03693e8b-213d-43d4-88cd-b66f5c138fa3",
   "metadata": {},
   "outputs": [
    {
     "data": {
      "text/plain": [
       "array([ 4557,  4563,  4579,  4588,  4589,  4590,  4599,  4624,  4640,\n",
       "        4646,  4655,  4678,  4684,  4700,  4707,  4753,  4834,  4857,\n",
       "        4859,  4861,  4869,  4870,  4873,  4911,  4950,  4967,  4969,\n",
       "        4981,  5005,  5038,  5043,  5044,  5058,  5058,  5059,  5063,\n",
       "        5070,  5088,  5121,  5142,  5150,  5179,  5183,  5202,  5207,\n",
       "        5207,  5207,  5256,  5314,  5333,  5334,  5360,  5379,  5385,\n",
       "        5386,  5388,  5405,  5412,  5478,  5497,  5537,  5537,  5596,\n",
       "        5635,  5646,  5654,  5762,  5795,  5890,  6306,  6406,  6436,\n",
       "        6448,  6450,  6464,  6516,  6669,  6818,  6824,  6885,  6907,\n",
       "        7076,  7366,  7388,  7418,  7461,  7555,  7570,  7592,  7968,\n",
       "        8384,  8392,  8560,  8749,  8797,  8923, 14507, 27118, 34350,\n",
       "       35991])"
      ]
     },
     "execution_count": 10,
     "metadata": {},
     "output_type": "execute_result"
    }
   ],
   "source": [
    "np.array(sl)[-100:]"
   ]
  },
  {
   "cell_type": "code",
   "execution_count": 11,
   "id": "0800068a-09dd-4d3a-a7bf-3cf56c094288",
   "metadata": {},
   "outputs": [
    {
     "data": {
      "image/png": "[encoded data removed]",
      "text/plain": [
       "<Figure size 432x288 with 1 Axes>"
      ]
     },
     "metadata": {
      "needs_background": "light"
     },
     "output_type": "display_data"
    }
   ],
   "source": [
    "sns.histplot(sl)\n",
    "plt.ylim(top=700)\n",
    "plt.xlim((500,5000))\n",
    "plt.savefig('plot_protsize.png')"
   ]
  },
  {
   "cell_type": "code",
   "execution_count": 12,
   "id": "db22a059-5fb0-450f-857b-1a862110282d",
   "metadata": {},
   "outputs": [
    {
     "name": "stdout",
     "output_type": "stream",
     "text": [
      "procesadas 0 secuencias\n",
      "procesadas 1000 secuencias\n",
      "procesadas 2000 secuencias\n",
      "procesadas 3000 secuencias\n",
      "procesadas 4000 secuencias\n",
      "procesadas 5000 secuencias\n",
      "procesadas 6000 secuencias\n",
      "procesadas 7000 secuencias\n",
      "procesadas 8000 secuencias\n",
      "procesadas 9000 secuencias\n",
      "procesadas 10000 secuencias\n",
      "procesadas 11000 secuencias\n",
      "procesadas 12000 secuencias\n",
      "procesadas 13000 secuencias\n",
      "procesadas 14000 secuencias\n",
      "procesadas 15000 secuencias\n",
      "procesadas 16000 secuencias\n",
      "procesadas 17000 secuencias\n",
      "procesadas 18000 secuencias\n",
      "procesadas 19000 secuencias\n",
      "procesadas 20000 secuencias\n",
      "procesadas 21000 secuencias\n",
      "procesadas 22000 secuencias\n",
      "procesadas 23000 secuencias\n",
      "procesadas 24000 secuencias\n",
      "procesadas 25000 secuencias\n",
      "procesadas 26000 secuencias\n",
      "procesadas 27000 secuencias\n",
      "procesadas 28000 secuencias\n",
      "procesadas 29000 secuencias\n",
      "procesadas 30000 secuencias\n",
      "procesadas 31000 secuencias\n",
      "procesadas 32000 secuencias\n",
      "procesadas 33000 secuencias\n",
      "procesadas 34000 secuencias\n",
      "procesadas 35000 secuencias\n",
      "procesadas 36000 secuencias\n",
      "procesadas 37000 secuencias\n",
      "procesadas 38000 secuencias\n",
      "procesadas 39000 secuencias\n",
      "procesadas 40000 secuencias\n",
      "procesadas 41000 secuencias\n",
      "procesadas 42000 secuencias\n",
      "procesadas 43000 secuencias\n",
      "procesadas 44000 secuencias\n",
      "procesadas 45000 secuencias\n",
      "procesadas 46000 secuencias\n",
      "procesadas 47000 secuencias\n",
      "procesadas 48000 secuencias\n",
      "procesadas 49000 secuencias\n",
      "procesadas 50000 secuencias\n",
      "procesadas 51000 secuencias\n",
      "procesadas 52000 secuencias\n",
      "procesadas 53000 secuencias\n",
      "procesadas 54000 secuencias\n",
      "procesadas 55000 secuencias\n",
      "procesadas 56000 secuencias\n",
      "procesadas 57000 secuencias\n",
      "procesadas 58000 secuencias\n",
      "procesadas 59000 secuencias\n",
      "procesadas 60000 secuencias\n",
      "procesadas 61000 secuencias\n",
      "procesadas 62000 secuencias\n",
      "procesadas 63000 secuencias\n",
      "procesadas 64000 secuencias\n",
      "procesadas 65000 secuencias\n",
      "procesadas 66000 secuencias\n",
      "procesadas 67000 secuencias\n",
      "procesadas 68000 secuencias\n",
      "procesadas 69000 secuencias\n",
      "procesadas 70000 secuencias\n",
      "procesadas 71000 secuencias\n",
      "procesadas 72000 secuencias\n",
      "procesadas 73000 secuencias\n",
      "procesadas 74000 secuencias\n",
      "procesadas 75000 secuencias\n"
     ]
    }
   ],
   "source": [
    "surface_proteins[1]curated_data=[]\n",
    "for n,node in enumerate(proteome_data):\n",
    "    if len(node['sequence']) < 1500:\n",
    "        curated_data.append(node)\n",
    "    if n%10000==0:\n",
    "        print('procesadas {} secuencias'.format(n))"
   ]
  },
  {
   "cell_type": "code",
   "execution_count": 13,
   "id": "db9f0271-d261-4a98-9198-c44888f9d472",
   "metadata": {},
   "outputs": [],
   "source": [
    "with open('curated_sequences.json', 'w') as file:\n",
    "    json.dump(curated_data, file)\n"
   ]
  },
  {
   "cell_type": "code",
   "execution_count": 133,
   "id": "a7f27291-faf9-4cc8-b079-45ed2766462f",
   "metadata": {},
   "outputs": [],
   "source": [
    "data_fields=[key for key in curated_data[0].keys() if 'derived' not in key and 'prediction' not in key]"
   ]
  },
  {
   "cell_type": "code",
   "execution_count": 364,
   "id": "15566bed-d859-4597-a22a-55d92c748e4e",
   "metadata": {},
   "outputs": [],
   "source": [
    "localized=[]\n",
    "unlocalized=0\n",
    "unnamed=0\n",
    "otros_args=[]\n",
    "hay_otros_args=0\n",
    "for protein in curated_data:\n",
    "    try:\n",
    "        localized.append(protein['localization'])\n",
    "    except KeyError as e:\n",
    "        if e.args[0]=='localization':\n",
    "            unlocalized+=1\n",
    "        "
   ]
  },
  {
   "cell_type": "code",
   "execution_count": 365,
   "id": "36d5d009-36f5-4cfb-9bed-2c17143e048f",
   "metadata": {},
   "outputs": [],
   "source": [
    "locations=[]\n",
    "for location in localized:\n",
    "    locations+=location\n",
    "locations=set(locations)"
   ]
  },
  {
   "cell_type": "code",
   "execution_count": 366,
   "id": "2c0b30b3-c035-491d-8b0c-e0ac7d7ed16d",
   "metadata": {},
   "outputs": [],
   "source": [
    "all_descriptors=[]\n",
    "for location in locations:\n",
    "    mezza=[]\n",
    "    mezza_coma=location.split(',')\n",
    "    for node in mezza_coma:\n",
    "        mezza+=node.split(';')\n",
    "    all_descriptors+=mezza\n",
    "all_descriptors={node.strip() for node in all_descriptors}"
   ]
  },
  {
   "cell_type": "code",
   "execution_count": 367,
   "id": "d5211830-505f-4e12-9f4f-eae7fe429fac",
   "metadata": {},
   "outputs": [
    {
     "data": {
      "text/plain": [
       "{'cell membrane',\n",
       " 'cell surface',\n",
       " 'cytoplasm',\n",
       " 'cytoplasmic vesicle',\n",
       " 'cytoplasmic vesicle membrane',\n",
       " 'endomembrane system',\n",
       " 'endoplasmic reticulum',\n",
       " 'endoplasmic reticulum membrane',\n",
       " 'golgi apparatus',\n",
       " 'golgi apparatus membrane',\n",
       " 'lysosome',\n",
       " 'lysosome lumen',\n",
       " 'membrane',\n",
       " 'membrane raft',\n",
       " 'mitochondrion',\n",
       " 'mitochondrion inner membrane',\n",
       " 'mitochondrion matrix',\n",
       " 'mitochondrion membrane',\n",
       " 'nucleus',\n",
       " 'secreted',\n",
       " 'virion'}"
      ]
     },
     "execution_count": 367,
     "metadata": {},
     "output_type": "execute_result"
    }
   ],
   "source": [
    "colon_descriptor_categories=set()\n",
    "colon_descriptors=set()\n",
    "for node in all_descriptors:\n",
    "    if ':' in node:\n",
    "        colon_descriptors.add(node.lower())\n",
    "        parts=node.split(':')\n",
    "        assert len(parts) <= 2\n",
    "        colon_descriptor_categories.add(parts[1].strip().lower())\n",
    "colon_descriptor_categories"
   ]
  },
  {
   "cell_type": "code",
   "execution_count": 368,
   "id": "2aeb232f-e87f-498b-9eef-0d9828209695",
   "metadata": {},
   "outputs": [
    {
     "name": "stdout",
     "output_type": "stream",
     "text": [
      "50195 23117\n"
     ]
    }
   ],
   "source": [
    "urefed_curated_data={}\n",
    "cnte=0\n",
    "cnt=0\n",
    "for node in curated_data:\n",
    "    try:\n",
    "        _=node['localization']\n",
    "        urefed_curated_data[node['uniref100']]=node\n",
    "        cnt+=1\n",
    "    except KeyError:\n",
    "        cnte+=1\n",
    "        pass\n",
    "\n",
    "print(cnte,cnt)"
   ]
  },
  {
   "cell_type": "code",
   "execution_count": 369,
   "id": "d4c287ff-298c-4b65-8c9e-05548363fb61",
   "metadata": {},
   "outputs": [],
   "source": [
    "with open('urefed_located_data.json', 'w') as file:\n",
    "    json.dump(named_curated_data, file)"
   ]
  },
  {
   "cell_type": "code",
   "execution_count": 370,
   "id": "d50212e9-24b2-45d7-9139-f7324fa948f3",
   "metadata": {},
   "outputs": [],
   "source": [
    "all_keys=[]\n",
    "for node in curated_data:\n",
    "    all_keys+=list(node.keys())"
   ]
  },
  {
   "cell_type": "code",
   "execution_count": 371,
   "id": "674718af-2d46-42ee-8aa2-3653ba289419",
   "metadata": {},
   "outputs": [],
   "source": [
    "count={}\n",
    "for key in all_keys:\n",
    "    count[key]=0\n",
    "for node in curated_data:\n",
    "    for k in list(node.keys()):\n",
    "        count[k]+=1"
   ]
  },
  {
   "cell_type": "code",
   "execution_count": 372,
   "id": "0f13addb-0faf-498b-ae17-1c97f6230df3",
   "metadata": {},
   "outputs": [],
   "source": [
    "count_of_omniprescence=len(curated_data)\n",
    "omnipresent_fields=[]\n",
    "for key, value in count.items():\n",
    "    if value == count_of_omniprescence:\n",
    "        omnipresent_fields.append(key)"
   ]
  },
  {
   "cell_type": "code",
   "execution_count": 373,
   "id": "4a552f12-c697-4193-b3a2-be308b277a06",
   "metadata": {},
   "outputs": [
    {
     "data": {
      "text/plain": [
       "['uniref100',\n",
       " 'taxonomy',\n",
       " 'sequence',\n",
       " 'organism',\n",
       " 'proteome',\n",
       " 'length',\n",
       " 'acc',\n",
       " 'uniparc',\n",
       " 'ncbi_taxon_id']"
      ]
     },
     "execution_count": 373,
     "metadata": {},
     "output_type": "execute_result"
    }
   ],
   "source": [
    "omnipresent_fields"
   ]
  },
  {
   "cell_type": "code",
   "execution_count": 374,
   "id": "ca3da180-8587-4ae4-90ca-67ac6ad26858",
   "metadata": {},
   "outputs": [],
   "source": [
    "breaks=0\n",
    "categorised_data=[]\n",
    "for key, values in  urefed_curated_data.items():\n",
    "    for value in values['localization']:\n",
    "        if value.lower() in colon_descriptors or value.lower() in colon_descriptor_categories: \n",
    "            categorised_data.append({\n",
    "                'uniref100':values['uniref100'],\n",
    "                'localization':values['localization'],\n",
    "                'sequence':values['sequence'],\n",
    "                'cats':{'number':0,\n",
    "                       'names':[]}\n",
    "            })\n",
    "            breaks+=1\n",
    "            break\n",
    "       "
   ]
  },
  {
   "cell_type": "code",
   "execution_count": 375,
   "id": "2acf94ef-0333-4a54-a47b-d20df0825c86",
   "metadata": {},
   "outputs": [
    {
     "data": {
      "text/plain": [
       "(11964, 11964)"
      ]
     },
     "execution_count": 375,
     "metadata": {},
     "output_type": "execute_result"
    }
   ],
   "source": [
    "len(categorised_data), breaks"
   ]
  },
  {
   "cell_type": "code",
   "execution_count": null,
   "id": "cac10321-78d0-4d42-a3f0-cd0f060a9bbc",
   "metadata": {},
   "outputs": [],
   "source": [
    "cell_membrane"
   ]
  },
  {
   "cell_type": "code",
   "execution_count": 376,
   "id": "cec10255-6505-463b-96a3-4776f78ef6c1",
   "metadata": {},
   "outputs": [],
   "source": [
    "surface=[]\n",
    "mitochondrion=[]\n",
    "other=[]\n",
    "for node in sorted(list(colon_descriptor_categories)):\n",
    "    if 'mitoch' in node:\n",
    "        mitochondrion.append(node)\n",
    "    elif 'cell' in node or 'membrane' in node and 'endo' not in node and 'golgi' not in node and 'cyto' not in node:\n",
    "        surface.append(node)\n",
    "    else:\n",
    "        if 'golgi' in node or 'lyso' in node or 'endop' in node:\n",
    "            other.append(node)"
   ]
  },
  {
   "cell_type": "code",
   "execution_count": 377,
   "id": "3c7854a3-6b1b-469a-9fec-ae69215d1837",
   "metadata": {},
   "outputs": [
    {
     "data": {
      "text/plain": [
       "(['endoplasmic reticulum',\n",
       "  'endoplasmic reticulum membrane',\n",
       "  'golgi apparatus',\n",
       "  'golgi apparatus membrane',\n",
       "  'lysosome',\n",
       "  'lysosome lumen'],\n",
       " ['cell membrane', 'cell surface', 'membrane', 'membrane raft'],\n",
       " ['mitochondrion',\n",
       "  'mitochondrion inner membrane',\n",
       "  'mitochondrion matrix',\n",
       "  'mitochondrion membrane'])"
      ]
     },
     "execution_count": 377,
     "metadata": {},
     "output_type": "execute_result"
    }
   ],
   "source": [
    "other, surface, mitochondrion"
   ]
  },
  {
   "cell_type": "code",
   "execution_count": 378,
   "id": "d266ac9a-b46b-4a7c-9d39-af78b83d9958",
   "metadata": {},
   "outputs": [],
   "source": [
    "labeled_data={\n",
    "    'other':{},\n",
    "    'mitochondrion':{},\n",
    "    'surface':{}\n",
    "}\n",
    "deletable=[]\n",
    "for datum in categorised_data:\n",
    "    for value in datum['localization']:\n",
    "        if value.lower() in other:\n",
    "            labeled_data['other'][datum['uniref100']]=datum\n",
    "            datum['cats']['number']+=1\n",
    "            datum['cats']['names'].append('other')\n",
    "        if value.lower() in mitochondrion:\n",
    "            labeled_data['mitochondrion'][datum['uniref100']]=datum\n",
    "            datum['cats']['number']+=1\n",
    "            datum['cats']['names'].append('mitochondrion')\n",
    "        if value.lower() in surface:\n",
    "            labeled_data['surface'][datum['uniref100']]=datum\n",
    "            datum['cats']['number']+=1\n",
    "            datum['cats']['names'].append('surface')\n",
    "        if datum['cats']['number'] > 1:\n",
    "            deletable.append(datum)"
   ]
  },
  {
   "cell_type": "code",
   "execution_count": 379,
   "id": "a21ca10a-f8ec-4395-b961-9100fd6926b6",
   "metadata": {},
   "outputs": [],
   "source": [
    "clean_labeled_data=labeled_data.copy()\n",
    "for repseq in deletable:\n",
    "    cats=repseq['cats']['names']\n",
    "    name=repseq['uniref100']\n",
    "    for cat in cats:\n",
    "        try:\n",
    "            del clean_labeled_data[cat][name]\n",
    "        except KeyError:\n",
    "            pass\n",
    "            #print(cat,name)"
   ]
  },
  {
   "cell_type": "code",
   "execution_count": 332,
   "id": "9d0e773a-4844-4ccd-8509-bbee708f3dc0",
   "metadata": {},
   "outputs": [],
   "source": [
    "with open('processed_filtered_data.json', 'w') as file:\n",
    "    json.dump(clean_labeled_data, file)"
   ]
  },
  {
   "cell_type": "code",
   "execution_count": 380,
   "id": "c1bd7478-3e5a-4ca5-958a-6f1ef9e57df1",
   "metadata": {},
   "outputs": [
    {
     "name": "stdout",
     "output_type": "stream",
     "text": [
      "clase other tiene 624 datos\n",
      "clase mitochondrion tiene 808 datos\n",
      "clase surface tiene 754 datos\n"
     ]
    }
   ],
   "source": [
    "for k,v in clean_labeled_data.items():\n",
    "    print('clase {} tiene {} datos'.format(k, len(v)))"
   ]
  },
  {
   "cell_type": "code",
   "execution_count": 428,
   "id": "d13c135f-081b-4a20-b0a1-4087fa840ef1",
   "metadata": {},
   "outputs": [],
   "source": [
    "mitochondrion_proteins=np.array([protein['sequence'] for uref, protein in clean_labeled_data['mitochondrion'].items() ])\n",
    "surface_proteins=np.array([protein['sequence'] for uref, protein in clean_labeled_data['surface'].items() ])\n",
    "all_prot_array=np.hstack([surface_proteins,mitochondrion_proteins])"
   ]
  },
  {
   "cell_type": "code",
   "execution_count": 429,
   "id": "e7be7b1b-5abf-4b72-94a5-7872bf030cde",
   "metadata": {},
   "outputs": [
    {
     "data": {
      "text/plain": [
       "{'T': 3,\n",
       " 'W': 4,\n",
       " 'N': 5,\n",
       " 'E': 6,\n",
       " 'D': 7,\n",
       " 'Y': 8,\n",
       " 'V': 9,\n",
       " 'Q': 10,\n",
       " 'P': 11,\n",
       " 'A': 12,\n",
       " 'G': 13,\n",
       " 'U': 14,\n",
       " 'R': 15,\n",
       " 'I': 16,\n",
       " 'K': 17,\n",
       " 'F': 18,\n",
       " 'S': 19,\n",
       " 'X': 20,\n",
       " 'M': 21,\n",
       " 'C': 22,\n",
       " 'H': 23,\n",
       " 'L': 24}"
      ]
     },
     "execution_count": 429,
     "metadata": {},
     "output_type": "execute_result"
    }
   ],
   "source": [
    "allseqs=''\n",
    "for sequence in all_prot_array:\n",
    "    allseqs+=sequence\n",
    "aas=set()\n",
    "for val in allseqs:\n",
    "    aas.add(val)\n",
    "numeric_code={aa:num for num,aa in enumerate(aas,3)}\n",
    "numeric_code"
   ]
  },
  {
   "cell_type": "code",
   "execution_count": 455,
   "id": "1aa91a63-454a-4e76-aade-8455adb5ce0e",
   "metadata": {},
   "outputs": [
    {
     "name": "stderr",
     "output_type": "stream",
     "text": [
      "/tmp/ipykernel_756/1075402229.py:7: VisibleDeprecationWarning: Creating an ndarray from ragged nested sequences (which is a list-or-tuple of lists-or-tuples-or ndarrays with different lengths or shapes) is deprecated. If you meant to do this, you must specify 'dtype=object' when creating the ndarray\n",
      "  surface_proteins_numeric=np.array(surface_proteins_numeric)\n",
      "/tmp/ipykernel_756/1075402229.py:14: VisibleDeprecationWarning: Creating an ndarray from ragged nested sequences (which is a list-or-tuple of lists-or-tuples-or ndarrays with different lengths or shapes) is deprecated. If you meant to do this, you must specify 'dtype=object' when creating the ndarray\n",
      "  mitochondrion_proteins_numeric=np.array(mitochondrion_proteins_numeric)\n"
     ]
    }
   ],
   "source": [
    "surface_proteins_numeric=[]\n",
    "for sequence in surface_proteins:\n",
    "    sequence_array=np.zeros(len(sequence), dtype=int)\n",
    "    for n,amino_acid in enumerate(sequence):\n",
    "        sequence_array[n]=numeric_code[amino_acid]\n",
    "    surface_proteins_numeric.append(sequence_array)\n",
    "surface_proteins_numeric=np.array(surface_proteins_numeric)\n",
    "mitochondrion_proteins_numeric=[]\n",
    "for sequence in mitochondrion_proteins:\n",
    "    sequence_array=np.zeros(len(sequence), dtype=int)\n",
    "    for n,amino_acid in enumerate(sequence):\n",
    "        sequence_array[n]=numeric_code[amino_acid]\n",
    "    mitochondrion_proteins_numeric.append(sequence_array)\n",
    "mitochondrion_proteins_numeric=np.array(mitochondrion_proteins_numeric)\n",
    "\n"
   ]
  },
  {
   "cell_type": "code",
   "execution_count": 460,
   "id": "229c7f3e-8959-45b1-b258-c5b406d4c1e5",
   "metadata": {},
   "outputs": [],
   "source": [
    "padded_surface_proteins=pad_sequences(surface_proteins_numeric,padding='post', maxlen=1500)\n",
    "padded_mitochondrion_proteins=pad_sequences(mitochondrion_proteins_numeric,padding='post',maxlen=1500)"
   ]
  },
  {
   "cell_type": "code",
   "execution_count": 461,
   "id": "7f0c2dd7-9199-4c49-8a93-2b6896eb089c",
   "metadata": {},
   "outputs": [],
   "source": [
    "np.save('padded_surface_proteins', padded_surface_proteins)\n",
    "np.save('padded_mitochondrion_proteins',padded_mitochondrion_proteins)"
   ]
  },
  {
   "cell_type": "code",
   "execution_count": 462,
   "id": "73e5ec1b-de78-475b-9e51-e7e141b904ff",
   "metadata": {},
   "outputs": [
    {
     "data": {
      "text/plain": [
       "((754, 1500), (808, 1500))"
      ]
     },
     "execution_count": 462,
     "metadata": {},
     "output_type": "execute_result"
    }
   ],
   "source": [
    "padded_surface_proteins.shape, padded_mitochondrion_proteins.shape"
   ]
  },
  {
   "cell_type": "code",
   "execution_count": 478,
   "id": "e6a001f4-00ac-47f6-b524-6c830c1bad3c",
   "metadata": {},
   "outputs": [],
   "source": [
    "data=np.vstack([padded_surface_proteins, padded_mitochondrion_proteins])"
   ]
  },
  {
   "cell_type": "code",
   "execution_count": 479,
   "id": "18f7b28b-8c01-4c66-884d-c3270d813171",
   "metadata": {},
   "outputs": [],
   "source": [
    "labels=np.hstack([np.zeros(padded_surface_proteins.shape[0]),np.ones(padded_mitochondrion_proteins.shape[0])]).reshape(-1,1)"
   ]
  },
  {
   "cell_type": "code",
   "execution_count": 480,
   "id": "e9b7f7cf-4a5a-4bfa-be89-040b3a126094",
   "metadata": {},
   "outputs": [],
   "source": [
    "np.savez('preprocessed_data', data=data, labels=labels)"
   ]
  },
  {
   "cell_type": "code",
   "execution_count": 481,
   "id": "bded03a5-3147-4d33-a728-ea8fd2352668",
   "metadata": {},
   "outputs": [],
   "source": [
    "npzfile=np.load('preprocessed_data.npz')"
   ]
  },
  {
   "cell_type": "code",
   "execution_count": 484,
   "id": "61a95279-c279-4200-b6e9-8c50de00316a",
   "metadata": {},
   "outputs": [
    {
     "data": {
      "text/plain": [
       "'/home/gonik/Documents/git/bioproject'"
      ]
     },
     "execution_count": 484,
     "metadata": {},
     "output_type": "execute_result"
    }
   ],
   "source": [
    "pwd"
   ]
  }
 ],
 "metadata": {
  "kernelspec": {
   "display_name": "Python [conda env:bio_ml]",
   "language": "python",
   "name": "conda-env-bio_ml-py"
  },
  "language_info": {
   "codemirror_mode": {
    "name": "ipython",
    "version": 3
   },
   "file_extension": ".py",
   "mimetype": "text/x-python",
   "name": "python",
   "nbconvert_exporter": "python",
   "pygments_lexer": "ipython3",
   "version": "3.9.6"
  }
 },
 "nbformat": 4,
 "nbformat_minor": 5
}
